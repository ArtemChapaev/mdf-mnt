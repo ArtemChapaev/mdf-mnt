{
 "cells": [
  {
   "cell_type": "code",
   "execution_count": 1,
   "id": "64c8ad02",
   "metadata": {},
   "outputs": [],
   "source": [
    "import pandas as pd"
   ]
  },
  {
   "cell_type": "code",
   "execution_count": 20,
   "id": "dd5091a8",
   "metadata": {},
   "outputs": [],
   "source": [
    "from collections import defaultdict\n",
    "import random\n",
    "import time\n",
    "from multiprocessing.pool import ThreadPool\n",
    "\n",
    "import fasttext\n",
    "import numpy as np\n",
    "import requests\n",
    "from bs4 import BeautifulSoup\n",
    "from nltk import sent_tokenize\n",
    "from sklearn.feature_extraction.text import HashingVectorizer\n",
    "from sklearn.linear_model import LogisticRegression\n",
    "from sklearn.metrics import classification_report\n",
    "from sklearn.model_selection import train_test_split\n",
    "from sklearn.pipeline import make_pipeline\n",
    "from tqdm.auto import tqdm, trange"
   ]
  },
  {
   "cell_type": "markdown",
   "id": "396b4f5b",
   "metadata": {},
   "source": [
    "https://meta.wikimedia.org/wiki/List_of_Wikipedias"
   ]
  },
  {
   "cell_type": "markdown",
   "id": "52025112",
   "metadata": {},
   "source": [
    "# Download samples of Wikipedia in multiple languages"
   ]
  },
  {
   "cell_type": "code",
   "execution_count": 2,
   "id": "b3a770b7",
   "metadata": {},
   "outputs": [],
   "source": [
    "tables = pd.read_html('https://meta.wikimedia.org/wiki/List_of_Wikipedias')"
   ]
  },
  {
   "cell_type": "code",
   "execution_count": 3,
   "id": "6409e38d",
   "metadata": {},
   "outputs": [
    {
     "data": {
      "text/plain": [
       "2"
      ]
     },
     "execution_count": 3,
     "metadata": {},
     "output_type": "execute_result"
    }
   ],
   "source": [
    "len(tables)"
   ]
  },
  {
   "cell_type": "code",
   "execution_count": 4,
   "id": "30c6cca1",
   "metadata": {},
   "outputs": [],
   "source": [
    "all_langs = tables[0]\n",
    "all_langs = all_langs[all_langs.Articles > 0].copy()"
   ]
  },
  {
   "cell_type": "code",
   "execution_count": 5,
   "id": "421a0285",
   "metadata": {},
   "outputs": [
    {
     "data": {
      "text/html": [
       "<div>\n",
       "<style scoped>\n",
       "    .dataframe tbody tr th:only-of-type {\n",
       "        vertical-align: middle;\n",
       "    }\n",
       "\n",
       "    .dataframe tbody tr th {\n",
       "        vertical-align: top;\n",
       "    }\n",
       "\n",
       "    .dataframe thead th {\n",
       "        text-align: right;\n",
       "    }\n",
       "</style>\n",
       "<table border=\"1\" class=\"dataframe\">\n",
       "  <thead>\n",
       "    <tr style=\"text-align: right;\">\n",
       "      <th></th>\n",
       "      <th>№</th>\n",
       "      <th>Language</th>\n",
       "      <th>Language (local)</th>\n",
       "      <th>Wiki</th>\n",
       "      <th>Articles</th>\n",
       "      <th>All pages</th>\n",
       "      <th>Edits</th>\n",
       "      <th>Admins</th>\n",
       "      <th>Users</th>\n",
       "      <th>Active users</th>\n",
       "      <th>Files</th>\n",
       "      <th>Depth</th>\n",
       "    </tr>\n",
       "  </thead>\n",
       "  <tbody>\n",
       "    <tr>\n",
       "      <th>0</th>\n",
       "      <td>1</td>\n",
       "      <td>English</td>\n",
       "      <td>English</td>\n",
       "      <td>en</td>\n",
       "      <td>6947529</td>\n",
       "      <td>62423458</td>\n",
       "      <td>1268332783</td>\n",
       "      <td>849</td>\n",
       "      <td>48638764</td>\n",
       "      <td>125817</td>\n",
       "      <td>932156</td>\n",
       "      <td>1295</td>\n",
       "    </tr>\n",
       "    <tr>\n",
       "      <th>1</th>\n",
       "      <td>2</td>\n",
       "      <td>Cebuano</td>\n",
       "      <td>Cebuano</td>\n",
       "      <td>ceb</td>\n",
       "      <td>6116829</td>\n",
       "      <td>11229541</td>\n",
       "      <td>35055778</td>\n",
       "      <td>5</td>\n",
       "      <td>123890</td>\n",
       "      <td>146</td>\n",
       "      <td>1</td>\n",
       "      <td>2</td>\n",
       "    </tr>\n",
       "    <tr>\n",
       "      <th>2</th>\n",
       "      <td>3</td>\n",
       "      <td>German</td>\n",
       "      <td>Deutsch</td>\n",
       "      <td>de</td>\n",
       "      <td>2983285</td>\n",
       "      <td>8206709</td>\n",
       "      <td>251127588</td>\n",
       "      <td>174</td>\n",
       "      <td>4513992</td>\n",
       "      <td>19214</td>\n",
       "      <td>129877</td>\n",
       "      <td>93</td>\n",
       "    </tr>\n",
       "    <tr>\n",
       "      <th>3</th>\n",
       "      <td>4</td>\n",
       "      <td>French</td>\n",
       "      <td>français</td>\n",
       "      <td>fr</td>\n",
       "      <td>2661853</td>\n",
       "      <td>13367484</td>\n",
       "      <td>222099832</td>\n",
       "      <td>147</td>\n",
       "      <td>5103325</td>\n",
       "      <td>18663</td>\n",
       "      <td>72889</td>\n",
       "      <td>268</td>\n",
       "    </tr>\n",
       "    <tr>\n",
       "      <th>4</th>\n",
       "      <td>5</td>\n",
       "      <td>Swedish</td>\n",
       "      <td>svenska</td>\n",
       "      <td>sv</td>\n",
       "      <td>2602633</td>\n",
       "      <td>6288042</td>\n",
       "      <td>56694452</td>\n",
       "      <td>66</td>\n",
       "      <td>937231</td>\n",
       "      <td>2204</td>\n",
       "      <td>0</td>\n",
       "      <td>18</td>\n",
       "    </tr>\n",
       "    <tr>\n",
       "      <th>...</th>\n",
       "      <td>...</td>\n",
       "      <td>...</td>\n",
       "      <td>...</td>\n",
       "      <td>...</td>\n",
       "      <td>...</td>\n",
       "      <td>...</td>\n",
       "      <td>...</td>\n",
       "      <td>...</td>\n",
       "      <td>...</td>\n",
       "      <td>...</td>\n",
       "      <td>...</td>\n",
       "      <td>...</td>\n",
       "    </tr>\n",
       "    <tr>\n",
       "      <th>335</th>\n",
       "      <td>336</td>\n",
       "      <td>Kalaallisut</td>\n",
       "      <td>kalaallisut</td>\n",
       "      <td>kl</td>\n",
       "      <td>242</td>\n",
       "      <td>2259</td>\n",
       "      <td>75528</td>\n",
       "      <td>3</td>\n",
       "      <td>14589</td>\n",
       "      <td>22</td>\n",
       "      <td>0</td>\n",
       "      <td>2322</td>\n",
       "    </tr>\n",
       "    <tr>\n",
       "      <th>336</th>\n",
       "      <td>337</td>\n",
       "      <td>West Coast Bajau</td>\n",
       "      <td>Bajau Sama</td>\n",
       "      <td>bdr</td>\n",
       "      <td>235</td>\n",
       "      <td>1345</td>\n",
       "      <td>5322</td>\n",
       "      <td>0</td>\n",
       "      <td>610</td>\n",
       "      <td>8</td>\n",
       "      <td>0</td>\n",
       "      <td>88</td>\n",
       "    </tr>\n",
       "    <tr>\n",
       "      <th>337</th>\n",
       "      <td>338</td>\n",
       "      <td>South Ndebele</td>\n",
       "      <td>isiNdebele seSewula</td>\n",
       "      <td>nr</td>\n",
       "      <td>129</td>\n",
       "      <td>385</td>\n",
       "      <td>2165</td>\n",
       "      <td>0</td>\n",
       "      <td>362</td>\n",
       "      <td>8</td>\n",
       "      <td>0</td>\n",
       "      <td>22</td>\n",
       "    </tr>\n",
       "    <tr>\n",
       "      <th>338</th>\n",
       "      <td>339</td>\n",
       "      <td>Tigre</td>\n",
       "      <td>ትግሬ</td>\n",
       "      <td>tig</td>\n",
       "      <td>37</td>\n",
       "      <td>464</td>\n",
       "      <td>6108</td>\n",
       "      <td>1</td>\n",
       "      <td>297</td>\n",
       "      <td>16</td>\n",
       "      <td>0</td>\n",
       "      <td>1753</td>\n",
       "    </tr>\n",
       "    <tr>\n",
       "      <th>339</th>\n",
       "      <td>340</td>\n",
       "      <td>Cree</td>\n",
       "      <td>Nēhiyawēwin / ᓀᐦᐃᔭᐍᐏᐣ</td>\n",
       "      <td>cr</td>\n",
       "      <td>13</td>\n",
       "      <td>2323</td>\n",
       "      <td>40613</td>\n",
       "      <td>2</td>\n",
       "      <td>21024</td>\n",
       "      <td>21</td>\n",
       "      <td>0</td>\n",
       "      <td>552017</td>\n",
       "    </tr>\n",
       "  </tbody>\n",
       "</table>\n",
       "<p>340 rows × 12 columns</p>\n",
       "</div>"
      ],
      "text/plain": [
       "       №          Language       Language (local) Wiki  Articles  All pages  \\\n",
       "0      1           English                English   en   6947529   62423458   \n",
       "1      2           Cebuano                Cebuano  ceb   6116829   11229541   \n",
       "2      3            German                Deutsch   de   2983285    8206709   \n",
       "3      4            French               français   fr   2661853   13367484   \n",
       "4      5           Swedish                svenska   sv   2602633    6288042   \n",
       "..   ...               ...                    ...  ...       ...        ...   \n",
       "335  336       Kalaallisut            kalaallisut   kl       242       2259   \n",
       "336  337  West Coast Bajau             Bajau Sama  bdr       235       1345   \n",
       "337  338     South Ndebele    isiNdebele seSewula   nr       129        385   \n",
       "338  339             Tigre                    ትግሬ  tig        37        464   \n",
       "339  340              Cree  Nēhiyawēwin / ᓀᐦᐃᔭᐍᐏᐣ   cr        13       2323   \n",
       "\n",
       "          Edits  Admins     Users  Active users   Files   Depth  \n",
       "0    1268332783     849  48638764        125817  932156    1295  \n",
       "1      35055778       5    123890           146       1       2  \n",
       "2     251127588     174   4513992         19214  129877      93  \n",
       "3     222099832     147   5103325         18663   72889     268  \n",
       "4      56694452      66    937231          2204       0      18  \n",
       "..          ...     ...       ...           ...     ...     ...  \n",
       "335       75528       3     14589            22       0    2322  \n",
       "336        5322       0       610             8       0      88  \n",
       "337        2165       0       362             8       0      22  \n",
       "338        6108       1       297            16       0    1753  \n",
       "339       40613       2     21024            21       0  552017  \n",
       "\n",
       "[340 rows x 12 columns]"
      ]
     },
     "execution_count": 5,
     "metadata": {},
     "output_type": "execute_result"
    }
   ],
   "source": [
    "all_langs"
   ]
  },
  {
   "cell_type": "code",
   "execution_count": 7,
   "id": "f71db81a-898f-4c64-86e8-5680e124c212",
   "metadata": {},
   "outputs": [
    {
     "data": {
      "text/html": [
       "<div>\n",
       "<style scoped>\n",
       "    .dataframe tbody tr th:only-of-type {\n",
       "        vertical-align: middle;\n",
       "    }\n",
       "\n",
       "    .dataframe tbody tr th {\n",
       "        vertical-align: top;\n",
       "    }\n",
       "\n",
       "    .dataframe thead th {\n",
       "        text-align: right;\n",
       "    }\n",
       "</style>\n",
       "<table border=\"1\" class=\"dataframe\">\n",
       "  <thead>\n",
       "    <tr style=\"text-align: right;\">\n",
       "      <th></th>\n",
       "      <th>№</th>\n",
       "      <th>Language</th>\n",
       "      <th>Language (local)</th>\n",
       "      <th>Wiki</th>\n",
       "      <th>Articles</th>\n",
       "      <th>All pages</th>\n",
       "      <th>Edits</th>\n",
       "      <th>Admins</th>\n",
       "      <th>Users</th>\n",
       "      <th>Active users</th>\n",
       "      <th>Files</th>\n",
       "      <th>Depth</th>\n",
       "    </tr>\n",
       "  </thead>\n",
       "  <tbody>\n",
       "    <tr>\n",
       "      <th>194</th>\n",
       "      <td>195</td>\n",
       "      <td>Moksha</td>\n",
       "      <td>мокшень</td>\n",
       "      <td>mdf</td>\n",
       "      <td>7129</td>\n",
       "      <td>21915</td>\n",
       "      <td>94797</td>\n",
       "      <td>3</td>\n",
       "      <td>10527</td>\n",
       "      <td>22</td>\n",
       "      <td>0</td>\n",
       "      <td>18</td>\n",
       "    </tr>\n",
       "  </tbody>\n",
       "</table>\n",
       "</div>"
      ],
      "text/plain": [
       "       № Language Language (local) Wiki  Articles  All pages  Edits  Admins  \\\n",
       "194  195   Moksha          мокшень  mdf      7129      21915  94797       3   \n",
       "\n",
       "     Users  Active users  Files  Depth  \n",
       "194  10527            22      0     18  "
      ]
     },
     "execution_count": 7,
     "metadata": {},
     "output_type": "execute_result"
    }
   ],
   "source": [
    "all_langs[all_langs['Wiki'] == 'mdf']"
   ]
  },
  {
   "cell_type": "markdown",
   "id": "61fcccf2",
   "metadata": {},
   "source": [
    "## Scrape the texts"
   ]
  },
  {
   "cell_type": "markdown",
   "id": "5ddb8f4b",
   "metadata": {},
   "source": [
    "Sample the languages with temperature sampling. "
   ]
  },
  {
   "cell_type": "code",
   "execution_count": 21,
   "id": "69743887",
   "metadata": {},
   "outputs": [
    {
     "data": {
      "text/plain": [
       "0.9999999999999998"
      ]
     },
     "execution_count": 21,
     "metadata": {},
     "output_type": "execute_result"
    }
   ],
   "source": [
    "# create weights for temperature sampling\n",
    "\n",
    "w = all_langs.Articles.values ** (1/5)\n",
    "w /= sum(w)\n",
    "sum(w)"
   ]
  },
  {
   "cell_type": "code",
   "execution_count": 18,
   "id": "d2261be5",
   "metadata": {},
   "outputs": [],
   "source": [
    "pages = []"
   ]
  },
  {
   "cell_type": "code",
   "execution_count": 14,
   "id": "115f2793",
   "metadata": {},
   "outputs": [],
   "source": [
    "def get_page(lang, timeout=0.1):\n",
    "    res = requests.get(f'https://{lang}.wikipedia.org/wiki/Special:Random')\n",
    "    if '<title>Wikimedia Error</title>' in res.text:\n",
    "        time.sleep(timeout)\n",
    "        return get_page(lang, timeout=timeout*2)\n",
    "    return [res.url, res.text]"
   ]
  },
  {
   "cell_type": "code",
   "execution_count": null,
   "id": "e3a7a243",
   "metadata": {},
   "outputs": [],
   "source": [
    "# example with async mining\n",
    "\n",
    "\n",
    "# pool = ThreadPool(processes=100)\n",
    "\n",
    "# for i in trange(2):\n",
    "#     if random.random() < 0.2:\n",
    "#         # uniform\n",
    "#         langs = all_langs.Wiki.tolist()\n",
    "#     else:\n",
    "#         # heated distribution\n",
    "#         langs = all_langs.Wiki.loc[random.choices(range(len(all_langs)), weights=w, k=len(all_langs))].tolist()\n",
    "#     async_result = pool.map(get_page, langs)\n",
    "#     pages.extend(async_result)"
   ]
  },
  {
   "cell_type": "code",
   "execution_count": null,
   "id": "9b1aea6b",
   "metadata": {},
   "outputs": [],
   "source": [
    "# example with separate mining\n",
    "\n",
    "for i in trange(100_000_000):\n",
    "    if random.random() < 0.2:\n",
    "        # uniform\n",
    "        idx = random.choice(range(len(all_langs)))\n",
    "    else:\n",
    "        # heated uniform\n",
    "        idx = random.choices(range(len(all_langs)), weights=w)[0]\n",
    "    lang = all_langs.Wiki.loc[idx]\n",
    "    res = requests.get(f'https://{lang}.wikipedia.org/wiki/Special:Random')\n",
    "    pages.append([res.url, res.text])"
   ]
  },
  {
   "cell_type": "code",
   "execution_count": 53,
   "id": "94b69956",
   "metadata": {},
   "outputs": [
    {
     "data": {
      "text/plain": [
       "339"
      ]
     },
     "execution_count": 53,
     "metadata": {},
     "output_type": "execute_result"
    }
   ],
   "source": [
    "len(pages)"
   ]
  },
  {
   "cell_type": "markdown",
   "id": "6365169c",
   "metadata": {},
   "source": [
    "## put texts by language together"
   ]
  },
  {
   "cell_type": "code",
   "execution_count": 55,
   "id": "afd9e9c0",
   "metadata": {},
   "outputs": [],
   "source": [
    "def get_paragraphs(html):\n",
    "    soup = BeautifulSoup(html)\n",
    "    body = soup.find('div', {'id': 'bodyContent'})\n",
    "    if not body:\n",
    "        return []\n",
    "    # todo: remove <sup> elements\n",
    "    # \n",
    "    result = []\n",
    "    for p in body.findAll('p'):\n",
    "        for bad_tag in ['sup', 'style', 'script']:\n",
    "            for unwanted in p.find_all(bad_tag):\n",
    "                unwanted.extract()\n",
    "        text = p.text.replace('\\xa0', ' ')\n",
    "        if text.strip():\n",
    "            result.append(text)\n",
    "    return result"
   ]
  },
  {
   "cell_type": "code",
   "execution_count": 56,
   "id": "a54b4bdf",
   "metadata": {
    "scrolled": true
   },
   "outputs": [
    {
     "name": "stdout",
     "output_type": "stream",
     "text": [
      "https://blk.wikipedia.org/wiki/%E1%80%9D%E1%80%B1%E1%80%84%E1%80%BA%EA%A9%BB%E1%80%94%E1%80%9A%E1%80%BA%E1%82%8F%E1%80%9C%E1%80%94%E1%80%BA%E1%80%B8%E1%80%99%E1%80%92%E1%80%B1%E1%80%AB%E1%80%BA\n",
      "['ဝေင်ꩻနယ်ႏလန်းမဒေါ် (မန်း: လမ်းမတော်မြို့နယ်) (အိန်းကလေတ်: Lanmadaw Township) နဝ်ꩻ အဝ်ႏဒျာႏ မျန်မာခမ်းထီ အခဝ်ထာႏဝ ရန်ႏတကုင်ႏတွိုင်ꩻဒေႏသတန် စျောက်တဒါးခရဲင်ႏ ကို ကပါဒါႏ ဝေင်ꩻနယ်ႏတဖြုံႏဒျာႏသွူ။ အဝ်ႏပယ်ဒျာႏ ဝေင်ꩻတန်ရန်ႏတကုင်ႏ ဝေင်ꩻကဲဉ်မော့တွို့ꩻကို ထွာဒျာႏ ဝေင်ꩻတန်ရန်ႏတကုင်ႏ တခူးတခဝ်ဟံႏနယ်ႏဒျာႏသွူ။\\n']\n"
     ]
    }
   ],
   "source": [
    "url, html = random.choice(pages)\n",
    "print(url)\n",
    "\n",
    "print(get_paragraphs(html))"
   ]
  },
  {
   "cell_type": "code",
   "execution_count": null,
   "id": "6808870a",
   "metadata": {},
   "outputs": [],
   "source": [
    "def url2lang(url):\n",
    "    return url.split('//')[1].split('.')[0]\n",
    "\n",
    "url2lang('https://en.wikipedia.org/wiki/Dunbar_Duncan')"
   ]
  },
  {
   "cell_type": "code",
   "execution_count": 59,
   "id": "cbd64cc7",
   "metadata": {},
   "outputs": [],
   "source": [
    "lang2texts = defaultdict(list)"
   ]
  },
  {
   "cell_type": "code",
   "execution_count": 60,
   "id": "4a17cc27",
   "metadata": {},
   "outputs": [
    {
     "data": {
      "application/vnd.jupyter.widget-view+json": {
       "model_id": "fbfc7daae06243f1b0179db635bf3650",
       "version_major": 2,
       "version_minor": 0
      },
      "text/plain": [
       "  0%|          | 0/339 [00:00<?, ?it/s]"
      ]
     },
     "metadata": {},
     "output_type": "display_data"
    }
   ],
   "source": [
    "for url, html in tqdm(pages):\n",
    "    lang2texts[url2lang(url)].extend(get_paragraphs(html))"
   ]
  },
  {
   "cell_type": "markdown",
   "id": "546e024d",
   "metadata": {},
   "source": [
    "# get stats for pages"
   ]
  },
  {
   "cell_type": "code",
   "execution_count": 65,
   "id": "38d416bb",
   "metadata": {},
   "outputs": [],
   "source": [
    "stats = []\n",
    "\n",
    "for k, v in lang2texts.items():\n",
    "    all_texts = ' '.join(v)\n",
    "    stats.append({\n",
    "        'lang': k,\n",
    "        'pars': len(v),\n",
    "        'chars': len(all_texts),\n",
    "        'unique_chars': len(set(all_texts))\n",
    "    })\n",
    "stats = pd.DataFrame(stats)"
   ]
  },
  {
   "cell_type": "code",
   "execution_count": 66,
   "id": "a3477fc5",
   "metadata": {},
   "outputs": [
    {
     "data": {
      "text/html": [
       "<div>\n",
       "<style scoped>\n",
       "    .dataframe tbody tr th:only-of-type {\n",
       "        vertical-align: middle;\n",
       "    }\n",
       "\n",
       "    .dataframe tbody tr th {\n",
       "        vertical-align: top;\n",
       "    }\n",
       "\n",
       "    .dataframe thead th {\n",
       "        text-align: right;\n",
       "    }\n",
       "</style>\n",
       "<table border=\"1\" class=\"dataframe\">\n",
       "  <thead>\n",
       "    <tr style=\"text-align: right;\">\n",
       "      <th></th>\n",
       "      <th>lang</th>\n",
       "      <th>pars</th>\n",
       "      <th>chars</th>\n",
       "      <th>unique_chars</th>\n",
       "    </tr>\n",
       "  </thead>\n",
       "  <tbody>\n",
       "    <tr>\n",
       "      <th>194</th>\n",
       "      <td>mt</td>\n",
       "      <td>38</td>\n",
       "      <td>16849</td>\n",
       "      <td>86</td>\n",
       "    </tr>\n",
       "    <tr>\n",
       "      <th>111</th>\n",
       "      <td>sco</td>\n",
       "      <td>41</td>\n",
       "      <td>14840</td>\n",
       "      <td>78</td>\n",
       "    </tr>\n",
       "    <tr>\n",
       "      <th>133</th>\n",
       "      <td>sd</td>\n",
       "      <td>16</td>\n",
       "      <td>11852</td>\n",
       "      <td>111</td>\n",
       "    </tr>\n",
       "    <tr>\n",
       "      <th>47</th>\n",
       "      <td>el</td>\n",
       "      <td>29</td>\n",
       "      <td>11399</td>\n",
       "      <td>123</td>\n",
       "    </tr>\n",
       "    <tr>\n",
       "      <th>103</th>\n",
       "      <td>tl</td>\n",
       "      <td>13</td>\n",
       "      <td>11337</td>\n",
       "      <td>64</td>\n",
       "    </tr>\n",
       "    <tr>\n",
       "      <th>...</th>\n",
       "      <td>...</td>\n",
       "      <td>...</td>\n",
       "      <td>...</td>\n",
       "      <td>...</td>\n",
       "    </tr>\n",
       "    <tr>\n",
       "      <th>148</th>\n",
       "      <td>fo</td>\n",
       "      <td>0</td>\n",
       "      <td>0</td>\n",
       "      <td>0</td>\n",
       "    </tr>\n",
       "    <tr>\n",
       "      <th>250</th>\n",
       "      <td>pi</td>\n",
       "      <td>0</td>\n",
       "      <td>0</td>\n",
       "      <td>0</td>\n",
       "    </tr>\n",
       "    <tr>\n",
       "      <th>253</th>\n",
       "      <td>krc</td>\n",
       "      <td>0</td>\n",
       "      <td>0</td>\n",
       "      <td>0</td>\n",
       "    </tr>\n",
       "    <tr>\n",
       "      <th>85</th>\n",
       "      <td>jv</td>\n",
       "      <td>0</td>\n",
       "      <td>0</td>\n",
       "      <td>0</td>\n",
       "    </tr>\n",
       "    <tr>\n",
       "      <th>117</th>\n",
       "      <td>avk</td>\n",
       "      <td>0</td>\n",
       "      <td>0</td>\n",
       "      <td>0</td>\n",
       "    </tr>\n",
       "  </tbody>\n",
       "</table>\n",
       "<p>339 rows × 4 columns</p>\n",
       "</div>"
      ],
      "text/plain": [
       "    lang  pars  chars  unique_chars\n",
       "194   mt    38  16849            86\n",
       "111  sco    41  14840            78\n",
       "133   sd    16  11852           111\n",
       "47    el    29  11399           123\n",
       "103   tl    13  11337            64\n",
       "..   ...   ...    ...           ...\n",
       "148   fo     0      0             0\n",
       "250   pi     0      0             0\n",
       "253  krc     0      0             0\n",
       "85    jv     0      0             0\n",
       "117  avk     0      0             0\n",
       "\n",
       "[339 rows x 4 columns]"
      ]
     },
     "execution_count": 66,
     "metadata": {},
     "output_type": "execute_result"
    }
   ],
   "source": [
    "stats.sort_values('chars', ascending=False)"
   ]
  },
  {
   "cell_type": "code",
   "execution_count": 67,
   "id": "89164db4",
   "metadata": {},
   "outputs": [
    {
     "data": {
      "text/html": [
       "<div>\n",
       "<style scoped>\n",
       "    .dataframe tbody tr th:only-of-type {\n",
       "        vertical-align: middle;\n",
       "    }\n",
       "\n",
       "    .dataframe tbody tr th {\n",
       "        vertical-align: top;\n",
       "    }\n",
       "\n",
       "    .dataframe thead th {\n",
       "        text-align: right;\n",
       "    }\n",
       "</style>\n",
       "<table border=\"1\" class=\"dataframe\">\n",
       "  <thead>\n",
       "    <tr style=\"text-align: right;\">\n",
       "      <th></th>\n",
       "      <th>lang</th>\n",
       "      <th>pars</th>\n",
       "      <th>chars</th>\n",
       "      <th>unique_chars</th>\n",
       "    </tr>\n",
       "  </thead>\n",
       "  <tbody>\n",
       "    <tr>\n",
       "      <th>11</th>\n",
       "      <td>zh</td>\n",
       "      <td>37</td>\n",
       "      <td>3953</td>\n",
       "      <td>696</td>\n",
       "    </tr>\n",
       "    <tr>\n",
       "      <th>12</th>\n",
       "      <td>ja</td>\n",
       "      <td>13</td>\n",
       "      <td>2175</td>\n",
       "      <td>384</td>\n",
       "    </tr>\n",
       "    <tr>\n",
       "      <th>106</th>\n",
       "      <td>wuu</td>\n",
       "      <td>9</td>\n",
       "      <td>960</td>\n",
       "      <td>377</td>\n",
       "    </tr>\n",
       "    <tr>\n",
       "      <th>47</th>\n",
       "      <td>el</td>\n",
       "      <td>29</td>\n",
       "      <td>11399</td>\n",
       "      <td>123</td>\n",
       "    </tr>\n",
       "    <tr>\n",
       "      <th>133</th>\n",
       "      <td>sd</td>\n",
       "      <td>16</td>\n",
       "      <td>11852</td>\n",
       "      <td>111</td>\n",
       "    </tr>\n",
       "    <tr>\n",
       "      <th>...</th>\n",
       "      <td>...</td>\n",
       "      <td>...</td>\n",
       "      <td>...</td>\n",
       "      <td>...</td>\n",
       "    </tr>\n",
       "    <tr>\n",
       "      <th>250</th>\n",
       "      <td>pi</td>\n",
       "      <td>0</td>\n",
       "      <td>0</td>\n",
       "      <td>0</td>\n",
       "    </tr>\n",
       "    <tr>\n",
       "      <th>253</th>\n",
       "      <td>krc</td>\n",
       "      <td>0</td>\n",
       "      <td>0</td>\n",
       "      <td>0</td>\n",
       "    </tr>\n",
       "    <tr>\n",
       "      <th>85</th>\n",
       "      <td>jv</td>\n",
       "      <td>0</td>\n",
       "      <td>0</td>\n",
       "      <td>0</td>\n",
       "    </tr>\n",
       "    <tr>\n",
       "      <th>117</th>\n",
       "      <td>avk</td>\n",
       "      <td>0</td>\n",
       "      <td>0</td>\n",
       "      <td>0</td>\n",
       "    </tr>\n",
       "    <tr>\n",
       "      <th>148</th>\n",
       "      <td>fo</td>\n",
       "      <td>0</td>\n",
       "      <td>0</td>\n",
       "      <td>0</td>\n",
       "    </tr>\n",
       "  </tbody>\n",
       "</table>\n",
       "<p>339 rows × 4 columns</p>\n",
       "</div>"
      ],
      "text/plain": [
       "    lang  pars  chars  unique_chars\n",
       "11    zh    37   3953           696\n",
       "12    ja    13   2175           384\n",
       "106  wuu     9    960           377\n",
       "47    el    29  11399           123\n",
       "133   sd    16  11852           111\n",
       "..   ...   ...    ...           ...\n",
       "250   pi     0      0             0\n",
       "253  krc     0      0             0\n",
       "85    jv     0      0             0\n",
       "117  avk     0      0             0\n",
       "148   fo     0      0             0\n",
       "\n",
       "[339 rows x 4 columns]"
      ]
     },
     "execution_count": 67,
     "metadata": {},
     "output_type": "execute_result"
    }
   ],
   "source": [
    "stats.sort_values('unique_chars', ascending=False)"
   ]
  },
  {
   "cell_type": "code",
   "execution_count": 68,
   "id": "27b61084",
   "metadata": {},
   "outputs": [
    {
     "data": {
      "text/html": [
       "<div>\n",
       "<style scoped>\n",
       "    .dataframe tbody tr th:only-of-type {\n",
       "        vertical-align: middle;\n",
       "    }\n",
       "\n",
       "    .dataframe tbody tr th {\n",
       "        vertical-align: top;\n",
       "    }\n",
       "\n",
       "    .dataframe thead th {\n",
       "        text-align: right;\n",
       "    }\n",
       "</style>\n",
       "<table border=\"1\" class=\"dataframe\">\n",
       "  <thead>\n",
       "    <tr style=\"text-align: right;\">\n",
       "      <th></th>\n",
       "      <th>lang</th>\n",
       "      <th>pars</th>\n",
       "      <th>chars</th>\n",
       "      <th>unique_chars</th>\n",
       "    </tr>\n",
       "  </thead>\n",
       "  <tbody>\n",
       "    <tr>\n",
       "      <th>6</th>\n",
       "      <td>ru</td>\n",
       "      <td>5</td>\n",
       "      <td>2598</td>\n",
       "      <td>88</td>\n",
       "    </tr>\n",
       "    <tr>\n",
       "      <th>187</th>\n",
       "      <td>myv</td>\n",
       "      <td>2</td>\n",
       "      <td>120</td>\n",
       "      <td>33</td>\n",
       "    </tr>\n",
       "    <tr>\n",
       "      <th>196</th>\n",
       "      <td>mdf</td>\n",
       "      <td>4</td>\n",
       "      <td>312</td>\n",
       "      <td>67</td>\n",
       "    </tr>\n",
       "  </tbody>\n",
       "</table>\n",
       "</div>"
      ],
      "text/plain": [
       "    lang  pars  chars  unique_chars\n",
       "6     ru     5   2598            88\n",
       "187  myv     2    120            33\n",
       "196  mdf     4    312            67"
      ]
     },
     "execution_count": 68,
     "metadata": {},
     "output_type": "execute_result"
    }
   ],
   "source": [
    "stats[stats.lang.apply(lambda x: x in ['ru', 'mdf', 'myv'])]"
   ]
  },
  {
   "cell_type": "markdown",
   "id": "e1b68ca9",
   "metadata": {},
   "source": [
    "# select train, test sets"
   ]
  },
  {
   "cell_type": "code",
   "execution_count": 69,
   "id": "dac2e608",
   "metadata": {},
   "outputs": [
    {
     "name": "stdout",
     "output_type": "stream",
     "text": [
      "856 327\n"
     ]
    }
   ],
   "source": [
    "train_texts = []\n",
    "train_labels = []\n",
    "test_texts = []\n",
    "test_labels = []\n",
    "\n",
    "for lang, texts in lang2texts.items():\n",
    "    unique_texts = sorted(set(texts))\n",
    "    if len(unique_texts) < 2:\n",
    "        continue\n",
    "\n",
    "    train_samples, test_samples = train_test_split(unique_texts, test_size=0.2, random_state=1)\n",
    "    train_texts.extend(train_samples)\n",
    "    test_texts.extend(test_samples)\n",
    "\n",
    "    train_labels.extend([lang] * len(train_samples))\n",
    "    test_labels.extend([lang] * len(test_samples))\n",
    "print(len(train_texts), len(test_texts))"
   ]
  },
  {
   "cell_type": "code",
   "execution_count": 70,
   "id": "71336fa3",
   "metadata": {},
   "outputs": [
    {
     "name": "stdout",
     "output_type": "stream",
     "text": [
      "1\n"
     ]
    },
    {
     "data": {
      "text/plain": [
       "skr        35\n",
       "sco        32\n",
       "bg         30\n",
       "mt         30\n",
       "zh         29\n",
       "           ..\n",
       "bug         1\n",
       "cdo         1\n",
       "sah         1\n",
       "bat-smg     1\n",
       "cr          1\n",
       "Name: count, Length: 211, dtype: int64"
      ]
     },
     "execution_count": 70,
     "metadata": {},
     "output_type": "execute_result"
    }
   ],
   "source": [
    "print(pd.Series(train_labels).value_counts()['mdf'])\n",
    "pd.Series(train_labels).value_counts()"
   ]
  },
  {
   "cell_type": "markdown",
   "metadata": {},
   "source": [
    "too little mdf pairs, so add bible for mdf and myv "
   ]
  },
  {
   "cell_type": "code",
   "execution_count": 755,
   "id": "ca8b985b",
   "metadata": {},
   "outputs": [
    {
     "name": "stdout",
     "output_type": "stream",
     "text": [
      "(12517, 4)\n",
      "(12500, 4)\n",
      "(12344, 4)\n",
      "Index(['Unnamed: 0', 'mdf', 'ru', 'source'], dtype='object')\n"
     ]
    }
   ],
   "source": [
    "mdf_bible = pd.read_csv('../parsing_aligned/results/mdf_bible.tsv', sep='\\t')\n",
    "print(mdf_bible.shape)\n",
    "\n",
    "mdf_bible = mdf_bible.dropna()\n",
    "print(mdf_bible.shape)\n",
    "\n",
    "mdf_bible = mdf_bible[~mdf_bible['mdf']str.startswith('Глава ')]\n",
    "print(mdf_bible.shape)\n",
    "print(mdf_bible.columns)"
   ]
  },
  {
   "cell_type": "code",
   "execution_count": 474,
   "id": "25ddc86b",
   "metadata": {},
   "outputs": [
    {
     "name": "stdout",
     "output_type": "stream",
     "text": [
      "(12926, 4)\n",
      "(12899, 4)\n",
      "(12483, 4)\n",
      "Index(['Unnamed: 0', 'myv', 'ru', 'source'], dtype='object')\n"
     ]
    }
   ],
   "source": [
    "myv_bible = pd.read_csv('../parsing_aligned/results/myv_bible.tsv', sep='\\t')\n",
    "print(myv_bible.shape)\n",
    "\n",
    "bmyv_bibleible = myv_bible.dropna()\n",
    "print(myv_bible.shape)\n",
    "\n",
    "myv_bible = myv_bible[~myv_bible['myv'].str.startswith('Глава ')]\n",
    "print(myv_bible.shape)\n"
   ]
  },
  {
   "cell_type": "markdown",
   "id": "0b0eeb2a",
   "metadata": {},
   "source": [
    "# augmenting data"
   ]
  },
  {
   "cell_type": "code",
   "execution_count": 80,
   "id": "899d83bb",
   "metadata": {},
   "outputs": [],
   "source": [
    "def split_by_newline(text):\n",
    "    return text.split('\\n')\n",
    "\n",
    "\n",
    "def split_overlapping_chunks(text, step=100, chunk_size=300):\n",
    "    results = []\n",
    "    for i in range(0, len(text), step):\n",
    "        results.append(text[i:i+chunk_size])\n",
    "    return results\n",
    "\n",
    "\n",
    "def try_split(text, max_length=500):\n",
    "    results = [text]\n",
    "    parts = [text]\n",
    "    \n",
    "    for splitter in [split_by_newline, sent_tokenize, split_overlapping_chunks]:\n",
    "        new_parts = []\n",
    "        for part in parts:\n",
    "            small_parts = [p.strip() for p in splitter(part)]\n",
    "            for small_part in small_parts:\n",
    "                if len(small_part) < 3: # the text is too short \n",
    "                    continue\n",
    "                if len(small_part) <= min(len(part) * 0.5, max_length):\n",
    "                    results.append(small_part)\n",
    "                new_parts.append(small_part)\n",
    "        parts = new_parts\n",
    "    results.extend(parts)\n",
    "    return sorted(set(results), key=lambda x: len(x))"
   ]
  },
  {
   "cell_type": "code",
   "execution_count": 72,
   "id": "55490165",
   "metadata": {},
   "outputs": [
    {
     "data": {
      "application/vnd.jupyter.widget-view+json": {
       "model_id": "64cbe3a2226e4e75a7e482bc11691d9a",
       "version_major": 2,
       "version_minor": 0
      },
      "text/plain": [
       "  0%|          | 0/856 [00:00<?, ?it/s]"
      ]
     },
     "metadata": {},
     "output_type": "display_data"
    }
   ],
   "source": [
    "train_texts_aug = []\n",
    "train_labels_aug = []\n",
    "for t, l in zip(tqdm(train_texts), train_labels):\n",
    "    a = try_split(t)\n",
    "    train_texts_aug.extend(a)\n",
    "    train_labels_aug.extend([l]*len(a))"
   ]
  },
  {
   "cell_type": "code",
   "execution_count": 73,
   "id": "281ee2eb",
   "metadata": {},
   "outputs": [
    {
     "name": "stdout",
     "output_type": "stream",
     "text": [
      "856 4407\n"
     ]
    }
   ],
   "source": [
    "print(len(train_texts), len(train_texts_aug))"
   ]
  },
  {
   "cell_type": "code",
   "execution_count": 83,
   "id": "a85cf903",
   "metadata": {},
   "outputs": [
    {
     "name": "stdout",
     "output_type": "stream",
     "text": [
      "3\n"
     ]
    },
    {
     "data": {
      "text/plain": [
       "mt     212\n",
       "sco    186\n",
       "el     186\n",
       "sd     183\n",
       "bg     124\n",
       "      ... \n",
       "ia       1\n",
       "glk      1\n",
       "su       1\n",
       "cu       1\n",
       "ik       1\n",
       "Name: count, Length: 211, dtype: int64"
      ]
     },
     "execution_count": 83,
     "metadata": {},
     "output_type": "execute_result"
    }
   ],
   "source": [
    "print(pd.Series(train_labels_aug).value_counts()['mdfs'])\n",
    "pd.Series(train_labels_aug).value_counts()"
   ]
  },
  {
   "cell_type": "code",
   "execution_count": 579,
   "id": "5004db6e",
   "metadata": {},
   "outputs": [],
   "source": [
    "train_texts_aug.extend(mdf_bible.mdf.tolist())\n",
    "train_texts_aug.extend(myv_bible.mdf.tolist())\n",
    "train_texts_aug.extend(mdf_bible.ru.tolist())\n",
    "\n",
    "train_labels_aug.extend(['mdf']*len(mdf_bible))\n",
    "train_labels_aug.extend(['myv']*len(myv_bible))\n",
    "train_labels_aug.extend(['ru']*len(mdf_bible))"
   ]
  },
  {
   "cell_type": "code",
   "execution_count": 757,
   "id": "6c3d1653",
   "metadata": {},
   "outputs": [
    {
     "name": "stdout",
     "output_type": "stream",
     "text": [
      "15610\n",
      "13603\n"
     ]
    },
    {
     "data": {
      "text/plain": [
       "de     38694\n",
       "ru     31283\n",
       "es     25238\n",
       "en     24849\n",
       "fr     21234\n",
       "       ...  \n",
       "cho       27\n",
       "ii        18\n",
       "mus       16\n",
       "kj         9\n",
       "ho         4\n",
       "Length: 323, dtype: int64"
      ]
     },
     "execution_count": 757,
     "metadata": {},
     "output_type": "execute_result"
    }
   ],
   "source": [
    "print(pd.Series(train_labels_aug).value_counts()['mdf'])\n",
    "print(pd.Series(train_labels_aug).value_counts()['myv'])\n",
    "pd.Series(train_labels_aug).value_counts()"
   ]
  },
  {
   "cell_type": "markdown",
   "id": "b4e62f15",
   "metadata": {},
   "source": [
    "# Sklearn pipeline"
   ]
  },
  {
   "cell_type": "code",
   "execution_count": 611,
   "id": "a4c58de1",
   "metadata": {},
   "outputs": [],
   "source": [
    "pipe = make_pipeline(\n",
    "    HashingVectorizer(analyzer='char_wb', ngram_range=(1,4), n_features=100_000), \n",
    "    LogisticRegression(C=1e-4, max_iter=1_000, solver='saga')\n",
    ")"
   ]
  },
  {
   "cell_type": "code",
   "execution_count": 613,
   "id": "6757101b",
   "metadata": {},
   "outputs": [
    {
     "name": "stdout",
     "output_type": "stream",
     "text": [
      "Wall time: 6h 16min 31s\n"
     ]
    },
    {
     "data": {
      "text/plain": [
       "Pipeline(steps=[('hashingvectorizer',\n",
       "                 HashingVectorizer(analyzer='char_wb', n_features=100000,\n",
       "                                   ngram_range=(1, 4))),\n",
       "                ('logisticregression',\n",
       "                 LogisticRegression(C=0.0001, max_iter=1000, solver='saga'))])"
      ]
     },
     "execution_count": 613,
     "metadata": {},
     "output_type": "execute_result"
    }
   ],
   "source": [
    "%%time\n",
    "pipe.fit(train_texts_aug, train_labels_augg)"
   ]
  },
  {
   "cell_type": "code",
   "execution_count": 622,
   "id": "0b08a8dd",
   "metadata": {},
   "outputs": [
    {
     "name": "stdout",
     "output_type": "stream",
     "text": [
      "Wall time: 50 s\n"
     ]
    }
   ],
   "source": [
    "%%time\n",
    "\n",
    "preds = pipe.predict_proba(test_texts)"
   ]
  },
  {
   "cell_type": "code",
   "execution_count": 624,
   "id": "a48a277f",
   "metadata": {},
   "outputs": [
    {
     "data": {
      "text/plain": [
       "array([63, 63, 63, ..., 63, 63, 63], dtype=int64)"
      ]
     },
     "execution_count": 624,
     "metadata": {},
     "output_type": "execute_result"
    }
   ],
   "source": [
    "preds.argmax(1)"
   ]
  },
  {
   "cell_type": "code",
   "execution_count": 629,
   "id": "e49d48bb",
   "metadata": {},
   "outputs": [
    {
     "data": {
      "text/plain": [
       "0.028913795159174912"
      ]
     },
     "execution_count": 629,
     "metadata": {},
     "output_type": "execute_result"
    }
   ],
   "source": [
    "(pipe.classes_[preds.argmax(1)] == test_labels).mean()"
   ]
  },
  {
   "cell_type": "code",
   "execution_count": 631,
   "id": "efcae7a3",
   "metadata": {},
   "outputs": [
    {
     "data": {
      "text/plain": [
       "de    56051\n",
       "ru    11045\n",
       "dtype: int64"
      ]
     },
     "execution_count": 631,
     "metadata": {},
     "output_type": "execute_result"
    }
   ],
   "source": [
    "pd.Series(pipe.classes_[preds.argmax(1)]).value_counts()"
   ]
  },
  {
   "cell_type": "markdown",
   "id": "8635dc2d",
   "metadata": {},
   "source": [
    "# FastText"
   ]
  },
  {
   "cell_type": "code",
   "execution_count": 84,
   "id": "20ec064b",
   "metadata": {},
   "outputs": [],
   "source": [
    "with open('ft_train.txt', 'w') as f:\n",
    "    for label, text in zip(train_labels_aug, train_texts_aug):\n",
    "        f.write(f'__label__{label} ')\n",
    "        f.write(text.replace('\\n', ' ') + '\\n')"
   ]
  },
  {
   "cell_type": "code",
   "execution_count": 765,
   "id": "3b0f444b",
   "metadata": {},
   "outputs": [],
   "source": [
    "model = fasttext.train_supervised(\n",
    "    input=\"ft_train.txt\", \n",
    "    lr=0.05, # 0.1 gives 38.8% / 0.5 gives 34.8% (overfitting?)\n",
    "    epoch=100, # 5 gives 38.8%  / 10 gives 49.5% / \n",
    "    wordNgrams=0, \n",
    "    bucket=200_000,  # default is 200K; 100K gives 38% acc, and 200K as well.\n",
    "    dim=64, # FB uses 16, but 32 is much better with me, and 64 seems +- the same\n",
    "    loss='softmax',\n",
    "    minn=1,\n",
    "    maxn=4, # if I decrease this to 3, the quality is no worse.\n",
    "    minCount=100, # a larger number is required  # 5 gets 39% accuracy with 650K words; 50 gets 38% acc with 50K words; \n",
    "    # 300 gets acc 38% with 6K words\n",
    ")"
   ]
  },
  {
   "cell_type": "code",
   "execution_count": 766,
   "id": "f9d7d66e",
   "metadata": {},
   "outputs": [
    {
     "data": {
      "text/plain": [
       "(('__label__myv', '__label__ru', '__label__lez', '__label__tg', '__label__be'),\n",
       " array([0.74181491, 0.20231327, 0.0135121 , 0.00760135, 0.00718429]))"
      ]
     },
     "execution_count": 766,
     "metadata": {},
     "output_type": "execute_result"
    }
   ],
   "source": [
    "model.predict('пек вадря', k=5)"
   ]
  },
  {
   "cell_type": "code",
   "execution_count": 767,
   "id": "77db3fe2",
   "metadata": {},
   "outputs": [
    {
     "data": {
      "text/plain": [
       "([['__label__myv'], ['__label__ru']],\n",
       " [array([0.7418149], dtype=float32), array([0.9943341], dtype=float32)])"
      ]
     },
     "execution_count": 767,
     "metadata": {},
     "output_type": "execute_result"
    }
   ],
   "source": [
    "model.predict(['пек вадря', 'привет'], k=1)"
   ]
  },
  {
   "cell_type": "code",
   "execution_count": 768,
   "id": "1bcc66a9",
   "metadata": {},
   "outputs": [
    {
     "name": "stdout",
     "output_type": "stream",
     "text": [
      "Wall time: 9.3 s\n"
     ]
    }
   ],
   "source": [
    "%%time\n",
    "ft_preds = model.predict([t.replace('\\n', ' ') for t in test_texts])"
   ]
  },
  {
   "cell_type": "code",
   "execution_count": 769,
   "id": "e7d26650",
   "metadata": {},
   "outputs": [],
   "source": [
    "ft_labels = [l[0][9:] for l in ft_preds[0]]"
   ]
  },
  {
   "cell_type": "markdown",
   "id": "d0784a39",
   "metadata": {},
   "source": [
    "77% accuracy, which is not bad! / 0.69618 in a smaller version / 0.76831 a middle one / 87% for longer training"
   ]
  },
  {
   "cell_type": "code",
   "execution_count": 770,
   "id": "4be1d178",
   "metadata": {},
   "outputs": [
    {
     "data": {
      "text/plain": [
       "0.8764009777035889"
      ]
     },
     "execution_count": 770,
     "metadata": {},
     "output_type": "execute_result"
    }
   ],
   "source": [
    "(np.array(ft_labels) == test_labels).mean()"
   ]
  },
  {
   "cell_type": "code",
   "execution_count": null,
   "id": "1c0bd76e",
   "metadata": {},
   "outputs": [
    {
     "name": "stderr",
     "output_type": "stream",
     "text": [
      "c:\\users\\david\\appdata\\local\\programs\\python\\python39\\lib\\site-packages\\sklearn\\metrics\\_classification.py:1308: UndefinedMetricWarning: Precision and F-score are ill-defined and being set to 0.0 in labels with no predicted samples. Use `zero_division` parameter to control this behavior.\n",
      "  _warn_prf(average, modifier, msg_start, len(result))\n",
      "c:\\users\\david\\appdata\\local\\programs\\python\\python39\\lib\\site-packages\\sklearn\\metrics\\_classification.py:1308: UndefinedMetricWarning: Precision and F-score are ill-defined and being set to 0.0 in labels with no predicted samples. Use `zero_division` parameter to control this behavior.\n",
      "  _warn_prf(average, modifier, msg_start, len(result))\n"
     ]
    },
    {
     "name": "stdout",
     "output_type": "stream",
     "text": [
      "              precision    recall  f1-score   support\n",
      "\n",
      "          ab       0.93      0.95      0.94        44\n",
      "         ace       0.98      0.91      0.95        68\n",
      "         ady       0.77      0.68      0.72        79\n",
      "          af       0.95      0.90      0.93       304\n",
      "          ak       0.70      0.30      0.42       102\n",
      "         als       0.73      0.89      0.80       417\n",
      "         alt       0.93      0.95      0.94       319\n",
      "          am       0.98      0.98      0.98       151\n",
      "         ami       0.86      0.90      0.88       159\n",
      "          an       0.79      0.95      0.87       186\n",
      "         ang       0.97      0.94      0.95       108\n",
      "          ar       0.93      0.99      0.96       408\n",
      "         arc       1.00      1.00      1.00        40\n",
      "         ary       0.93      0.90      0.91       117\n",
      "         arz       0.97      0.91      0.94       300\n",
      "          as       0.98      0.96      0.97       302\n",
      "         ast       0.87      0.96      0.91       628\n",
      "         atj       0.95      0.89      0.92        63\n",
      "          av       0.95      0.90      0.92       119\n",
      "         avk       0.83      0.96      0.89       224\n",
      "         awa       0.75      0.79      0.77        48\n",
      "          ay       0.89      0.90      0.90       145\n",
      "          az       0.89      0.96      0.92       432\n",
      "         azb       0.97      0.92      0.95       159\n",
      "          ba       0.94      0.91      0.92       450\n",
      "         ban       0.96      0.86      0.91       189\n",
      "         bar       0.80      0.71      0.75       297\n",
      "     bat-smg       0.96      0.95      0.96        82\n",
      "         bcl       0.85      0.82      0.84       164\n",
      "          be       0.95      0.60      0.73       456\n",
      "   be-tarask       0.58      0.93      0.72       261\n",
      "          bg       0.95      0.96      0.96       455\n",
      "          bh       0.92      0.83      0.88       103\n",
      "          bi       0.77      0.79      0.78        47\n",
      "         bjn       0.82      0.83      0.83       103\n",
      "          bm       0.81      0.64      0.71        47\n",
      "          bn       0.98      0.97      0.98       427\n",
      "          bo       0.85      0.99      0.92       235\n",
      "         bpy       0.97      0.97      0.97       229\n",
      "          br       0.90      0.84      0.87       212\n",
      "          bs       0.72      0.10      0.18       375\n",
      "         bug       0.70      0.87      0.77        55\n",
      "         bxr       0.95      0.94      0.94       134\n",
      "          ca       0.88      0.97      0.92       498\n",
      "     cbk-zam       0.86      0.30      0.44       122\n",
      "         cdo       0.98      0.90      0.94        70\n",
      "          ce       0.90      0.98      0.94       172\n",
      "         ceb       0.90      0.95      0.93       279\n",
      "          ch       0.83      0.67      0.74        30\n",
      "         cho       1.00      0.33      0.50         3\n",
      "         chr       0.97      0.95      0.96        40\n",
      "         chy       0.95      0.87      0.91        47\n",
      "         ckb       0.96      0.97      0.97       169\n",
      "          co       0.94      0.94      0.94       176\n",
      "          cr       0.80      0.87      0.83        23\n",
      "         crh       0.83      0.81      0.82        67\n",
      "          cs       0.97      0.91      0.94       541\n",
      "         csb       0.81      0.70      0.75       110\n",
      "          cu       0.97      0.92      0.94        61\n",
      "          cv       0.92      0.92      0.92       143\n",
      "          cy       0.89      0.97      0.93       210\n",
      "          da       0.84      0.92      0.88       314\n",
      "         dag       0.88      0.72      0.79        80\n",
      "          de       0.79      0.96      0.87      1035\n",
      "         din       0.97      0.87      0.91        67\n",
      "         diq       0.82      0.90      0.86       138\n",
      "         dsb       0.93      0.75      0.83       118\n",
      "         dty       0.86      0.70      0.77        79\n",
      "          dv       0.99      0.95      0.97       163\n",
      "          dz       0.98      0.50      0.66        80\n",
      "          ee       0.95      0.72      0.82        29\n",
      "          el       0.95      0.98      0.97       619\n",
      "         eml       0.99      0.94      0.96       150\n",
      "          en       0.66      0.97      0.78      1088\n",
      "          eo       0.93      0.95      0.94       328\n",
      "          es       0.87      0.94      0.90       872\n",
      "          et       0.97      0.95      0.96       366\n",
      "          eu       0.93      0.96      0.94       317\n",
      "         ext       0.93      0.75      0.83       123\n",
      "          fa       0.92      0.93      0.93       291\n",
      "          ff       0.86      0.72      0.78        67\n",
      "          fi       0.96      0.90      0.93       489\n",
      "     fiu-vro       0.95      0.89      0.92       103\n",
      "          fj       0.80      0.60      0.69        58\n",
      "          fo       0.85      0.92      0.89       130\n",
      "          fr       0.87      0.97      0.92      1060\n",
      "         frp       0.75      0.89      0.82       109\n",
      "         frr       0.80      0.72      0.76       148\n",
      "         fur       0.94      0.84      0.89       137\n",
      "          fy       0.86      0.81      0.83       310\n",
      "          ga       0.99      0.92      0.96       133\n",
      "         gag       0.92      0.84      0.88       108\n",
      "         gan       0.94      0.79      0.86        91\n",
      "         gcr       0.97      0.90      0.93        69\n",
      "          gd       0.89      0.95      0.92       110\n",
      "          gl       0.96      0.90      0.93       399\n",
      "         glk       0.75      0.88      0.81       109\n",
      "          gn       0.95      0.92      0.94       157\n",
      "         gom       0.92      0.85      0.89       308\n",
      "         gor       0.88      0.98      0.93        53\n",
      "         got       1.00      0.98      0.99        43\n",
      "          gu       1.00      0.99      1.00       198\n",
      "         guw       0.99      0.99      0.99        72\n",
      "          gv       0.96      0.93      0.94       108\n",
      "          ha       0.96      0.95      0.95       340\n",
      "         hak       0.96      0.88      0.92        60\n",
      "         haw       1.00      0.97      0.98        63\n",
      "          he       0.98      0.99      0.99       789\n",
      "          hi       0.85      0.92      0.88       313\n",
      "         hif       0.85      0.76      0.81        68\n",
      "          ho       0.00      0.00      0.00         1\n",
      "          hr       0.82      0.34      0.48       497\n",
      "         hsb       0.85      0.90      0.87       182\n",
      "          ht       0.84      0.85      0.85        88\n",
      "          hu       0.95      0.89      0.92       656\n",
      "          hy       0.98      0.95      0.96       472\n",
      "         hyw       0.96      0.98      0.97       418\n",
      "          ia       0.86      0.81      0.84        86\n",
      "          id       0.80      0.83      0.82       346\n",
      "          ie       0.89      0.89      0.89       174\n",
      "          ig       0.99      0.97      0.98       209\n",
      "          ii       0.50      0.33      0.40         3\n",
      "          ik       0.74      0.70      0.72        57\n",
      "         ilo       0.96      0.95      0.95       131\n",
      "         inh       0.89      0.87      0.88       104\n",
      "          io       0.89      0.97      0.93       187\n",
      "          is       0.93      0.85      0.89       277\n",
      "          it       0.92      0.96      0.94       648\n",
      "          iu       0.89      0.63      0.74        38\n",
      "          ja       0.95      0.96      0.96       893\n",
      "         jam       0.93      0.96      0.95        45\n",
      "         jbo       0.85      0.77      0.81       115\n",
      "          jv       0.96      0.77      0.85       179\n",
      "          ka       0.95      0.99      0.97       298\n",
      "         kaa       0.82      0.82      0.82        68\n",
      "         kab       0.92      0.93      0.93       104\n",
      "         kbd       0.86      0.87      0.86       160\n",
      "         kbp       1.00      0.95      0.98       108\n",
      "         kcg       0.97      0.97      0.97        31\n",
      "          kg       0.90      0.82      0.86        44\n",
      "          ki       0.64      0.86      0.74        86\n",
      "          kj       0.00      0.00      0.00         2\n",
      "          kk       0.90      0.81      0.85       600\n",
      "          kl       0.98      0.95      0.97        64\n",
      "          km       0.98      0.98      0.98       303\n",
      "          kn       0.93      0.97      0.95       408\n",
      "          ko       0.98      0.99      0.99       382\n",
      "         koi       0.89      0.83      0.86       127\n",
      "         krc       0.87      0.89      0.88        97\n",
      "          ks       0.84      0.79      0.81        47\n",
      "         ksh       0.98      0.83      0.90       131\n",
      "          ku       0.97      0.95      0.96       149\n",
      "          kv       0.90      0.89      0.89       107\n",
      "          kw       0.88      0.83      0.85       113\n",
      "          ky       0.79      0.91      0.85       166\n",
      "          la       0.73      0.93      0.81       194\n",
      "         lad       0.96      0.92      0.94       163\n",
      "          lb       0.96      0.90      0.93       233\n",
      "         lbe       0.93      0.87      0.90        45\n",
      "         lez       0.99      0.91      0.95       222\n",
      "         lfn       0.97      0.95      0.96       234\n",
      "          lg       0.92      0.91      0.91       289\n",
      "          li       0.94      0.95      0.95       264\n",
      "         lij       0.88      0.90      0.89       100\n",
      "         lld       0.93      0.81      0.86        77\n",
      "         lmo       0.89      0.96      0.92       156\n",
      "          ln       0.94      0.80      0.86        84\n",
      "          lo       0.94      0.92      0.93       126\n",
      "          lt       0.90      0.93      0.92       365\n",
      "         ltg       0.91      0.91      0.91        78\n",
      "          lv       0.97      0.97      0.97       296\n",
      "         mad       0.85      0.80      0.82        93\n",
      "         mai       0.88      0.91      0.90        90\n",
      "     map-bms       0.70      0.68      0.69        91\n",
      "         mdf       0.74      0.92      0.82        61\n",
      "          mg       0.94      0.98      0.96       152\n",
      "          mh       1.00      0.50      0.67         2\n",
      "         mhr       0.86      0.83      0.85       149\n",
      "          mi       0.95      0.84      0.89        69\n",
      "         min       0.93      0.97      0.95        94\n",
      "          mk       0.95      0.93      0.94       387\n",
      "          ml       0.94      0.95      0.94       303\n",
      "          mn       0.92      0.97      0.95       286\n",
      "         mni       1.00      0.96      0.98        45\n",
      "         mnw       0.97      0.94      0.95       521\n",
      "          mr       0.93      0.92      0.93       155\n",
      "         mrj       0.88      0.86      0.87        90\n",
      "          ms       0.68      0.80      0.73       251\n",
      "          mt       0.94      0.94      0.94       367\n",
      "         mus       0.00      0.00      0.00         4\n",
      "         mwl       0.97      0.97      0.97       435\n",
      "          my       0.96      0.90      0.92       143\n",
      "         myv       0.97      0.82      0.89       137\n",
      "         mzn       0.91      0.89      0.90       106\n",
      "          na       1.00      0.53      0.70        43\n",
      "         nah       0.94      0.91      0.92       106\n",
      "         nap       0.85      0.94      0.89       112\n",
      "         nds       0.93      0.94      0.94       369\n",
      "      nds-nl       0.95      0.86      0.90       251\n",
      "          ne       0.84      0.92      0.88       158\n",
      "         new       0.84      0.94      0.89       119\n",
      "          ng       1.00      0.50      0.67         4\n",
      "         nia       0.93      0.95      0.94        92\n",
      "          nl       0.83      0.93      0.88       417\n",
      "          nn       0.70      0.89      0.78       303\n",
      "          no       0.96      0.61      0.75       378\n",
      "         nov       0.61      0.69      0.65        74\n",
      "         nqo       0.91      1.00      0.95       246\n",
      "         nrm       0.96      0.82      0.88        98\n",
      "         nso       0.89      0.85      0.87        55\n",
      "          nv       0.99      1.00      0.99       504\n",
      "          ny       0.90      0.90      0.90       111\n",
      "          oc       0.82      0.58      0.68       268\n",
      "         olo       0.95      0.91      0.93       108\n",
      "          om       0.93      0.88      0.90       123\n",
      "          or       0.97      0.98      0.98       195\n",
      "          os       0.95      0.98      0.97       103\n",
      "          pa       0.95      0.95      0.95       241\n",
      "         pag       0.92      0.94      0.93        90\n",
      "         pam       0.76      0.70      0.73       120\n",
      "         pap       0.90      0.87      0.89        87\n",
      "         pcd       0.91      0.65      0.76       132\n",
      "         pdc       0.85      0.66      0.74        76\n",
      "         pfl       0.90      0.82      0.85       198\n",
      "          pi       0.88      0.83      0.85        35\n",
      "         pih       0.97      0.80      0.88        35\n",
      "          pl       0.88      0.69      0.77       914\n",
      "         pms       0.93      0.92      0.93       116\n",
      "         pnb       0.92      0.90      0.91       439\n",
      "         pnt       0.92      0.48      0.63        50\n",
      "          ps       0.95      0.92      0.94       215\n",
      "          pt       0.90      0.92      0.91       663\n",
      "         pwn       0.94      0.83      0.88       184\n",
      "          qu       0.93      0.82      0.87       116\n",
      "          rm       0.98      0.97      0.97       433\n",
      "         rmy       0.95      0.93      0.94        44\n",
      "          rn       0.76      0.65      0.70        34\n",
      "          ro       0.84      0.91      0.88       409\n",
      "     roa-rup       0.90      0.77      0.83        57\n",
      "    roa-tara       0.92      0.83      0.87       117\n",
      "          ru       0.92      0.95      0.93       921\n",
      "         rue       0.92      0.90      0.91       143\n",
      "          rw       0.92      0.91      0.91       130\n",
      "          sa       0.96      0.96      0.96       267\n",
      "         sah       0.94      0.90      0.92       307\n",
      "         sat       0.98      0.95      0.96       212\n",
      "          sc       0.99      0.89      0.93       158\n",
      "         scn       0.94      0.96      0.95        99\n",
      "         sco       0.81      0.83      0.82       187\n",
      "          sd       0.97      0.87      0.92       131\n",
      "          se       0.86      0.93      0.89        72\n",
      "          sg       0.82      0.82      0.82        22\n",
      "          sh       0.34      0.89      0.50       352\n",
      "         shi       0.93      0.84      0.88       118\n",
      "         shn       0.95      0.90      0.93        70\n",
      "          si       0.97      0.97      0.97       259\n",
      "      simple       0.27      0.04      0.06       218\n",
      "          sk       0.86      0.92      0.89       354\n",
      "         skr       0.95      0.93      0.94       526\n",
      "          sl       0.86      0.95      0.90       470\n",
      "          sm       0.95      0.85      0.90        46\n",
      "         smn       0.90      0.88      0.89        85\n",
      "          sn       0.97      0.89      0.93       103\n",
      "          so       0.90      0.89      0.89       197\n",
      "          sq       0.93      0.92      0.92       311\n",
      "          sr       0.95      0.84      0.90       300\n",
      "         srn       0.87      0.89      0.88        38\n",
      "          ss       0.89      0.70      0.78        77\n",
      "          st       0.92      0.73      0.81        48\n",
      "         stq       0.88      0.83      0.85       126\n",
      "          su       0.87      0.86      0.87       151\n",
      "          sv       0.85      0.88      0.86       321\n",
      "          sw       0.96      0.91      0.93       191\n",
      "         szl       0.85      0.85      0.85       116\n",
      "         szy       0.76      0.86      0.81       359\n",
      "          ta       0.99      0.99      0.99       395\n",
      "         tay       0.87      0.83      0.85       193\n",
      "         tcy       0.96      0.85      0.90       159\n",
      "          te       0.99      0.99      0.99       549\n",
      "         tet       0.97      0.89      0.93        63\n",
      "          tg       0.77      0.93      0.84       140\n",
      "          th       0.93      0.98      0.96       361\n",
      "          ti       0.79      0.79      0.79        47\n",
      "          tk       0.94      0.86      0.90       172\n",
      "          tl       0.81      0.89      0.85       196\n",
      "          tn       0.88      0.89      0.89       151\n",
      "          to       0.85      0.75      0.80       125\n",
      "         tpi       0.78      0.81      0.80        70\n",
      "          tr       0.90      0.94      0.92       364\n",
      "         trv       0.92      0.85      0.88       366\n",
      "          ts       0.92      0.92      0.92        60\n",
      "          tt       0.95      0.90      0.93       182\n",
      "         tum       1.00      0.88      0.94        34\n",
      "          tw       0.66      0.84      0.74       168\n",
      "          ty       0.84      0.92      0.88        39\n",
      "         tyv       0.93      0.86      0.89       302\n",
      "         udm       0.92      0.88      0.90       125\n",
      "          ug       0.99      0.93      0.96       295\n",
      "          uk       0.95      0.98      0.96       720\n",
      "          ur       0.89      0.90      0.90       242\n",
      "          uz       0.94      0.97      0.96       212\n",
      "          ve       0.96      0.92      0.94        49\n",
      "         vec       0.89      0.94      0.91       163\n",
      "         vep       0.95      0.93      0.94       273\n",
      "          vi       0.94      0.90      0.92       257\n",
      "         vls       0.99      0.75      0.85       190\n",
      "          vo       0.93      0.98      0.96       306\n",
      "          wa       0.98      0.93      0.95       229\n",
      "         war       0.87      0.68      0.76       181\n",
      "          wo       0.95      0.92      0.94       292\n",
      "         wuu       0.85      0.79      0.82        96\n",
      "         xal       0.94      0.92      0.93        52\n",
      "          xh       0.71      0.77      0.74       113\n",
      "         xmf       0.87      0.83      0.85       174\n",
      "          yi       0.99      0.93      0.96       242\n",
      "          yo       0.66      0.80      0.72        90\n",
      "          za       1.00      1.00      1.00        38\n",
      "         zea       0.62      0.88      0.73       144\n",
      "          zh       0.88      0.89      0.88       566\n",
      "zh-classical       0.87      0.87      0.87       190\n",
      "  zh-min-nan       0.99      0.96      0.98       140\n",
      "      zh-yue       0.83      0.88      0.86       155\n",
      "          zu       0.86      0.63      0.73        78\n",
      "\n",
      "    accuracy                           0.89     67096\n",
      "   macro avg       0.89      0.86      0.86     67096\n",
      "weighted avg       0.90      0.89      0.89     67096\n",
      "\n"
     ]
    },
    {
     "name": "stderr",
     "output_type": "stream",
     "text": [
      "c:\\users\\david\\appdata\\local\\programs\\python\\python39\\lib\\site-packages\\sklearn\\metrics\\_classification.py:1308: UndefinedMetricWarning: Precision and F-score are ill-defined and being set to 0.0 in labels with no predicted samples. Use `zero_division` parameter to control this behavior.\n",
      "  _warn_prf(average, modifier, msg_start, len(result))\n"
     ]
    }
   ],
   "source": [
    "print(classification_report(test_labels, ft_labels))"
   ]
  },
  {
   "cell_type": "markdown",
   "id": "c826ee1d",
   "metadata": {},
   "source": [
    "## save and quantize"
   ]
  },
  {
   "cell_type": "code",
   "execution_count": 772,
   "id": "c83d2d9c",
   "metadata": {},
   "outputs": [],
   "source": [
    "model.save_model('../langid/lid.323.bin')"
   ]
  },
  {
   "cell_type": "code",
   "execution_count": 787,
   "id": "23baae36",
   "metadata": {},
   "outputs": [],
   "source": [
    "model.quantize(retrain=True, input=\"ft_train.txt\", qnorm=True, cutoff=50_000)"
   ]
  },
  {
   "cell_type": "code",
   "execution_count": 788,
   "id": "8e3b701a",
   "metadata": {},
   "outputs": [
    {
     "data": {
      "text/plain": [
       "2282"
      ]
     },
     "execution_count": 788,
     "metadata": {},
     "output_type": "execute_result"
    }
   ],
   "source": [
    "len(model.words)"
   ]
  },
  {
   "cell_type": "code",
   "execution_count": 789,
   "id": "9a9318dd",
   "metadata": {},
   "outputs": [],
   "source": [
    "model.save_model('../langid/lid.323.ftz')"
   ]
  },
  {
   "cell_type": "code",
   "execution_count": 790,
   "id": "47bed3c1",
   "metadata": {},
   "outputs": [
    {
     "name": "stdout",
     "output_type": "stream",
     "text": [
      "Wall time: 25.1 s\n"
     ]
    }
   ],
   "source": [
    "%%time\n",
    "ft_preds = model.predict([t.replace('\\n', ' ') for t in test_texts])"
   ]
  },
  {
   "cell_type": "markdown",
   "id": "86a50be0",
   "metadata": {},
   "source": [
    "After compression, the model retains 89% accuracy - even more than the large one. Probably, due to longer training."
   ]
  },
  {
   "cell_type": "code",
   "execution_count": 792,
   "id": "75a86cb3",
   "metadata": {},
   "outputs": [
    {
     "data": {
      "text/plain": [
       "0.8900828663407655"
      ]
     },
     "execution_count": 792,
     "metadata": {},
     "output_type": "execute_result"
    }
   ],
   "source": [
    "ft_labels = [l[0][9:] for l in ft_preds[0]]\n",
    "(np.array(ft_labels) == test_labels).mean()"
   ]
  },
  {
   "cell_type": "code",
   "execution_count": 15,
   "id": "bee8eed2",
   "metadata": {},
   "outputs": [
    {
     "name": "stderr",
     "output_type": "stream",
     "text": [
      "c:\\users\\david\\appdata\\local\\programs\\python\\python39\\lib\\site-packages\\sklearn\\metrics\\_classification.py:1308: UndefinedMetricWarning: Precision and F-score are ill-defined and being set to 0.0 in labels with no predicted samples. Use `zero_division` parameter to control this behavior.\n",
      "  _warn_prf(average, modifier, msg_start, len(result))\n",
      "c:\\users\\david\\appdata\\local\\programs\\python\\python39\\lib\\site-packages\\sklearn\\metrics\\_classification.py:1308: UndefinedMetricWarning: Precision and F-score are ill-defined and being set to 0.0 in labels with no predicted samples. Use `zero_division` parameter to control this behavior.\n",
      "  _warn_prf(average, modifier, msg_start, len(result))\n"
     ]
    },
    {
     "name": "stdout",
     "output_type": "stream",
     "text": [
      "              precision    recall  f1-score   support\n",
      "\n",
      "          ab       0.93      0.95      0.94        44\n",
      "         ace       0.98      0.91      0.95        68\n",
      "         ady       0.77      0.68      0.72        79\n",
      "          af       0.95      0.90      0.93       304\n",
      "          ak       0.70      0.30      0.42       102\n",
      "         als       0.73      0.89      0.80       417\n",
      "         alt       0.93      0.95      0.94       319\n",
      "          am       0.98      0.98      0.98       151\n",
      "         ami       0.86      0.90      0.88       159\n",
      "          an       0.79      0.95      0.87       186\n",
      "         ang       0.97      0.94      0.95       108\n",
      "          ar       0.93      0.99      0.96       408\n",
      "         arc       1.00      1.00      1.00        40\n",
      "         ary       0.93      0.90      0.91       117\n",
      "         arz       0.97      0.91      0.94       300\n",
      "          as       0.98      0.96      0.97       302\n",
      "         ast       0.87      0.96      0.91       628\n",
      "         atj       0.95      0.89      0.92        63\n",
      "          av       0.95      0.90      0.92       119\n",
      "         avk       0.83      0.96      0.89       224\n",
      "         awa       0.75      0.79      0.77        48\n",
      "          ay       0.89      0.90      0.90       145\n",
      "          az       0.89      0.96      0.92       432\n",
      "         azb       0.97      0.92      0.95       159\n",
      "          ba       0.94      0.91      0.92       450\n",
      "         ban       0.96      0.86      0.91       189\n",
      "         bar       0.80      0.71      0.75       297\n",
      "     bat-smg       0.96      0.95      0.96        82\n",
      "         bcl       0.85      0.82      0.84       164\n",
      "          be       0.95      0.60      0.73       456\n",
      "   be-tarask       0.58      0.93      0.72       261\n",
      "          bg       0.95      0.96      0.96       455\n",
      "          bh       0.92      0.83      0.88       103\n",
      "          bi       0.77      0.79      0.78        47\n",
      "         bjn       0.82      0.83      0.83       103\n",
      "          bm       0.81      0.64      0.71        47\n",
      "          bn       0.98      0.97      0.98       427\n",
      "          bo       0.85      0.99      0.92       235\n",
      "         bpy       0.97      0.97      0.97       229\n",
      "          br       0.90      0.84      0.87       212\n",
      "          bs       0.72      0.10      0.18       375\n",
      "         bug       0.70      0.87      0.77        55\n",
      "         bxr       0.95      0.94      0.94       134\n",
      "          ca       0.88      0.97      0.92       498\n",
      "     cbk-zam       0.86      0.30      0.44       122\n",
      "         cdo       0.98      0.90      0.94        70\n",
      "          ce       0.90      0.98      0.94       172\n",
      "         ceb       0.90      0.95      0.93       279\n",
      "          ch       0.83      0.67      0.74        30\n",
      "         cho       1.00      0.33      0.50         3\n",
      "         chr       0.97      0.95      0.96        40\n",
      "         chy       0.95      0.87      0.91        47\n",
      "         ckb       0.96      0.97      0.97       169\n",
      "          co       0.94      0.94      0.94       176\n",
      "          cr       0.80      0.87      0.83        23\n",
      "         crh       0.83      0.81      0.82        67\n",
      "          cs       0.97      0.91      0.94       541\n",
      "         csb       0.81      0.70      0.75       110\n",
      "          cu       0.97      0.92      0.94        61\n",
      "          cv       0.92      0.92      0.92       143\n",
      "          cy       0.89      0.97      0.93       210\n",
      "          da       0.84      0.92      0.88       314\n",
      "         dag       0.88      0.72      0.79        80\n",
      "          de       0.79      0.96      0.87      1035\n",
      "         din       0.97      0.87      0.91        67\n",
      "         diq       0.82      0.90      0.86       138\n",
      "         dsb       0.93      0.75      0.83       118\n",
      "         dty       0.86      0.70      0.77        79\n",
      "          dv       0.99      0.95      0.97       163\n",
      "          dz       0.98      0.50      0.66        80\n",
      "          ee       0.95      0.72      0.82        29\n",
      "          el       0.95      0.98      0.97       619\n",
      "         eml       0.99      0.94      0.96       150\n",
      "          en       0.66      0.97      0.78      1088\n",
      "          eo       0.93      0.95      0.94       328\n",
      "          es       0.87      0.94      0.90       872\n",
      "          et       0.97      0.95      0.96       366\n",
      "          eu       0.93      0.96      0.94       317\n",
      "         ext       0.93      0.75      0.83       123\n",
      "          fa       0.92      0.93      0.93       291\n",
      "          ff       0.86      0.72      0.78        67\n",
      "          fi       0.96      0.90      0.93       489\n",
      "     fiu-vro       0.95      0.89      0.92       103\n",
      "          fj       0.80      0.60      0.69        58\n",
      "          fo       0.85      0.92      0.89       130\n",
      "          fr       0.87      0.97      0.92      1060\n",
      "         frp       0.75      0.89      0.82       109\n",
      "         frr       0.80      0.72      0.76       148\n",
      "         fur       0.94      0.84      0.89       137\n",
      "          fy       0.86      0.81      0.83       310\n",
      "          ga       0.99      0.92      0.96       133\n",
      "         gag       0.92      0.84      0.88       108\n",
      "         gan       0.94      0.79      0.86        91\n",
      "         gcr       0.97      0.90      0.93        69\n",
      "          gd       0.89      0.95      0.92       110\n",
      "          gl       0.96      0.90      0.93       399\n",
      "         glk       0.75      0.88      0.81       109\n",
      "          gn       0.95      0.92      0.94       157\n",
      "         gom       0.92      0.85      0.89       308\n",
      "         gor       0.88      0.98      0.93        53\n",
      "         got       1.00      0.98      0.99        43\n",
      "          gu       1.00      0.99      1.00       198\n",
      "         guw       0.99      0.99      0.99        72\n",
      "          gv       0.96      0.93      0.94       108\n",
      "          ha       0.96      0.95      0.95       340\n",
      "         hak       0.96      0.88      0.92        60\n",
      "         haw       1.00      0.97      0.98        63\n",
      "          he       0.98      0.99      0.99       789\n",
      "          hi       0.85      0.92      0.88       313\n",
      "         hif       0.85      0.76      0.81        68\n",
      "          ho       0.00      0.00      0.00         1\n",
      "          hr       0.82      0.34      0.48       497\n",
      "         hsb       0.85      0.90      0.87       182\n",
      "          ht       0.84      0.85      0.85        88\n",
      "          hu       0.95      0.89      0.92       656\n",
      "          hy       0.98      0.95      0.96       472\n",
      "         hyw       0.96      0.98      0.97       418\n",
      "          ia       0.86      0.81      0.84        86\n",
      "          id       0.80      0.83      0.82       346\n",
      "          ie       0.89      0.89      0.89       174\n",
      "          ig       0.99      0.97      0.98       209\n",
      "          ii       0.50      0.33      0.40         3\n",
      "          ik       0.74      0.70      0.72        57\n",
      "         ilo       0.96      0.95      0.95       131\n",
      "         inh       0.89      0.87      0.88       104\n",
      "          io       0.89      0.97      0.93       187\n",
      "          is       0.93      0.85      0.89       277\n",
      "          it       0.92      0.96      0.94       648\n",
      "          iu       0.89      0.63      0.74        38\n",
      "          ja       0.95      0.96      0.96       893\n",
      "         jam       0.93      0.96      0.95        45\n",
      "         jbo       0.85      0.77      0.81       115\n",
      "          jv       0.96      0.77      0.85       179\n",
      "          ka       0.95      0.99      0.97       298\n",
      "         kaa       0.82      0.82      0.82        68\n",
      "         kab       0.92      0.93      0.93       104\n",
      "         kbd       0.86      0.87      0.86       160\n",
      "         kbp       1.00      0.95      0.98       108\n",
      "         kcg       0.97      0.97      0.97        31\n",
      "          kg       0.90      0.82      0.86        44\n",
      "          ki       0.64      0.86      0.74        86\n",
      "          kj       0.00      0.00      0.00         2\n",
      "          kk       0.90      0.81      0.85       600\n",
      "          kl       0.98      0.95      0.97        64\n",
      "          km       0.98      0.98      0.98       303\n",
      "          kn       0.93      0.97      0.95       408\n",
      "          ko       0.98      0.99      0.99       382\n",
      "         koi       0.89      0.83      0.86       127\n",
      "         krc       0.87      0.89      0.88        97\n",
      "          ks       0.84      0.79      0.81        47\n",
      "         ksh       0.98      0.83      0.90       131\n",
      "          ku       0.97      0.95      0.96       149\n",
      "          kv       0.90      0.89      0.89       107\n",
      "          kw       0.88      0.83      0.85       113\n",
      "          ky       0.79      0.91      0.85       166\n",
      "          la       0.73      0.93      0.81       194\n",
      "         lad       0.96      0.92      0.94       163\n",
      "          lb       0.96      0.90      0.93       233\n",
      "         lbe       0.93      0.87      0.90        45\n",
      "         lez       0.99      0.91      0.95       222\n",
      "         lfn       0.97      0.95      0.96       234\n",
      "          lg       0.92      0.91      0.91       289\n",
      "          li       0.94      0.95      0.95       264\n",
      "         lij       0.88      0.90      0.89       100\n",
      "         lld       0.93      0.81      0.86        77\n",
      "         lmo       0.89      0.96      0.92       156\n",
      "          ln       0.94      0.80      0.86        84\n",
      "          lo       0.94      0.92      0.93       126\n",
      "          lt       0.90      0.93      0.92       365\n",
      "         ltg       0.91      0.91      0.91        78\n",
      "          lv       0.97      0.97      0.97       296\n",
      "         mad       0.85      0.80      0.82        93\n",
      "         mai       0.88      0.91      0.90        90\n",
      "     map-bms       0.70      0.68      0.69        91\n",
      "         mdf       0.74      0.92      0.82        61\n",
      "          mg       0.94      0.98      0.96       152\n",
      "          mh       1.00      0.50      0.67         2\n",
      "         mhr       0.86      0.83      0.85       149\n",
      "          mi       0.95      0.84      0.89        69\n",
      "         min       0.93      0.97      0.95        94\n",
      "          mk       0.95      0.93      0.94       387\n",
      "          ml       0.94      0.95      0.94       303\n",
      "          mn       0.92      0.97      0.95       286\n",
      "         mni       1.00      0.96      0.98        45\n",
      "         mnw       0.97      0.94      0.95       521\n",
      "          mr       0.93      0.92      0.93       155\n",
      "         mrj       0.88      0.86      0.87        90\n",
      "          ms       0.68      0.80      0.73       251\n",
      "          mt       0.94      0.94      0.94       367\n",
      "         mus       0.00      0.00      0.00         4\n",
      "         mwl       0.97      0.97      0.97       435\n",
      "          my       0.96      0.90      0.92       143\n",
      "         myv       0.97      0.82      0.89       137\n",
      "         mzn       0.91      0.89      0.90       106\n",
      "          na       1.00      0.53      0.70        43\n",
      "         nah       0.94      0.91      0.92       106\n",
      "         nap       0.85      0.94      0.89       112\n",
      "         nds       0.93      0.94      0.94       369\n",
      "      nds-nl       0.95      0.86      0.90       251\n",
      "          ne       0.84      0.92      0.88       158\n",
      "         new       0.84      0.94      0.89       119\n",
      "          ng       1.00      0.50      0.67         4\n",
      "         nia       0.93      0.95      0.94        92\n",
      "          nl       0.83      0.93      0.88       417\n",
      "          nn       0.70      0.89      0.78       303\n",
      "          no       0.96      0.61      0.75       378\n",
      "         nov       0.61      0.69      0.65        74\n",
      "         nqo       0.91      1.00      0.95       246\n",
      "         nrm       0.96      0.82      0.88        98\n",
      "         nso       0.89      0.85      0.87        55\n",
      "          nv       0.99      1.00      0.99       504\n",
      "          ny       0.90      0.90      0.90       111\n",
      "          oc       0.82      0.58      0.68       268\n",
      "         olo       0.95      0.91      0.93       108\n",
      "          om       0.93      0.88      0.90       123\n",
      "          or       0.97      0.98      0.98       195\n",
      "          os       0.95      0.98      0.97       103\n",
      "          pa       0.95      0.95      0.95       241\n",
      "         pag       0.92      0.94      0.93        90\n",
      "         pam       0.76      0.70      0.73       120\n",
      "         pap       0.90      0.87      0.89        87\n",
      "         pcd       0.91      0.65      0.76       132\n",
      "         pdc       0.85      0.66      0.74        76\n",
      "         pfl       0.90      0.82      0.85       198\n",
      "          pi       0.88      0.83      0.85        35\n",
      "         pih       0.97      0.80      0.88        35\n",
      "          pl       0.88      0.69      0.77       914\n",
      "         pms       0.93      0.92      0.93       116\n",
      "         pnb       0.92      0.90      0.91       439\n",
      "         pnt       0.92      0.48      0.63        50\n",
      "          ps       0.95      0.92      0.94       215\n",
      "          pt       0.90      0.92      0.91       663\n",
      "         pwn       0.94      0.83      0.88       184\n",
      "          qu       0.93      0.82      0.87       116\n",
      "          rm       0.98      0.97      0.97       433\n",
      "         rmy       0.95      0.93      0.94        44\n",
      "          rn       0.76      0.65      0.70        34\n",
      "          ro       0.84      0.91      0.88       409\n",
      "     roa-rup       0.90      0.77      0.83        57\n",
      "    roa-tara       0.92      0.83      0.87       117\n",
      "          ru       0.92      0.95      0.93       921\n",
      "         rue       0.92      0.90      0.91       143\n",
      "          rw       0.92      0.91      0.91       130\n",
      "          sa       0.96      0.96      0.96       267\n",
      "         sah       0.94      0.90      0.92       307\n",
      "         sat       0.98      0.95      0.96       212\n",
      "          sc       0.99      0.89      0.93       158\n",
      "         scn       0.94      0.96      0.95        99\n",
      "         sco       0.81      0.83      0.82       187\n",
      "          sd       0.97      0.87      0.92       131\n",
      "          se       0.86      0.93      0.89        72\n",
      "          sg       0.82      0.82      0.82        22\n",
      "          sh       0.34      0.89      0.50       352\n",
      "         shi       0.93      0.84      0.88       118\n",
      "         shn       0.95      0.90      0.93        70\n",
      "          si       0.97      0.97      0.97       259\n",
      "      simple       0.27      0.04      0.06       218\n",
      "          sk       0.86      0.92      0.89       354\n",
      "         skr       0.95      0.93      0.94       526\n",
      "          sl       0.86      0.95      0.90       470\n",
      "          sm       0.95      0.85      0.90        46\n",
      "         smn       0.90      0.88      0.89        85\n",
      "          sn       0.97      0.89      0.93       103\n",
      "          so       0.90      0.89      0.89       197\n",
      "          sq       0.93      0.92      0.92       311\n",
      "          sr       0.95      0.84      0.90       300\n",
      "         srn       0.87      0.89      0.88        38\n",
      "          ss       0.89      0.70      0.78        77\n",
      "          st       0.92      0.73      0.81        48\n",
      "         stq       0.88      0.83      0.85       126\n",
      "          su       0.87      0.86      0.87       151\n",
      "          sv       0.85      0.88      0.86       321\n",
      "          sw       0.96      0.91      0.93       191\n",
      "         szl       0.85      0.85      0.85       116\n",
      "         szy       0.76      0.86      0.81       359\n",
      "          ta       0.99      0.99      0.99       395\n",
      "         tay       0.87      0.83      0.85       193\n",
      "         tcy       0.96      0.85      0.90       159\n",
      "          te       0.99      0.99      0.99       549\n",
      "         tet       0.97      0.89      0.93        63\n",
      "          tg       0.77      0.93      0.84       140\n",
      "          th       0.93      0.98      0.96       361\n",
      "          ti       0.79      0.79      0.79        47\n",
      "          tk       0.94      0.86      0.90       172\n",
      "          tl       0.81      0.89      0.85       196\n",
      "          tn       0.88      0.89      0.89       151\n",
      "          to       0.85      0.75      0.80       125\n",
      "         tpi       0.78      0.81      0.80        70\n",
      "          tr       0.90      0.94      0.92       364\n",
      "         trv       0.92      0.85      0.88       366\n",
      "          ts       0.92      0.92      0.92        60\n",
      "          tt       0.95      0.90      0.93       182\n",
      "         tum       1.00      0.88      0.94        34\n",
      "          tw       0.66      0.84      0.74       168\n",
      "          ty       0.84      0.92      0.88        39\n",
      "         tyv       0.93      0.86      0.89       302\n",
      "         udm       0.92      0.88      0.90       125\n",
      "          ug       0.99      0.93      0.96       295\n",
      "          uk       0.95      0.98      0.96       720\n",
      "          ur       0.89      0.90      0.90       242\n",
      "          uz       0.94      0.97      0.96       212\n",
      "          ve       0.96      0.92      0.94        49\n",
      "         vec       0.89      0.94      0.91       163\n",
      "         vep       0.95      0.93      0.94       273\n",
      "          vi       0.94      0.90      0.92       257\n",
      "         vls       0.99      0.75      0.85       190\n",
      "          vo       0.93      0.98      0.96       306\n",
      "          wa       0.98      0.93      0.95       229\n",
      "         war       0.87      0.68      0.76       181\n",
      "          wo       0.95      0.92      0.94       292\n",
      "         wuu       0.85      0.79      0.82        96\n",
      "         xal       0.94      0.92      0.93        52\n",
      "          xh       0.71      0.77      0.74       113\n",
      "         xmf       0.87      0.83      0.85       174\n",
      "          yi       0.99      0.93      0.96       242\n",
      "          yo       0.66      0.80      0.72        90\n",
      "          za       1.00      1.00      1.00        38\n",
      "         zea       0.62      0.88      0.73       144\n",
      "          zh       0.88      0.89      0.88       566\n",
      "zh-classical       0.87      0.87      0.87       190\n",
      "  zh-min-nan       0.99      0.96      0.98       140\n",
      "      zh-yue       0.83      0.88      0.86       155\n",
      "          zu       0.86      0.63      0.73        78\n",
      "\n",
      "    accuracy                           0.89     67096\n",
      "   macro avg       0.89      0.86      0.86     67096\n",
      "weighted avg       0.90      0.89      0.89     67096\n",
      "\n"
     ]
    },
    {
     "name": "stderr",
     "output_type": "stream",
     "text": [
      "c:\\users\\david\\appdata\\local\\programs\\python\\python39\\lib\\site-packages\\sklearn\\metrics\\_classification.py:1308: UndefinedMetricWarning: Precision and F-score are ill-defined and being set to 0.0 in labels with no predicted samples. Use `zero_division` parameter to control this behavior.\n",
      "  _warn_prf(average, modifier, msg_start, len(result))\n"
     ]
    }
   ],
   "source": [
    "print(classification_report(test_labels, ft_labels))"
   ]
  },
  {
   "cell_type": "code",
   "execution_count": null,
   "id": "984ea02a",
   "metadata": {},
   "outputs": [],
   "source": []
  }
 ],
 "metadata": {
  "kernelspec": {
   "display_name": "Python 3",
   "language": "python",
   "name": "python3"
  },
  "language_info": {
   "codemirror_mode": {
    "name": "ipython",
    "version": 3
   },
   "file_extension": ".py",
   "mimetype": "text/x-python",
   "name": "python",
   "nbconvert_exporter": "python",
   "pygments_lexer": "ipython3",
   "version": "3.11.9"
  }
 },
 "nbformat": 4,
 "nbformat_minor": 5
}
