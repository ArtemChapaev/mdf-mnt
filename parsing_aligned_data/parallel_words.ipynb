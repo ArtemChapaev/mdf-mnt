{
 "cells": [
  {
   "cell_type": "code",
   "execution_count": 1,
   "id": "152a2889",
   "metadata": {},
   "outputs": [],
   "source": [
    "import requests\n",
    "import re\n",
    "import random\n",
    "from bs4 import BeautifulSoup\n",
    "from tqdm.auto import tqdm, trange"
   ]
  },
  {
   "cell_type": "markdown",
   "id": "73460892",
   "metadata": {},
   "source": [
    "# Mordovians"
   ]
  },
  {
   "cell_type": "code",
   "execution_count": 2,
   "id": "b6645906",
   "metadata": {},
   "outputs": [
    {
     "name": "stdout",
     "output_type": "stream",
     "text": [
      "https://www.mordovians.ru/mokshanskiy_yazyk\n"
     ]
    }
   ],
   "source": [
    "url = 'https://www.mordovians.ru/mokshanskiy_yazyk'\n",
    "print(url)"
   ]
  },
  {
   "cell_type": "code",
   "execution_count": 3,
   "id": "d604c09e",
   "metadata": {},
   "outputs": [],
   "source": [
    "soup = BeautifulSoup(requests.get(url).text) # forbidden, so we use html page"
   ]
  },
  {
   "cell_type": "code",
   "execution_count": 4,
   "id": "f14378c8",
   "metadata": {},
   "outputs": [],
   "source": [
    "with open('sources/Мокшанский язык _ Мордовская Диаспора.html', 'r') as f:\n",
    "    soup = BeautifulSoup(f.read())"
   ]
  },
  {
   "cell_type": "code",
   "execution_count": 5,
   "id": "92bbb336-43af-4bb7-8b03-af70d6f3c798",
   "metadata": {},
   "outputs": [],
   "source": [
    "import re"
   ]
  },
  {
   "cell_type": "code",
   "execution_count": 6,
   "id": "88bfa9c6",
   "metadata": {},
   "outputs": [],
   "source": [
    "ru_words = []\n",
    "mdf_words = []\n",
    "\n",
    "for t in soup.find_all('div', {'class': 't-card__descr t-text t-text_sm'}):\n",
    "    for item in t.find('div'):\n",
    "        if item.name == 'strong':\n",
    "            ru_words.append(item.text)\n",
    "            mdf_words.append([])\n",
    "        elif isinstance(item, str):\n",
    "            item = re.sub(r'\\(.*\\)', ' ', item)\n",
    "            text = item.strip().lstrip('–').lstrip('-').strip()\n",
    "            if text:\n",
    "                mdf_words[-1].append(text)"
   ]
  },
  {
   "cell_type": "code",
   "execution_count": 7,
   "id": "c9bf4c65",
   "metadata": {},
   "outputs": [
    {
     "data": {
      "text/plain": [
       "1784"
      ]
     },
     "execution_count": 7,
     "metadata": {},
     "output_type": "execute_result"
    }
   ],
   "source": [
    "len(ru_words)"
   ]
  },
  {
   "cell_type": "code",
   "execution_count": 8,
   "id": "d719e487",
   "metadata": {},
   "outputs": [],
   "source": [
    "all_pairs = []\n",
    "\n",
    "for raw_ru, raw_mdf_list in zip(ru_words, mdf_words):\n",
    "    if not raw_ru or not raw_mdf_list:\n",
    "        continue\n",
    "    ru_array = [text.strip() for text in raw_ru.split(',')]\n",
    "\n",
    "    mdf_array = [text.strip() for raw_mdf in raw_mdf_list for text in raw_mdf.split(',') ]\n",
    "    \n",
    "    for ru in ru_array:\n",
    "        for mdf in mdf_array:\n",
    "            all_pairs.append({\n",
    "                'mdf': mdf,\n",
    "                'ru': ru,\n",
    "                'source': url\n",
    "            })"
   ]
  },
  {
   "cell_type": "code",
   "execution_count": 9,
   "id": "9c883b64-4997-4b1f-92b6-e0c09ed81cbf",
   "metadata": {},
   "outputs": [
    {
     "data": {
      "text/plain": [
       "1839"
      ]
     },
     "execution_count": 9,
     "metadata": {},
     "output_type": "execute_result"
    }
   ],
   "source": [
    "len(all_pairs)"
   ]
  },
  {
   "cell_type": "code",
   "execution_count": 10,
   "id": "eb393c76-d78b-4491-a913-8feef9881b51",
   "metadata": {},
   "outputs": [],
   "source": [
    "import random"
   ]
  },
  {
   "cell_type": "code",
   "execution_count": 11,
   "id": "cf84325b-e19c-4981-8673-23f95e455600",
   "metadata": {},
   "outputs": [
    {
     "data": {
      "text/plain": [
       "{'mdf': 'аф оцю',\n",
       " 'ru': 'небольшой',\n",
       " 'source': 'https://www.mordovians.ru/mokshanskiy_yazyk'}"
      ]
     },
     "execution_count": 11,
     "metadata": {},
     "output_type": "execute_result"
    }
   ],
   "source": [
    "random.choice(all_pairs)"
   ]
  },
  {
   "cell_type": "code",
   "execution_count": 12,
   "id": "56667f9c",
   "metadata": {},
   "outputs": [],
   "source": [
    "import pandas as pd"
   ]
  },
  {
   "cell_type": "code",
   "execution_count": 13,
   "id": "81b0b559",
   "metadata": {},
   "outputs": [],
   "source": [
    "df = pd.DataFrame(all_pairs)"
   ]
  },
  {
   "cell_type": "code",
   "execution_count": 14,
   "id": "23626fcc-96ef-4957-8a84-ef90a636e1f0",
   "metadata": {},
   "outputs": [
    {
     "data": {
      "text/html": [
       "<div>\n",
       "<style scoped>\n",
       "    .dataframe tbody tr th:only-of-type {\n",
       "        vertical-align: middle;\n",
       "    }\n",
       "\n",
       "    .dataframe tbody tr th {\n",
       "        vertical-align: top;\n",
       "    }\n",
       "\n",
       "    .dataframe thead th {\n",
       "        text-align: right;\n",
       "    }\n",
       "</style>\n",
       "<table border=\"1\" class=\"dataframe\">\n",
       "  <thead>\n",
       "    <tr style=\"text-align: right;\">\n",
       "      <th></th>\n",
       "      <th>mdf</th>\n",
       "      <th>ru</th>\n",
       "      <th>source</th>\n",
       "    </tr>\n",
       "  </thead>\n",
       "  <tbody>\n",
       "    <tr>\n",
       "      <th>979</th>\n",
       "      <td>ваймосемс</td>\n",
       "      <td>отдыхать</td>\n",
       "      <td>https://www.mordovians.ru/mokshanskiy_yazyk</td>\n",
       "    </tr>\n",
       "    <tr>\n",
       "      <th>661</th>\n",
       "      <td>мянцевомс</td>\n",
       "      <td>мяться</td>\n",
       "      <td>https://www.mordovians.ru/mokshanskiy_yazyk</td>\n",
       "    </tr>\n",
       "    <tr>\n",
       "      <th>73</th>\n",
       "      <td>пяляскодомс</td>\n",
       "      <td>взбеситься</td>\n",
       "      <td>https://www.mordovians.ru/mokshanskiy_yazyk</td>\n",
       "    </tr>\n",
       "    <tr>\n",
       "      <th>1159</th>\n",
       "      <td>вешендемс</td>\n",
       "      <td>поискать</td>\n",
       "      <td>https://www.mordovians.ru/mokshanskiy_yazyk</td>\n",
       "    </tr>\n",
       "    <tr>\n",
       "      <th>1095</th>\n",
       "      <td>авардемс</td>\n",
       "      <td>плакать</td>\n",
       "      <td>https://www.mordovians.ru/mokshanskiy_yazyk</td>\n",
       "    </tr>\n",
       "    <tr>\n",
       "      <th>628</th>\n",
       "      <td>якшама</td>\n",
       "      <td>мороз</td>\n",
       "      <td>https://www.mordovians.ru/mokshanskiy_yazyk</td>\n",
       "    </tr>\n",
       "    <tr>\n",
       "      <th>569</th>\n",
       "      <td>тядя</td>\n",
       "      <td>мама</td>\n",
       "      <td>https://www.mordovians.ru/mokshanskiy_yazyk</td>\n",
       "    </tr>\n",
       "    <tr>\n",
       "      <th>1022</th>\n",
       "      <td>прважамс</td>\n",
       "      <td>отправить</td>\n",
       "      <td>https://www.mordovians.ru/mokshanskiy_yazyk</td>\n",
       "    </tr>\n",
       "    <tr>\n",
       "      <th>975</th>\n",
       "      <td>явоштомс</td>\n",
       "      <td>отделить</td>\n",
       "      <td>https://www.mordovians.ru/mokshanskiy_yazyk</td>\n",
       "    </tr>\n",
       "    <tr>\n",
       "      <th>1607</th>\n",
       "      <td>кайтан</td>\n",
       "      <td>фитиль</td>\n",
       "      <td>https://www.mordovians.ru/mokshanskiy_yazyk</td>\n",
       "    </tr>\n",
       "  </tbody>\n",
       "</table>\n",
       "</div>"
      ],
      "text/plain": [
       "              mdf          ru                                       source\n",
       "979     ваймосемс    отдыхать  https://www.mordovians.ru/mokshanskiy_yazyk\n",
       "661     мянцевомс      мяться  https://www.mordovians.ru/mokshanskiy_yazyk\n",
       "73    пяляскодомс  взбеситься  https://www.mordovians.ru/mokshanskiy_yazyk\n",
       "1159    вешендемс    поискать  https://www.mordovians.ru/mokshanskiy_yazyk\n",
       "1095     авардемс     плакать  https://www.mordovians.ru/mokshanskiy_yazyk\n",
       "628        якшама       мороз  https://www.mordovians.ru/mokshanskiy_yazyk\n",
       "569          тядя        мама  https://www.mordovians.ru/mokshanskiy_yazyk\n",
       "1022     прважамс   отправить  https://www.mordovians.ru/mokshanskiy_yazyk\n",
       "975      явоштомс    отделить  https://www.mordovians.ru/mokshanskiy_yazyk\n",
       "1607       кайтан      фитиль  https://www.mordovians.ru/mokshanskiy_yazyk"
      ]
     },
     "execution_count": 14,
     "metadata": {},
     "output_type": "execute_result"
    }
   ],
   "source": [
    "df.sample(10)"
   ]
  },
  {
   "cell_type": "code",
   "execution_count": 15,
   "id": "5d3106e7",
   "metadata": {},
   "outputs": [],
   "source": [
    "df.to_csv(\"results/mosha_mordovians_dict.tsv\", sep='\\t')"
   ]
  },
  {
   "cell_type": "markdown",
   "id": "9e88ec14",
   "metadata": {},
   "source": [
    "# paevo"
   ]
  },
  {
   "cell_type": "code",
   "execution_count": 16,
   "id": "9d638c5d",
   "metadata": {},
   "outputs": [
    {
     "name": "stdout",
     "output_type": "stream",
     "text": [
      "https://paevo.ru/mordva/mokshen-kyal/russko-mokshanskij-slovar\n"
     ]
    }
   ],
   "source": [
    "url = 'https://paevo.ru/mordva/mokshen-kyal/russko-mokshanskij-slovar'\n",
    "print(url)"
   ]
  },
  {
   "cell_type": "code",
   "execution_count": 17,
   "id": "88c80304",
   "metadata": {},
   "outputs": [],
   "source": [
    "soup = BeautifulSoup(requests.get(url).text)"
   ]
  },
  {
   "cell_type": "markdown",
   "id": "113b213d-cdc8-4513-a68d-a7b977bb53cc",
   "metadata": {},
   "source": [
    "1. общий формат данных - **ru: mdf**\n",
    "2. но бывают исключения, когда на одно русское слово несколько переводов - тогда используется ';' и скобки для уточнения контекста или наоборот, для нескольких русских слов одно мокшанское\n",
    "3. поэтому будем сохранять 2 списка:\n",
    "   - список, который содержит пары\n",
    "   - список, которые содержит ситуации, когда на одно русское слово несколько переводов. его обработаем отдельно"
   ]
  },
  {
   "cell_type": "code",
   "execution_count": 18,
   "id": "5db65ccf-ee89-4cf2-8094-e1a5bdc84a56",
   "metadata": {},
   "outputs": [],
   "source": [
    "all_pairs = []"
   ]
  },
  {
   "cell_type": "code",
   "execution_count": 19,
   "id": "ddf374db-a1fd-4e64-abc6-80c9bea3b2d0",
   "metadata": {},
   "outputs": [],
   "source": [
    "special_cases = []"
   ]
  },
  {
   "cell_type": "code",
   "execution_count": 20,
   "id": "a2b26baf-b930-4f02-bb4b-72e8b8f75b81",
   "metadata": {},
   "outputs": [],
   "source": [
    "import re\n",
    "\n",
    "table = soup.find('table')\n",
    "for span in table.findAll('span'):\n",
    "    for example in span.contents:\n",
    "        example = str(example)\n",
    "        if example == '<br/>':\n",
    "            continue\n",
    "        elif ':' not in example:\n",
    "            # как правило сюда попадает оглавление, то есть первая буква всех русских слов ('А', 'Б', ...)\n",
    "            # но также сюда попало \"померить: ункстамс\"\n",
    "            continue\n",
    "\n",
    "        example = re.sub(r'[\\n\\xa0\\s]+', ' ', example).strip()\n",
    "        \n",
    "        if ';' in example or '(' in example or ')' in example:\n",
    "            special_cases.append(example)\n",
    "        elif len(example.split(':')) == 2:\n",
    "            ru, mdf = example.split(':')\n",
    "            mdf = re.sub(r',.*', '', mdf)  # delete plural addition\n",
    "\n",
    "            all_pairs.append({\n",
    "                'ru': ru.strip(),\n",
    "                'mdf': mdf.strip(),\n",
    "                'source': url\n",
    "            })\n",
    "        else:\n",
    "            # print(example)\n",
    "            special_cases.append(example)"
   ]
  },
  {
   "cell_type": "code",
   "execution_count": 21,
   "id": "51d35db5-4543-43c5-b4c6-bdb91b952c7b",
   "metadata": {},
   "outputs": [
    {
     "data": {
      "text/plain": [
       "1576"
      ]
     },
     "execution_count": 21,
     "metadata": {},
     "output_type": "execute_result"
    }
   ],
   "source": [
    "len(all_pairs)"
   ]
  },
  {
   "cell_type": "code",
   "execution_count": 22,
   "id": "f2784cd8-1b31-4a56-967a-ab92801f1068",
   "metadata": {},
   "outputs": [],
   "source": [
    "# пример потерялся, тк в оригинале не было ':' между словом и переводом \n",
    "all_pairs.append({\n",
    "    'ru': 'померить',\n",
    "    'mdf': 'ункстамс',\n",
    "    'source': url\n",
    "})"
   ]
  },
  {
   "cell_type": "code",
   "execution_count": 23,
   "id": "0ae54125-bae0-4a9e-b2e6-283d2bc41fd3",
   "metadata": {},
   "outputs": [
    {
     "data": {
      "text/plain": [
       "68"
      ]
     },
     "execution_count": 23,
     "metadata": {},
     "output_type": "execute_result"
    }
   ],
   "source": [
    "len(special_cases)"
   ]
  },
  {
   "cell_type": "code",
   "execution_count": 24,
   "id": "45c14ff0-ef6f-4988-b7da-ec3cdf822801",
   "metadata": {},
   "outputs": [],
   "source": [
    "for i, case in enumerate(special_cases):\n",
    "    if '(' in case:\n",
    "        case = re.sub('предлог', '', case)\n",
    "        case = re.sub('наречие', '', case)\n",
    "        case = re.sub('послелог', '', case)\n",
    "        case = re.sub('наречие', '', case)\n",
    "        case = re.sub('наречие', '', case)\n",
    "        case = re.sub(r'\\(\\)', '', case)\n",
    "        case = re.sub(r'\\(, \\)', '', case)\n",
    "        special_cases[i] = case"
   ]
  },
  {
   "cell_type": "markdown",
   "id": "504fcb99-e7db-43fd-abc2-a1a4eb57cf66",
   "metadata": {},
   "source": [
    "добавим каждый особый пример индивидуально  \n",
    "\n",
    "Для каждого слова, которое имеет несколько переводов на мордовском добавим оба этих перевода. А если пояснен контекст, то и для этого контекста добавим это слово. То есть для \"взгляд: ванфкс, -т; (мнение): мяль, -льхть\" получим 3 пары: 'взгляд: ванфкс', 'взгляд: мяль', 'мнение: мяль'\n",
    "\n",
    "Но это правило не всегда будет работать. Для \"вишня (дерево): атямарькс, -т; (плод): атямарь, -рьхть\" добавим 2 примера: 'вишня (дерево): атямарькс', 'вишня (плод): атямарь'"
   ]
  },
  {
   "cell_type": "code",
   "execution_count": 25,
   "id": "75a9d7af-10ba-4000-aec8-450a6b3766a3",
   "metadata": {},
   "outputs": [],
   "source": [
    "# with open(\"sources/paevo_special_cases.txt\", 'w') as file:\n",
    "#     file.write('\\n'.join(special_cases))"
   ]
  },
  {
   "cell_type": "code",
   "execution_count": 26,
   "id": "ea8fa136-d8fd-4741-b733-37dc61c5cb66",
   "metadata": {},
   "outputs": [],
   "source": [
    "# cчитаем после обработки\n",
    "with open(\"sources/paevo_special_cases.txt\", 'r') as file:\n",
    "    special_cases = file.read().split('\\n')\n"
   ]
  },
  {
   "cell_type": "code",
   "execution_count": 27,
   "id": "d9e93112-781f-4c81-944e-46877ec1d9b9",
   "metadata": {},
   "outputs": [
    {
     "data": {
      "text/plain": [
       "144"
      ]
     },
     "execution_count": 27,
     "metadata": {},
     "output_type": "execute_result"
    }
   ],
   "source": [
    "len(special_cases)"
   ]
  },
  {
   "cell_type": "code",
   "execution_count": 28,
   "id": "f01a662b-d372-4d8e-b9be-f6973a267c9d",
   "metadata": {},
   "outputs": [],
   "source": [
    "for example in special_cases:\n",
    "    ru, mdf = example.split(':')\n",
    "\n",
    "    all_pairs.append({\n",
    "        'ru': ru.strip(),\n",
    "        'mdf': mdf.strip(),\n",
    "        'source': url\n",
    "    })"
   ]
  },
  {
   "cell_type": "code",
   "execution_count": 29,
   "id": "c97ee95d-20ba-4375-9780-44a91603dac4",
   "metadata": {},
   "outputs": [
    {
     "data": {
      "text/plain": [
       "1721"
      ]
     },
     "execution_count": 29,
     "metadata": {},
     "output_type": "execute_result"
    }
   ],
   "source": [
    "len(all_pairs)"
   ]
  },
  {
   "cell_type": "code",
   "execution_count": 30,
   "id": "29029b5a-3797-4691-b7a0-7469c6fa28dc",
   "metadata": {},
   "outputs": [],
   "source": [
    "df = pd.DataFrame(all_pairs)"
   ]
  },
  {
   "cell_type": "code",
   "execution_count": 31,
   "id": "5156087b-37c9-47bb-8b99-7bc0ace83c16",
   "metadata": {},
   "outputs": [
    {
     "data": {
      "text/html": [
       "<div>\n",
       "<style scoped>\n",
       "    .dataframe tbody tr th:only-of-type {\n",
       "        vertical-align: middle;\n",
       "    }\n",
       "\n",
       "    .dataframe tbody tr th {\n",
       "        vertical-align: top;\n",
       "    }\n",
       "\n",
       "    .dataframe thead th {\n",
       "        text-align: right;\n",
       "    }\n",
       "</style>\n",
       "<table border=\"1\" class=\"dataframe\">\n",
       "  <thead>\n",
       "    <tr style=\"text-align: right;\">\n",
       "      <th></th>\n",
       "      <th>ru</th>\n",
       "      <th>mdf</th>\n",
       "      <th>source</th>\n",
       "    </tr>\n",
       "  </thead>\n",
       "  <tbody>\n",
       "    <tr>\n",
       "      <th>1673</th>\n",
       "      <td>лопнуть</td>\n",
       "      <td>лопадемс</td>\n",
       "      <td>https://paevo.ru/mordva/mokshen-kyal/russko-mo...</td>\n",
       "    </tr>\n",
       "    <tr>\n",
       "      <th>1253</th>\n",
       "      <td>рябина</td>\n",
       "      <td>пизелкс</td>\n",
       "      <td>https://paevo.ru/mordva/mokshen-kyal/russko-mo...</td>\n",
       "    </tr>\n",
       "    <tr>\n",
       "      <th>1459</th>\n",
       "      <td>узнать</td>\n",
       "      <td>содамс</td>\n",
       "      <td>https://paevo.ru/mordva/mokshen-kyal/russko-mo...</td>\n",
       "    </tr>\n",
       "    <tr>\n",
       "      <th>481</th>\n",
       "      <td>отвезти</td>\n",
       "      <td>ускомс</td>\n",
       "      <td>https://paevo.ru/mordva/mokshen-kyal/russko-mo...</td>\n",
       "    </tr>\n",
       "    <tr>\n",
       "      <th>132</th>\n",
       "      <td>голубь</td>\n",
       "      <td>гуля</td>\n",
       "      <td>https://paevo.ru/mordva/mokshen-kyal/russko-mo...</td>\n",
       "    </tr>\n",
       "    <tr>\n",
       "      <th>1702</th>\n",
       "      <td>произнести имя</td>\n",
       "      <td>азомс</td>\n",
       "      <td>https://paevo.ru/mordva/mokshen-kyal/russko-mo...</td>\n",
       "    </tr>\n",
       "    <tr>\n",
       "      <th>873</th>\n",
       "      <td>играть</td>\n",
       "      <td>налхкомс</td>\n",
       "      <td>https://paevo.ru/mordva/mokshen-kyal/russko-mo...</td>\n",
       "    </tr>\n",
       "    <tr>\n",
       "      <th>965</th>\n",
       "      <td>кролик</td>\n",
       "      <td>куднумол</td>\n",
       "      <td>https://paevo.ru/mordva/mokshen-kyal/russko-mo...</td>\n",
       "    </tr>\n",
       "    <tr>\n",
       "      <th>513</th>\n",
       "      <td>отложить</td>\n",
       "      <td>путомс бокс</td>\n",
       "      <td>https://paevo.ru/mordva/mokshen-kyal/russko-mo...</td>\n",
       "    </tr>\n",
       "    <tr>\n",
       "      <th>1446</th>\n",
       "      <td>убрать</td>\n",
       "      <td>урядамс</td>\n",
       "      <td>https://paevo.ru/mordva/mokshen-kyal/russko-mo...</td>\n",
       "    </tr>\n",
       "  </tbody>\n",
       "</table>\n",
       "</div>"
      ],
      "text/plain": [
       "                  ru          mdf  \\\n",
       "1673         лопнуть     лопадемс   \n",
       "1253          рябина      пизелкс   \n",
       "1459          узнать       содамс   \n",
       "481          отвезти       ускомс   \n",
       "132           голубь         гуля   \n",
       "1702  произнести имя        азомс   \n",
       "873           играть     налхкомс   \n",
       "965           кролик     куднумол   \n",
       "513         отложить  путомс бокс   \n",
       "1446          убрать      урядамс   \n",
       "\n",
       "                                                 source  \n",
       "1673  https://paevo.ru/mordva/mokshen-kyal/russko-mo...  \n",
       "1253  https://paevo.ru/mordva/mokshen-kyal/russko-mo...  \n",
       "1459  https://paevo.ru/mordva/mokshen-kyal/russko-mo...  \n",
       "481   https://paevo.ru/mordva/mokshen-kyal/russko-mo...  \n",
       "132   https://paevo.ru/mordva/mokshen-kyal/russko-mo...  \n",
       "1702  https://paevo.ru/mordva/mokshen-kyal/russko-mo...  \n",
       "873   https://paevo.ru/mordva/mokshen-kyal/russko-mo...  \n",
       "965   https://paevo.ru/mordva/mokshen-kyal/russko-mo...  \n",
       "513   https://paevo.ru/mordva/mokshen-kyal/russko-mo...  \n",
       "1446  https://paevo.ru/mordva/mokshen-kyal/russko-mo...  "
      ]
     },
     "execution_count": 31,
     "metadata": {},
     "output_type": "execute_result"
    }
   ],
   "source": [
    "df.sample(10)"
   ]
  },
  {
   "cell_type": "code",
   "execution_count": 32,
   "id": "c70e83ce-3935-4037-8ad4-73bdae2078e7",
   "metadata": {},
   "outputs": [],
   "source": [
    "df.to_csv(\"results/paevo_dict.tsv\", sep='\\t')"
   ]
  },
  {
   "cell_type": "markdown",
   "id": "05e64bb0",
   "metadata": {},
   "source": []
  },
  {
   "cell_type": "markdown",
   "id": "b7a70120-e1a3-4ea8-b4c1-b0091765512d",
   "metadata": {},
   "source": [
    "# Найденные в интернете отдельные слова"
   ]
  },
  {
   "cell_type": "markdown",
   "id": "7c02aa1a-d74e-4b49-a4e8-7d94c4c7b56a",
   "metadata": {},
   "source": [
    "1. https://rousseau.livejournal.com/175111.html\n",
    "2. https://ru.wiktionary.org/wiki/%D0%9F%D1%80%D0%B8%D0%BB%D0%BE%D0%B6%D0%B5%D0%BD%D0%B8%D0%B5:%D0%A1%D0%BF%D0%B8%D1%81%D0%BE%D0%BA_%D0%A1%D0%B2%D0%BE%D0%B4%D0%B5%D1%88%D0%B0_%D0%B4%D0%BB%D1%8F_%D0%BC%D0%BE%D0%BA%D1%88%D0%B0%D0%BD%D1%81%D0%BA%D0%BE%D0%B3%D0%BE_%D1%8F%D0%B7%D1%8B%D0%BA%D0%B0\n",
    "\n"
   ]
  },
  {
   "cell_type": "code",
   "execution_count": 33,
   "id": "c25e9e58-3d91-4450-ad2f-6bad9a2a6bec",
   "metadata": {},
   "outputs": [],
   "source": [
    "with open(\"sources/extra_words.txt\", 'r') as file:\n",
    "    extra_words = file.read().split('\\n')"
   ]
  },
  {
   "cell_type": "code",
   "execution_count": 34,
   "id": "f534b573-e141-4f18-b6ef-beae708a0726",
   "metadata": {},
   "outputs": [
    {
     "data": {
      "text/plain": [
       "244"
      ]
     },
     "execution_count": 34,
     "metadata": {},
     "output_type": "execute_result"
    }
   ],
   "source": [
    "len(extra_words)"
   ]
  },
  {
   "cell_type": "code",
   "execution_count": 35,
   "id": "cac29fbf-1dc7-4f0b-a2e3-ec0bd2584dce",
   "metadata": {},
   "outputs": [],
   "source": [
    "all_pairs = []\n",
    "for example in extra_words:\n",
    "    ru, mdf = example.split(':')\n",
    "\n",
    "    all_pairs.append({\n",
    "        'ru': ru.strip(),\n",
    "        'mdf': mdf.strip(),\n",
    "        'source': 'extra_words'\n",
    "    })"
   ]
  },
  {
   "cell_type": "code",
   "execution_count": 36,
   "id": "6312211f-53a9-4e7f-bee9-ca48bae20ce2",
   "metadata": {},
   "outputs": [
    {
     "data": {
      "text/plain": [
       "244"
      ]
     },
     "execution_count": 36,
     "metadata": {},
     "output_type": "execute_result"
    }
   ],
   "source": [
    "len(all_pairs)"
   ]
  },
  {
   "cell_type": "code",
   "execution_count": 37,
   "id": "0c6ad54a-db94-40c9-8e09-ef97dcc71493",
   "metadata": {},
   "outputs": [],
   "source": [
    "df = pd.DataFrame(all_pairs)"
   ]
  },
  {
   "cell_type": "code",
   "execution_count": 38,
   "id": "b52659d6-a677-47d2-ad4e-8d4762a06100",
   "metadata": {},
   "outputs": [
    {
     "data": {
      "text/html": [
       "<div>\n",
       "<style scoped>\n",
       "    .dataframe tbody tr th:only-of-type {\n",
       "        vertical-align: middle;\n",
       "    }\n",
       "\n",
       "    .dataframe tbody tr th {\n",
       "        vertical-align: top;\n",
       "    }\n",
       "\n",
       "    .dataframe thead th {\n",
       "        text-align: right;\n",
       "    }\n",
       "</style>\n",
       "<table border=\"1\" class=\"dataframe\">\n",
       "  <thead>\n",
       "    <tr style=\"text-align: right;\">\n",
       "      <th></th>\n",
       "      <th>ru</th>\n",
       "      <th>mdf</th>\n",
       "      <th>source</th>\n",
       "    </tr>\n",
       "  </thead>\n",
       "  <tbody>\n",
       "    <tr>\n",
       "      <th>134</th>\n",
       "      <td>сялгомс</td>\n",
       "      <td>проколоть</td>\n",
       "      <td>extra_words</td>\n",
       "    </tr>\n",
       "    <tr>\n",
       "      <th>83</th>\n",
       "      <td>сюра</td>\n",
       "      <td>рог</td>\n",
       "      <td>extra_words</td>\n",
       "    </tr>\n",
       "    <tr>\n",
       "      <th>226</th>\n",
       "      <td>покаряв</td>\n",
       "      <td>круглый</td>\n",
       "      <td>extra_words</td>\n",
       "    </tr>\n",
       "    <tr>\n",
       "      <th>218</th>\n",
       "      <td>пара</td>\n",
       "      <td>добрый</td>\n",
       "      <td>extra_words</td>\n",
       "    </tr>\n",
       "    <tr>\n",
       "      <th>108</th>\n",
       "      <td>ярхцамс</td>\n",
       "      <td>есть</td>\n",
       "      <td>extra_words</td>\n",
       "    </tr>\n",
       "    <tr>\n",
       "      <th>27</th>\n",
       "      <td>изь</td>\n",
       "      <td>не</td>\n",
       "      <td>extra_words</td>\n",
       "    </tr>\n",
       "    <tr>\n",
       "      <th>127</th>\n",
       "      <td>кунцемс</td>\n",
       "      <td>ловить</td>\n",
       "      <td>extra_words</td>\n",
       "    </tr>\n",
       "    <tr>\n",
       "      <th>221</th>\n",
       "      <td>кальдяв</td>\n",
       "      <td>плохой</td>\n",
       "      <td>extra_words</td>\n",
       "    </tr>\n",
       "    <tr>\n",
       "      <th>109</th>\n",
       "      <td>сускомс</td>\n",
       "      <td>кусать</td>\n",
       "      <td>extra_words</td>\n",
       "    </tr>\n",
       "    <tr>\n",
       "      <th>33</th>\n",
       "      <td>вейке</td>\n",
       "      <td>один</td>\n",
       "      <td>extra_words</td>\n",
       "    </tr>\n",
       "  </tbody>\n",
       "</table>\n",
       "</div>"
      ],
      "text/plain": [
       "          ru        mdf       source\n",
       "134  сялгомс  проколоть  extra_words\n",
       "83      сюра        рог  extra_words\n",
       "226  покаряв    круглый  extra_words\n",
       "218     пара     добрый  extra_words\n",
       "108  ярхцамс       есть  extra_words\n",
       "27       изь         не  extra_words\n",
       "127  кунцемс     ловить  extra_words\n",
       "221  кальдяв     плохой  extra_words\n",
       "109  сускомс     кусать  extra_words\n",
       "33     вейке       один  extra_words"
      ]
     },
     "execution_count": 38,
     "metadata": {},
     "output_type": "execute_result"
    }
   ],
   "source": [
    "df.sample(10)"
   ]
  },
  {
   "cell_type": "code",
   "execution_count": 39,
   "id": "7ef67bbd-c161-46bb-bdc9-969328d04dae",
   "metadata": {},
   "outputs": [],
   "source": [
    "df.to_csv(\"results/extra_words.tsv\", sep='\\t')"
   ]
  },
  {
   "cell_type": "markdown",
   "id": "3a7ce752-44f9-4a2d-aa3e-ea9a4c0b57b1",
   "metadata": {},
   "source": [
    "# Merge all dicts"
   ]
  },
  {
   "cell_type": "code",
   "execution_count": 40,
   "id": "6c451cfa-e34c-4b6c-a369-1418da0af2ca",
   "metadata": {},
   "outputs": [],
   "source": [
    "import pandas as pd"
   ]
  },
  {
   "cell_type": "code",
   "execution_count": 41,
   "id": "eb3c502a-ca19-4d5d-8924-2b520288bd58",
   "metadata": {},
   "outputs": [],
   "source": [
    "df_dicts = pd.concat([\n",
    "    pd.read_csv('results/paevo_dict.tsv', sep='\\t'),\n",
    "    pd.read_csv('results/mosha_mordovians_dict.tsv', sep='\\t'),\n",
    "    pd.read_csv('results/extra_words.tsv', sep='\\t'),\n",
    "    pd.read_csv('results/book_dicts.tsv', sep='\\t'),\n",
    "    pd.read_csv('results/book_words.tsv', sep='\\t')\n",
    "])[['ru', 'mdf', 'source']].reset_index(drop=True)"
   ]
  },
  {
   "cell_type": "code",
   "execution_count": 42,
   "id": "82f0c33c-dc77-4b26-abc2-5a358a4d13ff",
   "metadata": {},
   "outputs": [
    {
     "data": {
      "text/html": [
       "<div>\n",
       "<style scoped>\n",
       "    .dataframe tbody tr th:only-of-type {\n",
       "        vertical-align: middle;\n",
       "    }\n",
       "\n",
       "    .dataframe tbody tr th {\n",
       "        vertical-align: top;\n",
       "    }\n",
       "\n",
       "    .dataframe thead th {\n",
       "        text-align: right;\n",
       "    }\n",
       "</style>\n",
       "<table border=\"1\" class=\"dataframe\">\n",
       "  <thead>\n",
       "    <tr style=\"text-align: right;\">\n",
       "      <th></th>\n",
       "      <th>ru</th>\n",
       "      <th>mdf</th>\n",
       "      <th>source</th>\n",
       "    </tr>\n",
       "  </thead>\n",
       "  <tbody>\n",
       "    <tr>\n",
       "      <th>1021</th>\n",
       "      <td>ломтик</td>\n",
       "      <td>печфкя</td>\n",
       "      <td>https://paevo.ru/mordva/mokshen-kyal/russko-mo...</td>\n",
       "    </tr>\n",
       "    <tr>\n",
       "      <th>6093</th>\n",
       "      <td>попасть</td>\n",
       "      <td>повомс</td>\n",
       "      <td>mdf-ru-dict</td>\n",
       "    </tr>\n",
       "    <tr>\n",
       "      <th>6709</th>\n",
       "      <td>греть</td>\n",
       "      <td>эждемс</td>\n",
       "      <td>book</td>\n",
       "    </tr>\n",
       "    <tr>\n",
       "      <th>2523</th>\n",
       "      <td>ножницы</td>\n",
       "      <td>васоньбеельхть</td>\n",
       "      <td>https://www.mordovians.ru/mokshanskiy_yazyk</td>\n",
       "    </tr>\n",
       "    <tr>\n",
       "      <th>4439</th>\n",
       "      <td>мычать</td>\n",
       "      <td>парамс</td>\n",
       "      <td>ru-mdf-dict</td>\n",
       "    </tr>\n",
       "    <tr>\n",
       "      <th>5688</th>\n",
       "      <td>голубь</td>\n",
       "      <td>гблый</td>\n",
       "      <td>mdf-ru-dict</td>\n",
       "    </tr>\n",
       "    <tr>\n",
       "      <th>1278</th>\n",
       "      <td>свистеть</td>\n",
       "      <td>вяшкомс</td>\n",
       "      <td>https://paevo.ru/mordva/mokshen-kyal/russko-mo...</td>\n",
       "    </tr>\n",
       "    <tr>\n",
       "      <th>3236</th>\n",
       "      <td>считать</td>\n",
       "      <td>лувомс</td>\n",
       "      <td>https://www.mordovians.ru/mokshanskiy_yazyk</td>\n",
       "    </tr>\n",
       "    <tr>\n",
       "      <th>2160</th>\n",
       "      <td>колено</td>\n",
       "      <td>плманжа</td>\n",
       "      <td>https://www.mordovians.ru/mokshanskiy_yazyk</td>\n",
       "    </tr>\n",
       "    <tr>\n",
       "      <th>1764</th>\n",
       "      <td>бородавка</td>\n",
       "      <td>цильге</td>\n",
       "      <td>https://www.mordovians.ru/mokshanskiy_yazyk</td>\n",
       "    </tr>\n",
       "  </tbody>\n",
       "</table>\n",
       "</div>"
      ],
      "text/plain": [
       "             ru             mdf  \\\n",
       "1021     ломтик          печфкя   \n",
       "6093    попасть          повомс   \n",
       "6709      греть          эждемс   \n",
       "2523    ножницы  васоньбеельхть   \n",
       "4439     мычать          парамс   \n",
       "5688     голубь           гблый   \n",
       "1278   свистеть         вяшкомс   \n",
       "3236    считать          лувомс   \n",
       "2160     колено         плманжа   \n",
       "1764  бородавка          цильге   \n",
       "\n",
       "                                                 source  \n",
       "1021  https://paevo.ru/mordva/mokshen-kyal/russko-mo...  \n",
       "6093                                        mdf-ru-dict  \n",
       "6709                                               book  \n",
       "2523        https://www.mordovians.ru/mokshanskiy_yazyk  \n",
       "4439                                        ru-mdf-dict  \n",
       "5688                                        mdf-ru-dict  \n",
       "1278  https://paevo.ru/mordva/mokshen-kyal/russko-mo...  \n",
       "3236        https://www.mordovians.ru/mokshanskiy_yazyk  \n",
       "2160        https://www.mordovians.ru/mokshanskiy_yazyk  \n",
       "1764        https://www.mordovians.ru/mokshanskiy_yazyk  "
      ]
     },
     "execution_count": 42,
     "metadata": {},
     "output_type": "execute_result"
    }
   ],
   "source": [
    "df_dicts.sample(10)"
   ]
  },
  {
   "cell_type": "code",
   "execution_count": 43,
   "id": "a336240e-1f90-47d7-a039-d66011a9dfd0",
   "metadata": {},
   "outputs": [],
   "source": [
    "df_dicts = df_dicts.dropna()"
   ]
  },
  {
   "cell_type": "code",
   "execution_count": 44,
   "id": "b5e6dc11-285f-4867-ba89-837c1268dcc2",
   "metadata": {},
   "outputs": [],
   "source": [
    "df_dicts['ru'] = df_dicts['ru'].apply(lambda x: x.lower().strip('.,!? '))"
   ]
  },
  {
   "cell_type": "code",
   "execution_count": 45,
   "id": "17181397-4be7-42f5-bb69-c9a45e195257",
   "metadata": {},
   "outputs": [],
   "source": [
    "df_dicts['mdf'] = df_dicts['mdf'].apply(lambda x: x.lower().strip('.,!? '))"
   ]
  },
  {
   "cell_type": "code",
   "execution_count": 46,
   "id": "ea8c6799-358a-4528-b615-055513f282bf",
   "metadata": {},
   "outputs": [],
   "source": [
    "df_dicts = df_dicts.drop_duplicates(subset=['ru', 'mdf']).reset_index(drop=True)"
   ]
  },
  {
   "cell_type": "code",
   "execution_count": 47,
   "id": "4244be46-f669-4d5e-a840-dddad9ea59f3",
   "metadata": {},
   "outputs": [
    {
     "data": {
      "text/plain": [
       "(3589, 3)"
      ]
     },
     "execution_count": 47,
     "metadata": {},
     "output_type": "execute_result"
    }
   ],
   "source": [
    "df_dicts.shape"
   ]
  },
  {
   "cell_type": "code",
   "execution_count": 48,
   "id": "4c89cced-3474-4dca-83b3-d267566f6da6",
   "metadata": {},
   "outputs": [],
   "source": [
    "df_dicts = df_dicts.dropna()"
   ]
  },
  {
   "cell_type": "code",
   "execution_count": 49,
   "id": "0ad60b15-1948-4e9b-891f-6ca07aa3f444",
   "metadata": {},
   "outputs": [
    {
     "data": {
      "text/plain": [
       "(3589, 3)"
      ]
     },
     "execution_count": 49,
     "metadata": {},
     "output_type": "execute_result"
    }
   ],
   "source": [
    "df_dicts.shape"
   ]
  },
  {
   "cell_type": "code",
   "execution_count": 63,
   "id": "abeaf83a-d7a5-41ff-a1a5-9bf4906fe1e8",
   "metadata": {},
   "outputs": [
    {
     "data": {
      "text/html": [
       "<div>\n",
       "<style scoped>\n",
       "    .dataframe tbody tr th:only-of-type {\n",
       "        vertical-align: middle;\n",
       "    }\n",
       "\n",
       "    .dataframe tbody tr th {\n",
       "        vertical-align: top;\n",
       "    }\n",
       "\n",
       "    .dataframe thead th {\n",
       "        text-align: right;\n",
       "    }\n",
       "</style>\n",
       "<table border=\"1\" class=\"dataframe\">\n",
       "  <thead>\n",
       "    <tr style=\"text-align: right;\">\n",
       "      <th></th>\n",
       "      <th>ru</th>\n",
       "      <th>mdf</th>\n",
       "      <th>source</th>\n",
       "    </tr>\n",
       "  </thead>\n",
       "  <tbody>\n",
       "    <tr>\n",
       "      <th>3533</th>\n",
       "      <td>пресный</td>\n",
       "      <td>салфтома</td>\n",
       "      <td>book</td>\n",
       "    </tr>\n",
       "    <tr>\n",
       "      <th>3474</th>\n",
       "      <td>валенки</td>\n",
       "      <td>валенцят</td>\n",
       "      <td>book</td>\n",
       "    </tr>\n",
       "    <tr>\n",
       "      <th>911</th>\n",
       "      <td>кислый</td>\n",
       "      <td>шапама</td>\n",
       "      <td>https://paevo.ru/mordva/mokshen-kyal/russko-mo...</td>\n",
       "    </tr>\n",
       "    <tr>\n",
       "      <th>1865</th>\n",
       "      <td>шелуха</td>\n",
       "      <td>кедь</td>\n",
       "      <td>https://www.mordovians.ru/mokshanskiy_yazyk</td>\n",
       "    </tr>\n",
       "    <tr>\n",
       "      <th>647</th>\n",
       "      <td>подсолнечник</td>\n",
       "      <td>шинжарома</td>\n",
       "      <td>https://paevo.ru/mordva/mokshen-kyal/russko-mo...</td>\n",
       "    </tr>\n",
       "    <tr>\n",
       "      <th>182</th>\n",
       "      <td>жеребенок</td>\n",
       "      <td>вашеня</td>\n",
       "      <td>https://paevo.ru/mordva/mokshen-kyal/russko-mo...</td>\n",
       "    </tr>\n",
       "    <tr>\n",
       "      <th>3350</th>\n",
       "      <td>вчера</td>\n",
       "      <td>исяк</td>\n",
       "      <td>book</td>\n",
       "    </tr>\n",
       "    <tr>\n",
       "      <th>2932</th>\n",
       "      <td>работать</td>\n",
       "      <td>покамс</td>\n",
       "      <td>mdf-ru-dict</td>\n",
       "    </tr>\n",
       "    <tr>\n",
       "      <th>1146</th>\n",
       "      <td>несколько</td>\n",
       "      <td>мзярошкавок</td>\n",
       "      <td>https://paevo.ru/mordva/mokshen-kyal/russko-mo...</td>\n",
       "    </tr>\n",
       "    <tr>\n",
       "      <th>2604</th>\n",
       "      <td>застолье по поводу</td>\n",
       "      <td>ила</td>\n",
       "      <td>mdf-ru-dict</td>\n",
       "    </tr>\n",
       "  </tbody>\n",
       "</table>\n",
       "</div>"
      ],
      "text/plain": [
       "                      ru          mdf  \\\n",
       "3533             пресный     салфтома   \n",
       "3474             валенки     валенцят   \n",
       "911               кислый       шапама   \n",
       "1865              шелуха         кедь   \n",
       "647         подсолнечник    шинжарома   \n",
       "182            жеребенок       вашеня   \n",
       "3350               вчера         исяк   \n",
       "2932            работать       покамс   \n",
       "1146           несколько  мзярошкавок   \n",
       "2604  застолье по поводу          ила   \n",
       "\n",
       "                                                 source  \n",
       "3533                                               book  \n",
       "3474                                               book  \n",
       "911   https://paevo.ru/mordva/mokshen-kyal/russko-mo...  \n",
       "1865        https://www.mordovians.ru/mokshanskiy_yazyk  \n",
       "647   https://paevo.ru/mordva/mokshen-kyal/russko-mo...  \n",
       "182   https://paevo.ru/mordva/mokshen-kyal/russko-mo...  \n",
       "3350                                               book  \n",
       "2932                                        mdf-ru-dict  \n",
       "1146  https://paevo.ru/mordva/mokshen-kyal/russko-mo...  \n",
       "2604                                        mdf-ru-dict  "
      ]
     },
     "execution_count": 63,
     "metadata": {},
     "output_type": "execute_result"
    }
   ],
   "source": [
    "df_dicts.sample(10)"
   ]
  },
  {
   "cell_type": "code",
   "execution_count": 64,
   "id": "950072e9-b9f7-434c-a2b0-981ad4bc28ac",
   "metadata": {},
   "outputs": [],
   "source": [
    "df_dicts.to_csv('results/all_dicts_data.tsv', sep='\\t')"
   ]
  },
  {
   "cell_type": "code",
   "execution_count": null,
   "id": "679acdad-cba5-403d-84cc-232dee731393",
   "metadata": {},
   "outputs": [],
   "source": []
  }
 ],
 "metadata": {
  "kernelspec": {
   "display_name": "Python 3 (ipykernel)",
   "language": "python",
   "name": "python3"
  },
  "language_info": {
   "codemirror_mode": {
    "name": "ipython",
    "version": 3
   },
   "file_extension": ".py",
   "mimetype": "text/x-python",
   "name": "python",
   "nbconvert_exporter": "python",
   "pygments_lexer": "ipython3",
   "version": "3.11.9"
  }
 },
 "nbformat": 4,
 "nbformat_minor": 5
}
