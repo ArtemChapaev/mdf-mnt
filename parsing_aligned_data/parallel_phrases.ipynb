{
 "cells": [
  {
   "cell_type": "code",
   "execution_count": 1,
   "id": "152a2889",
   "metadata": {},
   "outputs": [],
   "source": [
    "import pandas as pd"
   ]
  },
  {
   "cell_type": "code",
   "execution_count": null,
   "id": "749a26b9",
   "metadata": {},
   "outputs": [],
   "source": [
    "from utils import clean_text, is_text_valid"
   ]
  },
  {
   "cell_type": "markdown",
   "id": "bf9fae4b-2794-47a1-8bb5-0e7749f41e47",
   "metadata": {},
   "source": [
    "# Найденные отдельные фразы"
   ]
  },
  {
   "cell_type": "markdown",
   "id": "39540446-e74d-44d1-82ea-9b4fd56a5e64",
   "metadata": {},
   "source": [
    "1. https://rousseau.livejournal.com/175111.html"
   ]
  },
  {
   "cell_type": "code",
   "execution_count": 2,
   "id": "afae81de-ec8c-491b-b268-868b92a6ffc7",
   "metadata": {},
   "outputs": [],
   "source": [
    "with open(\"sources/extra_phrases.txt\", 'r') as file:\n",
    "    extra_phrases = file.read().split('\\n')"
   ]
  },
  {
   "cell_type": "code",
   "execution_count": 3,
   "id": "5edd34a0-09e6-4560-80c3-4abe31e7606c",
   "metadata": {},
   "outputs": [
    {
     "data": {
      "text/plain": [
       "13"
      ]
     },
     "execution_count": 3,
     "metadata": {},
     "output_type": "execute_result"
    }
   ],
   "source": [
    "len(extra_phrases)"
   ]
  },
  {
   "cell_type": "code",
   "execution_count": 4,
   "id": "5f10d0b5-14be-4294-8293-37b91cf505e2",
   "metadata": {},
   "outputs": [],
   "source": [
    "all_pairs = []\n",
    "for example in extra_phrases:\n",
    "    ru, mdf = example.split(':')\n",
    "\n",
    "    ru = clean_text(ru)\n",
    "    mdf = clean_text(mdf)\n",
    "\n",
    "    if not is_text_valid(mdf) or not is_text_valid(ru):\n",
    "        continue\n",
    "\n",
    "    all_pairs.append({\n",
    "        'ru': ru,\n",
    "        'mdf': mdf,\n",
    "        'source': 'extra_phrases'\n",
    "    })"
   ]
  },
  {
   "cell_type": "code",
   "execution_count": 5,
   "id": "fdf46d2d-ba73-4c1e-937c-7fde8a46f4ce",
   "metadata": {},
   "outputs": [
    {
     "data": {
      "text/plain": [
       "13"
      ]
     },
     "execution_count": 5,
     "metadata": {},
     "output_type": "execute_result"
    }
   ],
   "source": [
    "len(all_pairs)"
   ]
  },
  {
   "cell_type": "code",
   "execution_count": 6,
   "id": "53ec3fd2-5efc-4044-8933-85003e86fce1",
   "metadata": {},
   "outputs": [],
   "source": [
    "df = pd.DataFrame(all_pairs)"
   ]
  },
  {
   "cell_type": "code",
   "execution_count": 7,
   "id": "480c4f1a-55d1-4ba9-90f1-6d8175f9dc94",
   "metadata": {},
   "outputs": [
    {
     "data": {
      "text/html": [
       "<div>\n",
       "<style scoped>\n",
       "    .dataframe tbody tr th:only-of-type {\n",
       "        vertical-align: middle;\n",
       "    }\n",
       "\n",
       "    .dataframe tbody tr th {\n",
       "        vertical-align: top;\n",
       "    }\n",
       "\n",
       "    .dataframe thead th {\n",
       "        text-align: right;\n",
       "    }\n",
       "</style>\n",
       "<table border=\"1\" class=\"dataframe\">\n",
       "  <thead>\n",
       "    <tr style=\"text-align: right;\">\n",
       "      <th></th>\n",
       "      <th>ru</th>\n",
       "      <th>mdf</th>\n",
       "      <th>source</th>\n",
       "    </tr>\n",
       "  </thead>\n",
       "  <tbody>\n",
       "    <tr>\n",
       "      <th>12</th>\n",
       "      <td>Понавть мумс, каложть вешендемс</td>\n",
       "      <td>Найдешь волосатого, надо лысого искать</td>\n",
       "      <td>extra_phrases</td>\n",
       "    </tr>\n",
       "    <tr>\n",
       "      <th>11</th>\n",
       "      <td>Валтт и мазыхть номерхне \"Саранск\" гостиницаса</td>\n",
       "      <td>Cветлые и удобные номера в гостинице \"Саранск\"</td>\n",
       "      <td>extra_phrases</td>\n",
       "    </tr>\n",
       "    <tr>\n",
       "      <th>10</th>\n",
       "      <td>Шобдава шуфттень прясна лешафтольхть</td>\n",
       "      <td>Утром вершины деревьев были покрыты инеем</td>\n",
       "      <td>extra_phrases</td>\n",
       "    </tr>\n",
       "    <tr>\n",
       "      <th>3</th>\n",
       "      <td>Аф суски, аф увай, а куду кивок аф сувай</td>\n",
       "      <td>Не лает, не кусает, а домой не пускает</td>\n",
       "      <td>extra_phrases</td>\n",
       "    </tr>\n",
       "    <tr>\n",
       "      <th>4</th>\n",
       "      <td>Минь ошсонк масторлангса содаф скульпторть Эрь...</td>\n",
       "      <td>В нашем городе находится музей всемирно извест...</td>\n",
       "      <td>extra_phrases</td>\n",
       "    </tr>\n",
       "    <tr>\n",
       "      <th>1</th>\n",
       "      <td>Кие шарьхкоди мокшекм?</td>\n",
       "      <td>Кто понимает по-мокшански?</td>\n",
       "      <td>extra_phrases</td>\n",
       "    </tr>\n",
       "    <tr>\n",
       "      <th>7</th>\n",
       "      <td>Аф содаса</td>\n",
       "      <td>Не знаю</td>\n",
       "      <td>extra_phrases</td>\n",
       "    </tr>\n",
       "    <tr>\n",
       "      <th>0</th>\n",
       "      <td>Монь фамилиязе Сидоров</td>\n",
       "      <td>Моя фамилия Сидоров</td>\n",
       "      <td>extra_phrases</td>\n",
       "    </tr>\n",
       "    <tr>\n",
       "      <th>5</th>\n",
       "      <td>Тя маласа ули кодамовок столовай?</td>\n",
       "      <td>Здесь поблизости есть какая-нибудь столовая?</td>\n",
       "      <td>extra_phrases</td>\n",
       "    </tr>\n",
       "    <tr>\n",
       "      <th>8</th>\n",
       "      <td>Шары кяльбряса</td>\n",
       "      <td>Вертится на языке</td>\n",
       "      <td>extra_phrases</td>\n",
       "    </tr>\n",
       "  </tbody>\n",
       "</table>\n",
       "</div>"
      ],
      "text/plain": [
       "                                                   ru  \\\n",
       "12                    Понавть мумс, каложть вешендемс   \n",
       "11     Валтт и мазыхть номерхне \"Саранск\" гостиницаса   \n",
       "10               Шобдава шуфттень прясна лешафтольхть   \n",
       "3            Аф суски, аф увай, а куду кивок аф сувай   \n",
       "4   Минь ошсонк масторлангса содаф скульпторть Эрь...   \n",
       "1                              Кие шарьхкоди мокшекм?   \n",
       "7                                           Аф содаса   \n",
       "0                              Монь фамилиязе Сидоров   \n",
       "5                   Тя маласа ули кодамовок столовай?   \n",
       "8                                      Шары кяльбряса   \n",
       "\n",
       "                                                  mdf         source  \n",
       "12             Найдешь волосатого, надо лысого искать  extra_phrases  \n",
       "11     Cветлые и удобные номера в гостинице \"Саранск\"  extra_phrases  \n",
       "10          Утром вершины деревьев были покрыты инеем  extra_phrases  \n",
       "3              Не лает, не кусает, а домой не пускает  extra_phrases  \n",
       "4   В нашем городе находится музей всемирно извест...  extra_phrases  \n",
       "1                          Кто понимает по-мокшански?  extra_phrases  \n",
       "7                                             Не знаю  extra_phrases  \n",
       "0                                 Моя фамилия Сидоров  extra_phrases  \n",
       "5        Здесь поблизости есть какая-нибудь столовая?  extra_phrases  \n",
       "8                                   Вертится на языке  extra_phrases  "
      ]
     },
     "execution_count": 7,
     "metadata": {},
     "output_type": "execute_result"
    }
   ],
   "source": [
    "df.sample(10)"
   ]
  },
  {
   "cell_type": "code",
   "execution_count": 8,
   "id": "2a3c9653-28ad-4c2e-b9cd-67ba6ac35e85",
   "metadata": {},
   "outputs": [],
   "source": [
    "df.to_csv(\"results/extra_phrases_aligned.tsv\", sep='\\t')"
   ]
  },
  {
   "cell_type": "markdown",
   "id": "3a7ce752-44f9-4a2d-aa3e-ea9a4c0b57b1",
   "metadata": {},
   "source": [
    "# Merge all phrases"
   ]
  },
  {
   "cell_type": "code",
   "execution_count": 10,
   "id": "eb3c502a-ca19-4d5d-8924-2b520288bd58",
   "metadata": {},
   "outputs": [],
   "source": [
    "df_phrases = pd.concat([\n",
    "    pd.read_csv('results/extra_phrases_aligned.tsv', sep='\\t'),\n",
    "    pd.read_csv('results/book_phrases.tsv', sep='\\t'),\n",
    "])[['ru', 'mdf', 'source']].reset_index(drop=True)"
   ]
  },
  {
   "cell_type": "code",
   "execution_count": 11,
   "id": "82f0c33c-dc77-4b26-abc2-5a358a4d13ff",
   "metadata": {},
   "outputs": [
    {
     "data": {
      "text/html": [
       "<div>\n",
       "<style scoped>\n",
       "    .dataframe tbody tr th:only-of-type {\n",
       "        vertical-align: middle;\n",
       "    }\n",
       "\n",
       "    .dataframe tbody tr th {\n",
       "        vertical-align: top;\n",
       "    }\n",
       "\n",
       "    .dataframe thead th {\n",
       "        text-align: right;\n",
       "    }\n",
       "</style>\n",
       "<table border=\"1\" class=\"dataframe\">\n",
       "  <thead>\n",
       "    <tr style=\"text-align: right;\">\n",
       "      <th></th>\n",
       "      <th>ru</th>\n",
       "      <th>mdf</th>\n",
       "      <th>source</th>\n",
       "    </tr>\n",
       "  </thead>\n",
       "  <tbody>\n",
       "    <tr>\n",
       "      <th>461</th>\n",
       "      <td>Я это не хочу.</td>\n",
       "      <td>Тейне тя аф эряви.</td>\n",
       "      <td>book</td>\n",
       "    </tr>\n",
       "    <tr>\n",
       "      <th>14</th>\n",
       "      <td>Я встречу друга.</td>\n",
       "      <td>Мон васьфтьса ялгазень</td>\n",
       "      <td>book</td>\n",
       "    </tr>\n",
       "    <tr>\n",
       "      <th>393</th>\n",
       "      <td>Наше село называется Салазгорь.</td>\n",
       "      <td>Веленьконь лемоц Салазгорь.</td>\n",
       "      <td>book</td>\n",
       "    </tr>\n",
       "    <tr>\n",
       "      <th>328</th>\n",
       "      <td>В каком году основан город?</td>\n",
       "      <td>Кодама кизоня эвондась ошсь?</td>\n",
       "      <td>book</td>\n",
       "    </tr>\n",
       "    <tr>\n",
       "      <th>647</th>\n",
       "      <td>Сухая погода.</td>\n",
       "      <td>Коське ушесь.</td>\n",
       "      <td>book</td>\n",
       "    </tr>\n",
       "    <tr>\n",
       "      <th>189</th>\n",
       "      <td>Пятнадцать копеек.</td>\n",
       "      <td>Кеветие трёшник.</td>\n",
       "      <td>book</td>\n",
       "    </tr>\n",
       "    <tr>\n",
       "      <th>496</th>\n",
       "      <td>Ты знаешь, кто...</td>\n",
       "      <td>Тон содасак, кие...</td>\n",
       "      <td>book</td>\n",
       "    </tr>\n",
       "    <tr>\n",
       "      <th>431</th>\n",
       "      <td>Как собираешься провести отпуск?</td>\n",
       "      <td>Кода ёрат ётафтомс отпускцень?</td>\n",
       "      <td>book</td>\n",
       "    </tr>\n",
       "    <tr>\n",
       "      <th>174</th>\n",
       "      <td>Немного понимаю.</td>\n",
       "      <td>Аф ламода шарьхкодян.</td>\n",
       "      <td>book</td>\n",
       "    </tr>\n",
       "    <tr>\n",
       "      <th>504</th>\n",
       "      <td>Как ты думаешь?</td>\n",
       "      <td>Кода тон арьсят?</td>\n",
       "      <td>book</td>\n",
       "    </tr>\n",
       "  </tbody>\n",
       "</table>\n",
       "</div>"
      ],
      "text/plain": [
       "                                   ru                             mdf source\n",
       "461                    Я это не хочу.              Тейне тя аф эряви.   book\n",
       "14                   Я встречу друга.          Мон васьфтьса ялгазень   book\n",
       "393   Наше село называется Салазгорь.     Веленьконь лемоц Салазгорь.   book\n",
       "328       В каком году основан город?    Кодама кизоня эвондась ошсь?   book\n",
       "647                     Сухая погода.                   Коське ушесь.   book\n",
       "189                Пятнадцать копеек.                Кеветие трёшник.   book\n",
       "496                 Ты знаешь, кто...             Тон содасак, кие...   book\n",
       "431  Как собираешься провести отпуск?  Кода ёрат ётафтомс отпускцень?   book\n",
       "174                  Немного понимаю.           Аф ламода шарьхкодян.   book\n",
       "504                   Как ты думаешь?                Кода тон арьсят?   book"
      ]
     },
     "execution_count": 11,
     "metadata": {},
     "output_type": "execute_result"
    }
   ],
   "source": [
    "df_phrases.sample(10)"
   ]
  },
  {
   "cell_type": "code",
   "execution_count": 13,
   "id": "ea8c6799-358a-4528-b615-055513f282bf",
   "metadata": {},
   "outputs": [],
   "source": [
    "df_phrases = df_phrases.drop_duplicates(subset=['ru', 'mdf']).reset_index(drop=True)"
   ]
  },
  {
   "cell_type": "code",
   "execution_count": 14,
   "id": "4244be46-f669-4d5e-a840-dddad9ea59f3",
   "metadata": {},
   "outputs": [
    {
     "data": {
      "text/plain": [
       "(726, 3)"
      ]
     },
     "execution_count": 14,
     "metadata": {},
     "output_type": "execute_result"
    }
   ],
   "source": [
    "df_phrases.shape"
   ]
  },
  {
   "cell_type": "code",
   "execution_count": 15,
   "id": "4c89cced-3474-4dca-83b3-d267566f6da6",
   "metadata": {},
   "outputs": [],
   "source": [
    "df_phrases = df_phrases.dropna()"
   ]
  },
  {
   "cell_type": "code",
   "execution_count": 16,
   "id": "0ad60b15-1948-4e9b-891f-6ca07aa3f444",
   "metadata": {},
   "outputs": [
    {
     "data": {
      "text/plain": [
       "(726, 3)"
      ]
     },
     "execution_count": 16,
     "metadata": {},
     "output_type": "execute_result"
    }
   ],
   "source": [
    "df_phrases.shape"
   ]
  },
  {
   "cell_type": "code",
   "execution_count": 17,
   "id": "950072e9-b9f7-434c-a2b0-981ad4bc28ac",
   "metadata": {},
   "outputs": [],
   "source": [
    "df_phrases.to_csv('results/all_phrases.tsv', sep='\\t')"
   ]
  },
  {
   "cell_type": "code",
   "execution_count": null,
   "id": "9ec1b118-f67b-46af-bf75-dfbb2eb947d3",
   "metadata": {},
   "outputs": [],
   "source": []
  }
 ],
 "metadata": {
  "kernelspec": {
   "display_name": "Python 3 (ipykernel)",
   "language": "python",
   "name": "python3"
  },
  "language_info": {
   "codemirror_mode": {
    "name": "ipython",
    "version": 3
   },
   "file_extension": ".py",
   "mimetype": "text/x-python",
   "name": "python",
   "nbconvert_exporter": "python",
   "pygments_lexer": "ipython3",
   "version": "3.11.9"
  }
 },
 "nbformat": 4,
 "nbformat_minor": 5
}
