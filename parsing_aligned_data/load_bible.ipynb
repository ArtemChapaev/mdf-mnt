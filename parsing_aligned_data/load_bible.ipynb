{
 "cells": [
  {
   "cell_type": "markdown",
   "id": "e4c650ec",
   "metadata": {},
   "source": [
    "http://finugorbib.com/bible/moksha/00_b_index_ru.html\n",
    "\n",
    "http://finugorbib.com/bible/moksha/00_ot_index_na.html"
   ]
  },
  {
   "cell_type": "code",
   "execution_count": 1,
   "id": "1813f585",
   "metadata": {},
   "outputs": [],
   "source": [
    "import requests\n",
    "from bs4 import BeautifulSoup\n",
    "from tqdm.auto import tqdm"
   ]
  },
  {
   "cell_type": "markdown",
   "id": "4baac798",
   "metadata": {},
   "source": [
    "## Parsing"
   ]
  },
  {
   "cell_type": "code",
   "execution_count": 2,
   "id": "f8e7cf6b",
   "metadata": {},
   "outputs": [],
   "source": [
    "base_url = 'http://finugorbib.com/bible/moksha/'"
   ]
  },
  {
   "cell_type": "code",
   "execution_count": null,
   "id": "4632aa08",
   "metadata": {
    "scrolled": true
   },
   "outputs": [],
   "source": [
    "all_pairs = []\n",
    "\n",
    "for root in ['http://finugorbib.com/bible/moksha/00_b_index_ru.html', 'http://finugorbib.com/bible/moksha/00_ot_index_ru.html']:\n",
    "    content_list = BeautifulSoup(requests.get(root).content.decode('utf-8'))\n",
    "    for a in tqdm(content_list.findAll('a')):\n",
    "        if 'href' not in str(a):\n",
    "            continue\n",
    "        href = a['href']\n",
    "        if href.startswith('..'):\n",
    "            continue\n",
    "        if href.startswith('00'):\n",
    "            continue\n",
    "        href = href.replace('na.html', 'ru.html')\n",
    "        \n",
    "        print(href)\n",
    "        url = base_url + href\n",
    "        src = BeautifulSoup(requests.get(url).content.decode('utf-8'))\n",
    "        table = src.find('table')\n",
    "        if table is None:\n",
    "            print('!!!no table!!!')\n",
    "            continue\n",
    "        for row in table.findAll('tr'):\n",
    "            pair = []\n",
    "            for td in row.findAll('td'):\n",
    "                con = []\n",
    "                for c in td.contents:\n",
    "                    if isinstance(c, str):\n",
    "                        con.append(c)\n",
    "                    elif str(c) == '<br/>':\n",
    "                        con.append('\\n')\n",
    "                    elif c.attrs.get('class') == ['verse']:\n",
    "                        continue\n",
    "                    else:\n",
    "                        con.append(c.text)\n",
    "                pair.append(''.join(con).strip())\n",
    "            if len(pair) != 2:\n",
    "                print(len(pair))\n",
    "                continue\n",
    "            all_pairs.append({\n",
    "                'mdf': pair[0],\n",
    "                'ru': pair[1],\n",
    "                'source': url\n",
    "            })"
   ]
  },
  {
   "cell_type": "code",
   "execution_count": 19,
   "id": "c22d9c3b",
   "metadata": {},
   "outputs": [
    {
     "name": "stdout",
     "output_type": "stream",
     "text": [
      "12517\n"
     ]
    }
   ],
   "source": [
    "print(len(all_pairs))"
   ]
  },
  {
   "cell_type": "code",
   "execution_count": 20,
   "id": "18cc96ab",
   "metadata": {},
   "outputs": [],
   "source": [
    "import random"
   ]
  },
  {
   "cell_type": "code",
   "execution_count": 21,
   "id": "a3b0e667",
   "metadata": {},
   "outputs": [
    {
     "data": {
      "text/plain": [
       "{'mdf': 'Ливозьботмоса кармат сатнемонза кшицень,\\n\\xa0\\xa0\\xa0мзярс аф мрдат меки модати,\\n\\xa0\\xa0\\xa0конань эзда улеть сявф.\\nПульста тон тифат\\n\\xa0\\xa0\\xa0и пульти меки мрдат».',\n",
       " 'ru': 'в поте лица твоего будешь есть хлеб, доколе не возвратишься в землю, из которой ты взят, ибо прах ты и в прах возвратишься.',\n",
       " 'source': 'http://finugorbib.com/bible/moksha/01_Gen03_ru.html'}"
      ]
     },
     "execution_count": 21,
     "metadata": {},
     "output_type": "execute_result"
    }
   ],
   "source": [
    "random.choice(all_pairs)"
   ]
  },
  {
   "cell_type": "markdown",
   "id": "3caabf0f",
   "metadata": {},
   "source": [
    "## Processing"
   ]
  },
  {
   "cell_type": "markdown",
   "id": "af5f2523-7832-4255-8625-359468c63340",
   "metadata": {},
   "source": [
    "1. В мокшанском тексте есть \\n, а в русском этом одна и та же строка, поэтому заменяем '\\n' на ' ' \n",
    "2. В мокшанском тексте бывают сноски формата '\\*[а-я]'. Удалим их, при этом в некоторых случаях после сноски пропущен пробел, поэтому заменить эти сноски на ' ', чтобы не создать невалидное слово\n",
    "3. в мокшанском тексте много кавычек, а это отдельный токен, удалим его, чтобы предложения были схожи с русскими"
   ]
  },
  {
   "cell_type": "code",
   "execution_count": 55,
   "id": "6f207ffa-5055-4fd1-a424-7a17d3a33a0e",
   "metadata": {},
   "outputs": [],
   "source": [
    "import re\n",
    "\n",
    "for i, pair in enumerate(all_pairs):\n",
    "    if re.search(r'[\\xa0\\n]+', pair['mdf']):\n",
    "        # print(i, pair['mdf'])\n",
    "        # print()\n",
    "        pair['mdf'] = re.sub(r'[\\n\\xa0\\s]+', ' ', pair['mdf']).strip()\n",
    "\n",
    "    if re.search(r'\\*[а-я]', pair['mdf']):\n",
    "        # print(i, pair['mdf'])\n",
    "        # print()\n",
    "        pair['mdf'] = re.sub(r'\\*[а-я]', ' ', pair['mdf']).strip()\n",
    "\n",
    "    if re.search(r'[\"«»]', pair['mdf']):\n",
    "        # print(i, pair['mdf'])\n",
    "        # print()\n",
    "        pair['mdf'] = re.sub(r'[\"«»]', ' ', pair['mdf'])"
   ]
  },
  {
   "cell_type": "markdown",
   "id": "b3ae7be0",
   "metadata": {},
   "source": [
    "## Save"
   ]
  },
  {
   "cell_type": "code",
   "execution_count": 57,
   "id": "d74f56b4",
   "metadata": {},
   "outputs": [],
   "source": [
    "import pandas as pd"
   ]
  },
  {
   "cell_type": "code",
   "execution_count": 58,
   "id": "f1dfa9b8",
   "metadata": {},
   "outputs": [],
   "source": [
    "df = pd.DataFrame(all_pairs)"
   ]
  },
  {
   "cell_type": "code",
   "execution_count": 59,
   "id": "a95d2990-e719-4a55-b2fa-ed88f0b0378e",
   "metadata": {},
   "outputs": [
    {
     "data": {
      "text/plain": [
       "(12517, 3)"
      ]
     },
     "execution_count": 59,
     "metadata": {},
     "output_type": "execute_result"
    }
   ],
   "source": [
    "df.shape"
   ]
  },
  {
   "cell_type": "code",
   "execution_count": 61,
   "id": "b64703b3-e31b-4237-9650-03eab4c0404c",
   "metadata": {},
   "outputs": [],
   "source": [
    "df = df.drop_duplicates(subset=['ru', 'mdf'])"
   ]
  },
  {
   "cell_type": "code",
   "execution_count": 62,
   "id": "852a9a59-baff-4c56-9e6e-274247672251",
   "metadata": {},
   "outputs": [
    {
     "data": {
      "text/plain": [
       "(11650, 3)"
      ]
     },
     "execution_count": 62,
     "metadata": {},
     "output_type": "execute_result"
    }
   ],
   "source": [
    "df.shape"
   ]
  },
  {
   "cell_type": "code",
   "execution_count": 63,
   "id": "d72679b4-4bc7-47b3-a140-56a8170e920e",
   "metadata": {},
   "outputs": [],
   "source": [
    "df.to_csv('results/moksha_bible.tsv', sep='\\t')"
   ]
  },
  {
   "cell_type": "code",
   "execution_count": null,
   "id": "32df4744-968b-418e-b9dc-1ecb7debde8b",
   "metadata": {},
   "outputs": [],
   "source": []
  }
 ],
 "metadata": {
  "kernelspec": {
   "display_name": "Python 3 (ipykernel)",
   "language": "python",
   "name": "python3"
  },
  "language_info": {
   "codemirror_mode": {
    "name": "ipython",
    "version": 3
   },
   "file_extension": ".py",
   "mimetype": "text/x-python",
   "name": "python",
   "nbconvert_exporter": "python",
   "pygments_lexer": "ipython3",
   "version": "3.11.9"
  }
 },
 "nbformat": 4,
 "nbformat_minor": 5
}
