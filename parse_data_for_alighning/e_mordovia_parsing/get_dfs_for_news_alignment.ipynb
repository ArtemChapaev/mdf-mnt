{
 "cells": [
  {
   "cell_type": "code",
   "execution_count": 1,
   "id": "ceea8b5f-c3d8-4149-9de7-825ac542e2f3",
   "metadata": {
    "id": "ceea8b5f-c3d8-4149-9de7-825ac542e2f3"
   },
   "outputs": [],
   "source": [
    "import json\n",
    "import os\n",
    "\n",
    "import pandas as pd"
   ]
  },
  {
   "cell_type": "code",
   "execution_count": 2,
   "id": "9d9b2323-79e9-4d04-ae24-8658f38d9328",
   "metadata": {
    "id": "9d9b2323-79e9-4d04-ae24-8658f38d9328"
   },
   "outputs": [],
   "source": [
    "MDF_DIR = '../source/e-mordovia/articles_mdf_381_out/'\n",
    "RU_DIR = '../source/e-mordovia/articles_rus_0_1518_out/'"
   ]
  },
  {
   "cell_type": "code",
   "execution_count": 3,
   "id": "9d902029-69d4-4fbf-85bc-223e60091903",
   "metadata": {
    "id": "9d902029-69d4-4fbf-85bc-223e60091903"
   },
   "outputs": [],
   "source": [
    "mdf_names = []\n",
    "\n",
    "for fn in os.listdir(MDF_DIR):\n",
    "    if not fn.endswith('.json'):\n",
    "        continue\n",
    "\n",
    "    with open(MDF_DIR + fn, 'r') as f:\n",
    "        data = json.load(f)\n",
    "\n",
    "    # del first line with news' date\n",
    "    text = '\\n'.join(text.split('\\n')[1:])\n",
    "    mdf_names.append({'name': name, 'text': text, 'fn': fn})"
   ]
  },
  {
   "cell_type": "code",
   "execution_count": 4,
   "id": "b2df040e-bd10-4f66-9646-d1f623d844a8",
   "metadata": {
    "id": "b2df040e-bd10-4f66-9646-d1f623d844a8"
   },
   "outputs": [],
   "source": [
    "mdf_names_df = pd.DataFrame(mdf_names)"
   ]
  },
  {
   "cell_type": "code",
   "execution_count": 5,
   "id": "81c4dfac-c53e-46aa-8dcd-3684a4de105d",
   "metadata": {
    "id": "81c4dfac-c53e-46aa-8dcd-3684a4de105d",
    "outputId": "556d2a98-94a1-41bf-a917-06d26fe2054e"
   },
   "outputs": [
    {
     "data": {
      "text/html": [
       "<div>\n",
       "<style scoped>\n",
       "    .dataframe tbody tr th:only-of-type {\n",
       "        vertical-align: middle;\n",
       "    }\n",
       "\n",
       "    .dataframe tbody tr th {\n",
       "        vertical-align: top;\n",
       "    }\n",
       "\n",
       "    .dataframe thead th {\n",
       "        text-align: right;\n",
       "    }\n",
       "</style>\n",
       "<table border=\"1\" class=\"dataframe\">\n",
       "  <thead>\n",
       "    <tr style=\"text-align: right;\">\n",
       "      <th></th>\n",
       "      <th>name</th>\n",
       "      <th>text</th>\n",
       "      <th>fn</th>\n",
       "    </tr>\n",
       "  </thead>\n",
       "  <tbody>\n",
       "    <tr>\n",
       "      <th>2122</th>\n",
       "      <td>Мордовиянь Оцюнясь: «Скорай помощьса ули кода ...</td>\n",
       "      <td>2 майста Республикань Кудса ётафтовсь торжеств...</td>\n",
       "      <td>article_01149.json</td>\n",
       "    </tr>\n",
       "    <tr>\n",
       "      <th>4014</th>\n",
       "      <td>Мордовиянь Оцюнять Владимир Волковонь лемс сас...</td>\n",
       "      <td>Мордовиянь Оцюнять Владимир Волковонь лемс сас...</td>\n",
       "      <td>article_03776.json</td>\n",
       "    </tr>\n",
       "    <tr>\n",
       "      <th>3697</th>\n",
       "      <td>FIFA-нь делегациясь макссь оцю оценка Саранскя...</td>\n",
       "      <td>22 мартста Саранскяйса ульсь «Россия-2018» орг...</td>\n",
       "      <td>article_04143.json</td>\n",
       "    </tr>\n",
       "    <tr>\n",
       "      <th>3873</th>\n",
       "      <td>Артём Здунов васедсь Россиянь фигурнай курьксн...</td>\n",
       "      <td>Мордовиять Оцюняц Артём Здунов 6-це февральста...</td>\n",
       "      <td>article_00458.json</td>\n",
       "    </tr>\n",
       "    <tr>\n",
       "      <th>347</th>\n",
       "      <td>МР-нь Оцюнясь В.Д.Волков: «Конкуренциясь фалу ...</td>\n",
       "      <td>Конкуренциясь фалу сотф мяльть мархта улемс ва...</td>\n",
       "      <td>article_03630.json</td>\n",
       "    </tr>\n",
       "  </tbody>\n",
       "</table>\n",
       "</div>"
      ],
      "text/plain": [
       "                                                   name  \\\n",
       "2122  Мордовиянь Оцюнясь: «Скорай помощьса ули кода ...   \n",
       "4014  Мордовиянь Оцюнять Владимир Волковонь лемс сас...   \n",
       "3697  FIFA-нь делегациясь макссь оцю оценка Саранскя...   \n",
       "3873  Артём Здунов васедсь Россиянь фигурнай курьксн...   \n",
       "347   МР-нь Оцюнясь В.Д.Волков: «Конкуренциясь фалу ...   \n",
       "\n",
       "                                                   text                  fn  \n",
       "2122  2 майста Республикань Кудса ётафтовсь торжеств...  article_01149.json  \n",
       "4014  Мордовиянь Оцюнять Владимир Волковонь лемс сас...  article_03776.json  \n",
       "3697  22 мартста Саранскяйса ульсь «Россия-2018» орг...  article_04143.json  \n",
       "3873  Мордовиять Оцюняц Артём Здунов 6-це февральста...  article_00458.json  \n",
       "347   Конкуренциясь фалу сотф мяльть мархта улемс ва...  article_03630.json  "
      ]
     },
     "execution_count": 5,
     "metadata": {},
     "output_type": "execute_result"
    }
   ],
   "source": [
    "mdf_names_df.sample(5)"
   ]
  },
  {
   "cell_type": "code",
   "execution_count": 6,
   "id": "f81eac40-cf52-486b-ae8f-aebec333e003",
   "metadata": {
    "id": "f81eac40-cf52-486b-ae8f-aebec333e003"
   },
   "outputs": [],
   "source": [
    "mdf_names_df.to_csv('../results/e-mordovia/mdf_names_df.tsv', sep='\\t', index=False)"
   ]
  },
  {
   "cell_type": "code",
   "execution_count": 7,
   "id": "417278e5-2272-4043-b15c-9a1be78cb7e0",
   "metadata": {
    "id": "417278e5-2272-4043-b15c-9a1be78cb7e0"
   },
   "outputs": [],
   "source": [
    "ru_names = []\n",
    "\n",
    "for fn in os.listdir(RU_DIR):\n",
    "    if not fn.endswith('.json'):\n",
    "        continue\n",
    "\n",
    "    with open(RU_DIR + fn, 'r') as f:\n",
    "        data = json.load(f)\n",
    "\n",
    "    # del first line with news' date\n",
    "    text = '\\n'.join(text.split('\\n')[1:])\n",
    "    ru_names.append({'name': name, 'text': text, 'fn': fn})"
   ]
  },
  {
   "cell_type": "code",
   "execution_count": 8,
   "id": "d796e4c9-7c19-4cbd-bb42-e51c3b91eb55",
   "metadata": {
    "id": "d796e4c9-7c19-4cbd-bb42-e51c3b91eb55"
   },
   "outputs": [],
   "source": [
    "ru_names_df = pd.DataFrame(ru_names)"
   ]
  },
  {
   "cell_type": "code",
   "execution_count": 9,
   "id": "07caae6a-6949-43a4-a3dc-06e4bdb65121",
   "metadata": {
    "id": "07caae6a-6949-43a4-a3dc-06e4bdb65121",
    "outputId": "5f7d12a6-3010-43c4-da42-e18636e630ed"
   },
   "outputs": [
    {
     "data": {
      "text/html": [
       "<div>\n",
       "<style scoped>\n",
       "    .dataframe tbody tr th:only-of-type {\n",
       "        vertical-align: middle;\n",
       "    }\n",
       "\n",
       "    .dataframe tbody tr th {\n",
       "        vertical-align: top;\n",
       "    }\n",
       "\n",
       "    .dataframe thead th {\n",
       "        text-align: right;\n",
       "    }\n",
       "</style>\n",
       "<table border=\"1\" class=\"dataframe\">\n",
       "  <thead>\n",
       "    <tr style=\"text-align: right;\">\n",
       "      <th></th>\n",
       "      <th>name</th>\n",
       "      <th>text</th>\n",
       "      <th>fn</th>\n",
       "    </tr>\n",
       "  </thead>\n",
       "  <tbody>\n",
       "    <tr>\n",
       "      <th>7786</th>\n",
       "      <td>Воспитанники Инсарской школы-интерната будут з...</td>\n",
       "      <td>В Мордовии открылась еще одна адаптивная баске...</td>\n",
       "      <td>article_01578.json</td>\n",
       "    </tr>\n",
       "    <tr>\n",
       "      <th>6179</th>\n",
       "      <td>Делегация от Мордовии совершает бизнес-миссию ...</td>\n",
       "      <td>В условиях вводимых ограничений в отношении Ро...</td>\n",
       "      <td>article_07815.json</td>\n",
       "    </tr>\n",
       "    <tr>\n",
       "      <th>14197</th>\n",
       "      <td>Пациенты Рузаевской больницы продолжают благод...</td>\n",
       "      <td>В адрес главного врача Рузаевской больницы Анд...</td>\n",
       "      <td>article_14600.json</td>\n",
       "    </tr>\n",
       "    <tr>\n",
       "      <th>1015</th>\n",
       "      <td>Оперштаб: В Мордовии приостановлено действие  ...</td>\n",
       "      <td>2 июня на заседании оперштаба по профилактике ...</td>\n",
       "      <td>article_07595.json</td>\n",
       "    </tr>\n",
       "    <tr>\n",
       "      <th>1103</th>\n",
       "      <td>Приз Главы Республики Мордовия — автомобиль — ...</td>\n",
       "      <td>Победу в забегах рысаковых пород лошадей одерж...</td>\n",
       "      <td>article_07254.json</td>\n",
       "    </tr>\n",
       "  </tbody>\n",
       "</table>\n",
       "</div>"
      ],
      "text/plain": [
       "                                                    name  \\\n",
       "7786   Воспитанники Инсарской школы-интерната будут з...   \n",
       "6179   Делегация от Мордовии совершает бизнес-миссию ...   \n",
       "14197  Пациенты Рузаевской больницы продолжают благод...   \n",
       "1015   Оперштаб: В Мордовии приостановлено действие  ...   \n",
       "1103   Приз Главы Республики Мордовия — автомобиль — ...   \n",
       "\n",
       "                                                    text                  fn  \n",
       "7786   В Мордовии открылась еще одна адаптивная баске...  article_01578.json  \n",
       "6179   В условиях вводимых ограничений в отношении Ро...  article_07815.json  \n",
       "14197  В адрес главного врача Рузаевской больницы Анд...  article_14600.json  \n",
       "1015   2 июня на заседании оперштаба по профилактике ...  article_07595.json  \n",
       "1103   Победу в забегах рысаковых пород лошадей одерж...  article_07254.json  "
      ]
     },
     "execution_count": 9,
     "metadata": {},
     "output_type": "execute_result"
    }
   ],
   "source": [
    "ru_names_df.sample(5)"
   ]
  },
  {
   "cell_type": "code",
   "execution_count": 10,
   "id": "d72538ae-5738-487f-b126-bdfa163006f9",
   "metadata": {
    "id": "d72538ae-5738-487f-b126-bdfa163006f9"
   },
   "outputs": [],
   "source": [
    "ru_names_df.to_csv('../results/e-mordovia/ru_names_df.tsv', sep='\\t', index=False)"
   ]
  },
  {
   "cell_type": "code",
   "execution_count": null,
   "id": "101f259e",
   "metadata": {},
   "outputs": [],
   "source": []
  }
 ],
 "metadata": {
  "accelerator": "GPU",
  "colab": {
   "collapsed_sections": [
    "6f37db23-4142-4767-9a72-8db1276cef50"
   ],
   "gpuType": "T4",
   "provenance": []
  },
  "kernelspec": {
   "display_name": "Python 3",
   "language": "python",
   "name": "python3"
  },
  "language_info": {
   "codemirror_mode": {
    "name": "ipython",
    "version": 3
   },
   "file_extension": ".py",
   "mimetype": "text/x-python",
   "name": "python",
   "nbconvert_exporter": "python",
   "pygments_lexer": "ipython3",
   "version": "3.11.9"
  }
 },
 "nbformat": 4,
 "nbformat_minor": 5
}
