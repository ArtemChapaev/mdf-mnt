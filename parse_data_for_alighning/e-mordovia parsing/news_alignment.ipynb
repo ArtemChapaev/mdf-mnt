{
  "cells": [
    {
      "cell_type": "code",
      "execution_count": 1,
      "id": "6486d2c4-99f3-42cc-86c5-eeb2a3e658d2",
      "metadata": {
        "colab": {
          "base_uri": "https://localhost:8080/"
        },
        "id": "6486d2c4-99f3-42cc-86c5-eeb2a3e658d2",
        "outputId": "aa787940-0579-4f0f-8697-15b6af23ab45"
      },
      "outputs": [
        {
          "output_type": "stream",
          "name": "stdout",
          "text": [
            "Collecting hnswlib\n",
            "  Downloading hnswlib-0.8.0.tar.gz (36 kB)\n",
            "  Installing build dependencies ... \u001b[?25l\u001b[?25hdone\n",
            "  Getting requirements to build wheel ... \u001b[?25l\u001b[?25hdone\n",
            "  Preparing metadata (pyproject.toml) ... \u001b[?25l\u001b[?25hdone\n",
            "Requirement already satisfied: numpy in /usr/local/lib/python3.11/dist-packages (from hnswlib) (1.26.4)\n",
            "Building wheels for collected packages: hnswlib\n",
            "  Building wheel for hnswlib (pyproject.toml) ... \u001b[?25l\u001b[?25hdone\n",
            "  Created wheel for hnswlib: filename=hnswlib-0.8.0-cp311-cp311-linux_x86_64.whl size=2383818 sha256=432ed6022c296a92776c973c83a12f53b81f335bbc94f40fb6b8fbff5008f93f\n",
            "  Stored in directory: /root/.cache/pip/wheels/ea/4e/27/39aebca9958719776e36fada290845a7ef10f053ad70e22ceb\n",
            "Successfully built hnswlib\n",
            "Installing collected packages: hnswlib\n",
            "Successfully installed hnswlib-0.8.0\n"
          ]
        }
      ],
      "source": [
        "!pip install hnswlib"
      ]
    },
    {
      "cell_type": "code",
      "execution_count": 2,
      "id": "e14c74b0",
      "metadata": {
        "id": "e14c74b0"
      },
      "outputs": [],
      "source": [
        "import hnswlib\n",
        "import numpy as np\n",
        "import pandas as pd\n",
        "import torch\n",
        "from transformers import AutoModelForPreTraining, BertTokenizer"
      ]
    },
    {
      "cell_type": "code",
      "execution_count": 1,
      "id": "m4nnS9zwPy0T",
      "metadata": {
        "colab": {
          "base_uri": "https://localhost:8080/"
        },
        "id": "m4nnS9zwPy0T",
        "outputId": "e9a681bc-8e81-42f9-f6cb-cf5d1223096e"
      },
      "outputs": [
        {
          "output_type": "stream",
          "name": "stdout",
          "text": [
            "Mounted at /content/drive\n"
          ]
        }
      ],
      "source": [
        "from google.colab import drive\n",
        "drive.mount('/content/drive')"
      ]
    },
    {
      "cell_type": "code",
      "execution_count": 2,
      "id": "22744071",
      "metadata": {
        "colab": {
          "base_uri": "https://localhost:8080/"
        },
        "id": "22744071",
        "outputId": "e96bbd39-9498-4817-b9e7-c1277df9e5cd"
      },
      "outputs": [
        {
          "output_type": "stream",
          "name": "stdout",
          "text": [
            "all_dicts_data.tsv  all_phrases.tsv  e-mordovia  mdf_mono  moksha_bible.tsv  texts_for_align\n"
          ]
        }
      ],
      "source": [
        "!ls drive/MyDrive/diploma/data"
      ]
    },
    {
      "cell_type": "code",
      "execution_count": 3,
      "id": "kvBfHQFZPyxV",
      "metadata": {
        "id": "kvBfHQFZPyxV"
      },
      "outputs": [],
      "source": [
        "DATA_PATH_PREFIX = 'drive/MyDrive/diploma/data/'"
      ]
    },
    {
      "cell_type": "code",
      "execution_count": 6,
      "id": "6f00c874-272d-42b2-a447-d81ca412b6e6",
      "metadata": {
        "id": "6f00c874-272d-42b2-a447-d81ca412b6e6"
      },
      "outputs": [],
      "source": [
        "MODEL_DIR = 'labse_moksha_40k+70k+1k+500mlm+500_ce'"
      ]
    },
    {
      "cell_type": "code",
      "execution_count": 7,
      "id": "QtbEQZ-6owoi",
      "metadata": {
        "id": "QtbEQZ-6owoi"
      },
      "outputs": [],
      "source": [
        "BATCH_SIZE = 2048"
      ]
    },
    {
      "cell_type": "markdown",
      "id": "b176a003-6973-440f-a5bf-7215ff32415e",
      "metadata": {
        "id": "b176a003-6973-440f-a5bf-7215ff32415e"
      },
      "source": [
        "# get papers features"
      ]
    },
    {
      "cell_type": "code",
      "execution_count": 8,
      "id": "f46427fb-4104-4a1d-b2ab-32247fab7649",
      "metadata": {
        "id": "f46427fb-4104-4a1d-b2ab-32247fab7649"
      },
      "outputs": [],
      "source": [
        "mdf_names_df = pd.read_csv(DATA_PATH_PREFIX + 'e-mordovia/mdf_names_df.tsv', sep='\\t')"
      ]
    },
    {
      "cell_type": "code",
      "execution_count": 9,
      "id": "bf010f8b-9fe9-4ea2-b0c6-5091c866c0ab",
      "metadata": {
        "id": "bf010f8b-9fe9-4ea2-b0c6-5091c866c0ab"
      },
      "outputs": [],
      "source": [
        "ru_names_df = pd.read_csv(DATA_PATH_PREFIX + 'e-mordovia/ru_names_df.tsv', sep='\\t')"
      ]
    },
    {
      "cell_type": "code",
      "execution_count": 10,
      "id": "ae20019f-1e07-42f8-8425-de0d9b3558b2",
      "metadata": {
        "id": "ae20019f-1e07-42f8-8425-de0d9b3558b2"
      },
      "outputs": [],
      "source": [
        "tokenizer = BertTokenizer.from_pretrained('drive/MyDrive/diploma/' + MODEL_DIR)\n",
        "tuned_model = AutoModelForPreTraining.from_pretrained('drive/MyDrive/diploma/' + MODEL_DIR)"
      ]
    },
    {
      "cell_type": "code",
      "execution_count": 11,
      "id": "njFU8H1pQxNf",
      "metadata": {
        "id": "njFU8H1pQxNf"
      },
      "outputs": [],
      "source": [
        "tuned_model.cuda();"
      ]
    },
    {
      "cell_type": "code",
      "execution_count": 12,
      "id": "115d5056-9006-4215-82e5-6e6021e53821",
      "metadata": {
        "id": "115d5056-9006-4215-82e5-6e6021e53821"
      },
      "outputs": [],
      "source": [
        "st = 0\n",
        "ru_names_embs = []\n",
        "\n",
        "with torch.no_grad():\n",
        "    for end in list(range(BATCH_SIZE, ru_names_df.shape[0] + BATCH_SIZE, BATCH_SIZE)):\n",
        "        toks = tokenizer(\n",
        "            ru_names_df['name'].values.tolist()[st:end],\n",
        "            return_tensors='pt',\n",
        "            padding=True,\n",
        "            truncation=True,\n",
        "            # max_length=128\n",
        "        )\n",
        "\n",
        "        embs = tuned_model.bert(**toks.to(tuned_model.device)).pooler_output\n",
        "        embs = torch.nn.functional.normalize(embs)\n",
        "\n",
        "        ru_names_embs.extend(embs.tolist())\n",
        "        st = end"
      ]
    },
    {
      "cell_type": "code",
      "execution_count": 13,
      "id": "J5CWj5Q5U3bN",
      "metadata": {
        "id": "J5CWj5Q5U3bN",
        "colab": {
          "base_uri": "https://localhost:8080/"
        },
        "outputId": "cdf2b678-22ae-419f-bece-cc332ed327bf"
      },
      "outputs": [
        {
          "data": {
            "text/plain": [
              "torch.Size([18210, 768])"
            ]
          },
          "execution_count": 13,
          "metadata": {},
          "output_type": "execute_result"
        }
      ],
      "source": [
        "ru_names_embs = torch.Tensor(ru_names_embs)\n",
        "ru_names_embs.shape"
      ]
    },
    {
      "cell_type": "code",
      "execution_count": 14,
      "id": "mwJ5yMaGVRvP",
      "metadata": {
        "id": "mwJ5yMaGVRvP"
      },
      "outputs": [],
      "source": [
        "st = 0\n",
        "mdf_names_embs = []\n",
        "\n",
        "with torch.no_grad():\n",
        "    for end in list(range(BATCH_SIZE, mdf_names_df.shape[0] + BATCH_SIZE, BATCH_SIZE)):\n",
        "        toks = tokenizer(\n",
        "            mdf_names_df['name'].values.tolist()[st:end],\n",
        "            return_tensors='pt',\n",
        "            padding=True,\n",
        "            truncation=True,\n",
        "            # max_length=128\n",
        "        )\n",
        "\n",
        "        embs = tuned_model.bert(**toks.to(tuned_model.device)).pooler_output\n",
        "        embs = torch.nn.functional.normalize(embs)\n",
        "\n",
        "        mdf_names_embs.extend(embs.tolist())\n",
        "        st = end"
      ]
    },
    {
      "cell_type": "code",
      "execution_count": null,
      "id": "c070b6da-03fc-44c5-bdac-e95ea73f2cce",
      "metadata": {
        "id": "c070b6da-03fc-44c5-bdac-e95ea73f2cce"
      },
      "outputs": [],
      "source": [
        "mdf_names_embs = torch.Tensor(mdf_names_embs)\n",
        "mdf_names_embs.shape"
      ]
    },
    {
      "cell_type": "markdown",
      "id": "da366af2",
      "metadata": {
        "id": "da366af2"
      },
      "source": [
        "## Get most relevant pairs with hnswlib"
      ]
    },
    {
      "cell_type": "code",
      "execution_count": 16,
      "id": "eb8a3dee-8788-412d-80e6-6ba6d886c4cc",
      "metadata": {
        "id": "eb8a3dee-8788-412d-80e6-6ba6d886c4cc"
      },
      "outputs": [],
      "source": [
        "data_dim = 768\n",
        "num_elements = 30000\n",
        "\n",
        "index = hnswlib.Index(space='l2', dim=data_dim)\n",
        "index.init_index(max_elements=num_elements, ef_construction=200, M=16)\n",
        "index.add_items(ru_names_embs.numpy())"
      ]
    },
    {
      "cell_type": "code",
      "execution_count": null,
      "id": "f275f1d3-fd18-458c-94fc-824168e9c3d4",
      "metadata": {
        "id": "f275f1d3-fd18-458c-94fc-824168e9c3d4"
      },
      "outputs": [],
      "source": [
        "labels, distances = index.knn_query(mdf_names_embs.numpy(), k=2)\n",
        "distances = 1 - distances"
      ]
    },
    {
      "cell_type": "code",
      "execution_count": 18,
      "id": "0b4d3902-75dd-43fc-a27c-5fb6c9992726",
      "metadata": {
        "id": "0b4d3902-75dd-43fc-a27c-5fb6c9992726"
      },
      "outputs": [],
      "source": [
        "for i in range(2):\n",
        "    mdf_names_df[f'closest_{i+1}'] = [ru_names_df.loc[label[i], 'name'] for label in labels]\n",
        "    mdf_names_df[f'closest_fns_{i+1}'] = [ru_names_df.loc[label[i], 'fn'] for label in labels]\n",
        "    mdf_names_df[f'closest_text_{i+1}'] = [ru_names_df.loc[label[i], 'text'] for label in labels]\n",
        "    mdf_names_df[f'distances_{i+1}'] = distances[:, i]"
      ]
    },
    {
      "cell_type": "markdown",
      "id": "cdf04ddb",
      "metadata": {
        "id": "cdf04ddb"
      },
      "source": [
        "## get the most confident pairs of parallel texts"
      ]
    },
    {
      "cell_type": "code",
      "execution_count": 19,
      "id": "GoUHikgNb1xv",
      "metadata": {
        "id": "GoUHikgNb1xv"
      },
      "outputs": [],
      "source": [
        "results = mdf_names_df.copy()"
      ]
    },
    {
      "cell_type": "code",
      "execution_count": 20,
      "id": "4483cb9e-ada6-4c95-9163-925b993cdc10",
      "metadata": {
        "id": "4483cb9e-ada6-4c95-9163-925b993cdc10"
      },
      "outputs": [],
      "source": [
        "results['diff'] = results.apply(lambda x: x['distances_1'] - x['distances_2'], axis=1)"
      ]
    },
    {
      "cell_type": "code",
      "execution_count": 21,
      "id": "6c2760a8-ea67-47db-9b59-7b86f9aa956f",
      "metadata": {
        "colab": {
          "base_uri": "https://localhost:8080/"
        },
        "id": "6c2760a8-ea67-47db-9b59-7b86f9aa956f",
        "outputId": "807f459b-c115-489d-ee46-b68cba31e80e"
      },
      "outputs": [
        {
          "output_type": "execute_result",
          "data": {
            "text/plain": [
              "0.05055758357048035"
            ]
          },
          "metadata": {},
          "execution_count": 21
        }
      ],
      "source": [
        "np.percentile(results['diff'].values, 50) # 0.138"
      ]
    },
    {
      "cell_type": "code",
      "execution_count": 22,
      "id": "bb475a45-eeda-44ec-b32a-db89e2c1a5b8",
      "metadata": {
        "id": "bb475a45-eeda-44ec-b32a-db89e2c1a5b8"
      },
      "outputs": [],
      "source": [
        "aligned_pairs = results[(results['diff'] >= 0.05) & (results['distances_1'] > 0.45)][[\n",
        "    'name', 'text', 'fn',\n",
        "    'closest_1', 'closest_text_1', 'closest_fns_1', 'distances_1',\n",
        "    'diff'\n",
        "]].sort_values('diff')"
      ]
    },
    {
      "cell_type": "code",
      "execution_count": 23,
      "id": "e1a53a63-0b98-42a2-891f-25c474e1f4cd",
      "metadata": {
        "colab": {
          "base_uri": "https://localhost:8080/"
        },
        "id": "e1a53a63-0b98-42a2-891f-25c474e1f4cd",
        "outputId": "f8e42fa2-3d83-4db6-abb6-c6dec5ba6ca7"
      },
      "outputs": [
        {
          "output_type": "execute_result",
          "data": {
            "text/plain": [
              "(1116, 8)"
            ]
          },
          "metadata": {},
          "execution_count": 23
        }
      ],
      "source": [
        "aligned_pairs.shape"
      ]
    },
    {
      "cell_type": "code",
      "execution_count": 24,
      "id": "kxfNnFFycZbF",
      "metadata": {
        "id": "kxfNnFFycZbF"
      },
      "outputs": [],
      "source": [
        "df_for_markup = results[~results['fn'].isin(aligned_pairs['fn'].values)]"
      ]
    },
    {
      "cell_type": "code",
      "execution_count": 25,
      "id": "FVDNMAfHc1u3",
      "metadata": {
        "colab": {
          "base_uri": "https://localhost:8080/"
        },
        "id": "FVDNMAfHc1u3",
        "outputId": "a8405c20-46d1-4bd0-f971-01b1ec05392c"
      },
      "outputs": [
        {
          "data": {
            "text/plain": [
              "(3444, 12)"
            ]
          },
          "execution_count": 25,
          "metadata": {},
          "output_type": "execute_result"
        }
      ],
      "source": [
        "df_for_markup.shape"
      ]
    },
    {
      "cell_type": "code",
      "execution_count": 26,
      "id": "e6HjGWBpjHr1",
      "metadata": {
        "colab": {
          "base_uri": "https://localhost:8080/"
        },
        "id": "e6HjGWBpjHr1",
        "outputId": "e1fa2b64-354a-496b-8a18-8697fbe18140"
      },
      "outputs": [
        {
          "data": {
            "text/plain": [
              "array(['Розатнень касфнемаснон коряс од тепличнай комплекссь Кадошкинаса панжеви сентябрьста',\n",
              "       'Росреестр Мордовии участвует в «Ёлке желаний»',\n",
              "       'В Приволжском федеральном округе стартовала акция «Елка желаний»',\n",
              "       0.017722666263580322], dtype=object)"
            ]
          },
          "execution_count": 26,
          "metadata": {},
          "output_type": "execute_result"
        }
      ],
      "source": [
        "df_for_markup[['name', 'closest_1', 'closest_2', 'diff']].values[0]"
      ]
    },
    {
      "cell_type": "code",
      "execution_count": 27,
      "id": "f2584f36-99da-41be-ab0d-ed2c612c8310",
      "metadata": {
        "id": "f2584f36-99da-41be-ab0d-ed2c612c8310"
      },
      "outputs": [],
      "source": [
        "assert df_for_markup.shape[0] + aligned_pairs.shape[0] == results.shape[0]"
      ]
    },
    {
      "cell_type": "markdown",
      "source": [
        "## save data"
      ],
      "metadata": {
        "id": "OwD291Pr7CbM"
      },
      "id": "OwD291Pr7CbM"
    },
    {
      "cell_type": "code",
      "source": [
        "import json\n",
        "\n",
        "\n",
        "data = []\n",
        "for _, row in aligned_pairs.iterrows():\n",
        "    data.append({\n",
        "      'text': row['text'],\n",
        "      'closest_text_1': row['closest_text_1']\n",
        "    })\n",
        "\n",
        "\n",
        "with open(DATA_PATH_PREFIX + \"e-mordovia/aligned_news_pairs_06_02.json\", 'w') as f:\n",
        "    json.dump(data, f, ensure_ascii=False, indent=4)"
      ],
      "metadata": {
        "id": "kA_nD-2X5gqD"
      },
      "id": "kA_nD-2X5gqD",
      "execution_count": 28,
      "outputs": []
    },
    {
      "cell_type": "code",
      "source": [
        "import re\n",
        "\n",
        "data = []\n",
        "for _, row in aligned_pairs.iterrows():\n",
        "    mdf_name = row['name'].replace('\\xa0', ' ')\n",
        "    mdf_name = re.sub('\\s+', ' ', mdf_name).strip().replace('* ', '')\n",
        "    mdf_name = mdf_name.replace('-\\n', '').replace('\\n', ' ').strip()\n",
        "\n",
        "    ru_name = row['name'].replace('\\xa0', ' ')\n",
        "    ru_name = re.sub('\\s+', ' ', ru_name).strip().replace('* ', '')\n",
        "    ru_name = ru_name.replace('-\\n', '').replace('\\n', ' ').strip()\n",
        "\n",
        "    data.append({\n",
        "      'mdf': mdf_name,\n",
        "      'ru': ru_name\n",
        "    })\n",
        "\n",
        "\n",
        "with open(DATA_PATH_PREFIX + \"aligned_news_names_06_02.json\", 'w') as f:\n",
        "    json.dump(data, f, ensure_ascii=False, indent=4)"
      ],
      "metadata": {
        "id": "dB9NnxWunn3p"
      },
      "id": "dB9NnxWunn3p",
      "execution_count": null,
      "outputs": []
    },
    {
      "cell_type": "code",
      "execution_count": 29,
      "id": "b90eac67-cfba-4a30-9912-f58338e8ae00",
      "metadata": {
        "id": "b90eac67-cfba-4a30-9912-f58338e8ae00"
      },
      "outputs": [],
      "source": [
        "aligned_pairs.to_csv(DATA_PATH_PREFIX + 'e-mordovia/aligned_pairs_06_02.tsv', sep='\\t', index=False)"
      ]
    },
    {
      "cell_type": "code",
      "source": [
        "df_for_markup.to_excel(DATA_PATH_PREFIX + 'e-mordovia/df_for_markup_06_02.xlsx', index=False)"
      ],
      "metadata": {
        "id": "Nv7XVmUJ7J-J"
      },
      "id": "Nv7XVmUJ7J-J",
      "execution_count": null,
      "outputs": []
    },
    {
      "cell_type": "code",
      "source": [],
      "metadata": {
        "id": "owvnCG-q8IN6"
      },
      "id": "owvnCG-q8IN6",
      "execution_count": null,
      "outputs": []
    }
  ],
  "metadata": {
    "colab": {
      "provenance": []
    },
    "kernelspec": {
      "display_name": "Python 3",
      "name": "python3"
    },
    "language_info": {
      "codemirror_mode": {
        "name": "ipython",
        "version": 3
      },
      "file_extension": ".py",
      "mimetype": "text/x-python",
      "name": "python",
      "nbconvert_exporter": "python",
      "pygments_lexer": "ipython3",
      "version": "3.11.9"
    }
  },
  "nbformat": 4,
  "nbformat_minor": 5
}