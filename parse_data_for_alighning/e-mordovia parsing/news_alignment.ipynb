{
 "cells": [
  {
   "cell_type": "code",
   "execution_count": null,
   "id": "6486d2c4-99f3-42cc-86c5-eeb2a3e658d2",
   "metadata": {},
   "outputs": [],
   "source": [
    "!pip install hnswlib"
   ]
  },
  {
   "cell_type": "code",
   "execution_count": null,
   "id": "e14c74b0",
   "metadata": {},
   "outputs": [],
   "source": [
    "import hnswlib\n",
    "import numpy as np\n",
    "import pandas as pd\n",
    "import torch\n",
    "from transformers import AutoModelForPreTraining, BertTokenizer"
   ]
  },
  {
   "cell_type": "code",
   "execution_count": 1,
   "id": "m4nnS9zwPy0T",
   "metadata": {
    "colab": {
     "base_uri": "https://localhost:8080/"
    },
    "executionInfo": {
     "elapsed": 23737,
     "status": "ok",
     "timestamp": 1731616072386,
     "user": {
      "displayName": "Артем Чапаев",
      "userId": "16269375557667854029"
     },
     "user_tz": -180
    },
    "id": "m4nnS9zwPy0T",
    "outputId": "b580ee9b-22f3-438d-83e8-c6ee785b90d8"
   },
   "outputs": [
    {
     "name": "stdout",
     "output_type": "stream",
     "text": [
      "Mounted at /content/drive\n"
     ]
    }
   ],
   "source": [
    "from google.colab import drive\n",
    "drive.mount('/content/drive')"
   ]
  },
  {
   "cell_type": "code",
   "execution_count": null,
   "id": "22744071",
   "metadata": {},
   "outputs": [],
   "source": [
    "!ls drive/MyDrive/diploma/data"
   ]
  },
  {
   "cell_type": "code",
   "execution_count": 2,
   "id": "kvBfHQFZPyxV",
   "metadata": {
    "executionInfo": {
     "elapsed": 2,
     "status": "ok",
     "timestamp": 1731616072386,
     "user": {
      "displayName": "Артем Чапаев",
      "userId": "16269375557667854029"
     },
     "user_tz": -180
    },
    "id": "kvBfHQFZPyxV"
   },
   "outputs": [],
   "source": [
    "DATA_PATH_PREFIX = 'drive/MyDrive/diploma/data/'"
   ]
  },
  {
   "cell_type": "code",
   "execution_count": 10,
   "id": "6f00c874-272d-42b2-a447-d81ca412b6e6",
   "metadata": {
    "executionInfo": {
     "elapsed": 1,
     "status": "ok",
     "timestamp": 1731616088180,
     "user": {
      "displayName": "Артем Чапаев",
      "userId": "16269375557667854029"
     },
     "user_tz": -180
    },
    "id": "6f00c874-272d-42b2-a447-d81ca412b6e6"
   },
   "outputs": [],
   "source": [
    "MODEL_DIR = 'labse_moksha_60k+50k+2k+3k+1k'"
   ]
  },
  {
   "cell_type": "code",
   "execution_count": 15,
   "id": "QtbEQZ-6owoi",
   "metadata": {
    "executionInfo": {
     "elapsed": 5,
     "status": "ok",
     "timestamp": 1731616118675,
     "user": {
      "displayName": "Артем Чапаев",
      "userId": "16269375557667854029"
     },
     "user_tz": -180
    },
    "id": "QtbEQZ-6owoi"
   },
   "outputs": [],
   "source": [
    "BATCH_SIZE = 1024"
   ]
  },
  {
   "cell_type": "markdown",
   "id": "b176a003-6973-440f-a5bf-7215ff32415e",
   "metadata": {
    "id": "b176a003-6973-440f-a5bf-7215ff32415e"
   },
   "source": [
    "# get papers features"
   ]
  },
  {
   "cell_type": "code",
   "execution_count": 134,
   "id": "f46427fb-4104-4a1d-b2ab-32247fab7649",
   "metadata": {
    "executionInfo": {
     "elapsed": 1568,
     "status": "ok",
     "timestamp": 1731618946898,
     "user": {
      "displayName": "Артем Чапаев",
      "userId": "16269375557667854029"
     },
     "user_tz": -180
    },
    "id": "f46427fb-4104-4a1d-b2ab-32247fab7649"
   },
   "outputs": [],
   "source": [
    "mdf_names_df = pd.read_csv(DATA_PATH_PREFIX + 'mdf_names_df.tsv', sep='\\t')"
   ]
  },
  {
   "cell_type": "code",
   "execution_count": 137,
   "id": "bf010f8b-9fe9-4ea2-b0c6-5091c866c0ab",
   "metadata": {
    "executionInfo": {
     "elapsed": 4168,
     "status": "ok",
     "timestamp": 1731618968188,
     "user": {
      "displayName": "Артем Чапаев",
      "userId": "16269375557667854029"
     },
     "user_tz": -180
    },
    "id": "bf010f8b-9fe9-4ea2-b0c6-5091c866c0ab"
   },
   "outputs": [],
   "source": [
    "ru_names_df = pd.read_csv(DATA_PATH_PREFIX + 'ru_names_df.tsv', sep='\\t')"
   ]
  },
  {
   "cell_type": "code",
   "execution_count": 11,
   "id": "ae20019f-1e07-42f8-8425-de0d9b3558b2",
   "metadata": {
    "executionInfo": {
     "elapsed": 1291,
     "status": "ok",
     "timestamp": 1731616089470,
     "user": {
      "displayName": "Артем Чапаев",
      "userId": "16269375557667854029"
     },
     "user_tz": -180
    },
    "id": "ae20019f-1e07-42f8-8425-de0d9b3558b2"
   },
   "outputs": [],
   "source": [
    "tokenizer = BertTokenizer.from_pretrained('drive/MyDrive/diploma/' + MODEL_DIR)\n",
    "tuned_model = AutoModelForPreTraining.from_pretrained('drive/MyDrive/diploma/' + MODEL_DIR)"
   ]
  },
  {
   "cell_type": "code",
   "execution_count": 13,
   "id": "njFU8H1pQxNf",
   "metadata": {
    "executionInfo": {
     "elapsed": 1400,
     "status": "ok",
     "timestamp": 1731616118674,
     "user": {
      "displayName": "Артем Чапаев",
      "userId": "16269375557667854029"
     },
     "user_tz": -180
    },
    "id": "njFU8H1pQxNf"
   },
   "outputs": [],
   "source": [
    "tuned_model.cuda();"
   ]
  },
  {
   "cell_type": "code",
   "execution_count": 139,
   "id": "115d5056-9006-4215-82e5-6e6021e53821",
   "metadata": {
    "executionInfo": {
     "elapsed": 80757,
     "status": "ok",
     "timestamp": 1731619057819,
     "user": {
      "displayName": "Артем Чапаев",
      "userId": "16269375557667854029"
     },
     "user_tz": -180
    },
    "id": "115d5056-9006-4215-82e5-6e6021e53821"
   },
   "outputs": [],
   "source": [
    "st = 0\n",
    "ru_names_embs = []\n",
    "\n",
    "with torch.no_grad():\n",
    "    for end in list(range(BATCH_SIZE, ru_names_df.shape[0] + BATCH_SIZE, BATCH_SIZE)):\n",
    "        toks = tokenizer(\n",
    "            ru_names_df['name'].values.tolist()[st:end], \n",
    "            return_tensors='pt', \n",
    "            padding=True, \n",
    "            truncation=True,\n",
    "            max_length=128\n",
    "        )\n",
    "\n",
    "        embs = tuned_model.bert(**toks.to(tuned_model.device)).pooler_output\n",
    "        embs = torch.nn.functional.normalize(embs)\n",
    "\n",
    "        ru_names_embs.extend(embs.tolist())\n",
    "        st = end"
   ]
  },
  {
   "cell_type": "code",
   "execution_count": 140,
   "id": "J5CWj5Q5U3bN",
   "metadata": {
    "executionInfo": {
     "elapsed": 286,
     "status": "ok",
     "timestamp": 1731619058577,
     "user": {
      "displayName": "Артем Чапаев",
      "userId": "16269375557667854029"
     },
     "user_tz": -180
    },
    "id": "J5CWj5Q5U3bN"
   },
   "outputs": [],
   "source": [
    "ru_names_embs = torch.Tensor(ru_names_embs)\n",
    "ru_names_embs.shape"
   ]
  },
  {
   "cell_type": "code",
   "execution_count": 143,
   "id": "mwJ5yMaGVRvP",
   "metadata": {
    "executionInfo": {
     "elapsed": 17450,
     "status": "ok",
     "timestamp": 1731619083720,
     "user": {
      "displayName": "Артем Чапаев",
      "userId": "16269375557667854029"
     },
     "user_tz": -180
    },
    "id": "mwJ5yMaGVRvP"
   },
   "outputs": [],
   "source": [
    "st = 0\n",
    "mdf_names_embs = []\n",
    "\n",
    "with torch.no_grad():\n",
    "    for end in list(range(BATCH_SIZE, mdf_names_df.shape[0] + BATCH_SIZE, BATCH_SIZE)):\n",
    "        toks = tokenizer(\n",
    "            mdf_names_df['name'].values.tolist()[st:end], \n",
    "            return_tensors='pt', \n",
    "            padding=True, \n",
    "            truncation=True,\n",
    "            max_length=128\n",
    "        )\n",
    "\n",
    "        embs = tuned_model.bert(**toks.to(tuned_model.device)).pooler_output\n",
    "        embs = torch.nn.functional.normalize(embs)\n",
    "\n",
    "        mdf_names_embs.extend(embs.tolist())\n",
    "        st = end"
   ]
  },
  {
   "cell_type": "code",
   "execution_count": 144,
   "id": "c070b6da-03fc-44c5-bdac-e95ea73f2cce",
   "metadata": {
    "executionInfo": {
     "elapsed": 310,
     "status": "ok",
     "timestamp": 1731619084462,
     "user": {
      "displayName": "Артем Чапаев",
      "userId": "16269375557667854029"
     },
     "user_tz": -180
    },
    "id": "c070b6da-03fc-44c5-bdac-e95ea73f2cce"
   },
   "outputs": [],
   "source": [
    "mdf_names_embs = torch.Tensor(mdf_names_embs)\n",
    "mdf_names_embs.shape"
   ]
  },
  {
   "cell_type": "markdown",
   "id": "da366af2",
   "metadata": {},
   "source": [
    "## Get most relevant pairs with hnswlib"
   ]
  },
  {
   "cell_type": "code",
   "execution_count": 142,
   "id": "eb8a3dee-8788-412d-80e6-6ba6d886c4cc",
   "metadata": {
    "executionInfo": {
     "elapsed": 7696,
     "status": "ok",
     "timestamp": 1731619066272,
     "user": {
      "displayName": "Артем Чапаев",
      "userId": "16269375557667854029"
     },
     "user_tz": -180
    },
    "id": "eb8a3dee-8788-412d-80e6-6ba6d886c4cc"
   },
   "outputs": [],
   "source": [
    "data_dim = 768\n",
    "num_elements = 30000\n",
    "\n",
    "index = hnswlib.Index(space='l2', dim=data_dim)\n",
    "index.init_index(max_elements=num_elements, ef_construction=200, M=16)\n",
    "index.add_items(ru_names_embs.numpy())"
   ]
  },
  {
   "cell_type": "code",
   "execution_count": 146,
   "id": "f275f1d3-fd18-458c-94fc-824168e9c3d4",
   "metadata": {
    "executionInfo": {
     "elapsed": 879,
     "status": "ok",
     "timestamp": 1731619085339,
     "user": {
      "displayName": "Артем Чапаев",
      "userId": "16269375557667854029"
     },
     "user_tz": -180
    },
    "id": "f275f1d3-fd18-458c-94fc-824168e9c3d4"
   },
   "outputs": [],
   "source": [
    "labels, distances = index.knn_query(mdf_names_embs.numpy(), k=2)\n",
    "distances = 1 - distances"
   ]
  },
  {
   "cell_type": "code",
   "execution_count": 158,
   "id": "0b4d3902-75dd-43fc-a27c-5fb6c9992726",
   "metadata": {
    "executionInfo": {
     "elapsed": 691,
     "status": "ok",
     "timestamp": 1731619136764,
     "user": {
      "displayName": "Артем Чапаев",
      "userId": "16269375557667854029"
     },
     "user_tz": -180
    },
    "id": "0b4d3902-75dd-43fc-a27c-5fb6c9992726"
   },
   "outputs": [],
   "source": [
    "for i in range(2):\n",
    "    mdf_names_df[f'closest_{i+1}'] = [ru_names_df.loc[label[i], 'name'] for label in labels]\n",
    "    mdf_names_df[f'closest_fns_{i+1}'] = [ru_names_df.loc[label[i], 'fn'] for label in labels]\n",
    "    mdf_names_df[f'closest_text_{i+1}'] = [ru_names_df.loc[label[i], 'text'] for label in labels]\n",
    "    mdf_names_df[f'distances_{i+1}'] = distances[:, i]"
   ]
  },
  {
   "cell_type": "markdown",
   "id": "cdf04ddb",
   "metadata": {},
   "source": [
    "## get the most confident pairs of parallel texts"
   ]
  },
  {
   "cell_type": "code",
   "execution_count": 161,
   "id": "GoUHikgNb1xv",
   "metadata": {
    "executionInfo": {
     "elapsed": 2,
     "status": "ok",
     "timestamp": 1731619138864,
     "user": {
      "displayName": "Артем Чапаев",
      "userId": "16269375557667854029"
     },
     "user_tz": -180
    },
    "id": "GoUHikgNb1xv"
   },
   "outputs": [],
   "source": [
    "results = mdf_names_df.copy()"
   ]
  },
  {
   "cell_type": "code",
   "execution_count": 162,
   "id": "4483cb9e-ada6-4c95-9163-925b993cdc10",
   "metadata": {
    "executionInfo": {
     "elapsed": 341,
     "status": "ok",
     "timestamp": 1731619139498,
     "user": {
      "displayName": "Артем Чапаев",
      "userId": "16269375557667854029"
     },
     "user_tz": -180
    },
    "id": "4483cb9e-ada6-4c95-9163-925b993cdc10"
   },
   "outputs": [],
   "source": [
    "results['diff'] = results.apply(lambda x: x['distances_1'] - x['distances_2'], axis=1)"
   ]
  },
  {
   "cell_type": "code",
   "execution_count": 192,
   "id": "6c2760a8-ea67-47db-9b59-7b86f9aa956f",
   "metadata": {
    "colab": {
     "base_uri": "https://localhost:8080/"
    },
    "executionInfo": {
     "elapsed": 285,
     "status": "ok",
     "timestamp": 1731619667182,
     "user": {
      "displayName": "Артем Чапаев",
      "userId": "16269375557667854029"
     },
     "user_tz": -180
    },
    "id": "6c2760a8-ea67-47db-9b59-7b86f9aa956f",
    "outputId": "64f70c47-06ff-4963-df0b-fae2adf8d3b5"
   },
   "outputs": [
    {
     "data": {
      "text/plain": [
       "0.1381789803504944"
      ]
     },
     "execution_count": 192,
     "metadata": {},
     "output_type": "execute_result"
    }
   ],
   "source": [
    "np.percentile(results['diff'].values, 40) # 0.138"
   ]
  },
  {
   "cell_type": "code",
   "execution_count": 193,
   "id": "kxfNnFFycZbF",
   "metadata": {
    "executionInfo": {
     "elapsed": 312,
     "status": "ok",
     "timestamp": 1731619672784,
     "user": {
      "displayName": "Артем Чапаев",
      "userId": "16269375557667854029"
     },
     "user_tz": -180
    },
    "id": "kxfNnFFycZbF"
   },
   "outputs": [],
   "source": [
    "df_for_markup = results[results['diff'] < 0.138]"
   ]
  },
  {
   "cell_type": "code",
   "execution_count": 194,
   "id": "FVDNMAfHc1u3",
   "metadata": {
    "colab": {
     "base_uri": "https://localhost:8080/"
    },
    "executionInfo": {
     "elapsed": 3,
     "status": "ok",
     "timestamp": 1731619673157,
     "user": {
      "displayName": "Артем Чапаев",
      "userId": "16269375557667854029"
     },
     "user_tz": -180
    },
    "id": "FVDNMAfHc1u3",
    "outputId": "7ebec5a7-ca62-42c7-ea45-e2f9f7cbd823"
   },
   "outputs": [
    {
     "data": {
      "text/plain": [
       "(1822, 12)"
      ]
     },
     "execution_count": 194,
     "metadata": {},
     "output_type": "execute_result"
    }
   ],
   "source": [
    "df_for_markup.shape"
   ]
  },
  {
   "cell_type": "code",
   "execution_count": 195,
   "id": "e6HjGWBpjHr1",
   "metadata": {
    "colab": {
     "base_uri": "https://localhost:8080/"
    },
    "executionInfo": {
     "elapsed": 2,
     "status": "ok",
     "timestamp": 1731619673422,
     "user": {
      "displayName": "Артем Чапаев",
      "userId": "16269375557667854029"
     },
     "user_tz": -180
    },
    "id": "e6HjGWBpjHr1",
    "outputId": "a8a8c489-98c4-4113-9305-90b11ba77e87"
   },
   "outputs": [
    {
     "data": {
      "text/plain": [
       "array(['Мордовиянь Оцюнясь Владимир Волков лувозе Государственнай Собранияти Посланиянц',\n",
       "       'Глава Мордовии Владимир Волков выступил с Посланием Государственному Собранию',\n",
       "       'Глава Мордовии Владимир Волков выступил с Посланием Государственному Собранию',\n",
       "       0.0], dtype=object)"
      ]
     },
     "execution_count": 195,
     "metadata": {},
     "output_type": "execute_result"
    }
   ],
   "source": [
    "df_for_markup[['name', 'closest_1', 'closest_2', 'diff']].values[0]"
   ]
  },
  {
   "cell_type": "code",
   "execution_count": 171,
   "id": "JBpE7LLPc8qd",
   "metadata": {
    "executionInfo": {
     "elapsed": 259,
     "status": "ok",
     "timestamp": 1731619234854,
     "user": {
      "displayName": "Артем Чапаев",
      "userId": "16269375557667854029"
     },
     "user_tz": -180
    },
    "id": "JBpE7LLPc8qd"
   },
   "outputs": [],
   "source": [
    "# df_for_markup[['name', 'text', 'closest_1', 'closest_2', 'diff', 'closest_text_1', 'closest_text_2']].values[0]"
   ]
  },
  {
   "cell_type": "code",
   "execution_count": 196,
   "id": "bb475a45-eeda-44ec-b32a-db89e2c1a5b8",
   "metadata": {
    "executionInfo": {
     "elapsed": 352,
     "status": "ok",
     "timestamp": 1731619676222,
     "user": {
      "displayName": "Артем Чапаев",
      "userId": "16269375557667854029"
     },
     "user_tz": -180
    },
    "id": "bb475a45-eeda-44ec-b32a-db89e2c1a5b8"
   },
   "outputs": [],
   "source": [
    "aligned_pairs = results[results['diff'] >= 0.138][['name', 'fn', 'closest_1', 'closest_fns_1', 'distances_1', 'closest_fns_1', 'diff']].sort_values('diff')"
   ]
  },
  {
   "cell_type": "code",
   "execution_count": 197,
   "id": "e1a53a63-0b98-42a2-891f-25c474e1f4cd",
   "metadata": {
    "colab": {
     "base_uri": "https://localhost:8080/"
    },
    "executionInfo": {
     "elapsed": 3,
     "status": "ok",
     "timestamp": 1731619676671,
     "user": {
      "displayName": "Артем Чапаев",
      "userId": "16269375557667854029"
     },
     "user_tz": -180
    },
    "id": "e1a53a63-0b98-42a2-891f-25c474e1f4cd",
    "outputId": "de301d12-aa5b-44f4-8029-e0c017c9f143"
   },
   "outputs": [
    {
     "data": {
      "text/plain": [
       "(2738, 7)"
      ]
     },
     "execution_count": 197,
     "metadata": {},
     "output_type": "execute_result"
    }
   ],
   "source": [
    "aligned_pairs.shape"
   ]
  },
  {
   "cell_type": "code",
   "execution_count": 200,
   "id": "f2584f36-99da-41be-ab0d-ed2c612c8310",
   "metadata": {
    "executionInfo": {
     "elapsed": 304,
     "status": "ok",
     "timestamp": 1731619738873,
     "user": {
      "displayName": "Артем Чапаев",
      "userId": "16269375557667854029"
     },
     "user_tz": -180
    },
    "id": "f2584f36-99da-41be-ab0d-ed2c612c8310"
   },
   "outputs": [],
   "source": [
    "assert df_for_markup.shape[0] + aligned_pairs.shape[0] == results.shape[0]"
   ]
  },
  {
   "cell_type": "code",
   "execution_count": 202,
   "id": "b90eac67-cfba-4a30-9912-f58338e8ae00",
   "metadata": {
    "executionInfo": {
     "elapsed": 420,
     "status": "ok",
     "timestamp": 1731619764482,
     "user": {
      "displayName": "Артем Чапаев",
      "userId": "16269375557667854029"
     },
     "user_tz": -180
    },
    "id": "b90eac67-cfba-4a30-9912-f58338e8ae00"
   },
   "outputs": [],
   "source": [
    "aligned_pairs[['fn', 'closest_fns_1']].to_csv(DATA_PATH_PREFIX + 'aligned_name_pairs.tsv', sep='\\t', index=False)"
   ]
  },
  {
   "cell_type": "code",
   "execution_count": null,
   "id": "9eed0cd9-942a-42d6-8044-049a1f58e06a",
   "metadata": {
    "id": "9eed0cd9-942a-42d6-8044-049a1f58e06a"
   },
   "outputs": [],
   "source": []
  }
 ],
 "metadata": {
  "accelerator": "GPU",
  "colab": {
   "collapsed_sections": [
    "6f37db23-4142-4767-9a72-8db1276cef50"
   ],
   "gpuType": "T4",
   "provenance": []
  },
  "kernelspec": {
   "display_name": "Python 3",
   "language": "python",
   "name": "python3"
  },
  "language_info": {
   "codemirror_mode": {
    "name": "ipython",
    "version": 3
   },
   "file_extension": ".py",
   "mimetype": "text/x-python",
   "name": "python",
   "nbconvert_exporter": "python",
   "pygments_lexer": "ipython3",
   "version": "3.11.9"
  }
 },
 "nbformat": 4,
 "nbformat_minor": 5
}
