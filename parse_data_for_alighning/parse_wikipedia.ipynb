{
 "cells": [
  {
   "cell_type": "code",
   "execution_count": 4,
   "id": "03d84b06",
   "metadata": {},
   "outputs": [],
   "source": [
    "from collections import Counter\n",
    "import random\n",
    "import re\n",
    "\n",
    "import pandas as pd\n",
    "import razdel\n",
    "import requests\n",
    "from bs4 import BeautifulSoup\n",
    "from tqdm.auto import tqdm"
   ]
  },
  {
   "cell_type": "code",
   "execution_count": 2,
   "id": "1eddd971",
   "metadata": {},
   "outputs": [],
   "source": [
    "from LID import LanguageDetector\n",
    "    \n",
    "LD = LanguageDetector()"
   ]
  },
  {
   "cell_type": "markdown",
   "id": "82a7226d",
   "metadata": {},
   "source": [
    "## get and parse pages"
   ]
  },
  {
   "cell_type": "code",
   "execution_count": 3,
   "id": "bfaaa290",
   "metadata": {},
   "outputs": [],
   "source": [
    "def get_content(soup):\n",
    "    body = soup.find('div', {'id': 'bodyContent'})\n",
    "    return [paragraph.text for paragraph in body.findAll('p')]"
   ]
  },
  {
   "cell_type": "code",
   "execution_count": 5,
   "id": "51f43c52",
   "metadata": {},
   "outputs": [],
   "source": [
    "good_counter = 0\n",
    "\n",
    "def parse_by_id(idx, lang='mdf'):\n",
    "    url = f'https://{lang}.wikipedia.org/?curid={idx}'\n",
    "    soup = BeautifulSoup(requests.get(url).text)\n",
    "\n",
    "    raw_content = '\\n\\n'.join(get_content(soup))\n",
    "    if LD.predict_lang(raw_content).most_common(1)[0][0] != lang:\n",
    "        return None\n",
    "\n",
    "    results = {\n",
    "        'url': url,\n",
    "        'content': raw_content.split('\\n\\n')\n",
    "    }\n",
    "    ru_button = soup.find('li', {'class': 'interlanguage-link interwiki-ru mw-list-item'})\n",
    "    if ru_button:\n",
    "        ru_url = ru_button.find('a')['href']\n",
    "        \n",
    "        ru_soup = BeautifulSoup(requests.get(ru_url).text)\n",
    "        results['ru_url'] = ru_url\n",
    "        results['ru_content'] = get_content(ru_soup)\n",
    "    return results"
   ]
  },
  {
   "cell_type": "code",
   "execution_count": 16,
   "id": "ea333fc6",
   "metadata": {},
   "outputs": [],
   "source": [
    "all_results = []"
   ]
  },
  {
   "cell_type": "code",
   "execution_count": 17,
   "id": "9dc75414",
   "metadata": {},
   "outputs": [],
   "source": [
    "for i in range(10):\n",
    "    page = parse_by_id(i)\n",
    "    if page is None:\n",
    "        continue\n",
    "    all_results.append(page)"
   ]
  },
  {
   "cell_type": "code",
   "execution_count": 18,
   "id": "9a80cd83",
   "metadata": {},
   "outputs": [
    {
     "data": {
      "text/plain": [
       "5"
      ]
     },
     "execution_count": 18,
     "metadata": {},
     "output_type": "execute_result"
    }
   ],
   "source": [
    "len(all_results)"
   ]
  },
  {
   "cell_type": "markdown",
   "id": "71089836",
   "metadata": {},
   "source": [
    "## Sort pages by useful content"
   ]
  },
  {
   "cell_type": "code",
   "execution_count": 20,
   "id": "d3b2e772",
   "metadata": {},
   "outputs": [
    {
     "data": {
      "application/vnd.jupyter.widget-view+json": {
       "model_id": "a05bc96624d146089ef35e301f714106",
       "version_major": 2,
       "version_minor": 0
      },
      "text/plain": [
       "  0%|          | 0/5 [00:00<?, ?it/s]"
      ]
     },
     "metadata": {},
     "output_type": "display_data"
    },
    {
     "name": "stdout",
     "output_type": "stream",
     "text": [
      "5\n"
     ]
    }
   ],
   "source": [
    "good_results = {}\n",
    "for item in tqdm(all_results):\n",
    "    url = item['url']\n",
    "    text = '\\n\\n'.join(item['content']).strip()\n",
    "    text = re.sub('\\[\\d+\\]', '', text)\n",
    "\n",
    "    pars = []\n",
    "    mdf_scores = []\n",
    "    ru_scores = []\n",
    "    top_langs = []\n",
    "    lens = []\n",
    "    for p in text.split('\\n\\n'):\n",
    "        p = p.strip()\n",
    "        if len(p.strip()) < 3:\n",
    "            continue\n",
    "        if (p.count('•') + p.count('·') + p.count('|')) / len(p) > 0.05:\n",
    "            continue\n",
    "        if not re.match('.*[а-яё].*', p.lower(), re.DOTALL):\n",
    "            continue\n",
    "        pars.append(p)\n",
    "        langs = LD.predict_lang(p)\n",
    "        mdf_scores.append(langs['mdf'])\n",
    "        ru_scores.append(langs['ru'])\n",
    "        top_langs.append(langs.most_common(1)[0][0])\n",
    "        lens.append(len(p))\n",
    "    \n",
    "    good_pars = '\\n\\n'.join([p for i, p in enumerate(pars) if top_langs[i] == 'mdf'])\n",
    "    \n",
    "    if good_pars.startswith('Тя категориес') or good_pars.startswith('Няфтьфт'):\n",
    "        continue\n",
    "    \n",
    "    if good_pars:\n",
    "        good_results[url] = good_pars\n",
    "        \n",
    "print(len(good_results))"
   ]
  },
  {
   "cell_type": "code",
   "execution_count": 22,
   "id": "0249d6cb",
   "metadata": {},
   "outputs": [
    {
     "name": "stdout",
     "output_type": "stream",
     "text": [
      "https://mdf.wikipedia.org/?curid=0\n",
      "Вешф-анаф лопать пряфкслемоц шава или эсонза ули аньцек лемонди ётка васта.\n",
      "\n",
      "Пря лопа лопанди мрдамс.\n"
     ]
    }
   ],
   "source": [
    "url = random.choice(list(good_results.keys()))\n",
    "print(url)\n",
    "text = good_results[url]\n",
    "print(text)\n"
   ]
  },
  {
   "cell_type": "code",
   "execution_count": 24,
   "id": "30829a75",
   "metadata": {},
   "outputs": [
    {
     "data": {
      "text/plain": [
       "[('Вешф-анаф лопать пряфкслемоц шава или эсонза ули аньцек лемонди ётка васта.\\n\\nПря лопа лопанди мрдамс.',\n",
       "  3),\n",
       " ('Арьсезь корхтама лопат — васта, коса ломаттне арьсихть, кода цебярьгофтомс уликсть Википедиесь. Ушедода од арьсезь корхнема, штоба кирдемс соткс и и арьсемс-ладямс мезть-бди мархта Az1568. Тяса сёрматфть тонь кядялот ули кода моафтомс и лиятненди.',\n",
       "  1),\n",
       " ('тяштьфкс: Улема, сёрматфксть лисемда меле полафтоматнень няеманкса тееть сави аруяфтомс-шамдомс эсь браузерцень кэш-паргонянц.',\n",
       "  1)]"
      ]
     },
     "execution_count": 24,
     "metadata": {},
     "output_type": "execute_result"
    }
   ],
   "source": [
    "Counter(good_results.values()).most_common(5)"
   ]
  },
  {
   "cell_type": "code",
   "execution_count": 25,
   "id": "4ade661e",
   "metadata": {},
   "outputs": [
    {
     "data": {
      "text/plain": [
       "5"
      ]
     },
     "execution_count": 25,
     "metadata": {},
     "output_type": "execute_result"
    }
   ],
   "source": [
    "len(good_results)"
   ]
  },
  {
   "cell_type": "markdown",
   "id": "b7112d15",
   "metadata": {},
   "source": [
    "## get candidates with `ru_content`"
   ]
  },
  {
   "cell_type": "code",
   "execution_count": 26,
   "id": "52581563",
   "metadata": {},
   "outputs": [],
   "source": [
    "url2item = {item['url']: item for item in all_results}"
   ]
  },
  {
   "cell_type": "code",
   "execution_count": 27,
   "id": "9a9b71a6",
   "metadata": {},
   "outputs": [
    {
     "data": {
      "text/plain": [
       "0"
      ]
     },
     "execution_count": 27,
     "metadata": {},
     "output_type": "execute_result"
    }
   ],
   "source": [
    "candidates = list({k for k, v in good_results.items() if 'ru_content' in url2item[k]})\n",
    "len(candidates)"
   ]
  },
  {
   "cell_type": "markdown",
   "id": "8d0191dd",
   "metadata": {},
   "source": [
    "## get df with data"
   ]
  },
  {
   "cell_type": "code",
   "execution_count": 119,
   "id": "ec08137a",
   "metadata": {},
   "outputs": [],
   "source": [
    "def get_good_text(paragraphs, target_language='ru'):\n",
    "    text = '\\n\\n'.join(paragraphs).strip()\n",
    "    text = re.sub('\\[\\d+\\]', '', text)\n",
    "\n",
    "    pars = []\n",
    "    top_langs = []\n",
    "    for p in text.split('\\n\\n'):\n",
    "        p = p.strip().replace('\\xa0', ' ')\n",
    "        if len(p.strip()) < 3:\n",
    "            return ''\n",
    "        if (p.count('•') + p.count('·') + p.count('|')) / len(p) > 0.05:\n",
    "            return ''\n",
    "        if not re.match('.*[а-яё].*', p.lower(), re.DOTALL):\n",
    "            return ''\n",
    "        pars.append(p)\n",
    "        langs = LD.predict_lang(p)\n",
    "        top_langs.append(langs.most_common(1)[0][0])\n",
    "    \n",
    "    good_pars = '\\n\\n'.join([p for i, p in enumerate(pars) if top_langs[i] == target_language])\n",
    "    \n",
    "    if good_pars.startswith('Тя категориес') or good_pars.startswith('Няфтьфт'):\n",
    "        return ''\n",
    "    \n",
    "    return good_pars"
   ]
  },
  {
   "cell_type": "code",
   "execution_count": 140,
   "id": "ae9ce963",
   "metadata": {},
   "outputs": [
    {
     "data": {
      "application/vnd.jupyter.widget-view+json": {
       "model_id": "2844c8bc5ce24ed580d180f3e3e2105c",
       "version_major": 2,
       "version_minor": 0
      },
      "text/plain": [
       "  0%|          | 0/5975 [00:00<?, ?it/s]"
      ]
     },
     "metadata": {},
     "output_type": "display_data"
    }
   ],
   "source": [
    "all_ru_sentences = []\n",
    "all_mdf_sentences = []\n",
    "\n",
    "for url in tqdm(candidates):\n",
    "    ru_text = get_good_text(url2item[url]['ru_content'])\n",
    "    if not ru_text: \n",
    "        continue\n",
    "    sents_mdf = [s.text for p in good_results[url].split('\\n') for s in razdel.sentenize(p) if s.text]\n",
    "    sents_ru = [s.text for p in ru_text.split('\\n') for s in razdel.sentenize(p)  if s.text]\n",
    "    \n",
    "    all_ru_sentences.append(sents_ru)\n",
    "    all_mdf_sentences.append(sents_mdf)"
   ]
  },
  {
   "cell_type": "code",
   "execution_count": 153,
   "id": "2311d951",
   "metadata": {},
   "outputs": [],
   "source": [
    "df = pd.DataFrame({'ru_text': ' '.join(all_ru_sentences), 'mdf_text': ' '.join(all_mdf_sentences)})"
   ]
  },
  {
   "cell_type": "code",
   "execution_count": 6,
   "id": "f81a17bd",
   "metadata": {},
   "outputs": [],
   "source": [
    "df = df[df['mdf_text'].apply(len) > 20]"
   ]
  },
  {
   "cell_type": "code",
   "execution_count": 7,
   "id": "c5a57995",
   "metadata": {},
   "outputs": [
    {
     "data": {
      "text/plain": [
       "(3164, 2)"
      ]
     },
     "execution_count": 7,
     "metadata": {},
     "output_type": "execute_result"
    }
   ],
   "source": [
    "df.shape"
   ]
  },
  {
   "cell_type": "code",
   "execution_count": 13,
   "id": "6dc66055",
   "metadata": {},
   "outputs": [],
   "source": [
    "df.reset_index(drop=True).to_pickle('results/wikipedia_dump.pkl')"
   ]
  },
  {
   "cell_type": "code",
   "execution_count": null,
   "id": "e4ceaa2d",
   "metadata": {},
   "outputs": [],
   "source": []
  }
 ],
 "metadata": {
  "kernelspec": {
   "display_name": "Python 3",
   "language": "python",
   "name": "python3"
  },
  "language_info": {
   "codemirror_mode": {
    "name": "ipython",
    "version": 3
   },
   "file_extension": ".py",
   "mimetype": "text/x-python",
   "name": "python",
   "nbconvert_exporter": "python",
   "pygments_lexer": "ipython3",
   "version": "3.11.9"
  }
 },
 "nbformat": 4,
 "nbformat_minor": 5
}
