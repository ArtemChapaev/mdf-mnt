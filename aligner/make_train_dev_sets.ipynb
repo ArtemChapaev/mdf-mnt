{
 "cells": [
  {
   "cell_type": "code",
   "execution_count": 2,
   "id": "11aa2494",
   "metadata": {},
   "outputs": [],
   "source": [
    "import os\n",
    "import pandas as pd\n",
    "import razdel\n",
    "import re\n",
    "import random\n",
    "import json\n",
    "from tqdm.auto import tqdm, trange"
   ]
  },
  {
   "cell_type": "code",
   "execution_count": 7,
   "id": "c2ee10b8",
   "metadata": {},
   "outputs": [],
   "source": [
    "DATA_PATH_PREFIX = '../parsing_aligned_data/results/'"
   ]
  },
  {
   "cell_type": "markdown",
   "id": "a9b162de",
   "metadata": {},
   "source": [
    "## Load sentence-parallel data"
   ]
  },
  {
   "cell_type": "code",
   "execution_count": 8,
   "id": "ad9e92e1",
   "metadata": {},
   "outputs": [
    {
     "name": "stdout",
     "output_type": "stream",
     "text": [
      "(11650, 4)\n",
      "(11633, 4)\n",
      "(11583, 4)\n",
      "Index(['Unnamed: 0', 'mdf', 'ru', 'source'], dtype='object')\n"
     ]
    }
   ],
   "source": [
    "bible_df = pd.read_csv(DATA_PATH_PREFIX + 'moksha_bible.tsv', sep='\\t')\n",
    "print(bible_df.shape)\n",
    "\n",
    "bible_df = bible_df.dropna()\n",
    "print(bible_df.shape)\n",
    "\n",
    "bible_df = bible_df[~bible_df['mdf'].str.startswith('Глава ')]\n",
    "print(bible_df.shape)\n",
    "print(bible_df.columns)"
   ]
  },
  {
   "cell_type": "code",
   "execution_count": 9,
   "id": "abc26f74",
   "metadata": {},
   "outputs": [],
   "source": [
    "assert not bible_df.isna().sum().sum()"
   ]
  },
  {
   "cell_type": "code",
   "execution_count": 10,
   "id": "681ed691",
   "metadata": {},
   "outputs": [
    {
     "name": "stdout",
     "output_type": "stream",
     "text": [
      "11583\n"
     ]
    }
   ],
   "source": [
    "bible_pairs = list(zip(bible_df['mdf'], bible_df['ru']))\n",
    "print(len(bible_pairs))"
   ]
  },
  {
   "cell_type": "code",
   "execution_count": 11,
   "id": "20b1147f",
   "metadata": {},
   "outputs": [
    {
     "data": {
      "text/plain": [
       "('И ули тяфта: эрсь, кие тердьсы Азорть лемонц, ули идеф .',\n",
       " 'И будет: всякий, кто призовет имя Господне, спасется.')"
      ]
     },
     "execution_count": 11,
     "metadata": {},
     "output_type": "execute_result"
    }
   ],
   "source": [
    "random.choice(bible_pairs)"
   ]
  },
  {
   "cell_type": "code",
   "execution_count": 12,
   "id": "53ecb6f3",
   "metadata": {},
   "outputs": [],
   "source": [
    "word_df = pd.read_csv(DATA_PATH_PREFIX + 'all_dicts_data.tsv', sep='\\t')"
   ]
  },
  {
   "cell_type": "code",
   "execution_count": 16,
   "id": "ec4b6df5",
   "metadata": {},
   "outputs": [],
   "source": [
    "assert not word_df.isna().sum().sum()"
   ]
  },
  {
   "cell_type": "code",
   "execution_count": 17,
   "id": "b0215689",
   "metadata": {},
   "outputs": [
    {
     "name": "stdout",
     "output_type": "stream",
     "text": [
      "3589\n"
     ]
    }
   ],
   "source": [
    "word_pairs = list(zip(word_df['mdf'], word_df['ru']))\n",
    "print(len(word_pairs))"
   ]
  },
  {
   "cell_type": "code",
   "execution_count": 18,
   "id": "e79bec65",
   "metadata": {},
   "outputs": [
    {
     "data": {
      "text/plain": [
       "('зверь', 'зверь')"
      ]
     },
     "execution_count": 18,
     "metadata": {},
     "output_type": "execute_result"
    }
   ],
   "source": [
    "random.choice(word_pairs)"
   ]
  },
  {
   "cell_type": "code",
   "execution_count": 20,
   "id": "480ad91f",
   "metadata": {},
   "outputs": [],
   "source": [
    "phrases_df = pd.read_csv(DATA_PATH_PREFIX + 'all_phrases.tsv', sep='\\t')"
   ]
  },
  {
   "cell_type": "code",
   "execution_count": 21,
   "id": "506c59a0",
   "metadata": {},
   "outputs": [],
   "source": [
    "assert not phrases_df.isna().sum().sum()"
   ]
  },
  {
   "cell_type": "code",
   "execution_count": 22,
   "id": "ee2056ef",
   "metadata": {},
   "outputs": [
    {
     "name": "stdout",
     "output_type": "stream",
     "text": [
      "726\n"
     ]
    }
   ],
   "source": [
    "phrases_pairs = list(zip(phrases_df['mdf'], phrases_df['ru']))\n",
    "print(len(phrases_pairs))"
   ]
  },
  {
   "cell_type": "code",
   "execution_count": 23,
   "id": "6336f4b2",
   "metadata": {},
   "outputs": [
    {
     "data": {
      "text/plain": [
       "('Здесь много народу', 'Тяса лама ломаньда')"
      ]
     },
     "execution_count": 23,
     "metadata": {},
     "output_type": "execute_result"
    }
   ],
   "source": [
    "random.choice(phrases_pairs)"
   ]
  },
  {
   "cell_type": "code",
   "execution_count": 24,
   "id": "36157b87",
   "metadata": {},
   "outputs": [
    {
     "name": "stdout",
     "output_type": "stream",
     "text": [
      "15898\n"
     ]
    }
   ],
   "source": [
    "all_pairs = sorted({\n",
    "    c for c in\n",
    "    word_pairs + phrases_pairs + bible_pairs\n",
    "    if c[0] and c[1]\n",
    "})\n",
    "print(len(all_pairs))"
   ]
  },
  {
   "cell_type": "code",
   "execution_count": 25,
   "id": "f4e04c12",
   "metadata": {},
   "outputs": [],
   "source": [
    "# funcs for fixing breaks in books \"по-\\ нимаемый иска- женный при- мер\" -> \"понимаемый искаженный пример\"\n",
    "\n",
    "def dashrepl(matchobj):\n",
    "    return matchobj.group(1) + matchobj.group(3)\n",
    "\n",
    "def fix_breaks(text):\n",
    "    return re.sub('([а-яА-ЯёЁ])([\\-+]\\s+)([а-яА-ЯёЁ])', dashrepl, text)"
   ]
  },
  {
   "cell_type": "code",
   "execution_count": 26,
   "id": "d48ca7e6",
   "metadata": {},
   "outputs": [],
   "source": [
    "def fix_text(text):\n",
    "    text = re.sub('\\s+', ' ', text).strip()\n",
    "    text = fix_breaks(text)\n",
    "    return text"
   ]
  },
  {
   "cell_type": "code",
   "execution_count": 33,
   "id": "22db5c0c",
   "metadata": {},
   "outputs": [],
   "source": [
    "for i, [t1, t2] in enumerate(all_pairs):\n",
    "    all_pairs[i] = (fix_text(t1), fix_text(t2))"
   ]
  },
  {
   "cell_type": "code",
   "execution_count": 34,
   "id": "b8789bc6",
   "metadata": {},
   "outputs": [
    {
     "name": "stdout",
     "output_type": "stream",
     "text": [
      "('Монь койсон, тяфта кальдявста.', 'По-моему, так плохо.')\n",
      "('Мзярда аделавсть озксвятемань шинза, сон мрдась эсь кудозонза.', 'А когда окончились дни службы его, возвратился в дом свой.')\n",
      "('Но Иисус кемоста кардазень тянь колга киндинге корхнемс.', 'Но Он строго приказал им никому не говорить о сем,')\n",
      "('Иисус каршезонза мярьгсь: Вай, тяниень пингонь аф кемай ломатть! Мзярс Мон карман улема тинь мархтонт? И мзярс карман кирдемонт тинь? Вятесть цёранять Тейне.', 'Отвечая ему, Иисус сказал: о, род неверный! доколе буду с вами? доколе буду терпеть вас? Приведите его ко Мне.')\n",
      "('Тяфта сонь лацонза шамафксонь канникс пряснон вятезь ляды кемай еврейхневок, нльне Варнававок шоворсь ёткозост.', 'Вместе с ним лицемерили и прочие Иудеи, так что даже Варнава был увлечен их лицемерием.')\n",
      "('Озондода тянксонга: катк мон панчса сонь смузенц тяфта, кода тейне эряви тянь тиемс.', 'дабы я открыл ее, как должно мне возвещать.')\n",
      "('шабат', 'дети')\n",
      "('Шкайсь мярьгсь Авраамонди: Рьвяцень Сарань оду ни тяк лемне Саракс, но тяни сонь лемоц ули Сарра.', 'И сказал Бог Аврааму: Сару, жену твою, не называй Сарою, но да будет имя ей: Сарра;')\n",
      "('А пирьфть шинь валгома ширенцты – ведьгемонь кенерень кувалмоса котфонь перяфкст, и тейст кемонь орват, и орватненди кемонь алкст.', 'В ширину же двора с западной стороны--завесы пятидесяти локтей; столбов для них десять, и подножий к ним десять.')\n",
      "('шов', 'пена')\n"
     ]
    }
   ],
   "source": [
    "for _ in range(10):\n",
    "    print(random.choice(all_pairs))"
   ]
  },
  {
   "cell_type": "markdown",
   "id": "44ab7d84",
   "metadata": {},
   "source": [
    "# Select traindev data"
   ]
  },
  {
   "cell_type": "code",
   "execution_count": 35,
   "id": "55021e62",
   "metadata": {},
   "outputs": [
    {
     "name": "stdout",
     "output_type": "stream",
     "text": [
      "11583\n"
     ]
    }
   ],
   "source": [
    "print(len(set(bible_pairs)))\n",
    "\n",
    "random.seed(1)\n",
    "bible_devtest = random.sample(sorted(set(bible_pairs)), k=800)"
   ]
  },
  {
   "cell_type": "code",
   "execution_count": null,
   "id": "4a3dfd39",
   "metadata": {},
   "outputs": [],
   "source": [
    "# get some other sources"
   ]
  },
  {
   "cell_type": "code",
   "execution_count": 36,
   "id": "92f831d1",
   "metadata": {},
   "outputs": [],
   "source": [
    "components = {\n",
    "    'bible': bible_devtest,\n",
    "    # other scources\n",
    "}\n",
    "dev = {k: v[:len(v)//2] for k, v in components.items()}\n",
    "test = {k: v[len(v)//2:] for k, v in components.items()}"
   ]
  },
  {
   "cell_type": "code",
   "execution_count": 37,
   "id": "675c3aab",
   "metadata": {},
   "outputs": [
    {
     "name": "stdout",
     "output_type": "stream",
     "text": [
      "400\n",
      "400\n"
     ]
    }
   ],
   "source": [
    "print(len({s for c in dev.values() for s in c}))\n",
    "print(len({s for c in test.values() for s in c}))"
   ]
  },
  {
   "cell_type": "code",
   "execution_count": 41,
   "id": "24ad8f24",
   "metadata": {},
   "outputs": [],
   "source": [
    "with open('train_test_splitting/dev_v1.json', 'w') as f:\n",
    "    json.dump(dev, f, indent=2, ensure_ascii=False)"
   ]
  },
  {
   "cell_type": "code",
   "execution_count": 40,
   "id": "ee2f0705",
   "metadata": {},
   "outputs": [],
   "source": [
    "with open('train_test_splitting/test_v1.json', 'w') as f:\n",
    "    json.dump(test, f, indent=2, ensure_ascii=False)"
   ]
  },
  {
   "cell_type": "code",
   "execution_count": 38,
   "id": "d5bd9c0a",
   "metadata": {},
   "outputs": [
    {
     "data": {
      "text/plain": [
       "800"
      ]
     },
     "execution_count": 38,
     "metadata": {},
     "output_type": "execute_result"
    }
   ],
   "source": [
    "devtest = {s for c in components.values() for s in c}\n",
    "len(devtest)"
   ]
  },
  {
   "cell_type": "code",
   "execution_count": 39,
   "id": "fc963a4d",
   "metadata": {},
   "outputs": [
    {
     "name": "stdout",
     "output_type": "stream",
     "text": [
      "15118\n"
     ]
    }
   ],
   "source": [
    "train = sorted(set(all_pairs).difference(devtest))\n",
    "print(len(train))"
   ]
  },
  {
   "cell_type": "code",
   "execution_count": 42,
   "id": "ced1fe7d",
   "metadata": {},
   "outputs": [],
   "source": [
    "with open('train_test_splitting/train_v1.json', 'w') as f:\n",
    "    json.dump(train, f, indent=2, ensure_ascii=False)"
   ]
  },
  {
   "cell_type": "code",
   "execution_count": null,
   "id": "79abb8e4",
   "metadata": {},
   "outputs": [],
   "source": []
  },
  {
   "cell_type": "markdown",
   "id": "d85c9eda",
   "metadata": {},
   "source": [
    "# Prepare the whole crawled corpus"
   ]
  },
  {
   "cell_type": "code",
   "execution_count": 336,
   "id": "44d9d7ff",
   "metadata": {},
   "outputs": [],
   "source": [
    "import os\n",
    "import pandas as pd\n",
    "import razdel\n",
    "import re\n",
    "import random\n",
    "import json\n",
    "from tqdm.auto import tqdm, trange"
   ]
  },
  {
   "cell_type": "code",
   "execution_count": 690,
   "id": "e1af240d",
   "metadata": {},
   "outputs": [
    {
     "data": {
      "text/plain": [
       "\"' 2768 [8___ 2400 3 сядт, 4 дес. 6 един.\""
      ]
     },
     "execution_count": 690,
     "metadata": {},
     "output_type": "execute_result"
    }
   ],
   "source": [
    "def replace_repeating_char(text, max_run=3):\n",
    "    res = []\n",
    "    prev = None\n",
    "    run = 0\n",
    "    for c in text:\n",
    "        if c != prev:\n",
    "            run = 0\n",
    "        run += 1\n",
    "        if run <= max_run:\n",
    "            res.append(c)\n",
    "        prev = c\n",
    "    return ''.join(res)\n",
    "\n",
    "replace_repeating_char(\"' 2768 [8_________________________ 2400 3 сядт, 4 дес. 6 един.\")"
   ]
  },
  {
   "cell_type": "code",
   "execution_count": 691,
   "id": "707ab4cf",
   "metadata": {},
   "outputs": [],
   "source": [
    "def final_clean(text):\n",
    "    text = fix_text(text)\n",
    "    text = replace_repeating_char(text)\n",
    "    if max(len(w) for w in text.split()) < 2:\n",
    "        return ''\n",
    "    \n",
    "    if not re.match('.*[а-яё].*', text.lower()):\n",
    "        return ''\n",
    "    text = re.sub('(\\. )+', '. ', text)\n",
    "    \n",
    "    return text.strip()"
   ]
  },
  {
   "cell_type": "code",
   "execution_count": 692,
   "id": "ee6ab7f0",
   "metadata": {},
   "outputs": [
    {
     "name": "stdout",
     "output_type": "stream",
     "text": [
      "333651\n"
     ]
    }
   ],
   "source": [
    "all_sentences = sorted({\n",
    "    final_clean(s) for s in set(\n",
    "        ...\n",
    "    )\n",
    "}.union({t[0] for t in train}).difference(devtest_er).difference({''}))\n",
    "print(len(all_sentences))"
   ]
  },
  {
   "cell_type": "code",
   "execution_count": 711,
   "id": "508c7ac0",
   "metadata": {},
   "outputs": [
    {
     "name": "stdout",
     "output_type": "stream",
     "text": [
      "1931—1932 иетнесэ ульнесь татронь эйкакшонь журналонь редакторокс, конань нолдась ЦК ВЛКСМ.\n",
      "------\n",
      "Сдано в производство 9/VI-40 г. Подписано к печати 13/VIII-40 г. Формат бум.\n",
      "------\n",
      "Юткось аволь покш — вете вайгельпеть.\n",
      "------\n",
      "атна ломань\n",
      "------\n",
      "Те арсевкстэнть кармась содамо Паволонь сазоронзо цёра. Сон мольсь ушмокудов ды ёвтась теде лелянстэнь.\n",
      "------\n",
      "И сон аф содасы, кода синь явомс.\n",
      "------\n",
      "сюдома\n",
      "------\n",
      "пургондамс\n",
      "------\n",
      "Роботась мольсь вадрясто.\n",
      "------\n",
      "А кувать кортасть — кедьёнкс мельга тусть: Лия велетнень ланга кучокшность Кулянь пачтицят, бойка чийницят.\n",
      "------\n"
     ]
    }
   ],
   "source": [
    "for _ in range(10):\n",
    "    print(random.choice(all_sentences))\n",
    "    print('------')"
   ]
  },
  {
   "cell_type": "markdown",
   "id": "597d4b6a",
   "metadata": {},
   "source": [
    "### todo: clean by perplexity "
   ]
  },
  {
   "cell_type": "code",
   "execution_count": 694,
   "id": "d3d8dd09",
   "metadata": {},
   "outputs": [],
   "source": [
    "with open('corpus/myv_mono.v1.json', 'w') as f:\n",
    "    json.dump(all_sentences, f, indent=2, ensure_ascii=False)"
   ]
  },
  {
   "cell_type": "code",
   "execution_count": null,
   "id": "bf458279",
   "metadata": {},
   "outputs": [],
   "source": []
  }
 ],
 "metadata": {
  "kernelspec": {
   "display_name": "Python 3",
   "language": "python",
   "name": "python3"
  },
  "language_info": {
   "codemirror_mode": {
    "name": "ipython",
    "version": 3
   },
   "file_extension": ".py",
   "mimetype": "text/x-python",
   "name": "python",
   "nbconvert_exporter": "python",
   "pygments_lexer": "ipython3",
   "version": "3.11.9"
  }
 },
 "nbformat": 4,
 "nbformat_minor": 5
}
