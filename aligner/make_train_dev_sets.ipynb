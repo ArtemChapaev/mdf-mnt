{
  "cells": [
    {
      "cell_type": "code",
      "source": [
        "!pip install datasets"
      ],
      "metadata": {
        "colab": {
          "base_uri": "https://localhost:8080/"
        },
        "collapsed": true,
        "id": "loD5mJnkl2p3",
        "outputId": "cbc4e060-1594-4a40-9ca5-069e85fcb769"
      },
      "id": "loD5mJnkl2p3",
      "execution_count": 1,
      "outputs": [
        {
          "output_type": "stream",
          "name": "stdout",
          "text": [
            "Requirement already satisfied: datasets in /usr/local/lib/python3.11/dist-packages (3.2.0)\n",
            "Requirement already satisfied: filelock in /usr/local/lib/python3.11/dist-packages (from datasets) (3.17.0)\n",
            "Requirement already satisfied: numpy>=1.17 in /usr/local/lib/python3.11/dist-packages (from datasets) (1.26.4)\n",
            "Requirement already satisfied: pyarrow>=15.0.0 in /usr/local/lib/python3.11/dist-packages (from datasets) (17.0.0)\n",
            "Requirement already satisfied: dill<0.3.9,>=0.3.0 in /usr/local/lib/python3.11/dist-packages (from datasets) (0.3.8)\n",
            "Requirement already satisfied: pandas in /usr/local/lib/python3.11/dist-packages (from datasets) (2.2.2)\n",
            "Requirement already satisfied: requests>=2.32.2 in /usr/local/lib/python3.11/dist-packages (from datasets) (2.32.3)\n",
            "Requirement already satisfied: tqdm>=4.66.3 in /usr/local/lib/python3.11/dist-packages (from datasets) (4.67.1)\n",
            "Requirement already satisfied: xxhash in /usr/local/lib/python3.11/dist-packages (from datasets) (3.5.0)\n",
            "Requirement already satisfied: multiprocess<0.70.17 in /usr/local/lib/python3.11/dist-packages (from datasets) (0.70.16)\n",
            "Requirement already satisfied: fsspec<=2024.9.0,>=2023.1.0 in /usr/local/lib/python3.11/dist-packages (from fsspec[http]<=2024.9.0,>=2023.1.0->datasets) (2024.9.0)\n",
            "Requirement already satisfied: aiohttp in /usr/local/lib/python3.11/dist-packages (from datasets) (3.11.12)\n",
            "Requirement already satisfied: huggingface-hub>=0.23.0 in /usr/local/lib/python3.11/dist-packages (from datasets) (0.28.1)\n",
            "Requirement already satisfied: packaging in /usr/local/lib/python3.11/dist-packages (from datasets) (24.2)\n",
            "Requirement already satisfied: pyyaml>=5.1 in /usr/local/lib/python3.11/dist-packages (from datasets) (6.0.2)\n",
            "Requirement already satisfied: aiohappyeyeballs>=2.3.0 in /usr/local/lib/python3.11/dist-packages (from aiohttp->datasets) (2.4.4)\n",
            "Requirement already satisfied: aiosignal>=1.1.2 in /usr/local/lib/python3.11/dist-packages (from aiohttp->datasets) (1.3.2)\n",
            "Requirement already satisfied: attrs>=17.3.0 in /usr/local/lib/python3.11/dist-packages (from aiohttp->datasets) (25.1.0)\n",
            "Requirement already satisfied: frozenlist>=1.1.1 in /usr/local/lib/python3.11/dist-packages (from aiohttp->datasets) (1.5.0)\n",
            "Requirement already satisfied: multidict<7.0,>=4.5 in /usr/local/lib/python3.11/dist-packages (from aiohttp->datasets) (6.1.0)\n",
            "Requirement already satisfied: propcache>=0.2.0 in /usr/local/lib/python3.11/dist-packages (from aiohttp->datasets) (0.2.1)\n",
            "Requirement already satisfied: yarl<2.0,>=1.17.0 in /usr/local/lib/python3.11/dist-packages (from aiohttp->datasets) (1.18.3)\n",
            "Requirement already satisfied: typing-extensions>=3.7.4.3 in /usr/local/lib/python3.11/dist-packages (from huggingface-hub>=0.23.0->datasets) (4.12.2)\n",
            "Requirement already satisfied: charset-normalizer<4,>=2 in /usr/local/lib/python3.11/dist-packages (from requests>=2.32.2->datasets) (3.4.1)\n",
            "Requirement already satisfied: idna<4,>=2.5 in /usr/local/lib/python3.11/dist-packages (from requests>=2.32.2->datasets) (3.10)\n",
            "Requirement already satisfied: urllib3<3,>=1.21.1 in /usr/local/lib/python3.11/dist-packages (from requests>=2.32.2->datasets) (2.3.0)\n",
            "Requirement already satisfied: certifi>=2017.4.17 in /usr/local/lib/python3.11/dist-packages (from requests>=2.32.2->datasets) (2025.1.31)\n",
            "Requirement already satisfied: python-dateutil>=2.8.2 in /usr/local/lib/python3.11/dist-packages (from pandas->datasets) (2.8.2)\n",
            "Requirement already satisfied: pytz>=2020.1 in /usr/local/lib/python3.11/dist-packages (from pandas->datasets) (2025.1)\n",
            "Requirement already satisfied: tzdata>=2022.7 in /usr/local/lib/python3.11/dist-packages (from pandas->datasets) (2025.1)\n",
            "Requirement already satisfied: six>=1.5 in /usr/local/lib/python3.11/dist-packages (from python-dateutil>=2.8.2->pandas->datasets) (1.17.0)\n"
          ]
        }
      ]
    },
    {
      "cell_type": "code",
      "execution_count": 2,
      "id": "11aa2494",
      "metadata": {
        "id": "11aa2494"
      },
      "outputs": [],
      "source": [
        "import pandas as pd\n",
        "import random\n",
        "import json\n",
        "from datasets import load_dataset"
      ]
    },
    {
      "cell_type": "code",
      "execution_count": 3,
      "id": "d2a8d01d",
      "metadata": {
        "colab": {
          "base_uri": "https://localhost:8080/"
        },
        "id": "d2a8d01d",
        "outputId": "f9b2a178-48b1-469d-c742-b686cbf11da3"
      },
      "outputs": [
        {
          "output_type": "stream",
          "name": "stdout",
          "text": [
            "Drive already mounted at /content/drive; to attempt to forcibly remount, call drive.mount(\"/content/drive\", force_remount=True).\n"
          ]
        }
      ],
      "source": [
        "from google.colab import drive\n",
        "drive.mount('/content/drive')"
      ]
    },
    {
      "cell_type": "code",
      "execution_count": 4,
      "id": "e1769303",
      "metadata": {
        "colab": {
          "base_uri": "https://localhost:8080/"
        },
        "id": "e1769303",
        "outputId": "8c62f8db-8f43-4782-8fe7-30ac9c1c1ffb"
      },
      "outputs": [
        {
          "output_type": "stream",
          "name": "stdout",
          "text": [
            "aligned_chekhov_75.000_sents_09_02.json\t\t     aligned_konstitution_sents_09_02.json\n",
            "aligned_chekhov_chameleon_sents_09_02.json\t     aligned_land_direct_sents_09_02.json\n",
            "aligned_chekhov_maria_ivanovna_sents_09_02.json      aligned_news_names_09_02.json\n",
            "aligned_chekhov_person_in_case_sents_09_02.json      aligned_news_sents_09_02.json\n",
            "aligned_chekhov_prishibaev_sents_09_02.json\t     aligned_shchedrin_konyaga_sents_09_02.json\n",
            "aligned_chekhov_self-delusion_sents_09_02.json\t     aligned_shchedrin_vilage_fire_sents_09_02.json\n",
            "aligned_chekhov_trifon_sents_09_02.json\t\t     aligned_wikipedia_sents_09_02.json\n",
            "aligned_furmanov_chapaev_sents_09_02.json\t     all_dicts_data.tsv\n",
            "aligned_gaydar_distant_countries_sents_09_02.json    all_phrases.tsv\n",
            "aligned_gogol_dead_souls_sample_sents_09_02.json     e-mordovia\n",
            "aligned_gorkiy_happiness_sents_09_02.json\t     mdf_mono\n",
            "aligned_gorkiy_hero_sents_09_02.json\t\t     moksha_bible.tsv\n",
            "aligned_gorkiy_italian_11_sents_09_02.json\t     moksha_pravda.tsv\n",
            "aligned_gorkiy_mother_part2_sents_09_02.json\t     texts_for_align\n",
            "aligned_gorkiy_mother_sents_09_02.json\t\t     train_test_splitting\n",
            "aligned_gorkiy_russian_fairy_tales_sents_09_02.json\n"
          ]
        }
      ],
      "source": [
        "!ls drive/MyDrive/diploma/data"
      ]
    },
    {
      "cell_type": "code",
      "execution_count": 5,
      "id": "c2ee10b8",
      "metadata": {
        "id": "c2ee10b8"
      },
      "outputs": [],
      "source": [
        "PARSED_DATA_PATH_PREFIX = 'drive/MyDrive/diploma/data/'"
      ]
    },
    {
      "cell_type": "code",
      "execution_count": 6,
      "id": "eb76b794",
      "metadata": {
        "id": "eb76b794"
      },
      "outputs": [],
      "source": [
        "ALIGNED_DATA_PATH_PREFIX = 'drive/MyDrive/diploma/data/'"
      ]
    },
    {
      "cell_type": "markdown",
      "id": "a9b162de",
      "metadata": {
        "id": "a9b162de"
      },
      "source": [
        "## Load sentence-parallel data"
      ]
    },
    {
      "cell_type": "markdown",
      "id": "1b31f2e3",
      "metadata": {
        "id": "1b31f2e3"
      },
      "source": [
        "### words and phrases"
      ]
    },
    {
      "cell_type": "code",
      "execution_count": 7,
      "id": "53ecb6f3",
      "metadata": {
        "colab": {
          "base_uri": "https://localhost:8080/"
        },
        "id": "53ecb6f3",
        "outputId": "473c0c66-d7bc-4989-904c-4f277281f807"
      },
      "outputs": [
        {
          "output_type": "stream",
          "name": "stdout",
          "text": [
            "3589\n",
            "('фатямс', 'схватить')\n"
          ]
        }
      ],
      "source": [
        "word_df = pd.read_csv(PARSED_DATA_PATH_PREFIX + 'all_dicts_data.tsv', sep='\\t')\n",
        "\n",
        "assert not word_df.isna().sum().sum()\n",
        "\n",
        "word_pairs = list(zip(word_df['mdf'], word_df['ru']))\n",
        "\n",
        "print(len(word_pairs))\n",
        "print(random.choice(word_pairs))"
      ]
    },
    {
      "cell_type": "code",
      "execution_count": 8,
      "id": "480ad91f",
      "metadata": {
        "colab": {
          "base_uri": "https://localhost:8080/"
        },
        "id": "480ad91f",
        "outputId": "6371fb17-c9e4-4306-e9f4-991050af3da9"
      },
      "outputs": [
        {
          "output_type": "stream",
          "name": "stdout",
          "text": [
            "726\n",
            "('Сёксень ши, илядь, ков.', 'Осенний день, вечер, месяц.')\n"
          ]
        }
      ],
      "source": [
        "phrases_df = pd.read_csv(PARSED_DATA_PATH_PREFIX + 'all_phrases.tsv', sep='\\t')\n",
        "\n",
        "assert not phrases_df.isna().sum().sum()\n",
        "\n",
        "phrases_pairs = list(zip(phrases_df['mdf'], phrases_df['ru']))\n",
        "\n",
        "print(len(phrases_pairs))\n",
        "print(random.choice(phrases_pairs))"
      ]
    },
    {
      "cell_type": "markdown",
      "id": "041cbbb3",
      "metadata": {
        "id": "041cbbb3"
      },
      "source": [
        "### news"
      ]
    },
    {
      "cell_type": "code",
      "execution_count": 9,
      "id": "d2f36241",
      "metadata": {
        "colab": {
          "base_uri": "https://localhost:8080/"
        },
        "id": "d2f36241",
        "outputId": "6e987c81-0901-447b-b2d4-1545ef30b89d"
      },
      "outputs": [
        {
          "output_type": "stream",
          "name": "stdout",
          "text": [
            "4560\n",
            "('Мордовиясь и Альфа-Банксь подписандасть сотрудничендамать колга соглашения', 'Мордовия и Альфа-Банк подписали соглашение о сотрудничестве')\n"
          ]
        }
      ],
      "source": [
        "with open(ALIGNED_DATA_PATH_PREFIX + 'aligned_news_names_09_02.json', 'r') as f:\n",
        "    news_names_df = pd.DataFrame(json.load(f))\n",
        "\n",
        "assert not news_names_df.isna().sum().sum(), \"Missing values detected in news_names\"\n",
        "\n",
        "news_names_pairs = list(zip(news_names_df['mdf'], news_names_df['ru']))\n",
        "\n",
        "print(len(news_names_pairs))\n",
        "print(random.choice(news_names_pairs))"
      ]
    },
    {
      "cell_type": "code",
      "execution_count": 10,
      "id": "27a8c8a1",
      "metadata": {
        "colab": {
          "base_uri": "https://localhost:8080/"
        },
        "id": "27a8c8a1",
        "outputId": "ede3c5d4-3138-4341-e154-96c901e7e54d"
      },
      "outputs": [
        {
          "output_type": "stream",
          "name": "stdout",
          "text": [
            "65970\n",
            "('Торжественнай церемонияда меле поладовсть кибер-баталиятне, конатнень коряс и кочкафтольхть инь вии киберспортсметтне.', 'По завершении церемонии продолжились кибер-баталии, которые и определили сильнейших киберспортсменов.')\n"
          ]
        }
      ],
      "source": [
        "with open(ALIGNED_DATA_PATH_PREFIX + 'aligned_news_sents_09_02.json', 'r') as f:\n",
        "    news_sents_df = pd.DataFrame(json.load(f))\n",
        "\n",
        "assert not news_sents_df.isna().sum().sum(), \"Missing values detected in news_sents\"\n",
        "\n",
        "news_sents_pairs = list(zip(news_sents_df['mdf'], news_sents_df['ru']))\n",
        "\n",
        "print(len(news_sents_pairs))\n",
        "print(random.choice(news_sents_pairs))"
      ]
    },
    {
      "cell_type": "markdown",
      "id": "61cba648",
      "metadata": {
        "id": "61cba648"
      },
      "source": [
        "### wikisource"
      ]
    },
    {
      "cell_type": "code",
      "execution_count": 11,
      "id": "ef4feaca",
      "metadata": {
        "id": "ef4feaca"
      },
      "outputs": [],
      "source": [
        "document_names = [\n",
        "    'chekhov_75.000_sents',\n",
        "    'chekhov_chameleon_sents',\n",
        "    'chekhov_maria_ivanovna_sents',\n",
        "    'chekhov_person_in_case_sents',\n",
        "    'chekhov_prishibaev_sents',\n",
        "    'chekhov_self-delusion_sents',\n",
        "    'chekhov_trifon_sents',\n",
        "    'furmanov_chapaev_sents',\n",
        "    'gaydar_distant_countries_sents',\n",
        "    'gogol_dead_souls_sample_sents',\n",
        "    'gorkiy_happiness_sents',\n",
        "    'gorkiy_hero_sents',\n",
        "    'gorkiy_italian_11_sents',\n",
        "    'gorkiy_mother_sents',\n",
        "    'gorkiy_mother_part2_sents',\n",
        "    'gorkiy_russian_fairy_tales_sents',\n",
        "    'konstitution_sents',\n",
        "    'land_direct_sents',\n",
        "    'shchedrin_konyaga_sents',\n",
        "    'shchedrin_vilage_fire_sents',\n",
        "]"
      ]
    },
    {
      "cell_type": "code",
      "execution_count": 12,
      "id": "2ad3aee8",
      "metadata": {
        "colab": {
          "base_uri": "https://localhost:8080/"
        },
        "collapsed": true,
        "id": "2ad3aee8",
        "outputId": "a2875e8b-56b3-4dbc-fdfa-8b7954dc2409"
      },
      "outputs": [
        {
          "output_type": "stream",
          "name": "stdout",
          "text": [
            "chekhov_75.000_sents: 130 pairs\n",
            "('Сембе вдь тинь купидоттада.', 'Все ведь вы купидоны.')\n",
            "\n",
            "chekhov_chameleon_sents: 92 pairs\n",
            "('Тон, Хрюкин, кирьдеть эздонза кальдявкс и тя тевть тяфтак тят кадонда...', 'Ты, Хрюкин, пострадал и дела этого так не оставляй...')\n",
            "\n",
            "chekhov_maria_ivanovna_sents: 27 pairs\n",
            "('Ламос ащесь од ломанць пяк мазы авать инголе.', 'Долго стоял молодой человек перед прекрасной женщиной.')\n",
            "\n",
            "chekhov_person_in_case_sents: 186 pairs\n",
            "('— Кда тон корхтат монь мархтон тяфтама вайгяльса, то мон не могу корхтамс сяда тов, — мярьгсь сон.', '— Если вы говорите со мной таким тоном, то я не могу продолжать, — сказал он.')\n",
            "\n",
            "chekhov_prishibaev_sents: 84 pairs\n",
            "('Ништа можна нолямс, штоба народсь безобразничендаль?', 'Нешто можно дозволять, чтобы народ безобразил?')\n",
            "\n",
            "chekhov_self-delusion_sents: 33 pairs\n",
            "('Брандмейстер атясь венептсь тейнза нилеце рюмкать и мярьгсь ялгакс: — Верондан!', 'Старик брандмейстер подал ему четвертую рюмку и заметил дружески: — Верю-с!')\n",
            "\n",
            "chekhov_trifon_sents: 98 pairs\n",
            "('Ну, аф...', 'Ну, нет...')\n",
            "\n",
            "furmanov_chapaev_sents: 757 pairs\n",
            "('Тоса сонь сявозь Николай Николаевиченди.', 'Там провели его к Николаю Николаевичу.')\n",
            "\n",
            "gaydar_distant_countries_sents: 1102 pairs\n",
            "('— Сон и аф инголя, а валда, кода герой улсь.', '— Он и не раньше, а всегда как герой был.')\n",
            "\n",
            "gogol_dead_souls_sample_sents: 178 pairs\n",
            "('Но тяконь пингста тейнза кодавок ашель кода кяшемс эсь кенярдеманц и арьсесь всякай пархт аф аньцек тейнза, но нльне и сонь идензондыге, хоть ашезеле кизефте, ульсть ли сонь иденза или — аш.', 'При всем том он, однако ж, не мог скрыть своей радости и пожелал всяких утешений не только ему, но даже и деткам его, не спросив, были ли они у него, или нет.')\n",
            "\n",
            "gorkiy_happiness_sents: 43 pairs\n",
            "('Комафтф венчне валяндасть шуварть лангса, кода оцю, кула калхт.', 'Опрокинутые лодки валялись на песке, как большие мёртвые рыбы.')\n",
            "\n",
            "gorkiy_hero_sents: 70 pairs\n",
            "('Цебярь книгась, кода великай артистонь смычок, токси монь седизон, конац тянь эзда морай, куфци кяжть и ризфть эзда, радовай, — кда тянь ёрасы писательсь.', 'Хорошая книга, точно смычок великого артиста, касается моего сердца, и оно поет, стонет от гнева и скорби, радуется,— если этого хочет писатель.')\n",
            "\n",
            "gorkiy_italian_11_sents: 73 pairs\n",
            "('И синьге эрявихть тейне, сяс мес аньцек ломаттнень ёньцост геройхне бессмертнайхть!', 'И они мне нужны, ибо только в памяти людей бессмертны герои!')\n",
            "\n",
            "gorkiy_mother_sents: 1488 pairs\n",
            "('Ды кармась алу валгома, пильгонц мархта варчсезень кшнитнень и киньгя ланкска изь ван.', 'И он начал спускаться вниз, осторожно ощупывая ногой железо и не глядя ни на кого.')\n",
            "\n",
            "gorkiy_mother_part2_sents: 232 pairs\n",
            "('— Тон, лефкскяй, путомака монь тя тевти, мон эняльдян тейть! — корхтась тядясь.', '— Вы, голубчик, пристройте-ка меня к этому делу, прошу я вас! — говорила она.')\n",
            "\n",
            "gorkiy_russian_fairy_tales_sents: 160 pairs\n",
            "('Советовандасть, да и лиссть беряку сембе гуртом, а омбоце берякса вракне ащихть, тожа стадаса.', 'Посоветовались, да и вышли на берег все гуртом, а на другом берегу враги стоят, тоже стадом.')\n",
            "\n",
            "konstitution_sents: 159 pairs\n",
            "('Союзонь Советть и Национальностень Советть председательсна вятихть руконодства эсь палаттань заседаниясост и вятсазь синь внутренняй распорядкаснон.', 'Председатели Совета Союза и Совета Национальностей руководят заседаниями соответствующих палат и ведают их внутренним распорядком.')\n",
            "\n",
            "land_direct_sents: 5 pairs\n",
            "('Сьора видьнень депутатонь уезднай Советтне путнесазь сембе вийснон помещиконь паршитнень сявондемста строгай порядкань вятемать ланкс, лацкас ванцазь сянь, конашка участкат и кодамот эрявихть сявомс помещикнень кяцта, тиендемс точнай описьть сембе сявонтьф паршити и ладямс цебярь революционнай охрана сембе наротти ётни хозяйствать, сонь эсонза постройкатнень, орудиятнень, жувататнень, продуктань запаснень и лиятнень ланкса 4.', 'Уездные Советы крестьянских депутатов принимают все необходимые меры для соблюдения строжайшего порядка при конфискации помещичьих имений, для определения того, до какого размера участки и какие именно подлежат конфискации, для составления точной описи всего конфискуемого имущества и для строжайшей революционной охраны всего переходящего к народу хозяйства на земле со всеми постройками, орудиями, скотом, запасами продуктов и проч.')\n",
            "\n",
            "shchedrin_konyaga_sents: 104 pairs\n",
            "('Аф лама тяфтама жуватать лангса тиеви, а работамс эряви.', 'Немного на такой животине наработаешь, а работать надо.')\n",
            "\n",
            "shchedrin_vilage_fire_sents: 136 pairs\n",
            "('— Кда ня крестьяттне улельхть нльне афи монь, все-таки минь священнай обязанностеньке — улемс тоса, коса страдандайхть.', '— Да и вообще это наш долг, — продолжала Анна Андреевна, — если бы даже это были и не мои крестьяне, все-таки наша священная обязанность — быть там, где страдают.')\n",
            "\n"
          ]
        }
      ],
      "source": [
        "wikisource_pairs = {}\n",
        "\n",
        "for doc_name in document_names:\n",
        "    file_path = ALIGNED_DATA_PATH_PREFIX + f\"aligned_{doc_name}_09_02.json\"\n",
        "    with open(file_path, 'r') as f:\n",
        "        df = pd.DataFrame(json.load(f))\n",
        "\n",
        "    assert not df.isna().sum().sum(), f\"Missing values detected in {doc_name}\"\n",
        "\n",
        "    pairs = list(zip(df['mdf'], df['ru']))\n",
        "\n",
        "    if doc_name == 'konstitution_sents':\n",
        "        pairs = [pair for pair in pairs if not pair[1].startswith('Статья')]\n",
        "\n",
        "    wikisource_pairs[doc_name] = pairs\n",
        "\n",
        "    print(f\"{doc_name}: {len(pairs)} pairs\")\n",
        "    print(random.choice(pairs))\n",
        "\n",
        "    print()"
      ]
    },
    {
      "cell_type": "markdown",
      "id": "_dwCrnTVUFno",
      "metadata": {
        "id": "_dwCrnTVUFno"
      },
      "source": [
        "### wikipedia"
      ]
    },
    {
      "cell_type": "code",
      "execution_count": 13,
      "id": "fnJZfUPJRihB",
      "metadata": {
        "colab": {
          "base_uri": "https://localhost:8080/"
        },
        "id": "fnJZfUPJRihB",
        "outputId": "c62fe068-e79b-4fa7-d7ae-b62819714574"
      },
      "outputs": [
        {
          "output_type": "stream",
          "name": "stdout",
          "text": [
            "1400\n",
            "('Васень лятфтаматне 1511 кизоня.', 'Впервые упоминается в 1511 году.')\n"
          ]
        }
      ],
      "source": [
        "with open(ALIGNED_DATA_PATH_PREFIX + 'aligned_wikipedia_sents_09_02.json', 'r') as f:\n",
        "    wiki_sents_df = pd.DataFrame(json.load(f))\n",
        "\n",
        "assert not wiki_sents_df.isna().sum().sum(), \"Missing values detected in news_sents\"\n",
        "\n",
        "wiki_sents_pairs = list(zip(wiki_sents_df['mdf'], wiki_sents_df['ru']))\n",
        "\n",
        "print(len(wiki_sents_pairs))\n",
        "print(random.choice(wiki_sents_pairs))"
      ]
    },
    {
      "cell_type": "markdown",
      "id": "1d31c91d",
      "metadata": {
        "id": "1d31c91d"
      },
      "source": [
        "### Union"
      ]
    },
    {
      "cell_type": "code",
      "execution_count": 14,
      "id": "36157b87",
      "metadata": {
        "colab": {
          "base_uri": "https://localhost:8080/"
        },
        "id": "36157b87",
        "outputId": "0e695c15-9a89-478c-f4e8-0ac17c0723b8"
      },
      "outputs": [
        {
          "output_type": "stream",
          "name": "stdout",
          "text": [
            "77165\n"
          ]
        }
      ],
      "source": [
        "all_pairs = sorted({\n",
        "    c for c in\n",
        "    word_pairs + phrases_pairs + news_names_pairs + news_sents_pairs + [pair for pairs in wikisource_pairs.values() for pair in pairs] + wiki_sents_pairs\n",
        "    if c[0] and c[1]\n",
        "})\n",
        "print(len(all_pairs))"
      ]
    },
    {
      "cell_type": "code",
      "execution_count": 15,
      "id": "c54bbf53",
      "metadata": {
        "id": "c54bbf53"
      },
      "outputs": [],
      "source": [
        "with open(ALIGNED_DATA_PATH_PREFIX + 'train_test_splitting/all_pairs.json', 'w') as f:\n",
        "    json.dump(all_pairs, f, ensure_ascii=False, indent=4)"
      ]
    },
    {
      "cell_type": "markdown",
      "id": "44ab7d84",
      "metadata": {
        "id": "44ab7d84"
      },
      "source": [
        "# Select traindev data"
      ]
    },
    {
      "cell_type": "code",
      "execution_count": 16,
      "id": "71971dc9",
      "metadata": {
        "colab": {
          "base_uri": "https://localhost:8080/"
        },
        "id": "71971dc9",
        "outputId": "43d1e430-62c0-40f6-c66d-0834c4e49f5d"
      },
      "outputs": [
        {
          "output_type": "stream",
          "name": "stdout",
          "text": [
            "62308\n"
          ]
        }
      ],
      "source": [
        "print(len(set(news_sents_pairs)))\n",
        "\n",
        "random.seed(1)\n",
        "news_sents_devtest = random.sample(sorted(set(news_sents_pairs)), k=1000)"
      ]
    },
    {
      "cell_type": "code",
      "execution_count": 17,
      "id": "4a3dfd39",
      "metadata": {
        "colab": {
          "base_uri": "https://localhost:8080/"
        },
        "id": "4a3dfd39",
        "outputId": "4d13a459-8afe-4b88-8f71-91cb86ed047d"
      },
      "outputs": [
        {
          "output_type": "stream",
          "name": "stdout",
          "text": [
            "756\n"
          ]
        }
      ],
      "source": [
        "print(len(set(wikisource_pairs['furmanov_chapaev_sents'])))\n",
        "\n",
        "random.seed(1)\n",
        "furmanov_chapaev_devtest = random.sample(sorted(set(wikisource_pairs['furmanov_chapaev_sents'])), k=400)"
      ]
    },
    {
      "cell_type": "code",
      "execution_count": 18,
      "id": "f15a4a56",
      "metadata": {
        "colab": {
          "base_uri": "https://localhost:8080/"
        },
        "id": "f15a4a56",
        "outputId": "8e563e1b-5790-484c-f586-8ad0c9c196d0"
      },
      "outputs": [
        {
          "output_type": "stream",
          "name": "stdout",
          "text": [
            "1477\n"
          ]
        }
      ],
      "source": [
        "print(len(set(wikisource_pairs['gorkiy_mother_sents'])))\n",
        "\n",
        "random.seed(1)\n",
        "gorkiy_mother_devtest = random.sample(sorted(set(wikisource_pairs['gorkiy_mother_sents'])), k=200)"
      ]
    },
    {
      "cell_type": "code",
      "execution_count": 19,
      "id": "55b86e73",
      "metadata": {
        "colab": {
          "base_uri": "https://localhost:8080/"
        },
        "id": "55b86e73",
        "outputId": "3620261e-7779-4344-9ed8-0947b1d56a96"
      },
      "outputs": [
        {
          "output_type": "stream",
          "name": "stdout",
          "text": [
            "1100\n"
          ]
        }
      ],
      "source": [
        "print(len(set(wikisource_pairs['gaydar_distant_countries_sents'])))\n",
        "\n",
        "random.seed(1)\n",
        "gaydar_distant_countries_devtest = random.sample(sorted(set(wikisource_pairs['gaydar_distant_countries_sents'])), k=200)"
      ]
    },
    {
      "cell_type": "code",
      "execution_count": 20,
      "id": "92f831d1",
      "metadata": {
        "id": "92f831d1"
      },
      "outputs": [],
      "source": [
        "components = {\n",
        "    'news_sents': news_sents_devtest,\n",
        "    'gorkiy_mother': gorkiy_mother_devtest,\n",
        "    'furmanov_chapaev': furmanov_chapaev_devtest,\n",
        "    'gaydar_distant_countries': gaydar_distant_countries_devtest\n",
        "}\n",
        "dev = {k: v[:len(v)//2] for k, v in components.items()}\n",
        "test = {k: v[len(v)//2:] for k, v in components.items()}"
      ]
    },
    {
      "cell_type": "code",
      "execution_count": 21,
      "id": "675c3aab",
      "metadata": {
        "colab": {
          "base_uri": "https://localhost:8080/"
        },
        "id": "675c3aab",
        "outputId": "ec7dddae-56e3-49b1-8533-ede31453a932"
      },
      "outputs": [
        {
          "output_type": "stream",
          "name": "stdout",
          "text": [
            "900\n",
            "900\n"
          ]
        }
      ],
      "source": [
        "print(len({s for c in dev.values() for s in c}))\n",
        "print(len({s for c in test.values() for s in c}))"
      ]
    },
    {
      "cell_type": "code",
      "execution_count": 22,
      "id": "d5bd9c0a",
      "metadata": {
        "colab": {
          "base_uri": "https://localhost:8080/"
        },
        "id": "d5bd9c0a",
        "outputId": "754aaf05-996a-42c6-a30d-2a2d2b0a9aa2"
      },
      "outputs": [
        {
          "output_type": "stream",
          "name": "stdout",
          "text": [
            "75365\n"
          ]
        }
      ],
      "source": [
        "devtest = {s for c in components.values() for s in c}\n",
        "train = sorted(set(all_pairs).difference(devtest))\n",
        "print(len(train))"
      ]
    },
    {
      "cell_type": "markdown",
      "id": "cf8fef99",
      "metadata": {
        "id": "cf8fef99"
      },
      "source": [
        "# Add bible data from dataset \"slone/finugorbib\""
      ]
    },
    {
      "cell_type": "code",
      "execution_count": 23,
      "id": "cb3d5407",
      "metadata": {
        "colab": {
          "base_uri": "https://localhost:8080/"
        },
        "id": "cb3d5407",
        "outputId": "4c5a3f60-c6e1-4dd5-ff3c-f165db183312"
      },
      "outputs": [
        {
          "output_type": "stream",
          "name": "stderr",
          "text": [
            "/usr/local/lib/python3.11/dist-packages/huggingface_hub/utils/_auth.py:94: UserWarning: \n",
            "The secret `HF_TOKEN` does not exist in your Colab secrets.\n",
            "To authenticate with the Hugging Face Hub, create a token in your settings tab (https://huggingface.co/settings/tokens), set it as secret in your Google Colab and restart your session.\n",
            "You will be able to reuse this secret in all of your notebooks.\n",
            "Please note that authentication is recommended but still optional to access public models or datasets.\n",
            "  warnings.warn(\n"
          ]
        }
      ],
      "source": [
        "bible_ds = load_dataset(\"slone/finugorbib\", \"all_to_rus\")"
      ]
    },
    {
      "cell_type": "code",
      "execution_count": 24,
      "id": "44403a70",
      "metadata": {
        "colab": {
          "base_uri": "https://localhost:8080/"
        },
        "id": "44403a70",
        "outputId": "668cd642-d0c8-4afa-fab1-32fa1f51ddbd"
      },
      "outputs": [
        {
          "output_type": "execute_result",
          "data": {
            "text/plain": [
              "(10036, 2)"
            ]
          },
          "metadata": {},
          "execution_count": 24
        }
      ],
      "source": [
        "bible_train_df = bible_ds['train'].to_pandas()\n",
        "\n",
        "bible_train_df = bible_train_df[bible_train_df['lang_code'] == 'mdf'][['text', 'other']]\n",
        "bible_train_df = bible_train_df[~bible_train_df['text'].str.contains('Глава')]\n",
        "bible_train_df = bible_train_df.drop_duplicates()\n",
        "\n",
        "bible_train_pairs = list(zip(bible_train_df['text'], bible_train_df['other']))\n",
        "\n",
        "print(len(bible_train_pairs))\n",
        "print(random.choice(bible_train_pairs))"
      ]
    },
    {
      "cell_type": "code",
      "execution_count": 33,
      "id": "c05d0710",
      "metadata": {
        "colab": {
          "base_uri": "https://localhost:8080/"
        },
        "id": "c05d0710",
        "outputId": "e8a461c4-0bcd-42b8-f794-cc7eedc497f0"
      },
      "outputs": [
        {
          "output_type": "stream",
          "name": "stdout",
          "text": [
            "85401\n"
          ]
        }
      ],
      "source": [
        "train = sorted(set(train).union(set(bible_train_pairs)))\n",
        "print(len(train))"
      ]
    },
    {
      "cell_type": "code",
      "execution_count": 34,
      "metadata": {
        "colab": {
          "base_uri": "https://localhost:8080/"
        },
        "outputId": "89f0bca1-ff99-4d80-a1a8-dd218a15881e",
        "id": "Riljhl3OnZJd"
      },
      "outputs": [
        {
          "output_type": "stream",
          "name": "stdout",
          "text": [
            "817\n",
            "('Ошть персезе оцю, сери перяфкс, и эсонза ульсть кемгафтува ортат, и кемгафтува ортатнень видеса ащесть кемгафтува ангелхт. Ортатнень лангс тяштьфтольхть Израилень кемгафтува юропнень лемсна, эрь ортаса фкя лем.', 'Он имеет большую и высокую стену, имеет двенадцать ворот и на них двенадцать Ангелов; на воротах написаны имена двенадцати колен сынов Израилевых:')\n"
          ]
        }
      ],
      "source": [
        "bible_dev_df = bible_ds['validation'].to_pandas()\n",
        "\n",
        "bible_dev_df = bible_dev_df[bible_dev_df['lang_code'] == 'mdf'][['text', 'other']]\n",
        "bible_dev_df = bible_dev_df[~bible_dev_df['text'].str.contains('Глава')]\n",
        "bible_dev_df = bible_dev_df.drop_duplicates()\n",
        "\n",
        "bible_dev_pairs = list(zip(bible_dev_df['text'], bible_dev_df['other']))\n",
        "\n",
        "print(len(bible_dev_pairs))\n",
        "print(random.choice(bible_dev_pairs))"
      ],
      "id": "Riljhl3OnZJd"
    },
    {
      "cell_type": "code",
      "execution_count": 35,
      "metadata": {
        "id": "Um3eUIGanZJe"
      },
      "outputs": [],
      "source": [
        "dev['bible'] = sorted(bible_dev_pairs)"
      ],
      "id": "Um3eUIGanZJe"
    },
    {
      "cell_type": "code",
      "execution_count": 39,
      "metadata": {
        "colab": {
          "base_uri": "https://localhost:8080/"
        },
        "outputId": "c776e3b8-86ca-469c-f0d6-75f753795191",
        "id": "Fe2db-VSnZs6"
      },
      "outputs": [
        {
          "output_type": "stream",
          "name": "stdout",
          "text": [
            "775\n",
            "('«Но ся шитнень, ся ризфта меле, ши валдсь шобдалгоды, ковське аф кармай валдоптома,', 'Но в те дни, после скорби той, солнце померкнет, и луна не даст света своего,')\n"
          ]
        }
      ],
      "source": [
        "bible_test_df = bible_ds['test'].to_pandas()\n",
        "\n",
        "bible_test_df = bible_test_df[bible_test_df['lang_code'] == 'mdf'][['text', 'other']]\n",
        "bible_test_df = bible_test_df[~bible_test_df['text'].str.contains('Глава')]\n",
        "bible_test_df = bible_test_df.drop_duplicates()\n",
        "\n",
        "bible_test_pairs = list(zip(bible_test_df['text'], bible_test_df['other']))\n",
        "\n",
        "print(len(bible_test_pairs))\n",
        "print(random.choice(bible_test_pairs))"
      ],
      "id": "Fe2db-VSnZs6"
    },
    {
      "cell_type": "code",
      "execution_count": 40,
      "metadata": {
        "id": "AgGI_-CJnZs7"
      },
      "outputs": [],
      "source": [
        "test['bible'] = sorted(bible_dev_pairs)"
      ],
      "id": "AgGI_-CJnZs7"
    },
    {
      "cell_type": "markdown",
      "id": "27b665ee",
      "metadata": {
        "id": "27b665ee"
      },
      "source": [
        "# Save data"
      ]
    },
    {
      "cell_type": "code",
      "execution_count": 41,
      "id": "24ad8f24",
      "metadata": {
        "id": "24ad8f24"
      },
      "outputs": [],
      "source": [
        "with open(ALIGNED_DATA_PATH_PREFIX + 'train_test_splitting/dev.json', 'w') as f:\n",
        "    json.dump(dev, f, ensure_ascii=False, indent=4)"
      ]
    },
    {
      "cell_type": "code",
      "execution_count": 42,
      "id": "ee2f0705",
      "metadata": {
        "id": "ee2f0705"
      },
      "outputs": [],
      "source": [
        "with open(ALIGNED_DATA_PATH_PREFIX + 'train_test_splitting/test.json', 'w') as f:\n",
        "    json.dump(test, f, ensure_ascii=False, indent=4)"
      ]
    },
    {
      "cell_type": "code",
      "execution_count": 43,
      "id": "ced1fe7d",
      "metadata": {
        "id": "ced1fe7d"
      },
      "outputs": [],
      "source": [
        "with open(ALIGNED_DATA_PATH_PREFIX + 'train_test_splitting/train.json', 'w') as f:\n",
        "    json.dump(train, f, ensure_ascii=False, indent=4)"
      ]
    },
    {
      "cell_type": "code",
      "execution_count": null,
      "id": "79abb8e4",
      "metadata": {
        "id": "79abb8e4"
      },
      "outputs": [],
      "source": []
    }
  ],
  "metadata": {
    "colab": {
      "machine_shape": "hm",
      "provenance": []
    },
    "kernelspec": {
      "display_name": "Python 3",
      "name": "python3"
    },
    "language_info": {
      "codemirror_mode": {
        "name": "ipython",
        "version": 3
      },
      "file_extension": ".py",
      "mimetype": "text/x-python",
      "name": "python",
      "nbconvert_exporter": "python",
      "pygments_lexer": "ipython3",
      "version": "3.11.9"
    }
  },
  "nbformat": 4,
  "nbformat_minor": 5
}