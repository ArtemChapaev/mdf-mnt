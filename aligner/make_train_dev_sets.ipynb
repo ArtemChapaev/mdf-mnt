{
  "cells": [
    {
      "cell_type": "code",
      "execution_count": 1,
      "id": "11aa2494",
      "metadata": {
        "id": "11aa2494"
      },
      "outputs": [],
      "source": [
        "import pandas as pd\n",
        "import re\n",
        "import random\n",
        "import json\n",
        "from tqdm.auto import tqdm, trange"
      ]
    },
    {
      "cell_type": "code",
      "execution_count": 2,
      "id": "d2a8d01d",
      "metadata": {
        "colab": {
          "base_uri": "https://localhost:8080/"
        },
        "id": "d2a8d01d",
        "outputId": "fb6e09f7-6f35-41d9-e3c0-61e695f1ad77"
      },
      "outputs": [
        {
          "output_type": "stream",
          "name": "stdout",
          "text": [
            "Mounted at /content/drive\n"
          ]
        }
      ],
      "source": [
        "from google.colab import drive\n",
        "drive.mount('/content/drive')"
      ]
    },
    {
      "cell_type": "code",
      "execution_count": 3,
      "id": "e1769303",
      "metadata": {
        "colab": {
          "base_uri": "https://localhost:8080/"
        },
        "id": "e1769303",
        "outputId": "76bf5b2e-a1cc-40f0-bd01-2c020f295abb"
      },
      "outputs": [
        {
          "output_type": "stream",
          "name": "stdout",
          "text": [
            "aligned_chekhov_75.000_sents_09_02.json\t\t     aligned_konstitution_sents_09_02.json\n",
            "aligned_chekhov_chameleon_sents_09_02.json\t     aligned_land_direct_sents_09_02.json\n",
            "aligned_chekhov_maria_ivanovna_sents_09_02.json      aligned_news_names_09_02.json\n",
            "aligned_chekhov_person_in_case_sents_09_02.json      aligned_news_sents_09_02.json\n",
            "aligned_chekhov_prishibaev_sents_09_02.json\t     aligned_shchedrin_konyaga_sents_09_02.json\n",
            "aligned_chekhov_self-delusion_sents_09_02.json\t     aligned_shchedrin_vilage_fire_sents_09_02.json\n",
            "aligned_chekhov_trifon_sents_09_02.json\t\t     aligned_wikipedia_sents_09_02.json\n",
            "aligned_furmanov_chapaev_sents_09_02.json\t     all_dicts_data.tsv\n",
            "aligned_gaydar_distant_countries_sents_09_02.json    all_phrases.tsv\n",
            "aligned_gogol_dead_souls_sample_sents_09_02.json     e-mordovia\n",
            "aligned_gorkiy_happiness_sents_09_02.json\t     mdf_mono\n",
            "aligned_gorkiy_hero_sents_09_02.json\t\t     moksha_bible.tsv\n",
            "aligned_gorkiy_italian_11_sents_09_02.json\t     moksha_pravda.tsv\n",
            "aligned_gorkiy_mother_part2_sents_09_02.json\t     texts_for_align\n",
            "aligned_gorkiy_mother_sents_09_02.json\t\t     train_test_splitting\n",
            "aligned_gorkiy_russian_fairy_tales_sents_09_02.json\n"
          ]
        }
      ],
      "source": [
        "!ls drive/MyDrive/diploma/data"
      ]
    },
    {
      "cell_type": "code",
      "execution_count": 4,
      "id": "c2ee10b8",
      "metadata": {
        "id": "c2ee10b8"
      },
      "outputs": [],
      "source": [
        "PARSED_DATA_PATH_PREFIX = 'drive/MyDrive/diploma/data/'"
      ]
    },
    {
      "cell_type": "code",
      "execution_count": 5,
      "id": "eb76b794",
      "metadata": {
        "id": "eb76b794"
      },
      "outputs": [],
      "source": [
        "ALIGNED_DATA_PATH_PREFIX = 'drive/MyDrive/diploma/data/'"
      ]
    },
    {
      "cell_type": "markdown",
      "id": "a9b162de",
      "metadata": {
        "id": "a9b162de"
      },
      "source": [
        "## Load sentence-parallel data"
      ]
    },
    {
      "cell_type": "markdown",
      "id": "870936e7",
      "metadata": {
        "id": "870936e7"
      },
      "source": [
        "### bible"
      ]
    },
    {
      "cell_type": "code",
      "execution_count": 6,
      "id": "ad9e92e1",
      "metadata": {
        "colab": {
          "base_uri": "https://localhost:8080/"
        },
        "id": "ad9e92e1",
        "outputId": "5e1f1608-f60b-40a8-a723-86b3acd76aab"
      },
      "outputs": [
        {
          "output_type": "stream",
          "name": "stdout",
          "text": [
            "(11650, 4)\n",
            "(11633, 4)\n",
            "(11583, 4)\n",
            "Index(['Unnamed: 0', 'mdf', 'ru', 'source'], dtype='object')\n"
          ]
        }
      ],
      "source": [
        "bible_df = pd.read_csv(PARSED_DATA_PATH_PREFIX + 'moksha_bible.tsv', sep='\\t')\n",
        "print(bible_df.shape)\n",
        "\n",
        "bible_df = bible_df.dropna()\n",
        "print(bible_df.shape)\n",
        "\n",
        "bible_df = bible_df[~bible_df['mdf'].str.startswith('Глава ')]\n",
        "print(bible_df.shape)\n",
        "print(bible_df.columns)"
      ]
    },
    {
      "cell_type": "code",
      "execution_count": 7,
      "id": "681ed691",
      "metadata": {
        "colab": {
          "base_uri": "https://localhost:8080/"
        },
        "id": "681ed691",
        "outputId": "05ce988c-72c4-4f84-923f-4191a44092c0"
      },
      "outputs": [
        {
          "output_type": "stream",
          "name": "stdout",
          "text": [
            "11583\n",
            "('Тостонь паксяса сон няйсь эши и вакссонза учань и сявань колма стадат, конат ваймосесть тоса, сяс мес тя эшиста симнезь стадатнень. Эшись пякстафоль оцю кевса.', 'И увидел: вот, на поле колодезь, и там три стада мелкого скота, лежавшие около него, потому что из того колодезя поили стада. Над устьем колодезя был большой камень.')\n"
          ]
        }
      ],
      "source": [
        "bible_pairs = list(zip(bible_df['mdf'], bible_df['ru']))\n",
        "\n",
        "print(len(bible_pairs))\n",
        "print(random.choice(bible_pairs))"
      ]
    },
    {
      "cell_type": "markdown",
      "id": "1b31f2e3",
      "metadata": {
        "id": "1b31f2e3"
      },
      "source": [
        "### words and phrases"
      ]
    },
    {
      "cell_type": "code",
      "execution_count": 8,
      "id": "53ecb6f3",
      "metadata": {
        "colab": {
          "base_uri": "https://localhost:8080/"
        },
        "id": "53ecb6f3",
        "outputId": "f2c9d52b-043c-45e6-ca42-f28dedaa26a8"
      },
      "outputs": [
        {
          "output_type": "stream",
          "name": "stdout",
          "text": [
            "3589\n",
            "('содамс', 'отгадать')\n"
          ]
        }
      ],
      "source": [
        "word_df = pd.read_csv(PARSED_DATA_PATH_PREFIX + 'all_dicts_data.tsv', sep='\\t')\n",
        "\n",
        "assert not word_df.isna().sum().sum()\n",
        "\n",
        "word_pairs = list(zip(word_df['mdf'], word_df['ru']))\n",
        "\n",
        "print(len(word_pairs))\n",
        "print(random.choice(word_pairs))"
      ]
    },
    {
      "cell_type": "code",
      "execution_count": 9,
      "id": "480ad91f",
      "metadata": {
        "colab": {
          "base_uri": "https://localhost:8080/"
        },
        "id": "480ad91f",
        "outputId": "78d5ef2b-8d4f-4709-9f13-625781b5d88e"
      },
      "outputs": [
        {
          "output_type": "stream",
          "name": "stdout",
          "text": [
            "726\n",
            "('В вашем селе есть школа?', 'Велесонт ули школа?')\n"
          ]
        }
      ],
      "source": [
        "phrases_df = pd.read_csv(PARSED_DATA_PATH_PREFIX + 'all_phrases.tsv', sep='\\t')\n",
        "\n",
        "assert not phrases_df.isna().sum().sum()\n",
        "\n",
        "phrases_pairs = list(zip(phrases_df['mdf'], phrases_df['ru']))\n",
        "\n",
        "print(len(phrases_pairs))\n",
        "print(random.choice(phrases_pairs))"
      ]
    },
    {
      "cell_type": "markdown",
      "id": "041cbbb3",
      "metadata": {
        "id": "041cbbb3"
      },
      "source": [
        "### news"
      ]
    },
    {
      "cell_type": "code",
      "execution_count": 22,
      "id": "d2f36241",
      "metadata": {
        "colab": {
          "base_uri": "https://localhost:8080/"
        },
        "id": "d2f36241",
        "outputId": "b7076d85-2ce3-4657-81f7-73e1a3988d16"
      },
      "outputs": [
        {
          "output_type": "stream",
          "name": "stdout",
          "text": [
            "4560\n",
            "('Мордовия Республикань Конституциять шинц мархта Мордовиянь Правительствань Председательть поздравленияц', 'Поздравление Председателя Правительства Мордовии с Днём Конституции Республики Мордовия')\n"
          ]
        }
      ],
      "source": [
        "with open(ALIGNED_DATA_PATH_PREFIX + 'aligned_news_names_09_02.json', 'r') as f:\n",
        "    news_names_df = pd.DataFrame(json.load(f))\n",
        "\n",
        "assert not news_names_df.isna().sum().sum(), \"Missing values detected in news_names\"\n",
        "\n",
        "news_names_pairs = list(zip(news_names_df['mdf'], news_names_df['ru']))\n",
        "\n",
        "print(len(news_names_pairs))\n",
        "print(random.choice(news_names_pairs))"
      ]
    },
    {
      "cell_type": "code",
      "execution_count": 23,
      "id": "27a8c8a1",
      "metadata": {
        "colab": {
          "base_uri": "https://localhost:8080/"
        },
        "id": "27a8c8a1",
        "outputId": "9afd1a7b-f346-4140-cd54-7310e658acb7"
      },
      "outputs": [
        {
          "output_type": "stream",
          "name": "stdout",
          "text": [
            "65970\n",
            "('Артём Здунов китькстазе, што скверсь петевсь ошеряйхнень мяльснон кирдезь, ванфтомок природнай ланшафтть.', 'Артём Здунов подчеркнул, что сквер реконструировали с учетом пожеланий горожан, сохранив природный ландшафт.')\n"
          ]
        }
      ],
      "source": [
        "with open(ALIGNED_DATA_PATH_PREFIX + 'aligned_news_sents_09_02.json', 'r') as f:\n",
        "    news_sents_df = pd.DataFrame(json.load(f))\n",
        "\n",
        "assert not news_sents_df.isna().sum().sum(), \"Missing values detected in news_sents\"\n",
        "\n",
        "news_sents_pairs = list(zip(news_sents_df['mdf'], news_sents_df['ru']))\n",
        "\n",
        "print(len(news_sents_pairs))\n",
        "print(random.choice(news_sents_pairs))"
      ]
    },
    {
      "cell_type": "markdown",
      "id": "61cba648",
      "metadata": {
        "id": "61cba648"
      },
      "source": [
        "### wikisource"
      ]
    },
    {
      "cell_type": "code",
      "execution_count": 24,
      "id": "ef4feaca",
      "metadata": {
        "id": "ef4feaca"
      },
      "outputs": [],
      "source": [
        "document_names = [\n",
        "    'chekhov_75.000_sents',\n",
        "    'chekhov_chameleon_sents',\n",
        "    'chekhov_maria_ivanovna_sents',\n",
        "    'chekhov_person_in_case_sents',\n",
        "    'chekhov_prishibaev_sents',\n",
        "    'chekhov_self-delusion_sents',\n",
        "    'chekhov_trifon_sents',\n",
        "    'furmanov_chapaev_sents',\n",
        "    'gaydar_distant_countries_sents',\n",
        "    'gogol_dead_souls_sample_sents',\n",
        "    'gorkiy_happiness_sents',\n",
        "    'gorkiy_hero_sents',\n",
        "    'gorkiy_italian_11_sents',\n",
        "    'gorkiy_mother_sents',\n",
        "    'gorkiy_mother_part2_sents',\n",
        "    'gorkiy_russian_fairy_tales_sents',\n",
        "    'konstitution_sents',\n",
        "    'land_direct_sents',\n",
        "    'shchedrin_konyaga_sents',\n",
        "    'shchedrin_vilage_fire_sents',\n",
        "]"
      ]
    },
    {
      "cell_type": "code",
      "execution_count": 25,
      "id": "2ad3aee8",
      "metadata": {
        "colab": {
          "base_uri": "https://localhost:8080/"
        },
        "collapsed": true,
        "id": "2ad3aee8",
        "outputId": "2269e051-0254-458e-b292-1f77ac3ab188"
      },
      "outputs": [
        {
          "output_type": "stream",
          "name": "stdout",
          "text": [
            "chekhov_75.000_sents: 130 pairs\n",
            "('Тинь, Неклюжефнень, кельктядязь, тейнть жертват тиендихть, а тяса сембе эряфцень работат, вачкият, кода калсь эйти...', 'Вас, Неклюжевых, любят, вам жертвуют, а тут всю жизнь работаешь, бьешься как рыба об лед... честен, как сама честность, и — хоть бы одна счастливая минута!')\n",
            "\n",
            "chekhov_chameleon_sents: 92 pairs\n",
            "('Азсак, што мон муйня и кучиня...', 'Скажешь, что я нашёл и прислал...')\n",
            "\n",
            "chekhov_maria_ivanovna_sents: 27 pairs\n",
            "('Ламос ащесь од ломанць пяк мазы авать инголе.', 'Долго стоял молодой человек перед прекрасной женщиной.')\n",
            "\n",
            "chekhov_person_in_case_sents: 186 pairs\n",
            "('— Беликовсь эрясь сяка жа кудса, коса и мон. — ушедсь тага Буркинць, — сяка жа этажса, кенкш каршеса кенкш, минь сидеста няендемя, и мон содалиня сонь куд-ёткса эряфонц.', '— Беликов жил в том же доме, где и я, — продолжал Буркин, — в том же этаже, дверь против двери, мы часто виделись, и я знал его домашнюю жизнь.')\n",
            "\n",
            "chekhov_prishibaev_sents: 84 pairs\n",
            "('Тон полицейскай урядникат, ды властть каршес?', 'Ты, полицейский урядник, да против власти?')\n",
            "\n",
            "chekhov_self-delusion_sents: 33 pairs\n",
            "('И тяда меле сон мзярдонга ни ашезь фалендакшне эсь вийнц мархта.', 'И с тех пор он уж никогда не кичился своей силой.')\n",
            "\n",
            "chekhov_trifon_sents: 98 pairs\n",
            "('Тянкса самай инголи тинь брадонтень кардса пикссезь!', 'За это самое вашего брата прежде на конюшне драли!')\n",
            "\n",
            "furmanov_chapaev_sents: 757 pairs\n",
            "('— Ну, содаф, — тонац яфодезе кяденц весяласта.', '— Ну, известно, — смахнул тот весело рукой.')\n",
            "\n",
            "gaydar_distant_countries_sents: 1102 pairs\n",
            "('Види кядь пяля, аф ичкизя сядошка метра эздонза, кальхнень фталда няевсь оржа брезентонь палаткань вышка.', 'Вправо, не дальше как в сотне метров, из-за кустов выглянула острая вышка брезентовой палатки.')\n",
            "\n",
            "gogol_dead_souls_sample_sents: 178 pairs\n",
            "('Да тон кулхцонтт, ватт тон, тят сувсе, брат, кладовои, а то мон тонь, содасак! пикссетя келувонь тяльмоса, штоба лацкас ярхцамаце саль!', 'Да смотри ты, ты не входи, брат, в кладовую, не то я тебя, знаешь! березовым-то веником, чтобы для вкуса-то!')\n",
            "\n",
            "gorkiy_happiness_sents: 43 pairs\n",
            "('Цильнясть циледихне, ичкозе кати-кие авардемань вайгяльса кизефнесь: — Эх, мес тон полафтомайть монь?', 'Звенели кузнечики, вдали кто-то заунывно спрашивал: Эх, зачем ты изменила мне?')\n",
            "\n",
            "gorkiy_hero_sents: 70 pairs\n",
            "('Ëтамок церькавть перьф, мон мрдань ресторану, марямок эсь прязень салафокс, униженнайкс.', 'Обойдя кругом церкви, я воротился в ресторан, чувствуя себя обокраденным, униженным.')\n",
            "\n",
            "gorkiy_italian_11_sents: 73 pairs\n",
            "('— Мезенкса? — кизефтезе васенцесь, а тона отвечась тейнза: — Тяни, мзярда сон честнайста юмась, тюремок родинанц инкса, мон могу азомс, што сон кепсесь монь эсон страх: легкомысленнайсь, сон пяк кельгольхце весёлай эряфть, и ульсь пелькс, што сон тянь инкса тии измена ошти, кода тянь тиезе Марианнань цёрац, шкайть и ломаттнень врагсна, минь врагоньконь вятисна, улеза сон сюдоф и улеза сюдоф ся потмось, кона сонь каннезе!..', '- За что? - спросила первая, а та ответила ей: - Теперь, когда он честно погиб, сражаясь за родину, я могу сказать, что он возбуждал у меня страх: легкомысленный, он слишком любил весёлую жизнь, и было боязно, что ради этого он изменит городу, как это сделал сын Марианны, враг бога и людей, предводитель наших врагов, будь он проклят, и будь проклято чрево, носившее его!..')\n",
            "\n",
            "gorkiy_mother_sents: 1488 pairs\n",
            "('А пекозе монь кодама?', 'Животик-то у меня каков?')\n",
            "\n",
            "gorkiy_mother_part2_sents: 232 pairs\n",
            "('Модать лангса, конанц равчкофтозе содсь, пяк оцю шобда якстерь котф кодай унжакс келемсь фабрикась, кеподемок менельти эсь сери трубанзон.', 'На земле, черной от копоти, огромным темно-красным пауком раскинулась фабрика, подняв высоко в небо свои трубы.')\n",
            "\n",
            "gorkiy_russian_fairy_tales_sents: 160 pairs\n",
            "('Отечествась опасностьса ащи!', 'Отечество в опасности находится!')\n",
            "\n",
            "konstitution_sents: 159 pairs\n",
            "('СССР-нь Народнай Комиссархне вятихть руководства государственнай управлениянь отраслятнень лангса, конат сувсихть СССР-ть компетенцияс.', 'Народные комиссары СССР руководят отраслями государственного управления, входящими в компетенцию СССР.')\n",
            "\n",
            "land_direct_sents: 5 pairs\n",
            "('2. Помещиконь имениятне, станя-жа кода и сембе удельнай модатне, монастыреннетне, церкавоннетне, сембе синь эсост уликс живой и мертвай инвентарть мархта, усадьбань постройкатнень и сембе принадлежносттнень мархта ётнихть волостной земельнай комитеттнень и сьора видиень депутатонь уезднай советтнень кядьалу, мянь учредительнай пуромксть самс.', '2. Помещичьи имения, равно как все земли удельные, монастырские, церковные, со всем их живым и мертвым инвентарем, усадебными постройками и всеми принадлежностями переходят в распоряжение волостных земельных комитетов и уездных Советов крестьянских депутатов, впредь до Учредительного собрания.')\n",
            "\n",
            "shchedrin_konyaga_sents: 104 pairs\n",
            "('Кизонда, мзярда ночнойс сявондьсазь, хоть ляпе тишеняда ярхцси, а тялонда базару ускси „произведеният“ и кудса ярхцси керсеф кушфтаф шужярьда.', 'Летом, покуда в ночную гоняют, хоть травкой мяконькой поживится, а зимой перевозит на базар «произведения» и ест дома резку из прелой соломы.')\n",
            "\n",
            "shchedrin_vilage_fire_sents: 136 pairs\n",
            "('Но Татю, мезевок ашезь маря, аньцек седиец сязенчневсь пакшкянь-пакшкя.', 'Но Татьяна ничего не чувствовала, кроме того, что сердце ее рвется на части.')\n",
            "\n"
          ]
        }
      ],
      "source": [
        "wikisource_pairs = {}\n",
        "\n",
        "for doc_name in document_names:\n",
        "    file_path = ALIGNED_DATA_PATH_PREFIX + f\"aligned_{doc_name}_09_02.json\"\n",
        "    with open(file_path, 'r') as f:\n",
        "        df = pd.DataFrame(json.load(f))\n",
        "\n",
        "    assert not df.isna().sum().sum(), f\"Missing values detected in {doc_name}\"\n",
        "\n",
        "    pairs = list(zip(df['mdf'], df['ru']))\n",
        "\n",
        "    if doc_name == 'konstitution_sents':\n",
        "        pairs = [pair for pair in pairs if not pair[1].startswith('Статья')]\n",
        "\n",
        "    wikisource_pairs[doc_name] = pairs\n",
        "\n",
        "    print(f\"{doc_name}: {len(pairs)} pairs\")\n",
        "    print(random.choice(pairs))\n",
        "\n",
        "    print()"
      ]
    },
    {
      "cell_type": "markdown",
      "source": [
        "### wikipedia"
      ],
      "metadata": {
        "id": "_dwCrnTVUFno"
      },
      "id": "_dwCrnTVUFno"
    },
    {
      "cell_type": "code",
      "source": [
        "with open(ALIGNED_DATA_PATH_PREFIX + 'aligned_wikipedia_sents_09_02.json', 'r') as f:\n",
        "    wiki_sents_df = pd.DataFrame(json.load(f))\n",
        "\n",
        "assert not wiki_sents_df.isna().sum().sum(), \"Missing values detected in news_sents\"\n",
        "\n",
        "wiki_sents_pairs = list(zip(wiki_sents_df['mdf'], wiki_sents_df['ru']))\n",
        "\n",
        "print(len(wiki_sents_pairs))\n",
        "print(random.choice(wiki_sents_pairs))"
      ],
      "metadata": {
        "colab": {
          "base_uri": "https://localhost:8080/"
        },
        "id": "fnJZfUPJRihB",
        "outputId": "6d61c14e-e17d-48ac-ec2d-5cb582685802"
      },
      "id": "fnJZfUPJRihB",
      "execution_count": 26,
      "outputs": [
        {
          "output_type": "stream",
          "name": "stdout",
          "text": [
            "1400\n",
            "('Сяс видьмотне эрявихть видемс эстокиге, сяда пара шувару, ведень шокши модас.', 'Едят его обычно свежим; семена, по вкусу напоминающие каштаны, поджаривают.')\n"
          ]
        }
      ]
    },
    {
      "cell_type": "markdown",
      "id": "1d31c91d",
      "metadata": {
        "id": "1d31c91d"
      },
      "source": [
        "### Union"
      ]
    },
    {
      "cell_type": "code",
      "execution_count": 27,
      "id": "36157b87",
      "metadata": {
        "colab": {
          "base_uri": "https://localhost:8080/"
        },
        "id": "36157b87",
        "outputId": "4becf20a-5b3b-4b57-b40e-1b77dec1b4f1"
      },
      "outputs": [
        {
          "output_type": "stream",
          "name": "stdout",
          "text": [
            "88748\n"
          ]
        }
      ],
      "source": [
        "all_pairs = sorted({\n",
        "    c for c in\n",
        "    word_pairs + phrases_pairs + bible_pairs + news_names_pairs + news_sents_pairs + [pair for pairs in wikisource_pairs.values() for pair in pairs] + wiki_sents_pairs\n",
        "    if c[0] and c[1]\n",
        "})\n",
        "print(len(all_pairs))"
      ]
    },
    {
      "cell_type": "code",
      "execution_count": 28,
      "id": "c54bbf53",
      "metadata": {
        "id": "c54bbf53"
      },
      "outputs": [],
      "source": [
        "with open(ALIGNED_DATA_PATH_PREFIX + 'train_test_splitting/all_pairs.json', 'w') as f:\n",
        "    json.dump(all_pairs, f, ensure_ascii=False, indent=4)"
      ]
    },
    {
      "cell_type": "markdown",
      "id": "44ab7d84",
      "metadata": {
        "id": "44ab7d84"
      },
      "source": [
        "# Select traindev data"
      ]
    },
    {
      "cell_type": "code",
      "execution_count": 29,
      "id": "55021e62",
      "metadata": {
        "colab": {
          "base_uri": "https://localhost:8080/"
        },
        "id": "55021e62",
        "outputId": "40e991f6-2acd-4a4d-8328-2ab5775c3fb4"
      },
      "outputs": [
        {
          "output_type": "stream",
          "name": "stdout",
          "text": [
            "11583\n"
          ]
        }
      ],
      "source": [
        "print(len(set(bible_pairs)))\n",
        "\n",
        "random.seed(1)\n",
        "bible_devtest = random.sample(sorted(set(bible_pairs)), k=800)"
      ]
    },
    {
      "cell_type": "code",
      "execution_count": 30,
      "id": "71971dc9",
      "metadata": {
        "colab": {
          "base_uri": "https://localhost:8080/"
        },
        "id": "71971dc9",
        "outputId": "cca8ac23-703f-49f4-ebac-5a37854a8113"
      },
      "outputs": [
        {
          "output_type": "stream",
          "name": "stdout",
          "text": [
            "62308\n"
          ]
        }
      ],
      "source": [
        "print(len(set(news_sents_pairs)))\n",
        "\n",
        "random.seed(1)\n",
        "news_sents_devtest = random.sample(sorted(set(news_sents_pairs)), k=1000)"
      ]
    },
    {
      "cell_type": "code",
      "execution_count": 31,
      "id": "4a3dfd39",
      "metadata": {
        "colab": {
          "base_uri": "https://localhost:8080/"
        },
        "id": "4a3dfd39",
        "outputId": "0055bf6e-fec9-4b61-8efc-2888e4f71660"
      },
      "outputs": [
        {
          "output_type": "stream",
          "name": "stdout",
          "text": [
            "756\n"
          ]
        }
      ],
      "source": [
        "print(len(set(wikisource_pairs['furmanov_chapaev_sents'])))\n",
        "\n",
        "random.seed(1)\n",
        "furmanov_chapaev_devtest = random.sample(sorted(set(wikisource_pairs['furmanov_chapaev_sents'])), k=400)"
      ]
    },
    {
      "cell_type": "code",
      "execution_count": 32,
      "id": "f15a4a56",
      "metadata": {
        "colab": {
          "base_uri": "https://localhost:8080/"
        },
        "id": "f15a4a56",
        "outputId": "594de663-c7a5-496f-d8df-400e9643ce06"
      },
      "outputs": [
        {
          "output_type": "stream",
          "name": "stdout",
          "text": [
            "1477\n"
          ]
        }
      ],
      "source": [
        "print(len(set(wikisource_pairs['gorkiy_mother_sents'])))\n",
        "\n",
        "random.seed(1)\n",
        "gorkiy_mother_devtest = random.sample(sorted(set(wikisource_pairs['gorkiy_mother_sents'])), k=200)"
      ]
    },
    {
      "cell_type": "code",
      "execution_count": 33,
      "id": "55b86e73",
      "metadata": {
        "colab": {
          "base_uri": "https://localhost:8080/"
        },
        "id": "55b86e73",
        "outputId": "cbdad72b-b439-4388-abce-e7002ae93904"
      },
      "outputs": [
        {
          "output_type": "stream",
          "name": "stdout",
          "text": [
            "1100\n"
          ]
        }
      ],
      "source": [
        "print(len(set(wikisource_pairs['gaydar_distant_countries_sents'])))\n",
        "\n",
        "random.seed(1)\n",
        "gaydar_distant_countries_devtest = random.sample(sorted(set(wikisource_pairs['gaydar_distant_countries_sents'])), k=200)"
      ]
    },
    {
      "cell_type": "code",
      "execution_count": 34,
      "id": "92f831d1",
      "metadata": {
        "id": "92f831d1"
      },
      "outputs": [],
      "source": [
        "components = {\n",
        "    'bible': bible_devtest,\n",
        "    'news_sents': news_sents_devtest,\n",
        "    'gorkiy_mother': gorkiy_mother_devtest,\n",
        "    'furmanov_chapaev': furmanov_chapaev_devtest,\n",
        "    'gaydar_distant_countries': gaydar_distant_countries_devtest\n",
        "}\n",
        "dev = {k: v[:len(v)//2] for k, v in components.items()}\n",
        "test = {k: v[len(v)//2:] for k, v in components.items()}"
      ]
    },
    {
      "cell_type": "code",
      "execution_count": 35,
      "id": "675c3aab",
      "metadata": {
        "colab": {
          "base_uri": "https://localhost:8080/"
        },
        "id": "675c3aab",
        "outputId": "ff4fa1e9-de99-48d3-ee9f-9fa708462be0"
      },
      "outputs": [
        {
          "output_type": "stream",
          "name": "stdout",
          "text": [
            "1300\n",
            "1300\n"
          ]
        }
      ],
      "source": [
        "print(len({s for c in dev.values() for s in c}))\n",
        "print(len({s for c in test.values() for s in c}))"
      ]
    },
    {
      "cell_type": "code",
      "execution_count": 36,
      "id": "24ad8f24",
      "metadata": {
        "id": "24ad8f24"
      },
      "outputs": [],
      "source": [
        "with open(ALIGNED_DATA_PATH_PREFIX + 'train_test_splitting/dev.json', 'w') as f:\n",
        "    json.dump(dev, f, ensure_ascii=False, indent=4)"
      ]
    },
    {
      "cell_type": "code",
      "execution_count": 37,
      "id": "ee2f0705",
      "metadata": {
        "id": "ee2f0705"
      },
      "outputs": [],
      "source": [
        "with open(ALIGNED_DATA_PATH_PREFIX + 'train_test_splitting/test.json', 'w') as f:\n",
        "    json.dump(test, f, ensure_ascii=False, indent=4)"
      ]
    },
    {
      "cell_type": "code",
      "execution_count": 38,
      "id": "d5bd9c0a",
      "metadata": {
        "colab": {
          "base_uri": "https://localhost:8080/"
        },
        "id": "d5bd9c0a",
        "outputId": "f5b63a0c-f009-4cbd-85e8-6dac6fec1c50"
      },
      "outputs": [
        {
          "output_type": "execute_result",
          "data": {
            "text/plain": [
              "2600"
            ]
          },
          "metadata": {},
          "execution_count": 38
        }
      ],
      "source": [
        "devtest = {s for c in components.values() for s in c}\n",
        "len(devtest)"
      ]
    },
    {
      "cell_type": "code",
      "execution_count": 39,
      "id": "fc963a4d",
      "metadata": {
        "colab": {
          "base_uri": "https://localhost:8080/"
        },
        "id": "fc963a4d",
        "outputId": "996b42e3-1617-4b88-f164-f05511159114"
      },
      "outputs": [
        {
          "output_type": "stream",
          "name": "stdout",
          "text": [
            "86148\n"
          ]
        }
      ],
      "source": [
        "train = sorted(set(all_pairs).difference(devtest))\n",
        "print(len(train))"
      ]
    },
    {
      "cell_type": "code",
      "execution_count": 40,
      "id": "ced1fe7d",
      "metadata": {
        "id": "ced1fe7d"
      },
      "outputs": [],
      "source": [
        "with open(ALIGNED_DATA_PATH_PREFIX + 'train_test_splitting/train.json', 'w') as f:\n",
        "    json.dump(train, f, ensure_ascii=False, indent=4)"
      ]
    },
    {
      "cell_type": "code",
      "execution_count": null,
      "id": "79abb8e4",
      "metadata": {
        "id": "79abb8e4"
      },
      "outputs": [],
      "source": []
    }
  ],
  "metadata": {
    "kernelspec": {
      "display_name": "Python 3",
      "name": "python3"
    },
    "language_info": {
      "codemirror_mode": {
        "name": "ipython",
        "version": 3
      },
      "file_extension": ".py",
      "mimetype": "text/x-python",
      "name": "python",
      "nbconvert_exporter": "python",
      "pygments_lexer": "ipython3",
      "version": "3.11.9"
    },
    "colab": {
      "provenance": [],
      "machine_shape": "hm"
    }
  },
  "nbformat": 4,
  "nbformat_minor": 5
}