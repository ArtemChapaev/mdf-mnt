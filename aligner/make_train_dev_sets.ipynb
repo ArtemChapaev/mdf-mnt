{
 "cells": [
  {
   "cell_type": "code",
   "execution_count": 2,
   "id": "11aa2494",
   "metadata": {},
   "outputs": [],
   "source": [
    "import pandas as pd\n",
    "import re\n",
    "import random\n",
    "import json\n",
    "from tqdm.auto import tqdm, trange"
   ]
  },
  {
   "cell_type": "code",
   "execution_count": 7,
   "id": "c2ee10b8",
   "metadata": {},
   "outputs": [],
   "source": [
    "PARSED_DATA_PATH_PREFIX = '../parsing_aligned_data/results/'"
   ]
  },
  {
   "cell_type": "code",
   "execution_count": 52,
   "id": "eb76b794",
   "metadata": {},
   "outputs": [],
   "source": [
    "ALIGNED_DATA_PATH_PREFIX = '../aligner/v1_07_02_25/'"
   ]
  },
  {
   "cell_type": "markdown",
   "id": "a9b162de",
   "metadata": {},
   "source": [
    "## Load sentence-parallel data"
   ]
  },
  {
   "cell_type": "markdown",
   "id": "870936e7",
   "metadata": {},
   "source": [
    "### bible"
   ]
  },
  {
   "cell_type": "code",
   "execution_count": 8,
   "id": "ad9e92e1",
   "metadata": {},
   "outputs": [
    {
     "name": "stdout",
     "output_type": "stream",
     "text": [
      "(11650, 4)\n",
      "(11633, 4)\n",
      "(11583, 4)\n",
      "Index(['Unnamed: 0', 'mdf', 'ru', 'source'], dtype='object')\n"
     ]
    }
   ],
   "source": [
    "bible_df = pd.read_csv(PARSED_DATA_PATH_PREFIX + 'moksha_bible.tsv', sep='\\t')\n",
    "print(bible_df.shape)\n",
    "\n",
    "bible_df = bible_df.dropna()\n",
    "print(bible_df.shape)\n",
    "\n",
    "bible_df = bible_df[~bible_df['mdf'].str.startswith('Глава ')]\n",
    "print(bible_df.shape)\n",
    "print(bible_df.columns)"
   ]
  },
  {
   "cell_type": "code",
   "execution_count": 10,
   "id": "681ed691",
   "metadata": {},
   "outputs": [
    {
     "name": "stdout",
     "output_type": "stream",
     "text": [
      "11583\n"
     ]
    }
   ],
   "source": [
    "bible_pairs = list(zip(bible_df['mdf'], bible_df['ru']))\n",
    "\n",
    "print(len(bible_pairs))\n",
    "print(random.choice(bible_pairs))"
   ]
  },
  {
   "cell_type": "markdown",
   "id": "1b31f2e3",
   "metadata": {},
   "source": [
    "### words and phrases"
   ]
  },
  {
   "cell_type": "code",
   "execution_count": 12,
   "id": "53ecb6f3",
   "metadata": {},
   "outputs": [],
   "source": [
    "word_df = pd.read_csv(PARSED_DATA_PATH_PREFIX + 'all_dicts_data.tsv', sep='\\t')\n",
    "\n",
    "assert not word_df.isna().sum().sum()\n",
    "\n",
    "word_pairs = list(zip(word_df['mdf'], word_df['ru']))\n",
    "\n",
    "print(len(word_pairs))\n",
    "print(random.choice(word_pairs))"
   ]
  },
  {
   "cell_type": "code",
   "execution_count": 20,
   "id": "480ad91f",
   "metadata": {},
   "outputs": [],
   "source": [
    "phrases_df = pd.read_csv(PARSED_DATA_PATH_PREFIX + 'all_phrases.tsv', sep='\\t')\n",
    "\n",
    "assert not phrases_df.isna().sum().sum()\n",
    "\n",
    "phrases_pairs = list(zip(phrases_df['mdf'], phrases_df['ru']))\n",
    "\n",
    "print(len(phrases_pairs))\n",
    "print(random.choice(phrases_pairs))"
   ]
  },
  {
   "cell_type": "markdown",
   "id": "041cbbb3",
   "metadata": {},
   "source": [
    "### news"
   ]
  },
  {
   "cell_type": "code",
   "execution_count": 55,
   "id": "d2f36241",
   "metadata": {},
   "outputs": [],
   "source": [
    "with open(ALIGNED_DATA_PATH_PREFIX + 'aligned_news_names_06_02.json', 'r') as f:\n",
    "    news_names_df = pd.DataFrame(json.load(f))\n",
    "\n",
    "assert not news_names_df.isna().sum().sum(), \"Missing values detected in news_names\"\n",
    "\n",
    "news_names_pairs = list(zip(news_names_df['mdf'], news_names_df['ru']))\n",
    "\n",
    "print(len(news_names_pairs))\n",
    "print(random.choice(news_names_pairs))"
   ]
  },
  {
   "cell_type": "code",
   "execution_count": 60,
   "id": "27a8c8a1",
   "metadata": {},
   "outputs": [],
   "source": [
    "with open(ALIGNED_DATA_PATH_PREFIX + 'aligned_news_sents_06_02.json', 'r') as f:\n",
    "    news_sents_df = pd.DataFrame(json.load(f))\n",
    "\n",
    "assert not news_sents_df.isna().sum().sum(), \"Missing values detected in news_sents\"\n",
    "\n",
    "news_sents_pairs = list(zip(news_sents_df['mdf'], news_sents_df['ru']))\n",
    "\n",
    "print(len(news_sents_pairs))\n",
    "print(random.choice(news_sents_pairs))"
   ]
  },
  {
   "cell_type": "markdown",
   "id": "61cba648",
   "metadata": {},
   "source": [
    "### wikisource"
   ]
  },
  {
   "cell_type": "code",
   "execution_count": 73,
   "id": "ef4feaca",
   "metadata": {},
   "outputs": [],
   "source": [
    "document_names = [\n",
    "    'chekhov_75.000_sents',\n",
    "    'chekhov_chameleon_sents',\n",
    "    'chekhov_maria_ivanovna_sents',\n",
    "    'chekhov_person_in_case_sents',\n",
    "    'chekhov_prishibaev_sents',\n",
    "    'chekhov_self-delusion_sents',\n",
    "    'chekhov_trifon_sents',\n",
    "    'furmanov_chapaev_sents',\n",
    "    'gaydar_distant_countries_sents',\n",
    "    'gogol_dead_souls_sample_sents',\n",
    "    'gorkiy_happiness_sents',\n",
    "    'gorkiy_hero_sents',\n",
    "    'gorkiy_italian_11_sents',\n",
    "    'gorkiy_mother_sents',\n",
    "    'gorkiy_mother_part2_sents',\n",
    "    'gorkiy_russian_fairy_tales_sents',\n",
    "    'konstitution_sents',\n",
    "    'land_direct_sents',\n",
    "    'shchedrin_konyaga_sents',\n",
    "    'shchedrin_vilage_fire_sents',\n",
    "]"
   ]
  },
  {
   "cell_type": "code",
   "execution_count": 74,
   "id": "2ad3aee8",
   "metadata": {},
   "outputs": [
    {
     "name": "stdout",
     "output_type": "stream",
     "text": [
      "land_dicret_sents: 5 pairs\n",
      "('4. Модать лиякс явондомаса оцю тефнень ланкса руководствань вятеманди, ингольпяли мянь Учредительнай пуромксть мархта окончательнайста кемокстамозост, араза тяда меле няфтьф сьора-видиень наказсь, конац тийф 242 вастонь сьора видиень накаснень коряс „Сьора-видиень Депутатонь Всероссийскай Советть Известиянзон“ мархта и пячатлаф нят „Известиятнень“ 88 номерсост.', '4. Для руководства по осуществлению великих земельных преобразований, впредь до окончательного их решения Учредительным собранием, должен повсюду служить следующий крестьянский наказ, составленный на основании 242 местных крестьянских наказов редакцией «Известий Всероссийского Совета Крестьянских Депутатов» и опубликованный в номере 88 этих «Известий».')\n",
      "\n",
      "russian_gorkiy_sents: 191 pairs\n",
      "('Шарьхкодсть фкя-фкянь, ваяфтозь дипломатснон ляйти и кармасть корхтама толк мархта:', 'Поняли друг друга, утопили дипломатов в реке и давай говорить толком:')\n",
      "\n",
      "hero_gorkiy_sents: 82 pairs\n",
      "('Мзярда хлыст мархта ломанць кяшевсь церькав оградать фталу, коза ётась голубой авась, мон тожа тунь синь мельгаст и несколька минутада меле васьфтине алять церькавть фтала, сире пяшетнень эшксса.', 'Когда человек с хлыстом скрылся в ограде церкви, куда прошла голубая дама, я тоже отправился вслед за ним и через несколько минут встретил его за церковью, в тени старых лип.')\n",
      "\n",
      "prishibaev_chekhov_sents: 88 pairs\n",
      "('Старшинать инкса урядниксь арась.', 'За старшину урядник вступился.')\n",
      "\n",
      "konyaga_shchedrin_sents: 109 pairs\n",
      "('Аш пе работати!', 'Нет конца работе!')\n",
      "\n",
      "trifon_chekhov_sents: 108 pairs\n",
      "('— Триша!', '— Триша!')\n",
      "\n",
      "happiness_gorkiy_sents: 54 pairs\n",
      "('Мон вишкста кармань стирняти эряфть колга азондома, конань мон содаса, сянь колга, мезе мон ашень шарьхкотькшне, но — вдруг сон валомне пешкодсь и велясь копоренц лангс.', 'Я стал горячо рассказывать девушке о жизни, знакомой мне, о том, чего я не понимал, но — вдруг она, тихонько вскрикнув, опрокинулась на спину.')\n",
      "\n",
      "Mother_gorkiy_part2_sents: 263 pairs\n",
      "('Тядять седисонза стакаль, мзярда сон эсь прянц няезе кутфтома странницакс, конац анци Христа ради велень куттнень вальмала.', 'Ей стало грустно, когда она увидела себя бездомной странницей, просящей милостыню Христа ради под окнами деревенских изб.')\n",
      "\n",
      "75.000_chekhov_sents: 133 pairs\n",
      "('Рыжайти эстокиге жа арась визькс щёкас кероманкса.', 'Рыжему тотчас же стало стыдно этой пощечины.')\n",
      "\n",
      "chapaev_sents: 813 pairs\n",
      "('— Ивантеевкати пачкоттяма...', '— Ивантеевка будет...')\n",
      "\n",
      "chameleon_chekhov_sents: 92 pairs\n",
      "('Пинесь — нежнай жувата..', 'Собака — нежная тварь...')\n",
      "\n",
      "distant_countries_gaydar_sents: 1135 pairs\n",
      "('Попонь сатть эзда аватня ненгя илять шувсть клёк оцю и цебярь махровай шиповникть самай кели тарадня, ся таратт, конац тунда палы пиндолды якстеря цвеца, кда варжамс пефтома лопанзон ланкс, нльня сельмя зоркатня маштыхть и озафтозь сонь летькя, сери лоткть трвас, прянц шири.', 'Из поповского сада вырыли бабы еще с вечера самый большой, самый раскидистый куст махрового шиповника, такого, что горит весною ярко-алыми бесчисленными лепестками, и посадили его у изголовья, возле глубокой сырой ямы.')\n",
      "\n",
      "vilage_fire_shchedrin_sents: 144 pairs\n",
      "('Тя ужасна, ужасна, ужасна!', 'Мамочка! это ужасно, ужасно, ужасно!')\n",
      "\n",
      "Mother_gorkiy_sents: 1754 pairs\n",
      "('— Пелемс аф эряви! — мярьксь хохолсь.', '— Не надо бояться! — сказал хохол.')\n",
      "\n",
      "self-delusion_chekhov_sents: 36 pairs\n",
      "('Кда тонь эсь пряце сяскови, то тяйть сяве ня ярмакнень.', 'Если вы можете пересилить себя, то не берите этих денег...')\n",
      "\n",
      "konstitution_sents: 257 pairs\n",
      "('г) мольфти общай руководства лия масторонь государстватнень марта сотксонь кирьдемань (сношениянь) тевса;', 'г) осуществляет общее руководство в области сношений с иностранными государствами;')\n",
      "\n",
      "italian_11_gorkiy_sents: 89 pairs\n",
      "('Шаштсть малазонза и кизефтезь — кие сон, коза моли?', 'Подошли и спросили - кто она, куда идёт?')\n",
      "\n",
      "Maria_Ivanovna_chekhov_sents: 32 pairs\n",
      "('Пяк лац урядаф гостинайса дамась рисовандафоль маслянай краскаса простой котф лангс и нюрьгсь диванть вельксса.', 'Дама в роскошно убранной гостиной была написана масляными красками на холсте и висела над диваном.')\n",
      "\n",
      "gogol_sents: 221 pairs\n",
      "('Вдь монь народозе или ворхт или мошенникт: фкя шиста станя салатядязь, што и суманьцевок аф ули коза повфтамс“.', 'Ведь у меня народ или вор, или мошенник: в день так оберут, что и кафтана не на чем будет повесить.')\n",
      "\n",
      "person_in_case_chekhov_sents: 202 pairs\n",
      "('— Да.', '— Да.')\n",
      "\n"
     ]
    }
   ],
   "source": [
    "wikisource_pairs = {}\n",
    "\n",
    "for doc_name in document_names:\n",
    "    file_path = ALIGNED_DATA_PATH_PREFIX + f\"aligned_{doc_name}_06_02.json\"\n",
    "    with open(file_path, 'r') as f:\n",
    "        df = pd.DataFrame(json.load(f))\n",
    "    \n",
    "    assert not df.isna().sum().sum(), f\"Missing values detected in {doc_name}\"\n",
    "    \n",
    "    pairs = list(zip(df['mdf'], df['ru']))\n",
    "\n",
    "    if doc_name == 'konstitution_sents':\n",
    "        pairs = [pair for pair in pairs if not pair[1].startswith('Статья')]\n",
    "\n",
    "    wikisource_pairs[doc_name] = pairs\n",
    "\n",
    "    print(f\"{doc_name}: {len(pairs)} pairs\")\n",
    "    print(random.choice(pairs))\n",
    "\n",
    "    print()"
   ]
  },
  {
   "cell_type": "markdown",
   "id": "1d31c91d",
   "metadata": {},
   "source": [
    "### Union"
   ]
  },
  {
   "cell_type": "code",
   "execution_count": 81,
   "id": "36157b87",
   "metadata": {},
   "outputs": [
    {
     "name": "stdout",
     "output_type": "stream",
     "text": [
      "36008\n"
     ]
    }
   ],
   "source": [
    "all_pairs = sorted({\n",
    "    c for c in\n",
    "    word_pairs + phrases_pairs + bible_pairs + news_names_pairs + news_sents_pairs + [pair for pairs in wikisource_pairs.values() for pair in pairs]\n",
    "    if c[0] and c[1]\n",
    "})\n",
    "print(len(all_pairs))"
   ]
  },
  {
   "cell_type": "code",
   "execution_count": null,
   "id": "c54bbf53",
   "metadata": {},
   "outputs": [],
   "source": [
    "with open(ALIGNED_DATA_PATH_PREFIX + 'train_test_splitting/all_pairs.json', 'w') as f:\n",
    "    json.dump(set(all_pairs), f, indent=2, ensure_ascii=False)"
   ]
  },
  {
   "cell_type": "markdown",
   "id": "44ab7d84",
   "metadata": {},
   "source": [
    "# Select traindev data"
   ]
  },
  {
   "cell_type": "code",
   "execution_count": 35,
   "id": "55021e62",
   "metadata": {},
   "outputs": [
    {
     "name": "stdout",
     "output_type": "stream",
     "text": [
      "11583\n"
     ]
    }
   ],
   "source": [
    "print(len(set(bible_pairs)))\n",
    "\n",
    "random.seed(1)\n",
    "bible_devtest = random.sample(sorted(set(bible_pairs)), k=800)"
   ]
  },
  {
   "cell_type": "code",
   "execution_count": 86,
   "id": "4a3dfd39",
   "metadata": {},
   "outputs": [
    {
     "name": "stdout",
     "output_type": "stream",
     "text": [
      "811\n"
     ]
    }
   ],
   "source": [
    "print(len(set(wikisource_pairs['chapaev_sents'])))\n",
    "\n",
    "random.seed(1)\n",
    "chapaev_devtest = random.sample(sorted(set(wikisource_pairs['chapaev_sents'])), k=400)"
   ]
  },
  {
   "cell_type": "code",
   "execution_count": 87,
   "id": "f15a4a56",
   "metadata": {},
   "outputs": [
    {
     "name": "stdout",
     "output_type": "stream",
     "text": [
      "1739\n"
     ]
    }
   ],
   "source": [
    "print(len(set(wikisource_pairs['Mother_gorkiy_sents'])))\n",
    "\n",
    "random.seed(1)\n",
    "mother_gorkiy_devtest = random.sample(sorted(set(wikisource_pairs['Mother_gorkiy_sents'])), k=200)"
   ]
  },
  {
   "cell_type": "code",
   "execution_count": 88,
   "id": "55b86e73",
   "metadata": {},
   "outputs": [
    {
     "name": "stdout",
     "output_type": "stream",
     "text": [
      "1133\n"
     ]
    }
   ],
   "source": [
    "print(len(set(wikisource_pairs['distant_countries_gaydar_sents'])))\n",
    "\n",
    "random.seed(1)\n",
    "distant_countries_gaydar_devtest = random.sample(sorted(set(wikisource_pairs['distant_countries_gaydar_sents'])), k=200)"
   ]
  },
  {
   "cell_type": "code",
   "execution_count": 89,
   "id": "92f831d1",
   "metadata": {},
   "outputs": [],
   "source": [
    "components = {\n",
    "    'bible': bible_devtest,\n",
    "    'mother_gorkiy': mother_gorkiy_devtest,\n",
    "    'chapaev': chapaev_devtest,\n",
    "    'distant_countries_gaydar': distant_countries_gaydar_devtest\n",
    "}\n",
    "dev = {k: v[:len(v)//2] for k, v in components.items()}\n",
    "test = {k: v[len(v)//2:] for k, v in components.items()}"
   ]
  },
  {
   "cell_type": "code",
   "execution_count": 90,
   "id": "675c3aab",
   "metadata": {},
   "outputs": [
    {
     "name": "stdout",
     "output_type": "stream",
     "text": [
      "800\n",
      "800\n"
     ]
    }
   ],
   "source": [
    "print(len({s for c in dev.values() for s in c}))\n",
    "print(len({s for c in test.values() for s in c}))"
   ]
  },
  {
   "cell_type": "code",
   "execution_count": 92,
   "id": "24ad8f24",
   "metadata": {},
   "outputs": [],
   "source": [
    "with open(ALIGNED_DATA_PATH_PREFIX + 'train_test_splitting/dev.json', 'w') as f:\n",
    "    json.dump(dev, f, indent=2, ensure_ascii=False)"
   ]
  },
  {
   "cell_type": "code",
   "execution_count": 93,
   "id": "ee2f0705",
   "metadata": {},
   "outputs": [],
   "source": [
    "with open(ALIGNED_DATA_PATH_PREFIX + 'train_test_splitting/test.json', 'w') as f:\n",
    "    json.dump(test, f, indent=2, ensure_ascii=False)"
   ]
  },
  {
   "cell_type": "code",
   "execution_count": 94,
   "id": "d5bd9c0a",
   "metadata": {},
   "outputs": [
    {
     "data": {
      "text/plain": [
       "1600"
      ]
     },
     "execution_count": 94,
     "metadata": {},
     "output_type": "execute_result"
    }
   ],
   "source": [
    "devtest = {s for c in components.values() for s in c}\n",
    "len(devtest)"
   ]
  },
  {
   "cell_type": "code",
   "execution_count": 95,
   "id": "fc963a4d",
   "metadata": {},
   "outputs": [
    {
     "name": "stdout",
     "output_type": "stream",
     "text": [
      "34428\n"
     ]
    }
   ],
   "source": [
    "train = sorted(set(all_pairs).difference(devtest))\n",
    "print(len(train))"
   ]
  },
  {
   "cell_type": "code",
   "execution_count": 97,
   "id": "ced1fe7d",
   "metadata": {},
   "outputs": [],
   "source": [
    "with open(ALIGNED_DATA_PATH_PREFIX + 'train_test_splitting/train.json', 'w') as f:\n",
    "    json.dump(train, f, indent=2, ensure_ascii=False)"
   ]
  },
  {
   "cell_type": "code",
   "execution_count": null,
   "id": "79abb8e4",
   "metadata": {},
   "outputs": [],
   "source": []
  }
 ],
 "metadata": {
  "kernelspec": {
   "display_name": "Python 3",
   "language": "python",
   "name": "python3"
  },
  "language_info": {
   "codemirror_mode": {
    "name": "ipython",
    "version": 3
   },
   "file_extension": ".py",
   "mimetype": "text/x-python",
   "name": "python",
   "nbconvert_exporter": "python",
   "pygments_lexer": "ipython3",
   "version": "3.11.9"
  }
 },
 "nbformat": 4,
 "nbformat_minor": 5
}
