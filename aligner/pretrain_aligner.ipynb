{
  "cells": [
    {
      "cell_type": "code",
      "execution_count": null,
      "id": "b9V2MNZERFI0",
      "metadata": {
        "colab": {
          "base_uri": "https://localhost:8080/"
        },
        "id": "b9V2MNZERFI0",
        "outputId": "b4696670-6cc0-4abc-e219-08485e691512"
      },
      "outputs": [
        {
          "name": "stdout",
          "output_type": "stream",
          "text": [
            "Collecting razdel\n",
            "  Downloading razdel-0.5.0-py3-none-any.whl.metadata (10.0 kB)\n",
            "Downloading razdel-0.5.0-py3-none-any.whl (21 kB)\n",
            "Installing collected packages: razdel\n",
            "Successfully installed razdel-0.5.0\n",
            "Collecting heapdict\n",
            "  Downloading HeapDict-1.0.1-py3-none-any.whl.metadata (1.9 kB)\n",
            "Downloading HeapDict-1.0.1-py3-none-any.whl (3.9 kB)\n",
            "Installing collected packages: heapdict\n",
            "Successfully installed heapdict-1.0.1\n"
          ]
        }
      ],
      "source": [
        "!pip install razdel\n",
        "!pip install heapdict"
      ]
    },
    {
      "cell_type": "code",
      "execution_count": 1,
      "id": "df2081cc",
      "metadata": {
        "id": "df2081cc"
      },
      "outputs": [],
      "source": [
        "from collections import Counter, defaultdict\n",
        "import json\n",
        "import os\n",
        "import random\n",
        "import re\n",
        "\n",
        "from heapdict import heapdict\n",
        "import numpy as np\n",
        "import pandas as pd\n",
        "import razdel\n",
        "from tqdm.auto import tqdm, trange\n",
        "import torch\n",
        "from transformers import (\n",
        "    Adafactor,\n",
        "    AutoModel,\n",
        "    AutoModelForPreTraining,\n",
        "    AutoTokenizer,\n",
        "    BertTokenizer,\n",
        "    DataCollatorForWholeWordMask\n",
        ")\n"
      ]
    },
    {
      "cell_type": "code",
      "execution_count": null,
      "id": "SxxW6WJtPyLu",
      "metadata": {
        "colab": {
          "base_uri": "https://localhost:8080/"
        },
        "id": "SxxW6WJtPyLu",
        "outputId": "e5380b0e-94ee-46b1-aba0-e1662b469e17"
      },
      "outputs": [
        {
          "name": "stdout",
          "output_type": "stream",
          "text": [
            "Mounted at /content/drive\n"
          ]
        }
      ],
      "source": [
        "from google.colab import drive\n",
        "drive.mount('/content/drive')"
      ]
    },
    {
      "cell_type": "code",
      "execution_count": null,
      "id": "crqyJ3GbP_uN",
      "metadata": {
        "colab": {
          "base_uri": "https://localhost:8080/"
        },
        "id": "crqyJ3GbP_uN",
        "outputId": "ed745940-99e4-41c2-dd63-494f1e574bde"
      },
      "outputs": [
        {
          "name": "stdout",
          "output_type": "stream",
          "text": [
            "accuracies.csv\t\taligned_sents.json  losses.csv\t      moksha_bible.tsv\n",
            "aligned_name_pairs.tsv\tall_dicts_data.tsv  mdf_mono\t      ru_names_df.tsv\n",
            "aligned_pairs.pkl\tall_phrases.tsv     mdf_names_df.tsv  text_for_align\n"
          ]
        }
      ],
      "source": [
        "!ls drive/MyDrive/diploma/data"
      ]
    },
    {
      "cell_type": "code",
      "execution_count": null,
      "id": "boTvpSwLRdgc",
      "metadata": {
        "id": "boTvpSwLRdgc"
      },
      "outputs": [],
      "source": [
        "DATA_PATH_PREFIX = 'drive/MyDrive/diploma/data/'"
      ]
    },
    {
      "cell_type": "code",
      "execution_count": null,
      "id": "OWHr2nU8trBu",
      "metadata": {
        "id": "OWHr2nU8trBu"
      },
      "outputs": [],
      "source": [
        "BASE_MODEL = 'cointegrated/LaBSE-en-ru'"
      ]
    },
    {
      "cell_type": "markdown",
      "id": "83617225",
      "metadata": {
        "id": "83617225"
      },
      "source": [
        "# Collect the data"
      ]
    },
    {
      "cell_type": "markdown",
      "id": "f2c19323",
      "metadata": {
        "id": "f2c19323"
      },
      "source": [
        "## Monolang data"
      ]
    },
    {
      "cell_type": "markdown",
      "id": "jM5UfmAKsHu9",
      "metadata": {
        "id": "jM5UfmAKsHu9"
      },
      "source": [
        "1. books from uni\n",
        "2. books from wikisource\n",
        "3. news from e-mordovia (use only subset of them)\n",
        "4. bible (use only subset of them)"
      ]
    },
    {
      "cell_type": "code",
      "execution_count": null,
      "id": "4qngbdj9rJYg",
      "metadata": {
        "id": "4qngbdj9rJYg"
      },
      "outputs": [],
      "source": [
        "books_sents = []"
      ]
    },
    {
      "cell_type": "code",
      "execution_count": null,
      "id": "d586c267",
      "metadata": {
        "colab": {
          "base_uri": "https://localhost:8080/"
        },
        "id": "d586c267",
        "outputId": "2c5631ba-4a5e-4931-b4e4-d8ced8b298d5",
        "scrolled": true
      },
      "outputs": [
        {
          "name": "stdout",
          "output_type": "stream",
          "text": [
            "Мишанина_Кенерсь_тишесь.txt\n",
            "173\n",
            "Мишанина_Сокор_веле.txt\n",
            "1062\n",
            "Вешкин_Лядсь.txt\n",
            "134\n",
            "Кишняков_Полю.txt\n",
            "639\n",
            "Кузнецов_Ожудова,_вишке_волохт.txt\n",
            "6138\n",
            "Моиисеев_Оду_аф_няйсамасть.txt\n",
            "9941\n",
            "Мокшони_Митрей.txt\n",
            "503\n",
            "Лобанов.txt\n",
            "9217\n",
            "27807\n"
          ]
        }
      ],
      "source": [
        "book_dir = DATA_PATH_PREFIX + 'mdf_mono/'\n",
        "\n",
        "# load all sents from mdf books\n",
        "for fn in os.listdir(book_dir):\n",
        "    if not fn.endswith('.txt'):\n",
        "      continue\n",
        "\n",
        "    print(fn)\n",
        "    with open(book_dir + fn, 'r') as f:\n",
        "        raw_lines = f.readlines()\n",
        "\n",
        "    raw_text = ''.join(raw_lines).replace('\\xa0', ' ')\n",
        "    raw_text = re.sub('\\s+', ' ', raw_text).strip().replace('* ', '')\n",
        "\n",
        "    sents = []\n",
        "    for sent in list(razdel.sentenize(raw_text)):\n",
        "        text = sent.text.replace('-\\n', '').replace('\\n', ' ').strip()\n",
        "        if len(text) >= 3 and len(text) <= 500:\n",
        "            sents.append(text)\n",
        "    print(len(sents))\n",
        "\n",
        "    books_sents.extend(sents)\n",
        "\n",
        "print()\n",
        "print(len(books_sents))"
      ]
    },
    {
      "cell_type": "code",
      "execution_count": null,
      "id": "Idr_XwFxG2fv",
      "metadata": {
        "colab": {
          "base_uri": "https://localhost:8080/"
        },
        "id": "Idr_XwFxG2fv",
        "outputId": "3a630a90-da2b-45aa-aa1f-2f1b4dcf0372"
      },
      "outputs": [
        {
          "name": "stdout",
          "output_type": "stream",
          "text": [
            "34310\n"
          ]
        }
      ],
      "source": [
        "book_dir = DATA_PATH_PREFIX + 'text_for_align/'\n",
        "\n",
        "# load all sents from books for next alignment\n",
        "for fn in os.listdir(book_dir):\n",
        "    if not fn.endswith('.json'):\n",
        "        continue\n",
        "\n",
        "    with open(book_dir + fn, 'r') as f:\n",
        "        dicts = json.load(f)\n",
        "\n",
        "    for url, raw_text in dicts.items():\n",
        "        # delete ru links\n",
        "        if not url.startswith('https://wikisource.org/wiki/'):\n",
        "            continue\n",
        "\n",
        "        raw_text = raw_text.replace('\\xa0', ' ')\n",
        "        raw_text = re.sub('\\s+', ' ', raw_text).strip().replace('* ', '')\n",
        "\n",
        "        sents = []\n",
        "        for sent in list(razdel.sentenize(raw_text)):\n",
        "            text = sent.text.replace('-\\n', '').replace('\\n', ' ').strip()\n",
        "            if len(text) >= 3 and len(text) <= 500:\n",
        "                sents.append(text)\n",
        "\n",
        "        books_sents.extend(sents)\n",
        "\n",
        "print(len(books_sents))"
      ]
    },
    {
      "cell_type": "code",
      "execution_count": null,
      "id": "fFoeX4arI2wY",
      "metadata": {
        "colab": {
          "base_uri": "https://localhost:8080/",
          "height": 35
        },
        "id": "fFoeX4arI2wY",
        "outputId": "2a829dd8-369f-4f09-84dc-432d7a9ed300"
      },
      "outputs": [
        {
          "data": {
            "application/vnd.google.colaboratory.intrinsic+json": {
              "type": "string"
            },
            "text/plain": [
              "'Мзярце шись ни Валентин васта лангса!'"
            ]
          },
          "execution_count": 8,
          "metadata": {},
          "output_type": "execute_result"
        }
      ],
      "source": [
        "random.choice(books_sents)"
      ]
    },
    {
      "cell_type": "code",
      "execution_count": 23,
      "id": "Q2iO_s8xrrH9",
      "metadata": {
        "id": "Q2iO_s8xrrH9"
      },
      "outputs": [],
      "source": [
        "news_sents = []"
      ]
    },
    {
      "cell_type": "code",
      "execution_count": 24,
      "id": "7infx7uxIekX",
      "metadata": {
        "colab": {
          "base_uri": "https://localhost:8080/"
        },
        "id": "7infx7uxIekX",
        "outputId": "84cbbecd-b4bd-40f4-d9f7-dfd0d38b5ff5"
      },
      "outputs": [
        {
          "name": "stdout",
          "output_type": "stream",
          "text": [
            "4695\n",
            "85488\n"
          ]
        }
      ],
      "source": [
        "# load all names and all texts from raw df with news' texts\n",
        "mdf_names_df = pd.read_csv(DATA_PATH_PREFIX + 'mdf_names_df.tsv', sep='\\t')\n",
        "\n",
        "for col in ['name', 'text']:\n",
        "    for raw_text in mdf_names_df[col]:\n",
        "        raw_text = raw_text.replace('\\xa0', ' ')\n",
        "        raw_text = re.sub('\\s+', ' ', raw_text).strip().replace('* ', '')\n",
        "\n",
        "        sents = []\n",
        "        for sent in list(razdel.sentenize(raw_text)):\n",
        "            text = sent.text\n",
        "            # text = sent.text.replace('-\\n', '').replace('\\n', ' ').strip()\n",
        "            if len(text) >= 3 and len(text) <= 500:\n",
        "                sents.append(text)\n",
        "        news_sents.extend(sents)\n",
        "    print(len(news_sents))"
      ]
    },
    {
      "cell_type": "code",
      "execution_count": 25,
      "id": "9a1ea169",
      "metadata": {
        "colab": {
          "base_uri": "https://localhost:8080/",
          "height": 35
        },
        "id": "9a1ea169",
        "outputId": "d527ba55-1cda-4062-e413-87d03d1c5d0f"
      },
      "outputs": [],
      "source": [
        "for s in news_sents:\n",
        "    if '\\n' in s:\n",
        "        print(s)"
      ]
    },
    {
      "cell_type": "code",
      "execution_count": null,
      "id": "5004042b",
      "metadata": {
        "colab": {
          "base_uri": "https://localhost:8080/"
        },
        "id": "5004042b",
        "outputId": "6285512d-adec-4450-b73e-64223b6dce53"
      },
      "outputs": [
        {
          "data": {
            "text/plain": [
              "11633"
            ]
          },
          "execution_count": 11,
          "metadata": {},
          "output_type": "execute_result"
        }
      ],
      "source": [
        "moksha_bible = pd.read_csv(DATA_PATH_PREFIX + 'moksha_bible.tsv', sep='\\t')\n",
        "bible_sentences = moksha_bible.mdf.dropna().tolist()\n",
        "len(bible_sentences)"
      ]
    },
    {
      "cell_type": "code",
      "execution_count": null,
      "id": "b0374593",
      "metadata": {
        "colab": {
          "base_uri": "https://localhost:8080/",
          "height": 35
        },
        "id": "b0374593",
        "outputId": "a2d5fc1b-721a-4f2e-c2a4-a68b4fe47750"
      },
      "outputs": [
        {
          "data": {
            "application/vnd.google.colaboratory.intrinsic+json": {
              "type": "string"
            },
            "text/plain": [
              "'Нятка Соломононь валмуворксонза, конатнень кочказь Езекиянь, Иудеянь оцязорть, ломаненза.'"
            ]
          },
          "execution_count": 12,
          "metadata": {},
          "output_type": "execute_result"
        }
      ],
      "source": [
        "random.choice(bible_sentences)"
      ]
    },
    {
      "cell_type": "code",
      "execution_count": null,
      "id": "98d0d77e",
      "metadata": {
        "colab": {
          "base_uri": "https://localhost:8080/"
        },
        "id": "98d0d77e",
        "outputId": "32fb0f01-9d86-4154-fb62-743b65332ad8"
      },
      "outputs": [
        {
          "name": "stdout",
          "output_type": "stream",
          "text": [
            "48434\n"
          ]
        }
      ],
      "source": [
        "random.seed(42) # save seed for `random.sample`\n",
        "\n",
        "mdf_sentences = sorted(set(\n",
        "    books_sents + random.sample(news_sents, k=10000) + random.sample(bible_sentences, k=5000)\n",
        "))\n",
        "\n",
        "print(len(mdf_sentences))"
      ]
    },
    {
      "cell_type": "markdown",
      "id": "1f9540b9",
      "metadata": {
        "id": "1f9540b9"
      },
      "source": [
        "## Sentence-parallel data"
      ]
    },
    {
      "cell_type": "markdown",
      "id": "5K3eUgIJsnOu",
      "metadata": {
        "id": "5K3eUgIJsnOu"
      },
      "source": [
        "1. bible (11.5k pairs)\n",
        "2. dictionaries (3.6k pairs of words and 700 pairs of phrases)"
      ]
    },
    {
      "cell_type": "code",
      "execution_count": null,
      "id": "43babdca",
      "metadata": {
        "colab": {
          "base_uri": "https://localhost:8080/"
        },
        "id": "43babdca",
        "outputId": "bbf70aca-6055-486e-cc5e-4126e833035a"
      },
      "outputs": [
        {
          "name": "stdout",
          "output_type": "stream",
          "text": [
            "(11650, 4)\n",
            "(11633, 4)\n",
            "(11583, 4)\n",
            "Index(['Unnamed: 0', 'mdf', 'ru', 'source'], dtype='object')\n"
          ]
        }
      ],
      "source": [
        "bible_df = pd.read_csv(DATA_PATH_PREFIX + 'moksha_bible.tsv', sep='\\t')\n",
        "print(bible_df.shape)\n",
        "\n",
        "bible_df = bible_df.dropna()\n",
        "print(bible_df.shape)\n",
        "\n",
        "bible_df = bible_df[~bible_df['mdf'].str.startswith('Глава ')]\n",
        "print(bible_df.shape)\n",
        "print(bible_df.columns)"
      ]
    },
    {
      "cell_type": "code",
      "execution_count": null,
      "id": "268569de",
      "metadata": {},
      "outputs": [],
      "source": [
        "assert not bible_df.isna().sum().sum()"
      ]
    },
    {
      "cell_type": "code",
      "execution_count": null,
      "id": "47e9341a",
      "metadata": {
        "colab": {
          "base_uri": "https://localhost:8080/"
        },
        "id": "47e9341a",
        "outputId": "e31f6f6b-7692-43ed-b1c0-987149389887"
      },
      "outputs": [
        {
          "name": "stdout",
          "output_type": "stream",
          "text": [
            "11583\n"
          ]
        },
        {
          "data": {
            "text/plain": [
              "('Мон содаса: тейне курок сави кадомс тя ронгть – тянь тейне панжезе Иисус Христос Азороньке.',\n",
              " 'зная, что скоро должен оставить храмину мою, как и Господь наш Иисус Христос открыл мне.')"
            ]
          },
          "execution_count": 15,
          "metadata": {},
          "output_type": "execute_result"
        }
      ],
      "source": [
        "bible_pairs = list(zip(bible_df['mdf'], bible_df['ru']))\n",
        "print(len(bible_pairs))"
      ]
    },
    {
      "cell_type": "code",
      "execution_count": null,
      "id": "ZjQEELxcslty",
      "metadata": {
        "id": "ZjQEELxcslty"
      },
      "outputs": [],
      "source": [
        "random.choice(bible_pairs)"
      ]
    },
    {
      "cell_type": "code",
      "execution_count": null,
      "id": "eb09a164",
      "metadata": {
        "id": "eb09a164"
      },
      "outputs": [],
      "source": [
        "word_df = pd.read_csv(DATA_PATH_PREFIX + 'all_dicts_data.tsv', sep='\\t')"
      ]
    },
    {
      "cell_type": "code",
      "execution_count": null,
      "id": "a039f251",
      "metadata": {},
      "outputs": [],
      "source": [
        "assert not word_df.isna().sum().sum()"
      ]
    },
    {
      "cell_type": "code",
      "execution_count": null,
      "id": "82ca4710-4aed-4193-b59f-5bb254e792ed",
      "metadata": {
        "colab": {
          "base_uri": "https://localhost:8080/"
        },
        "id": "82ca4710-4aed-4193-b59f-5bb254e792ed",
        "outputId": "6fc039c0-8c65-4b6d-83ff-bdb6feec78ad"
      },
      "outputs": [
        {
          "name": "stdout",
          "output_type": "stream",
          "text": [
            "3589\n"
          ]
        },
        {
          "data": {
            "text/plain": [
              "('петемс', 'чинить')"
            ]
          },
          "execution_count": 18,
          "metadata": {},
          "output_type": "execute_result"
        }
      ],
      "source": [
        "word_pairs = list(zip(word_df['mdf'], word_df['ru']))\n",
        "print(len(word_pairs))"
      ]
    },
    {
      "cell_type": "code",
      "execution_count": null,
      "id": "8asMsPzBtJql",
      "metadata": {
        "id": "8asMsPzBtJql"
      },
      "outputs": [],
      "source": [
        "random.choice(word_pairs)"
      ]
    },
    {
      "cell_type": "code",
      "execution_count": null,
      "id": "45ezDpq1RV1G",
      "metadata": {
        "id": "45ezDpq1RV1G"
      },
      "outputs": [],
      "source": [
        "phrases_df = pd.read_csv(DATA_PATH_PREFIX + 'all_phrases.tsv', sep='\\t')"
      ]
    },
    {
      "cell_type": "code",
      "execution_count": null,
      "id": "3279945b",
      "metadata": {},
      "outputs": [],
      "source": [
        "assert not phrases_df.isna().sum().sum()"
      ]
    },
    {
      "cell_type": "code",
      "execution_count": null,
      "id": "MDKmNij2RV1V",
      "metadata": {
        "colab": {
          "base_uri": "https://localhost:8080/"
        },
        "id": "MDKmNij2RV1V",
        "outputId": "bdb62cc3-5c68-4534-99c4-2411fa717f16"
      },
      "outputs": [
        {
          "name": "stdout",
          "output_type": "stream",
          "text": [
            "726\n"
          ]
        },
        {
          "data": {
            "text/plain": [
              "('Мольхтяма калонь кундама?', 'Пойдем на рыбалку?')"
            ]
          },
          "execution_count": 21,
          "metadata": {},
          "output_type": "execute_result"
        }
      ],
      "source": [
        "phrases_pairs = list(zip(phrases_df['mdf'], phrases_df['ru']))\n",
        "print(len(phrases_pairs))"
      ]
    },
    {
      "cell_type": "code",
      "execution_count": null,
      "id": "4ytxW_rFtPze",
      "metadata": {
        "id": "4ytxW_rFtPze"
      },
      "outputs": [],
      "source": [
        "random.choice(phrases_pairs)"
      ]
    },
    {
      "cell_type": "code",
      "execution_count": null,
      "id": "52c68645",
      "metadata": {
        "colab": {
          "base_uri": "https://localhost:8080/"
        },
        "id": "52c68645",
        "outputId": "5581001c-21bf-4dba-93ac-94f6792c0396"
      },
      "outputs": [
        {
          "name": "stdout",
          "output_type": "stream",
          "text": [
            "15898\n"
          ]
        }
      ],
      "source": [
        "parallel_pairs = sorted({\n",
        "    c for c in\n",
        "    word_pairs + phrases_pairs + bible_pairs\n",
        "    if c[0] and c[1]\n",
        "})\n",
        "print(len(parallel_pairs))"
      ]
    },
    {
      "cell_type": "code",
      "execution_count": null,
      "id": "5d0c27f5",
      "metadata": {
        "colab": {
          "base_uri": "https://localhost:8080/"
        },
        "id": "5d0c27f5",
        "outputId": "7b9fd3f7-dd9b-4f0f-f62b-f3d877779c11"
      },
      "outputs": [
        {
          "name": "stdout",
          "output_type": "stream",
          "text": [
            "55472\n"
          ]
        }
      ],
      "source": [
        "mdf_sentences = sorted(set(\n",
        "    mdf_sentences + [e for e, r in parallel_pairs if len(e.split()) >= 3]\n",
        "))\n",
        "print(len(mdf_sentences))"
      ]
    },
    {
      "cell_type": "markdown",
      "id": "2e998e3b",
      "metadata": {
        "id": "2e998e3b"
      },
      "source": [
        "# Model vocabulary analisis and update"
      ]
    },
    {
      "cell_type": "code",
      "execution_count": null,
      "id": "ae7b3576",
      "metadata": {
        "colab": {
          "base_uri": "https://localhost:8080/",
          "height": 290,
          "referenced_widgets": [
            "b189de2a0eb1468593ef4e5b9e2c52a9",
            "0700327faed94267af80eb3617d0756c",
            "b788269e8a1941aa8ca92c28326d0a08",
            "940689a5b1c648b992ca5729e25f5582",
            "76c46567cedf4362aa63ca0e41656751",
            "c7e87446d72f474a8a8a31620409b174",
            "78af316b35ef4d0c95d57f1b40a5fdba",
            "7ff5055fd52649dd92d9533944183996",
            "2e373957fc8245e196716049a735e4aa",
            "3f09ac80265d40fc87653765209e3a5b",
            "4e87b346df554e998ff8edc7f7bbb2ba",
            "d95f837b96874b26890b4225a84b37ef",
            "5ee151f99c184215a715cba2f971895c",
            "d3bec63a28fd4adaa54d79bb4b519cf3",
            "f54defbb086541cd80839d9988629619",
            "10bf0c8501214e73ab9044211e26df92",
            "d186d7ae4ce647a7a41f59fc9854866f",
            "088835810f0149ec80874011b5bc697b",
            "6f90e88a1e8f409d918e397b93eecb7d",
            "245087c38e2645a1ae6f82f35a22b816",
            "7a62169d436d4206af739f73637245a0",
            "3760b5ffa0854b0fa52d0bf3774fe3e8",
            "b695ccf710554f299786ddbdd354a811",
            "6d617c6242e049019a326054679e5f83",
            "724d5518a17b4d20944840a92a3151f8",
            "1e2e357fa2f4443593b2a6a3dd909b60",
            "44d4be84ed1f478e8a6a6b935245caa4",
            "08d96f05a962485dabff031e399f3eba",
            "879e9f0866b042d489eb08b53f8d951a",
            "def0df6339c2455984bed4907a3e62ee",
            "fad2596906664feba1874dac3d048a73",
            "99ed0b1d9bc34d489aa5ec6f1157549f",
            "182520b1c2de4dee8ed4f7b0dacda1aa",
            "a97e57c4f8a54852b3d2062dd8478c8a",
            "08332757586b4b598b1023e1fade4ad0",
            "4fb1d8f9295143f6a772e0f2db2a6cd0",
            "9a800757ff9945dc948c803b5d656033",
            "47988a6c717243749e692e35b9248347",
            "0761953082f049fa998708b69d383a85",
            "3ee7a837f4094b4e82e14e8fd91c8bc6",
            "02c6e7a151cc498b942602630b2a0630",
            "310a96801ece4da1b8f05ba32dcbf7e7",
            "a11874ea61ed472983f6b602416fbfee",
            "ec04da7d89f4478cb0bd038baf7714b8"
          ]
        },
        "id": "ae7b3576",
        "outputId": "cd4bb9f8-f7ba-485b-a65a-1130399713a6"
      },
      "outputs": [],
      "source": [
        "tokenizer = BertTokenizer.from_pretrained(BASE_MODEL)"
      ]
    },
    {
      "cell_type": "code",
      "execution_count": null,
      "id": "8aee2796",
      "metadata": {},
      "outputs": [],
      "source": [
        "print(tokenizer.vocab_size)"
      ]
    },
    {
      "cell_type": "markdown",
      "id": "1237285b",
      "metadata": {},
      "source": [
        "## get stat for each word in corpora"
      ]
    },
    {
      "cell_type": "code",
      "execution_count": null,
      "id": "a9b84b5e",
      "metadata": {
        "colab": {
          "base_uri": "https://localhost:8080/",
          "height": 49,
          "referenced_widgets": [
            "2f003902ee7247ffb2fc7ed9949f69e0",
            "bf9fb3ec00414a0f8b7c19ab3a28f1ce",
            "55f28535f6894e7c95764b0cd4981075",
            "cb90eae2584b4b97a955c7ef03f48b45",
            "c3c3c3e0b75b48baba82ca0d00e62b5c",
            "4825cabc251243208c3539501e62f48c",
            "8a6f4b4e04b0463e8e435c9cf21514c6",
            "611e8590d6ab4c7184fb3abf9114d034",
            "5c39785069be43158d31da34c3741676",
            "0a5a3cedfdd74ec49c2c4de344ac7771",
            "45719eda712a4253b677e8e13be31397"
          ]
        },
        "id": "a9b84b5e",
        "outputId": "918889c2-3ca8-4da1-e73e-bc5d9e526f12"
      },
      "outputs": [
        {
          "data": {
            "application/vnd.jupyter.widget-view+json": {
              "model_id": "2f003902ee7247ffb2fc7ed9949f69e0",
              "version_major": 2,
              "version_minor": 0
            },
            "text/plain": [
              "  0%|          | 0/55472 [00:00<?, ?it/s]"
            ]
          },
          "metadata": {},
          "output_type": "display_data"
        }
      ],
      "source": [
        "word_count = Counter()\n",
        "\n",
        "for text in tqdm(mdf_sentences):\n",
        "    word_count.update(tokenizer.basic_tokenizer.tokenize(text))"
      ]
    },
    {
      "cell_type": "code",
      "execution_count": null,
      "id": "46f93c4b",
      "metadata": {
        "colab": {
          "base_uri": "https://localhost:8080/"
        },
        "id": "46f93c4b",
        "outputId": "eef34b76-8016-4e4d-dfaa-47bb6463434a"
      },
      "outputs": [
        {
          "name": "stdout",
          "output_type": "stream",
          "text": [
            "87543\n"
          ]
        },
        {
          "data": {
            "text/plain": [
              "[(',', 70080),\n",
              " ('.', 58700),\n",
              " ('и', 20206),\n",
              " ('—', 14057),\n",
              " ('-', 10090),\n",
              " ('аф', 9623),\n",
              " (':', 8013),\n",
              " ('?', 5192),\n",
              " ('!', 5044),\n",
              " ('«', 4442),\n",
              " ('»', 4373),\n",
              " ('а', 3994),\n",
              " ('мархта', 3589),\n",
              " ('сон', 3501),\n",
              " ('кода', 3348),\n",
              " ('тя', 2978),\n",
              " ('А', 2916),\n",
              " ('синь', 2824),\n",
              " ('эсь', 2717),\n",
              " ('сонь', 2637)]"
            ]
          },
          "execution_count": 31,
          "metadata": {},
          "output_type": "execute_result"
        }
      ],
      "source": [
        "print(len(word_count))\n",
        "word_count.most_common(20)"
      ]
    },
    {
      "cell_type": "markdown",
      "id": "73ad74e0",
      "metadata": {},
      "source": [
        "## get most frequent tokens pairs in corpora"
      ]
    },
    {
      "cell_type": "code",
      "execution_count": null,
      "id": "2a268df2",
      "metadata": {
        "colab": {
          "base_uri": "https://localhost:8080/",
          "height": 49,
          "referenced_widgets": [
            "4787a3d3d96847a796bdd88fbee5df96",
            "db86b83cd1f34205a61ae742b2ad247f",
            "7cb8c13d36df4880bb0f75fdf7e2590e",
            "d18aada4e0bc4631b0504215e10f5f11",
            "37b7e3f9601a4761bad13588c7b72641",
            "593d2910bafa49b9b23eee2356d79751",
            "0d35ab017cf343e5ac722d828a6ad287",
            "4a40f120a21249edac45d1f3dbace9be",
            "b9785fe72b1b4a9d8f595743c6f0cc22",
            "acdec5b7735f426f88f9e30c0110740d",
            "b314f3e9dec44066bfb0349241983786"
          ]
        },
        "id": "2a268df2",
        "outputId": "c3957f83-98d1-4d35-a22c-66bcfaaaf93f"
      },
      "outputs": [
        {
          "data": {
            "application/vnd.jupyter.widget-view+json": {
              "model_id": "4787a3d3d96847a796bdd88fbee5df96",
              "version_major": 2,
              "version_minor": 0
            },
            "text/plain": [
              "  0%|          | 0/87543 [00:00<?, ?it/s]"
            ]
          },
          "metadata": {},
          "output_type": "display_data"
        }
      ],
      "source": [
        "pairs_count = Counter()\n",
        "pair2word = defaultdict(set)\n",
        "\n",
        "for w, c in tqdm(word_count.items(), total=len(word_count)):\n",
        "    tokens = tokenizer.wordpiece_tokenizer.tokenize(w) \n",
        "    for pair in zip(tokens[:-1], tokens[1:]):\n",
        "        pairs_count[pair] += c\n",
        "        pair2word[pair].add(w)"
      ]
    },
    {
      "cell_type": "code",
      "execution_count": null,
      "id": "9b197d17",
      "metadata": {},
      "outputs": [],
      "source": [
        "# create heap_dict to peek most frequent token pair in each step\n",
        "\n",
        "hd = heapdict()\n",
        "\n",
        "for w, c in pairs_count.items():\n",
        "    hd[w] = -c"
      ]
    },
    {
      "cell_type": "markdown",
      "id": "02449383",
      "metadata": {},
      "source": [
        "## replace frequent pair by their concat"
      ]
    },
    {
      "cell_type": "code",
      "execution_count": null,
      "id": "d47c99be",
      "metadata": {},
      "outputs": [],
      "source": [
        "replace_count = 100_000\n",
        "min_frequency = 30"
      ]
    },
    {
      "cell_type": "code",
      "execution_count": null,
      "id": "0f57c3b4",
      "metadata": {},
      "outputs": [],
      "source": [
        "# list, where each element contains list of base tokens' id\n",
        "# needs to calculate initial weight values of new token\n",
        "id2ids = [[idx] for tok, idx in tokenizer.vocab.items()]  \n",
        "\n",
        "# dict for quick get idx using token\n",
        "tok2id = {tok: idx for tok, idx in tokenizer.vocab.items()}\n",
        "\n",
        "# dict for get updated representaion of words in vocabulary\n",
        "word2toks = {w: tokenizer.wordpiece_tokenizer.tokenize(w) for w in tqdm(word_count)}"
      ]
    },
    {
      "cell_type": "code",
      "execution_count": null,
      "id": "6de87d25",
      "metadata": {
        "id": "6de87d25"
      },
      "outputs": [],
      "source": [
        "def get_new_tokens_list(old_tokens, pair, new_token):\n",
        "    result = []\n",
        "\n",
        "    prev = old_tokens[0]\n",
        "    for tok in old_tokens[1:]:\n",
        "        if (prev, tok) == pair:\n",
        "            result.append(new_token)\n",
        "            prev = None\n",
        "        else:\n",
        "            if prev is not None:\n",
        "                result.append(prev)\n",
        "            prev = tok\n",
        "    if prev is not None:\n",
        "        result.append(prev)\n",
        "    \n",
        "    return result"
      ]
    },
    {
      "cell_type": "code",
      "execution_count": null,
      "id": "69ffad32",
      "metadata": {},
      "outputs": [],
      "source": [
        "def update_word_stat(word, old_toks, new_toks, delta):\n",
        "    word2toks[word] = new_toks\n",
        "    wc = word_count[word]\n",
        "    \n",
        "    # for each tokens pair in old_toks substract `wc` \n",
        "    # substract freq for pairs with concated tokens and unchanged pairs\n",
        "    for old_pair in zip(old_toks[:-1], old_toks[1:]):\n",
        "        delta[old_pair] -= wc\n",
        "        if word in pair2word[old_pair]:\n",
        "            pair2word[old_pair].remove(word)\n",
        "    \n",
        "    # for each tokens pair in new_pair add `wc` \n",
        "    # add freq for new pair and unchanged pairs\n",
        "    for new_pair in zip(new_toks[:-1], new_toks[1:]):\n",
        "        delta[new_pair] += wc\n",
        "        pair2word[new_pair].add(word)"
      ]
    },
    {
      "cell_type": "code",
      "execution_count": null,
      "id": "d325f095",
      "metadata": {},
      "outputs": [],
      "source": [
        "extra_vocab = []\n",
        "extra_counts = []"
      ]
    },
    {
      "cell_type": "code",
      "execution_count": null,
      "id": "844b6927",
      "metadata": {
        "colab": {
          "base_uri": "https://localhost:8080/",
          "height": 49,
          "referenced_widgets": [
            "ee4af74edc17464f8bde527e00a188c6",
            "828f16b14ee445dc8a768117c9cf895a",
            "3d3c4d989eae46a2a97324c76d5edc75",
            "1ae9cc30350a4e86842830013aedbe40",
            "010f8995f05a4f0ebb1daf22cf1b5c4f",
            "5c0cab178adf4a16b71706ccd0d8c3c6",
            "5e667760c4b2459d8d4fbddbd26f7e3e",
            "4fd5c0b1d20a4201ab9b340f04d59987",
            "16eacf765aca4041815ebfc2585c28a5",
            "ff13189a7b6c4696b6502613f9b71490",
            "98c152aa806c494cb75ca28c86cdcf3b"
          ]
        },
        "id": "844b6927",
        "outputId": "34072b97-d181-45b7-95d4-0d7643547280"
      },
      "outputs": [
        {
          "data": {
            "application/vnd.jupyter.widget-view+json": {
              "model_id": "ee4af74edc17464f8bde527e00a188c6",
              "version_major": 2,
              "version_minor": 0
            },
            "text/plain": [
              "  0%|          | 0/100000 [00:00<?, ?it/s]"
            ]
          },
          "metadata": {},
          "output_type": "display_data"
        }
      ],
      "source": [
        "for _ in trange(replace_count):\n",
        "    # get the most frequent tokens pair\n",
        "    # change it with their concat\n",
        "    # update stat for each word using new token\n",
        "    # update stat for all tokens pair\n",
        "\n",
        "    pair, count = hd.peekitem()\n",
        "    count = -count\n",
        "\n",
        "    if count < min_frequency:\n",
        "        break\n",
        "    new_token = pair[0] + pair[1][2:]  # use [2:] for deleting ##\n",
        "    extra_vocab.append(new_token)\n",
        "    extra_counts.append(c)\n",
        "\n",
        "    # update the vocabulary\n",
        "    tok2id[new_token] = len(id2ids)\n",
        "    id2ids.append(id2ids[tok2id[pair[0]]] + id2ids[tok2id[pair[1]]])\n",
        "\n",
        "    # calculate the delta for the heap\n",
        "    delta = Counter()\n",
        "    for word in list(pair2word[pair]):\n",
        "        # calculate old and new ways to tokenize the word\n",
        "        old_toks = tokenizer.wordpiece_tokenizer.tokenize(word)\n",
        "        new_toks = get_new_tokens_list(old_toks, pair, new_token)\n",
        "\n",
        "        update_word_stat(word, old_toks, new_token, delta)\n",
        "        \n",
        "    # update the heap\n",
        "    for a_pair, a_delta in delta.items():\n",
        "        if a_delta == 0:\n",
        "            continue\n",
        "        if a_pair not in hd:\n",
        "            hd[a_pair] = 0\n",
        "        hd[a_pair] -= a_delta"
      ]
    },
    {
      "cell_type": "markdown",
      "id": "77c82440",
      "metadata": {},
      "source": [
        "## update tokenizer"
      ]
    },
    {
      "cell_type": "code",
      "execution_count": null,
      "id": "dcb1b3e5",
      "metadata": {
        "colab": {
          "base_uri": "https://localhost:8080/"
        },
        "id": "dcb1b3e5",
        "outputId": "0f2c5cfc-d3d5-4e35-fba2-7c8d4c220324"
      },
      "outputs": [
        {
          "name": "stdout",
          "output_type": "stream",
          "text": [
            "4564\n"
          ]
        }
      ],
      "source": [
        "print(len(extra_vocab))"
      ]
    },
    {
      "cell_type": "code",
      "execution_count": null,
      "id": "0eb46416",
      "metadata": {
        "colab": {
          "base_uri": "https://localhost:8080/"
        },
        "id": "0eb46416",
        "outputId": "4268732c-5ada-4c7b-e688-48efd9807832"
      },
      "outputs": [
        {
          "data": {
            "text/plain": [
              "('tmp_tok/tokenizer_config.json',\n",
              " 'tmp_tok/special_tokens_map.json',\n",
              " 'tmp_tok/vocab.txt',\n",
              " 'tmp_tok/added_tokens.json')"
            ]
          },
          "execution_count": 44,
          "metadata": {},
          "output_type": "execute_result"
        }
      ],
      "source": [
        "tmp_tok = 'tmp_tok'\n",
        "tokenizer.save_pretrained(tmp_tok)"
      ]
    },
    {
      "cell_type": "code",
      "execution_count": null,
      "id": "de7e56f9",
      "metadata": {
        "id": "de7e56f9"
      },
      "outputs": [],
      "source": [
        "with open(tmp_tok + '/vocab.txt', 'a') as f:\n",
        "    for token in extra_vocab:\n",
        "        f.write(token + '\\n')"
      ]
    },
    {
      "cell_type": "code",
      "execution_count": null,
      "id": "b4000ad5",
      "metadata": {
        "id": "b4000ad5"
      },
      "outputs": [],
      "source": [
        "new_tokenizer = BertTokenizer.from_pretrained(tmp_tok)"
      ]
    },
    {
      "cell_type": "code",
      "execution_count": null,
      "id": "b87913b9",
      "metadata": {},
      "outputs": [],
      "source": [
        "len(tokenizer.vocab) + len(tokenizer.get_added_vocab())"
      ]
    },
    {
      "cell_type": "code",
      "execution_count": null,
      "id": "985b1b6d",
      "metadata": {
        "colab": {
          "base_uri": "https://localhost:8080/"
        },
        "id": "985b1b6d",
        "outputId": "a2384baa-bc62-4690-b89c-ea840c179099"
      },
      "outputs": [
        {
          "name": "stdout",
          "output_type": "stream",
          "text": [
            "59652\n"
          ]
        }
      ],
      "source": [
        "print(len(new_tokenizer.vocab) + len(new_tokenizer.get_added_vocab()))"
      ]
    },
    {
      "cell_type": "code",
      "execution_count": null,
      "id": "05261d7b",
      "metadata": {},
      "outputs": [],
      "source": [
        "random.seed(1)\n",
        "sample_texts = random.choices(mdf_sentences, k=1000)"
      ]
    },
    {
      "cell_type": "code",
      "execution_count": null,
      "id": "1c0c7165",
      "metadata": {
        "colab": {
          "base_uri": "https://localhost:8080/"
        },
        "id": "1c0c7165",
        "outputId": "bc0dbab5-d749-43ca-9e51-0ebb943f9d47"
      },
      "outputs": [
        {
          "name": "stdout",
          "output_type": "stream",
          "text": [
            "34.111\n"
          ]
        }
      ],
      "source": [
        "old_len = np.mean([len(tokenizer.tokenize(t)) for t in sample_texts])\n",
        "print(old_len)"
      ]
    },
    {
      "cell_type": "code",
      "execution_count": null,
      "id": "aeda32a7",
      "metadata": {
        "colab": {
          "base_uri": "https://localhost:8080/"
        },
        "id": "aeda32a7",
        "outputId": "07edbfc1-3e6e-48a6-9dbf-15504c9fb348"
      },
      "outputs": [
        {
          "name": "stdout",
          "output_type": "stream",
          "text": [
            "20.851\n",
            "0.6112690920817332\n"
          ]
        }
      ],
      "source": [
        "new_len = np.mean([len(new_tokenizer.tokenize(t)) for t in sample_texts])\n",
        "print(new_len)"
      ]
    },
    {
      "cell_type": "code",
      "execution_count": null,
      "id": "d1d0fdb2",
      "metadata": {},
      "outputs": [],
      "source": [
        "print(new_len / old_len)"
      ]
    },
    {
      "cell_type": "markdown",
      "id": "b6b27915",
      "metadata": {},
      "source": [
        "## save model for new vocab"
      ]
    },
    {
      "cell_type": "code",
      "execution_count": null,
      "id": "ac95270d",
      "metadata": {},
      "outputs": [],
      "source": [
        "model = AutoModelForPreTraining.from_pretrained(BASE_MODEL)"
      ]
    },
    {
      "cell_type": "code",
      "execution_count": null,
      "id": "0380e18f",
      "metadata": {
        "colab": {
          "base_uri": "https://localhost:8080/"
        },
        "id": "0380e18f",
        "outputId": "3c395b2e-77b1-4072-c66c-c1f008659b07"
      },
      "outputs": [
        {
          "name": "stderr",
          "output_type": "stream",
          "text": [
            "The new embeddings will be initialized from a multivariate normal distribution that has old embeddings' mean and covariance. As described in this article: https://nlp.stanford.edu/~johnhew/vocab-expansion.html. To disable this, use `mean_resizing=False`\n"
          ]
        },
        {
          "data": {
            "text/plain": [
              "Embedding(59647, 768, padding_idx=0)"
            ]
          },
          "execution_count": 49,
          "metadata": {},
          "output_type": "execute_result"
        }
      ],
      "source": [
        "model.resize_token_embeddings(new_tokenizer.vocab_size)"
      ]
    },
    {
      "cell_type": "code",
      "execution_count": null,
      "id": "bcf82698",
      "metadata": {
        "colab": {
          "base_uri": "https://localhost:8080/",
          "height": 49,
          "referenced_widgets": [
            "64bd52088a6549c784a47c25bf5fde58",
            "a712f5a9d8ff490e84074d9c23c1704f",
            "18d98e17273146c5b7a2899b561aa35d",
            "dfbab7a301434c8ba2534d9e0cef634e",
            "0db95f998966421abeb439dfa726866f",
            "3acc4a4ee22e4edc938a10114f47f516",
            "fe910e277fac487bbb9a674122048b15",
            "71aa2f989ea944cbb73f3740f0374597",
            "5a020f0de8f1426a840e41790ecf6059",
            "8328771ef64345f2abd057c9a65380eb",
            "56050288b3a44b1ca3970ac5a1f921b1"
          ]
        },
        "id": "bcf82698",
        "outputId": "08e659ac-6354-4fab-bdb0-be7bd063cf0d"
      },
      "outputs": [
        {
          "data": {
            "application/vnd.jupyter.widget-view+json": {
              "model_id": "64bd52088a6549c784a47c25bf5fde58",
              "version_major": 2,
              "version_minor": 0
            },
            "text/plain": [
              "  0%|          | 0/59647 [00:00<?, ?it/s]"
            ]
          },
          "metadata": {},
          "output_type": "display_data"
        }
      ],
      "source": [
        "for i, ids_from in enumerate(tqdm(id2ids)):\n",
        "    if len(ids_from) == 1:\n",
        "        continue\n",
        "    model.bert.embeddings.word_embeddings.weight.data[i] = model.bert.embeddings.word_embeddings.weight.data[ids_from].mean(0)"
      ]
    },
    {
      "cell_type": "code",
      "execution_count": null,
      "id": "b73d8c81",
      "metadata": {
        "colab": {
          "base_uri": "https://localhost:8080/"
        },
        "id": "b73d8c81",
        "outputId": "178a596c-9287-4a30-9130-ecae93c08808"
      },
      "outputs": [
        {
          "data": {
            "text/plain": [
              "('labse_moksha_v0/tokenizer_config.json',\n",
              " 'labse_moksha_v0/special_tokens_map.json',\n",
              " 'labse_moksha_v0/vocab.txt',\n",
              " 'labse_moksha_v0/added_tokens.json')"
            ]
          },
          "execution_count": 54,
          "metadata": {},
          "output_type": "execute_result"
        }
      ],
      "source": [
        "NEW_MODEL_NAME = 'labse_moksha_v0'\n",
        "model.save_pretrained(NEW_MODEL_NAME)\n",
        "new_tokenizer.save_pretrained(NEW_MODEL_NAME)"
      ]
    },
    {
      "cell_type": "markdown",
      "id": "c8447cc7",
      "metadata": {},
      "source": [
        "# Training the model: base"
      ]
    },
    {
      "cell_type": "code",
      "execution_count": null,
      "id": "41253042",
      "metadata": {},
      "outputs": [],
      "source": [
        "def get_acc(e1, e2):\n",
        "    batch_size = e1.shape[0]\n",
        "    with torch.no_grad():\n",
        "        scores = torch.matmul(e1, e2.T).cpu().numpy()\n",
        "    a1 = (scores.argmax(1) == np.arange(batch_size)).mean()\n",
        "    a2 = (scores.argmax(0) == np.arange(batch_size)).mean()\n",
        "    return (a1 + a2) / 2"
      ]
    },
    {
      "cell_type": "code",
      "execution_count": null,
      "id": "d8fd21bb",
      "metadata": {},
      "outputs": [],
      "source": [
        "def test_model(model, tokenizer):\n",
        "    with torch.inference_mode():\n",
        "        test_ru = [\n",
        "            'картофель',\n",
        "            'резать хлеб',\n",
        "            'Федор полон был рассказами Гриши.',\n",
        "            'Перед ним стояла неотвязно, волновала, мучила и радовала сказочная фигура Чапаева, степного атамана.',\n",
        "            'Те в свое время свои дела делали, а этому другое время дано — он и дела творит не те.',\n",
        "        ]\n",
        "        test_mdf = [\n",
        "            'модамарь',\n",
        "            'керемс кши',\n",
        "            'Федорсь марнек пяшкотьфоль Гришань азондоманзон мархта. ',\n",
        "            'Сонь инголенза аф явондозь ащесь, кепсезе мяленц, муцязе и кенярьфнезе Чапаевонь, степонь атаманть сказочнай фигурац.',\n",
        "            'Тонат эсь пингстост эсь тевснон тиендезь, а тянди лия пинге максф, сон и тефтка тиенди аф стапт. ',\n",
        "        ]\n",
        "\n",
        "        batch = tokenizer(test_ru+test_mdf, return_tensors='pt', padding=True, truncation=True, max_length=128).to(model.device)\n",
        "        out = model.bert(**batch, output_hidden_states=True)\n",
        "        embeddings = torch.nn.functional.normalize(out.pooler_output)\n",
        "        \n",
        "    alignment = torch.matmul(\n",
        "        embeddings[:5],\n",
        "        embeddings[5:].T\n",
        "    )\n",
        "\n",
        "    return alignment"
      ]
    },
    {
      "cell_type": "code",
      "execution_count": null,
      "id": "1a6fa41d",
      "metadata": {},
      "outputs": [],
      "source": [
        "import matplotlib.pyplot as plt\n",
        "import matplotlib.ticker as ticker\n",
        "\n",
        "def plot_for_report(\n",
        "        values, \n",
        "        ylabel\n",
        "    ):\n",
        "    _, ax = plt.subplots(figsize=(10, 6))\n",
        "    pd.Series(values).ewm(1000).mean()[50:].plot(ax=ax)\n",
        "\n",
        "    ax.set_xlabel(\"Число шагов\", fontsize=14)\n",
        "    ax.set_ylabel(ylabel, fontsize=14)\n",
        "\n",
        "    ax.yaxis.set_major_formatter(ticker.FuncFormatter(lambda x, _: f\"{x:.2f}\".replace('.', ',')))\n",
        "    ax.xaxis.set_major_formatter(ticker.FuncFormatter(lambda x, _: f\"{int(x):,}\".replace(',', ' ')))\n",
        "\n",
        "    ax.grid(True)\n",
        "    plt.tight_layout()"
      ]
    },
    {
      "cell_type": "code",
      "execution_count": null,
      "id": "59f2f174",
      "metadata": {},
      "outputs": [],
      "source": [
        "MODEL_DIR = 'drive/MyDrive/diploma/labse_moksha_50k+50k'\n",
        "\n",
        "model = AutoModelForPreTraining.from_pretrained(MODEL_DIR)\n",
        "tokenizer = BertTokenizer.from_pretrained(MODEL_DIR)"
      ]
    },
    {
      "cell_type": "code",
      "execution_count": null,
      "id": "0ac86e40",
      "metadata": {
        "id": "0ac86e40"
      },
      "outputs": [],
      "source": [
        "model.cuda();"
      ]
    },
    {
      "cell_type": "markdown",
      "id": "6f0c1098",
      "metadata": {
        "id": "6f0c1098"
      },
      "source": [
        "# Training the model: 1 - training of embeddings"
      ]
    },
    {
      "cell_type": "code",
      "execution_count": null,
      "id": "f793e88b",
      "metadata": {
        "id": "f793e88b"
      },
      "outputs": [],
      "source": [
        "for p in model.parameters():\n",
        "    p.requires_grad = False\n",
        "for p in model.bert.embeddings.word_embeddings.parameters():\n",
        "    p.requires_grad = True"
      ]
    },
    {
      "cell_type": "code",
      "execution_count": null,
      "id": "de7cfd85",
      "metadata": {
        "id": "de7cfd85"
      },
      "outputs": [],
      "source": [
        "batch_size = 4\n",
        "margin = 0.3\n",
        "lr = 1e-5\n",
        "clip_threshold=1.0"
      ]
    },
    {
      "cell_type": "code",
      "execution_count": null,
      "id": "bef77b20",
      "metadata": {},
      "outputs": [],
      "source": [
        "optimizer = Adafactor(\n",
        "    [p for p in model.parameters() if p.requires_grad],\n",
        "    scale_parameter=False, relative_step=False, lr=lr, clip_threshold=clip_threshold\n",
        ")"
      ]
    },
    {
      "cell_type": "code",
      "execution_count": null,
      "id": "a4c91150",
      "metadata": {
        "colab": {
          "base_uri": "https://localhost:8080/",
          "height": 1000,
          "referenced_widgets": [
            "086a2a6b15de4f95b2d8d97813644932",
            "868d708751544471a3d58ae9ccfdb293",
            "f0314555fcde4bd0ae25675a43021182",
            "0de7f5c429984fb1b178a8d6bf530a4e",
            "4ab5b1e56af84fd98bdfe199b8a61f4e",
            "0227946b793a4acfb9cce4a0417fdc29",
            "4eed907327bc4e2187f774a394fee282",
            "ad79b07cb4134951928648d157f76bc6",
            "183f0b00c0694b1fb9f81dd1d31daacf",
            "2574c5c5661c43b595c251998f63d070",
            "501101c18829446a874391c84a651c11"
          ]
        },
        "collapsed": true,
        "id": "a4c91150",
        "outputId": "9797b54a-1f02-4dd7-d26d-2a3186800390",
        "scrolled": true
      },
      "outputs": [],
      "source": [
        "def train_alignment(parallel_pairs, step_count, optimizer):\n",
        "    losses = []\n",
        "    accuracies = []\n",
        "\n",
        "    loss_fn = torch.nn.CrossEntropyLoss()\n",
        "\n",
        "    model.train()\n",
        "    for i in trange(step_count):\n",
        "        mdf, ru = [list(p) for p in zip(*random.choices(parallel_pairs, k=batch_size))]\n",
        "        try:\n",
        "            batch = tokenizer(ru+mdf, return_tensors='pt', padding=True, truncation=True, max_length=128).to(model.device)\n",
        "            embeddings = torch.nn.functional.normalize(model.bert(**batch, output_hidden_states=True).pooler_output)\n",
        "\n",
        "            all_scores = torch.matmul(\n",
        "                embeddings[:batch_size].detach(),\n",
        "                embeddings[batch_size:].T\n",
        "            ) - torch.eye(batch_size, device=model.device) * margin\n",
        "\n",
        "            loss = loss_fn(\n",
        "                all_scores, torch.arange(batch_size, device=model.device)\n",
        "            ) + loss_fn(\n",
        "                all_scores.T, torch.arange(batch_size, device=model.device)\n",
        "            )\n",
        "            loss.backward()\n",
        "            \n",
        "            losses.append(loss.item())\n",
        "            accuracies.append(get_acc(embeddings[:batch_size], embeddings[batch_size:]))\n",
        "\n",
        "            optimizer.step()\n",
        "            optimizer.zero_grad(set_to_none=True)\n",
        "        except RuntimeError:\n",
        "            optimizer.zero_grad(set_to_none=True)\n",
        "            batch, embeddings, all_scores, loss = None, None, None, None\n",
        "            print('error', max(len(s) for s in mdf + ru))\n",
        "            continue\n",
        "        if i % 100 == 0:\n",
        "            print(i, np.mean(losses[-100:]), np.mean(accuracies[-100:]))\n",
        "\n",
        "    return losses, accuracies"
      ]
    },
    {
      "cell_type": "code",
      "execution_count": null,
      "id": "01b8d42c",
      "metadata": {},
      "outputs": [],
      "source": [
        "losses_1, accuracies_1 = train_alignment(word_pairs, 100_000)"
      ]
    },
    {
      "cell_type": "code",
      "execution_count": null,
      "id": "213ed707",
      "metadata": {},
      "outputs": [],
      "source": [
        "test_model(model, tokenizer)"
      ]
    },
    {
      "cell_type": "code",
      "execution_count": null,
      "id": "zZLstDRGFBUN",
      "metadata": {
        "colab": {
          "base_uri": "https://localhost:8080/"
        },
        "id": "zZLstDRGFBUN",
        "outputId": "1dbe70af-3b6f-4980-eecd-068f8d05e3c0"
      },
      "outputs": [
        {
          "data": {
            "text/plain": [
              "('drive/MyDrive/diploma/labse_moksha_50k/tokenizer_config.json',\n",
              " 'drive/MyDrive/diploma/labse_moksha_50k/special_tokens_map.json',\n",
              " 'drive/MyDrive/diploma/labse_moksha_50k/vocab.txt',\n",
              " 'drive/MyDrive/diploma/labse_moksha_50k/added_tokens.json')"
            ]
          },
          "execution_count": 65,
          "metadata": {},
          "output_type": "execute_result"
        }
      ],
      "source": [
        "NEW_MODEL_NAME = 'drive/MyDrive/diploma/labse_moksha_50k'\n",
        "model.save_pretrained(NEW_MODEL_NAME)\n",
        "tokenizer.save_pretrained(NEW_MODEL_NAME)"
      ]
    },
    {
      "cell_type": "code",
      "execution_count": null,
      "id": "548eb726",
      "metadata": {},
      "outputs": [],
      "source": [
        "optimizer.zero_grad(set_to_none=True)\n",
        "\n",
        "# test_new_optimizer\n",
        "\n",
        "# optimizer = Adafactor(\n",
        "#     [p for p in model.parameters() if p.requires_grad],\n",
        "#     scale_parameter=False, relative_step=False, lr=lr, clip_threshold=clip_threshold\n",
        "# )"
      ]
    },
    {
      "cell_type": "code",
      "execution_count": null,
      "id": "C89fS3zZGB-T",
      "metadata": {
        "colab": {
          "base_uri": "https://localhost:8080/"
        },
        "id": "C89fS3zZGB-T",
        "outputId": "c84bf651-53f9-4a79-c7b3-0590adcf743c"
      },
      "outputs": [
        {
          "name": "stdout",
          "output_type": "stream",
          "text": [
            "4315\n"
          ]
        }
      ],
      "source": [
        "losses_2, accuracies_2 = train_alignment(parallel_pairs, 70_000)"
      ]
    },
    {
      "cell_type": "code",
      "execution_count": null,
      "id": "wEturld0FtdF",
      "metadata": {
        "colab": {
          "base_uri": "https://localhost:8080/"
        },
        "id": "wEturld0FtdF",
        "outputId": "55d1184a-1dda-4b26-d7af-f1688b409125"
      },
      "outputs": [
        {
          "data": {
            "text/plain": [
              "('drive/MyDrive/diploma/labse_moksha_50k+70k/tokenizer_config.json',\n",
              " 'drive/MyDrive/diploma/labse_moksha_50k+70k/special_tokens_map.json',\n",
              " 'drive/MyDrive/diploma/labse_moksha_50k+70k/vocab.txt',\n",
              " 'drive/MyDrive/diploma/labse_moksha_50k+70k/added_tokens.json')"
            ]
          },
          "execution_count": 53,
          "metadata": {},
          "output_type": "execute_result"
        }
      ],
      "source": [
        "NEW_MODEL_NAME = 'drive/MyDrive/diploma/labse_moksha_50k+70k'\n",
        "model.save_pretrained(NEW_MODEL_NAME)\n",
        "tokenizer.save_pretrained(NEW_MODEL_NAME)"
      ]
    },
    {
      "cell_type": "code",
      "execution_count": null,
      "id": "9UT9mmYlXXTx",
      "metadata": {
        "colab": {
          "base_uri": "https://localhost:8080/"
        },
        "id": "9UT9mmYlXXTx",
        "outputId": "60fd9dea-199e-453d-85b2-ab29b0eb8aa5"
      },
      "outputs": [
        {
          "name": "stdout",
          "output_type": "stream",
          "text": [
            "tensor([[ 0.7156,  0.2830,  0.0472,  0.0521,  0.0173],\n",
            "        [ 0.1925,  0.5881,  0.0209,  0.1135,  0.1544],\n",
            "        [-0.0404, -0.0620,  0.5558,  0.3903,  0.3566],\n",
            "        [-0.0588,  0.0852,  0.3125,  0.6195,  0.4642],\n",
            "        [ 0.0732,  0.0214,  0.2061,  0.3718,  0.4712]])\n"
          ]
        }
      ],
      "source": [
        "test_model(model, tokenizer)"
      ]
    },
    {
      "cell_type": "code",
      "execution_count": null,
      "id": "0507669d",
      "metadata": {
        "colab": {
          "base_uri": "https://localhost:8080/",
          "height": 607
        },
        "id": "0507669d",
        "outputId": "e6e1d3ec-cc00-479b-d23c-f43063e7f6e6"
      },
      "outputs": [],
      "source": [
        "losses = losses_1 + losses_2\n",
        "\n",
        "plot_for_report(losses, r\"Значение функции ошибки $\\mathcal{L}_{align}(\\phi)$\")\n",
        "\n",
        "# plt.show()\n",
        "# plt.savefig('drive/MyDrive/diploma/losses_50k+70k.pdf')"
      ]
    },
    {
      "cell_type": "code",
      "execution_count": null,
      "id": "-Az6tjxG3U9b",
      "metadata": {
        "id": "-Az6tjxG3U9b"
      },
      "outputs": [],
      "source": [
        "accuracies = accuracies_1 + accuracies_2\n",
        "\n",
        "plot_for_report(accuracies, r\"Точность\")\n",
        "\n",
        "# plt.show()\n",
        "# plt.savefig('drive/MyDrive/diploma/accuracies_50k+70k.pdf')"
      ]
    },
    {
      "cell_type": "markdown",
      "id": "c5b8dc8f",
      "metadata": {
        "id": "c5b8dc8f"
      },
      "source": [
        "# Training the model: 2 - full model training with MLM, CE"
      ]
    },
    {
      "cell_type": "markdown",
      "id": "047f040d",
      "metadata": {
        "id": "047f040d"
      },
      "source": [
        "Two modifications to the model:\n",
        "* train to make embeddings close to that of the original LaBSE model (to avoid drifting both ru and mdf embeddings away)\n",
        "* train on non-parallel sentences with MLM loss"
      ]
    },
    {
      "cell_type": "code",
      "execution_count": null,
      "id": "40f26d58",
      "metadata": {
        "id": "40f26d58"
      },
      "outputs": [],
      "source": [
        "for p in model.parameters():\n",
        "    p.requires_grad = True"
      ]
    },
    {
      "cell_type": "code",
      "execution_count": null,
      "id": "76868527",
      "metadata": {
        "colab": {
          "base_uri": "https://localhost:8080/",
          "height": 272,
          "referenced_widgets": [
            "cf636010652545da9502cc54064ddd99",
            "1de2bda9316d434aa8fbb353cf09102c",
            "246df4b2884d40a2b6899652a0b6507e",
            "729c3b0022264ecd944ccc091b7dc865",
            "3a751f0d23164813a3a6deface035cbd",
            "6b1f23e5de44448fbe812087b5591720",
            "72fe120862a042ff948155f3fd84c808",
            "38baf915ae2c4fed9caf5d6c1b3d7062",
            "bc5d0ec18cc749eab746c3ce1616bb01",
            "5927f0bb909f4e52a6a1e26c545cd910",
            "0f731c202b104ad8af1fc3061f129418",
            "85389bacbbd24b859687980ecd185f95",
            "fbdbcfd5204545dcb4951186f15c5a35",
            "248d572c3d774955aafc8c6da922c2be",
            "b46eb81dba4e4c05aee1b67672f7c530",
            "0b81da6c667342fd81e3d50e9ca00c6c",
            "cc5c53f6596849779423e1a68001b8ea",
            "5630cd104e0c4f9494387dd701cb0601",
            "2b0ba27be6b34477ae7e92a8af921da6",
            "214f92fd759a491b86d38a2a402c0f28",
            "d17a363a3503478192bbd013bae6f627",
            "4a0e01b8c02d4500a8e6ce4f33c9fc7b",
            "0585c2b0492f41fba8fe033761da6c63",
            "3b883f1821fb4c3399c7d47205ad4523",
            "79fb371e0d4d4c06afd3b935a7f3291c",
            "813528916a1f413aa992419927f487b0",
            "7bc46d78a03f4dc0a921e33196a5da55",
            "9517168635624d4e89fe823263606eef",
            "c2dd55da5edd4ad5819e23513ead0cac",
            "f465165a25de4a408dad9fa4450e33b6",
            "7303f41955fc470e9650f4685b51f44d",
            "ec85bf5da9fc46beb727722176cad196",
            "ac03bb2602554927a0c81c0a749229ec",
            "9c3b46db0f334f71a3a1e92772158d3f",
            "3af8cf6166694a75b3f5a57fffc34b8e",
            "f27af1aeaf5a44fa88d63c44791b26c6",
            "7cdf950e11924db5830f87263c9a0861",
            "09287a292a034bafa4cd9da775a5ab99",
            "bb4e2809a2de4c94b25206adf8490a8d",
            "11bb3c45f2c1428abedd84c8832edb00",
            "75db57c4d2cd4abaa71d359c1950adee",
            "5ed34f90e2a64bed8fc355b040c0e7eb",
            "585e2d562db445779abb6b00bb6c7eac",
            "41e55c2eba4d4294ad38e0e6c1f5bbfb"
          ]
        },
        "id": "76868527",
        "outputId": "4f0a5ae1-b278-4e05-e09b-6b0f2d8bb184"
      },
      "outputs": [],
      "source": [
        "teacher_tokenizer = AutoTokenizer.from_pretrained(BASE_MODEL)\n",
        "teacher_model = AutoModel.from_pretrained(BASE_MODEL)"
      ]
    },
    {
      "cell_type": "code",
      "execution_count": null,
      "id": "2i1g4BNAxV08",
      "metadata": {
        "id": "2i1g4BNAxV08"
      },
      "outputs": [],
      "source": [
        "teacher_model.cuda();"
      ]
    },
    {
      "cell_type": "markdown",
      "id": "404cfb0f",
      "metadata": {},
      "source": [
        "## setup CE"
      ]
    },
    {
      "cell_type": "code",
      "execution_count": null,
      "id": "5d3ddc44",
      "metadata": {
        "id": "5d3ddc44"
      },
      "outputs": [],
      "source": [
        "def corrupt_pair(pair, p_edit=0.5):\n",
        "    \"\"\" Corrupt one (randomly chosen) sentence in a pair \"\"\"\n",
        "    pair = list(pair)\n",
        "    ix = random.choice([0, 1])\n",
        "\n",
        "    sent = pair[ix].split()\n",
        "    old_sent = sent[:]\n",
        "    while sent == old_sent:\n",
        "        # insert a random word\n",
        "        if random.random() < p_edit or len(sent) == 1:\n",
        "            other_sent = random.choice(parallel_pairs)[ix].split()\n",
        "            sent.insert(random.randint(0, len(sent) - 1), random.choice(other_sent))\n",
        "\n",
        "        # replace a random word\n",
        "        if random.random() < p_edit and len(sent) > 1:\n",
        "            other_sent = random.choice(parallel_pairs)[ix].split()\n",
        "            sent[random.randint(0, len(sent) - 1)] = random.choice(other_sent)\n",
        "\n",
        "        # remove a word\n",
        "        if random.random() < p_edit and len(sent) > 1:\n",
        "            sent.pop(random.randint(0, len(sent) - 1))\n",
        "\n",
        "        # swap words\n",
        "        if random.random() < p_edit and len(sent) > 1:\n",
        "            i, j = random.sample(range(len(sent)), 2)\n",
        "            sent[i], sent[j] = sent[j], sent[i]\n",
        "    \n",
        "    pair[ix] = ' '.join(sent)\n",
        "    return pair"
      ]
    },
    {
      "cell_type": "code",
      "execution_count": null,
      "id": "b08d2517",
      "metadata": {
        "colab": {
          "base_uri": "https://localhost:8080/",
          "height": 67,
          "referenced_widgets": [
            "c45f0a3267f944c483daf797b49bed79",
            "c7f714bcfe5a401bacfb635eeae4793d",
            "7cee4c6c2eba4ecb9ab54c0866798015",
            "74d5ce3f2be144219f238c9948cfb34b",
            "fba890e364944da18e5f09557cd04a34",
            "015fb8009e4846859c9d027677ad25a1",
            "e24aaaf8b312400cba146a1042c6b6c2",
            "8ca49b7c875e465d9f2880818a4f6546",
            "d6e41171e4d6499d9da48693e7a6909b",
            "7d5bbfd634ce46c3abde8c6992612614",
            "dfe3a341dc7d4923ad24d450dea238e4"
          ]
        },
        "id": "b08d2517",
        "outputId": "9ac24f13-858d-49f2-aceb-d52f990fc97d"
      },
      "outputs": [
        {
          "data": {
            "application/vnd.jupyter.widget-view+json": {
              "model_id": "c45f0a3267f944c483daf797b49bed79",
              "version_major": 2,
              "version_minor": 0
            },
            "text/plain": [
              "  0%|          | 0/15898 [00:00<?, ?it/s]"
            ]
          },
          "metadata": {},
          "output_type": "display_data"
        },
        {
          "name": "stdout",
          "output_type": "stream",
          "text": [
            "15898 15478\n"
          ]
        }
      ],
      "source": [
        "short_pairs = [p for p in tqdm(parallel_pairs) if len(tokenizer.encode(*p)) <= 100]\n",
        "print(len(parallel_pairs), len(short_pairs))"
      ]
    },
    {
      "cell_type": "code",
      "execution_count": null,
      "id": "bb2d60e6",
      "metadata": {
        "id": "bb2d60e6"
      },
      "outputs": [],
      "source": [
        "def get_pairs_batch(batch_size=4):\n",
        "    pairs = random.choices(short_pairs, k=int(np.ceil(batch_size / 2)))\n",
        "\n",
        "    labels = [1] * len(pairs) + [0] * len(pairs)\n",
        "    if random.random() < 0.5:\n",
        "        # make negatives by swapping sentence with a random one\n",
        "        pairs.extend([(pairs[i][0], pairs[i-1][1]) for i in range(len(pairs))])\n",
        "    else:\n",
        "        # make negatives by corrupting existing sentences\n",
        "        pairs.extend([corrupt_pair(pair) for pair in pairs])\n",
        "\n",
        "    pairs = [[x, y] if random.random() < 0.5 else [y, x] for x, y in pairs]\n",
        "\n",
        "    return [list(t) for t in zip(*pairs)], labels"
      ]
    },
    {
      "cell_type": "markdown",
      "id": "d1037df8",
      "metadata": {},
      "source": [
        "## setup other training parts"
      ]
    },
    {
      "cell_type": "code",
      "execution_count": null,
      "id": "f7b1808f",
      "metadata": {
        "id": "f7b1808f"
      },
      "outputs": [],
      "source": [
        "collator = DataCollatorForWholeWordMask(tokenizer, mlm=True, mlm_probability=0.3)"
      ]
    },
    {
      "cell_type": "code",
      "execution_count": null,
      "id": "a0bc45dc",
      "metadata": {
        "id": "a0bc45dc"
      },
      "outputs": [],
      "source": [
        "optimizer = Adafactor(\n",
        "    [p for p in model.parameters() if p.requires_grad],\n",
        "    scale_parameter=False, relative_step=False,\n",
        "    lr=2e-6, # make it very slow, because we want to update too many parameters\n",
        "    clip_threshold=1.0\n",
        ")"
      ]
    },
    {
      "cell_type": "code",
      "execution_count": null,
      "id": "735a963d",
      "metadata": {
        "id": "735a963d"
      },
      "outputs": [],
      "source": [
        "mlm_batch_size = 2\n",
        "batch_size = 4\n",
        "margin = 0.3"
      ]
    },
    {
      "cell_type": "code",
      "execution_count": null,
      "id": "fd911191",
      "metadata": {
        "id": "fd911191"
      },
      "outputs": [],
      "source": [
        "def train_alignment_with_MLM_CE(parallel_pairs, mdf_sentences, step_count, optimizer):\n",
        "    losses = []\n",
        "    accuracies = []\n",
        "    losses_mlm = []\n",
        "    losses_ce = []\n",
        "\n",
        "    loss_fn = torch.nn.CrossEntropyLoss()\n",
        "\n",
        "    model.train()\n",
        "    for i in trange(step_count):\n",
        "        mdf, ru = [list(p) for p in zip(*random.choices(parallel_pairs, k=batch_size))]\n",
        "        try:\n",
        "            # translation ranking step step\n",
        "            # in half cases, pull embeddings to the teacher; in other half - to self.\n",
        "            tm, tt = (teacher_model, teacher_tokenizer) if random.random() < 0.5 else (model.bert, tokenizer)\n",
        "\n",
        "            ru_batch = tt(ru, return_tensors='pt', padding=True, truncation=True, max_length=128)\n",
        "            with torch.no_grad():\n",
        "                ru_emb = torch.nn.functional.normalize(tm(**ru_batch.to(teacher_model.device)).pooler_output)\n",
        "\n",
        "            mdf_batch = tokenizer(mdf, return_tensors='pt', padding=True, truncation=True, max_length=128)\n",
        "            mdf_emb = torch.nn.functional.normalize(model.bert(**mdf_batch.to(model.device)).pooler_output)\n",
        "            all_scores = torch.matmul(ru_emb, mdf_emb.T) - torch.eye(batch_size, device=model.device) * margin\n",
        "            \n",
        "            loss = loss_fn(all_scores, torch.arange(batch_size, device=model.device)) + loss_fn(all_scores.T, torch.arange(batch_size, device=model.device))\n",
        "            loss.backward()\n",
        "\n",
        "            losses.append(loss.item())\n",
        "            accuracies.append(get_acc(mdf_emb, ru_emb))\n",
        "\n",
        "            # mlm step\n",
        "            sents = random.choices(mdf_sentences, k=mlm_batch_size)\n",
        "            mdf_batch = {k: v.to(model.device) for k, v in collator([tokenizer(s) for s in sents]).items()}\n",
        "\n",
        "            loss = loss_fn(\n",
        "                model(**mdf_batch).prediction_logits.view(-1, model.config.vocab_size),\n",
        "                mdf_batch['labels'].view(-1)\n",
        "            )\n",
        "            loss.backward()\n",
        "            losses_mlm.append(loss.item())\n",
        "\n",
        "            # cross-encoder step\n",
        "            ce_pairs, ce_labels = get_pairs_batch(batch_size=4)\n",
        "\n",
        "            loss = loss_fn(\n",
        "                model(\n",
        "                    **tokenizer(*ce_pairs, padding=True, truncation=True, max_length=128, return_tensors='pt').to(model.device)\n",
        "                ).seq_relationship_logits.view(-1, 2),\n",
        "                torch.tensor(ce_labels, device=model.device)\n",
        "            )\n",
        "            loss.backward()\n",
        "            losses_ce.append(loss.item())\n",
        "\n",
        "            optimizer.step()\n",
        "            optimizer.zero_grad(set_to_none=True)\n",
        "\n",
        "        except RuntimeError:\n",
        "            optimizer.zero_grad(set_to_none=True)\n",
        "            mdf_batch, mdf_emb, ru_batch, ru_emb, all_scores, loss = None, None, None, None, None, None\n",
        "            print('error', max(len(s) for s in mdf + ru))\n",
        "            continue\n",
        "        if i % 100 == 0:\n",
        "            print(i, np.mean(losses[-100:]), np.mean(accuracies[-100:]), np.mean(losses_mlm[-100:]), np.mean(losses_ce[-100:]))\n",
        "\n",
        "    return losses, accuracies, losses_mlm, losses_ce"
      ]
    },
    {
      "cell_type": "markdown",
      "id": "2816627e",
      "metadata": {},
      "source": [
        "## train"
      ]
    },
    {
      "cell_type": "code",
      "execution_count": null,
      "id": "73f01c50",
      "metadata": {},
      "outputs": [],
      "source": [
        "losses, accuracies, losses_mlm, losses_ce = train_alignment_with_MLM_CE(\n",
        "    parallel_pairs, \n",
        "    mdf_sentences,\n",
        "    1000,\n",
        "    optimizer\n",
        ")"
      ]
    },
    {
      "cell_type": "code",
      "execution_count": null,
      "id": "mfCI5YTVxoNh",
      "metadata": {
        "colab": {
          "base_uri": "https://localhost:8080/"
        },
        "id": "mfCI5YTVxoNh",
        "outputId": "5c752d4f-539c-4215-d7d4-aea49d08466a"
      },
      "outputs": [
        {
          "name": "stdout",
          "output_type": "stream",
          "text": [
            "tensor([[ 0.8722,  0.5865, -0.1989, -0.2355, -0.2226],\n",
            "        [ 0.5129,  0.8678, -0.1823, -0.2200, -0.1391],\n",
            "        [-0.0760, -0.0676,  0.6669,  0.1025, -0.0657],\n",
            "        [-0.2560, -0.1673,  0.1695,  0.6087,  0.0192],\n",
            "        [-0.1908, -0.2040,  0.0328,  0.1292,  0.5286]], device='cuda:0')\n"
          ]
        }
      ],
      "source": [
        "test_model(model, tokenizer)"
      ]
    },
    {
      "cell_type": "code",
      "execution_count": null,
      "id": "ac2c6869",
      "metadata": {
        "id": "ac2c6869"
      },
      "outputs": [],
      "source": [
        "optimizer.zero_grad(set_to_none=True)"
      ]
    },
    {
      "cell_type": "code",
      "execution_count": null,
      "id": "225cae34",
      "metadata": {
        "colab": {
          "base_uri": "https://localhost:8080/",
          "height": 309
        },
        "id": "225cae34",
        "outputId": "c48c8159-8d19-49da-ce39-d0af4719dc66"
      },
      "outputs": [
        {
          "name": "stdout",
          "output_type": "stream",
          "text": [
            "1000\n"
          ]
        },
        {
          "data": {
            "image/png": "[encoded data removed]",
            "text/plain": [
              "<Figure size 1600x300 with 4 Axes>"
            ]
          },
          "metadata": {},
          "output_type": "display_data"
        }
      ],
      "source": [
        "print(len(losses))\n",
        "plt.figure(figsize=(16, 3))\n",
        "for i, s in enumerate([losses, accuracies, losses_mlm, losses_ce]):\n",
        "    plt.subplot(1, 4, i+1)\n",
        "    pd.Series(s).ewm(1000).mean()[10:].plot(lw=1);"
      ]
    },
    {
      "cell_type": "code",
      "execution_count": null,
      "id": "06dc32a1",
      "metadata": {},
      "outputs": [],
      "source": [
        "plot_for_report(losses, r\"Значение функции ошибки $\\mathcal{J}_{align}(\\phi)$\")\n",
        "\n",
        "# plt.savefig('drive/MyDrive/diploma/loasses2_2k+1k+1k.pdf')\n",
        "# plt.show()"
      ]
    },
    {
      "cell_type": "code",
      "execution_count": null,
      "id": "0776240d",
      "metadata": {},
      "outputs": [],
      "source": [
        "plot_for_report(accuracies, r\"Точность\")\n",
        "\n",
        "# plt.savefig('drive/MyDrive/diploma/accuracies2_2k+1k+1k.pdf')\n",
        "# plt.show()"
      ]
    },
    {
      "cell_type": "code",
      "execution_count": null,
      "id": "5b06e8ff",
      "metadata": {},
      "outputs": [],
      "source": [
        "plot_for_report(losses_mlm, r\"Значение функции ошибки $\\mathcal{J}_{MLM}(\\phi)$\")\n",
        "\n",
        "# plt.savefig('drive/MyDrive/diploma/losses2_MLM_2k+1k+1k.pdf')\n",
        "# plt.show()"
      ]
    },
    {
      "cell_type": "code",
      "execution_count": null,
      "id": "gqrLy8cR7t6v",
      "metadata": {
        "colab": {
          "base_uri": "https://localhost:8080/"
        },
        "id": "gqrLy8cR7t6v",
        "outputId": "d3f0837c-42d9-4d22-cb19-1f6c49c76d33"
      },
      "outputs": [
        {
          "name": "stdout",
          "output_type": "stream",
          "text": [
            "tensor([[ 0.9443,  0.5780, -0.1096, -0.1323, -0.1786],\n",
            "        [ 0.4973,  0.9458, -0.1386, -0.0889, -0.0586],\n",
            "        [-0.0801, -0.0540,  0.7642,  0.1174, -0.1049],\n",
            "        [-0.1753, -0.0895,  0.0901,  0.7665, -0.1340],\n",
            "        [-0.1045, -0.0774, -0.1100, -0.0030,  0.5081]], device='cuda:0')\n"
          ]
        }
      ],
      "source": [
        "test_model(model, tokenizer)"
      ]
    },
    {
      "cell_type": "code",
      "execution_count": null,
      "id": "7c0fcebf",
      "metadata": {
        "colab": {
          "base_uri": "https://localhost:8080/"
        },
        "id": "7c0fcebf",
        "outputId": "7fd23655-173e-4685-e203-671b89b581d2"
      },
      "outputs": [
        {
          "data": {
            "text/plain": [
              "('drive/MyDrive/diploma/labse_moksha_50k+70k+1k/tokenizer_config.json',\n",
              " 'drive/MyDrive/diploma/labse_moksha_50k+70k+1k/special_tokens_map.json',\n",
              " 'drive/MyDrive/diploma/labse_moksha_50k+70k+1k/vocab.txt',\n",
              " 'drive/MyDrive/diploma/labse_moksha_50k+70k+1k/added_tokens.json')"
            ]
          },
          "execution_count": 48,
          "metadata": {},
          "output_type": "execute_result"
        }
      ],
      "source": [
        "NEW_MODEL_NAME = 'drive/MyDrive/diploma/labse_moksha_50k+70k+1k'\n",
        "model.save_pretrained(NEW_MODEL_NAME)\n",
        "tokenizer.save_pretrained(NEW_MODEL_NAME)"
      ]
    },
    {
      "cell_type": "code",
      "execution_count": null,
      "id": "9910b61b",
      "metadata": {
        "id": "9910b61b"
      },
      "outputs": [],
      "source": []
    }
  ],
  "metadata": {
    "accelerator": "GPU",
    "colab": {
      "collapsed_sections": [
        "83617225",
        "f2c19323",
        "1f9540b9"
      ],
      "gpuType": "T4",
      "provenance": []
    },
    "kernelspec": {
      "display_name": "Python 3",
      "name": "python3"
    },
    "language_info": {
      "codemirror_mode": {
        "name": "ipython",
        "version": 3
      },
      "file_extension": ".py",
      "mimetype": "text/x-python",
      "name": "python",
      "nbconvert_exporter": "python",
      "pygments_lexer": "ipython3",
      "version": "3.11.9"
    },
    "widgets": {
      "application/vnd.jupyter.widget-state+json": {
        "010f8995f05a4f0ebb1daf22cf1b5c4f": {
          "model_module": "@jupyter-widgets/base",
          "model_module_version": "1.2.0",
          "model_name": "LayoutModel",
          "state": {
            "_model_module": "@jupyter-widgets/base",
            "_model_module_version": "1.2.0",
            "_model_name": "LayoutModel",
            "_view_count": null,
            "_view_module": "@jupyter-widgets/base",
            "_view_module_version": "1.2.0",
            "_view_name": "LayoutView",
            "align_content": null,
            "align_items": null,
            "align_self": null,
            "border": null,
            "bottom": null,
            "display": null,
            "flex": null,
            "flex_flow": null,
            "grid_area": null,
            "grid_auto_columns": null,
            "grid_auto_flow": null,
            "grid_auto_rows": null,
            "grid_column": null,
            "grid_gap": null,
            "grid_row": null,
            "grid_template_areas": null,
            "grid_template_columns": null,
            "grid_template_rows": null,
            "height": null,
            "justify_content": null,
            "justify_items": null,
            "left": null,
            "margin": null,
            "max_height": null,
            "max_width": null,
            "min_height": null,
            "min_width": null,
            "object_fit": null,
            "object_position": null,
            "order": null,
            "overflow": null,
            "overflow_x": null,
            "overflow_y": null,
            "padding": null,
            "right": null,
            "top": null,
            "visibility": null,
            "width": null
          }
        },
        "015fb8009e4846859c9d027677ad25a1": {
          "model_module": "@jupyter-widgets/base",
          "model_module_version": "1.2.0",
          "model_name": "LayoutModel",
          "state": {
            "_model_module": "@jupyter-widgets/base",
            "_model_module_version": "1.2.0",
            "_model_name": "LayoutModel",
            "_view_count": null,
            "_view_module": "@jupyter-widgets/base",
            "_view_module_version": "1.2.0",
            "_view_name": "LayoutView",
            "align_content": null,
            "align_items": null,
            "align_self": null,
            "border": null,
            "bottom": null,
            "display": null,
            "flex": null,
            "flex_flow": null,
            "grid_area": null,
            "grid_auto_columns": null,
            "grid_auto_flow": null,
            "grid_auto_rows": null,
            "grid_column": null,
            "grid_gap": null,
            "grid_row": null,
            "grid_template_areas": null,
            "grid_template_columns": null,
            "grid_template_rows": null,
            "height": null,
            "justify_content": null,
            "justify_items": null,
            "left": null,
            "margin": null,
            "max_height": null,
            "max_width": null,
            "min_height": null,
            "min_width": null,
            "object_fit": null,
            "object_position": null,
            "order": null,
            "overflow": null,
            "overflow_x": null,
            "overflow_y": null,
            "padding": null,
            "right": null,
            "top": null,
            "visibility": null,
            "width": null
          }
        },
        "0227946b793a4acfb9cce4a0417fdc29": {
          "model_module": "@jupyter-widgets/base",
          "model_module_version": "1.2.0",
          "model_name": "LayoutModel",
          "state": {
            "_model_module": "@jupyter-widgets/base",
            "_model_module_version": "1.2.0",
            "_model_name": "LayoutModel",
            "_view_count": null,
            "_view_module": "@jupyter-widgets/base",
            "_view_module_version": "1.2.0",
            "_view_name": "LayoutView",
            "align_content": null,
            "align_items": null,
            "align_self": null,
            "border": null,
            "bottom": null,
            "display": null,
            "flex": null,
            "flex_flow": null,
            "grid_area": null,
            "grid_auto_columns": null,
            "grid_auto_flow": null,
            "grid_auto_rows": null,
            "grid_column": null,
            "grid_gap": null,
            "grid_row": null,
            "grid_template_areas": null,
            "grid_template_columns": null,
            "grid_template_rows": null,
            "height": null,
            "justify_content": null,
            "justify_items": null,
            "left": null,
            "margin": null,
            "max_height": null,
            "max_width": null,
            "min_height": null,
            "min_width": null,
            "object_fit": null,
            "object_position": null,
            "order": null,
            "overflow": null,
            "overflow_x": null,
            "overflow_y": null,
            "padding": null,
            "right": null,
            "top": null,
            "visibility": null,
            "width": null
          }
        },
        "02c6e7a151cc498b942602630b2a0630": {
          "model_module": "@jupyter-widgets/base",
          "model_module_version": "1.2.0",
          "model_name": "LayoutModel",
          "state": {
            "_model_module": "@jupyter-widgets/base",
            "_model_module_version": "1.2.0",
            "_model_name": "LayoutModel",
            "_view_count": null,
            "_view_module": "@jupyter-widgets/base",
            "_view_module_version": "1.2.0",
            "_view_name": "LayoutView",
            "align_content": null,
            "align_items": null,
            "align_self": null,
            "border": null,
            "bottom": null,
            "display": null,
            "flex": null,
            "flex_flow": null,
            "grid_area": null,
            "grid_auto_columns": null,
            "grid_auto_flow": null,
            "grid_auto_rows": null,
            "grid_column": null,
            "grid_gap": null,
            "grid_row": null,
            "grid_template_areas": null,
            "grid_template_columns": null,
            "grid_template_rows": null,
            "height": null,
            "justify_content": null,
            "justify_items": null,
            "left": null,
            "margin": null,
            "max_height": null,
            "max_width": null,
            "min_height": null,
            "min_width": null,
            "object_fit": null,
            "object_position": null,
            "order": null,
            "overflow": null,
            "overflow_x": null,
            "overflow_y": null,
            "padding": null,
            "right": null,
            "top": null,
            "visibility": null,
            "width": null
          }
        },
        "0585c2b0492f41fba8fe033761da6c63": {
          "model_module": "@jupyter-widgets/controls",
          "model_module_version": "1.5.0",
          "model_name": "HBoxModel",
          "state": {
            "_dom_classes": [],
            "_model_module": "@jupyter-widgets/controls",
            "_model_module_version": "1.5.0",
            "_model_name": "HBoxModel",
            "_view_count": null,
            "_view_module": "@jupyter-widgets/controls",
            "_view_module_version": "1.5.0",
            "_view_name": "HBoxView",
            "box_style": "",
            "children": [
              "IPY_MODEL_3b883f1821fb4c3399c7d47205ad4523",
              "IPY_MODEL_79fb371e0d4d4c06afd3b935a7f3291c",
              "IPY_MODEL_813528916a1f413aa992419927f487b0"
            ],
            "layout": "IPY_MODEL_7bc46d78a03f4dc0a921e33196a5da55"
          }
        },
        "0700327faed94267af80eb3617d0756c": {
          "model_module": "@jupyter-widgets/controls",
          "model_module_version": "1.5.0",
          "model_name": "HTMLModel",
          "state": {
            "_dom_classes": [],
            "_model_module": "@jupyter-widgets/controls",
            "_model_module_version": "1.5.0",
            "_model_name": "HTMLModel",
            "_view_count": null,
            "_view_module": "@jupyter-widgets/controls",
            "_view_module_version": "1.5.0",
            "_view_name": "HTMLView",
            "description": "",
            "description_tooltip": null,
            "layout": "IPY_MODEL_c7e87446d72f474a8a8a31620409b174",
            "placeholder": "​",
            "style": "IPY_MODEL_78af316b35ef4d0c95d57f1b40a5fdba",
            "value": "tokenizer_config.json: 100%"
          }
        },
        "0761953082f049fa998708b69d383a85": {
          "model_module": "@jupyter-widgets/base",
          "model_module_version": "1.2.0",
          "model_name": "LayoutModel",
          "state": {
            "_model_module": "@jupyter-widgets/base",
            "_model_module_version": "1.2.0",
            "_model_name": "LayoutModel",
            "_view_count": null,
            "_view_module": "@jupyter-widgets/base",
            "_view_module_version": "1.2.0",
            "_view_name": "LayoutView",
            "align_content": null,
            "align_items": null,
            "align_self": null,
            "border": null,
            "bottom": null,
            "display": null,
            "flex": null,
            "flex_flow": null,
            "grid_area": null,
            "grid_auto_columns": null,
            "grid_auto_flow": null,
            "grid_auto_rows": null,
            "grid_column": null,
            "grid_gap": null,
            "grid_row": null,
            "grid_template_areas": null,
            "grid_template_columns": null,
            "grid_template_rows": null,
            "height": null,
            "justify_content": null,
            "justify_items": null,
            "left": null,
            "margin": null,
            "max_height": null,
            "max_width": null,
            "min_height": null,
            "min_width": null,
            "object_fit": null,
            "object_position": null,
            "order": null,
            "overflow": null,
            "overflow_x": null,
            "overflow_y": null,
            "padding": null,
            "right": null,
            "top": null,
            "visibility": null,
            "width": null
          }
        },
        "08332757586b4b598b1023e1fade4ad0": {
          "model_module": "@jupyter-widgets/controls",
          "model_module_version": "1.5.0",
          "model_name": "HTMLModel",
          "state": {
            "_dom_classes": [],
            "_model_module": "@jupyter-widgets/controls",
            "_model_module_version": "1.5.0",
            "_model_name": "HTMLModel",
            "_view_count": null,
            "_view_module": "@jupyter-widgets/controls",
            "_view_module_version": "1.5.0",
            "_view_name": "HTMLView",
            "description": "",
            "description_tooltip": null,
            "layout": "IPY_MODEL_0761953082f049fa998708b69d383a85",
            "placeholder": "​",
            "style": "IPY_MODEL_3ee7a837f4094b4e82e14e8fd91c8bc6",
            "value": "config.json: 100%"
          }
        },
        "086a2a6b15de4f95b2d8d97813644932": {
          "model_module": "@jupyter-widgets/controls",
          "model_module_version": "1.5.0",
          "model_name": "HBoxModel",
          "state": {
            "_dom_classes": [],
            "_model_module": "@jupyter-widgets/controls",
            "_model_module_version": "1.5.0",
            "_model_name": "HBoxModel",
            "_view_count": null,
            "_view_module": "@jupyter-widgets/controls",
            "_view_module_version": "1.5.0",
            "_view_name": "HBoxView",
            "box_style": "",
            "children": [
              "IPY_MODEL_868d708751544471a3d58ae9ccfdb293",
              "IPY_MODEL_f0314555fcde4bd0ae25675a43021182",
              "IPY_MODEL_0de7f5c429984fb1b178a8d6bf530a4e"
            ],
            "layout": "IPY_MODEL_4ab5b1e56af84fd98bdfe199b8a61f4e"
          }
        },
        "088835810f0149ec80874011b5bc697b": {
          "model_module": "@jupyter-widgets/controls",
          "model_module_version": "1.5.0",
          "model_name": "DescriptionStyleModel",
          "state": {
            "_model_module": "@jupyter-widgets/controls",
            "_model_module_version": "1.5.0",
            "_model_name": "DescriptionStyleModel",
            "_view_count": null,
            "_view_module": "@jupyter-widgets/base",
            "_view_module_version": "1.2.0",
            "_view_name": "StyleView",
            "description_width": ""
          }
        },
        "08d96f05a962485dabff031e399f3eba": {
          "model_module": "@jupyter-widgets/base",
          "model_module_version": "1.2.0",
          "model_name": "LayoutModel",
          "state": {
            "_model_module": "@jupyter-widgets/base",
            "_model_module_version": "1.2.0",
            "_model_name": "LayoutModel",
            "_view_count": null,
            "_view_module": "@jupyter-widgets/base",
            "_view_module_version": "1.2.0",
            "_view_name": "LayoutView",
            "align_content": null,
            "align_items": null,
            "align_self": null,
            "border": null,
            "bottom": null,
            "display": null,
            "flex": null,
            "flex_flow": null,
            "grid_area": null,
            "grid_auto_columns": null,
            "grid_auto_flow": null,
            "grid_auto_rows": null,
            "grid_column": null,
            "grid_gap": null,
            "grid_row": null,
            "grid_template_areas": null,
            "grid_template_columns": null,
            "grid_template_rows": null,
            "height": null,
            "justify_content": null,
            "justify_items": null,
            "left": null,
            "margin": null,
            "max_height": null,
            "max_width": null,
            "min_height": null,
            "min_width": null,
            "object_fit": null,
            "object_position": null,
            "order": null,
            "overflow": null,
            "overflow_x": null,
            "overflow_y": null,
            "padding": null,
            "right": null,
            "top": null,
            "visibility": null,
            "width": null
          }
        },
        "09287a292a034bafa4cd9da775a5ab99": {
          "model_module": "@jupyter-widgets/base",
          "model_module_version": "1.2.0",
          "model_name": "LayoutModel",
          "state": {
            "_model_module": "@jupyter-widgets/base",
            "_model_module_version": "1.2.0",
            "_model_name": "LayoutModel",
            "_view_count": null,
            "_view_module": "@jupyter-widgets/base",
            "_view_module_version": "1.2.0",
            "_view_name": "LayoutView",
            "align_content": null,
            "align_items": null,
            "align_self": null,
            "border": null,
            "bottom": null,
            "display": null,
            "flex": null,
            "flex_flow": null,
            "grid_area": null,
            "grid_auto_columns": null,
            "grid_auto_flow": null,
            "grid_auto_rows": null,
            "grid_column": null,
            "grid_gap": null,
            "grid_row": null,
            "grid_template_areas": null,
            "grid_template_columns": null,
            "grid_template_rows": null,
            "height": null,
            "justify_content": null,
            "justify_items": null,
            "left": null,
            "margin": null,
            "max_height": null,
            "max_width": null,
            "min_height": null,
            "min_width": null,
            "object_fit": null,
            "object_position": null,
            "order": null,
            "overflow": null,
            "overflow_x": null,
            "overflow_y": null,
            "padding": null,
            "right": null,
            "top": null,
            "visibility": null,
            "width": null
          }
        },
        "0a5a3cedfdd74ec49c2c4de344ac7771": {
          "model_module": "@jupyter-widgets/base",
          "model_module_version": "1.2.0",
          "model_name": "LayoutModel",
          "state": {
            "_model_module": "@jupyter-widgets/base",
            "_model_module_version": "1.2.0",
            "_model_name": "LayoutModel",
            "_view_count": null,
            "_view_module": "@jupyter-widgets/base",
            "_view_module_version": "1.2.0",
            "_view_name": "LayoutView",
            "align_content": null,
            "align_items": null,
            "align_self": null,
            "border": null,
            "bottom": null,
            "display": null,
            "flex": null,
            "flex_flow": null,
            "grid_area": null,
            "grid_auto_columns": null,
            "grid_auto_flow": null,
            "grid_auto_rows": null,
            "grid_column": null,
            "grid_gap": null,
            "grid_row": null,
            "grid_template_areas": null,
            "grid_template_columns": null,
            "grid_template_rows": null,
            "height": null,
            "justify_content": null,
            "justify_items": null,
            "left": null,
            "margin": null,
            "max_height": null,
            "max_width": null,
            "min_height": null,
            "min_width": null,
            "object_fit": null,
            "object_position": null,
            "order": null,
            "overflow": null,
            "overflow_x": null,
            "overflow_y": null,
            "padding": null,
            "right": null,
            "top": null,
            "visibility": null,
            "width": null
          }
        },
        "0b281e5ec634421299b6bb9ae1539704": {
          "model_module": "@jupyter-widgets/base",
          "model_module_version": "1.2.0",
          "model_name": "LayoutModel",
          "state": {
            "_model_module": "@jupyter-widgets/base",
            "_model_module_version": "1.2.0",
            "_model_name": "LayoutModel",
            "_view_count": null,
            "_view_module": "@jupyter-widgets/base",
            "_view_module_version": "1.2.0",
            "_view_name": "LayoutView",
            "align_content": null,
            "align_items": null,
            "align_self": null,
            "border": null,
            "bottom": null,
            "display": null,
            "flex": null,
            "flex_flow": null,
            "grid_area": null,
            "grid_auto_columns": null,
            "grid_auto_flow": null,
            "grid_auto_rows": null,
            "grid_column": null,
            "grid_gap": null,
            "grid_row": null,
            "grid_template_areas": null,
            "grid_template_columns": null,
            "grid_template_rows": null,
            "height": null,
            "justify_content": null,
            "justify_items": null,
            "left": null,
            "margin": null,
            "max_height": null,
            "max_width": null,
            "min_height": null,
            "min_width": null,
            "object_fit": null,
            "object_position": null,
            "order": null,
            "overflow": null,
            "overflow_x": null,
            "overflow_y": null,
            "padding": null,
            "right": null,
            "top": null,
            "visibility": null,
            "width": null
          }
        },
        "0b81da6c667342fd81e3d50e9ca00c6c": {
          "model_module": "@jupyter-widgets/base",
          "model_module_version": "1.2.0",
          "model_name": "LayoutModel",
          "state": {
            "_model_module": "@jupyter-widgets/base",
            "_model_module_version": "1.2.0",
            "_model_name": "LayoutModel",
            "_view_count": null,
            "_view_module": "@jupyter-widgets/base",
            "_view_module_version": "1.2.0",
            "_view_name": "LayoutView",
            "align_content": null,
            "align_items": null,
            "align_self": null,
            "border": null,
            "bottom": null,
            "display": null,
            "flex": null,
            "flex_flow": null,
            "grid_area": null,
            "grid_auto_columns": null,
            "grid_auto_flow": null,
            "grid_auto_rows": null,
            "grid_column": null,
            "grid_gap": null,
            "grid_row": null,
            "grid_template_areas": null,
            "grid_template_columns": null,
            "grid_template_rows": null,
            "height": null,
            "justify_content": null,
            "justify_items": null,
            "left": null,
            "margin": null,
            "max_height": null,
            "max_width": null,
            "min_height": null,
            "min_width": null,
            "object_fit": null,
            "object_position": null,
            "order": null,
            "overflow": null,
            "overflow_x": null,
            "overflow_y": null,
            "padding": null,
            "right": null,
            "top": null,
            "visibility": null,
            "width": null
          }
        },
        "0c6333ca15ac4109ad7fbfd17085b16e": {
          "model_module": "@jupyter-widgets/base",
          "model_module_version": "1.2.0",
          "model_name": "LayoutModel",
          "state": {
            "_model_module": "@jupyter-widgets/base",
            "_model_module_version": "1.2.0",
            "_model_name": "LayoutModel",
            "_view_count": null,
            "_view_module": "@jupyter-widgets/base",
            "_view_module_version": "1.2.0",
            "_view_name": "LayoutView",
            "align_content": null,
            "align_items": null,
            "align_self": null,
            "border": null,
            "bottom": null,
            "display": null,
            "flex": null,
            "flex_flow": null,
            "grid_area": null,
            "grid_auto_columns": null,
            "grid_auto_flow": null,
            "grid_auto_rows": null,
            "grid_column": null,
            "grid_gap": null,
            "grid_row": null,
            "grid_template_areas": null,
            "grid_template_columns": null,
            "grid_template_rows": null,
            "height": null,
            "justify_content": null,
            "justify_items": null,
            "left": null,
            "margin": null,
            "max_height": null,
            "max_width": null,
            "min_height": null,
            "min_width": null,
            "object_fit": null,
            "object_position": null,
            "order": null,
            "overflow": null,
            "overflow_x": null,
            "overflow_y": null,
            "padding": null,
            "right": null,
            "top": null,
            "visibility": null,
            "width": null
          }
        },
        "0d025eb696f0499495e4cbdab07bf1d3": {
          "model_module": "@jupyter-widgets/base",
          "model_module_version": "1.2.0",
          "model_name": "LayoutModel",
          "state": {
            "_model_module": "@jupyter-widgets/base",
            "_model_module_version": "1.2.0",
            "_model_name": "LayoutModel",
            "_view_count": null,
            "_view_module": "@jupyter-widgets/base",
            "_view_module_version": "1.2.0",
            "_view_name": "LayoutView",
            "align_content": null,
            "align_items": null,
            "align_self": null,
            "border": null,
            "bottom": null,
            "display": null,
            "flex": null,
            "flex_flow": null,
            "grid_area": null,
            "grid_auto_columns": null,
            "grid_auto_flow": null,
            "grid_auto_rows": null,
            "grid_column": null,
            "grid_gap": null,
            "grid_row": null,
            "grid_template_areas": null,
            "grid_template_columns": null,
            "grid_template_rows": null,
            "height": null,
            "justify_content": null,
            "justify_items": null,
            "left": null,
            "margin": null,
            "max_height": null,
            "max_width": null,
            "min_height": null,
            "min_width": null,
            "object_fit": null,
            "object_position": null,
            "order": null,
            "overflow": null,
            "overflow_x": null,
            "overflow_y": null,
            "padding": null,
            "right": null,
            "top": null,
            "visibility": null,
            "width": null
          }
        },
        "0d35ab017cf343e5ac722d828a6ad287": {
          "model_module": "@jupyter-widgets/controls",
          "model_module_version": "1.5.0",
          "model_name": "DescriptionStyleModel",
          "state": {
            "_model_module": "@jupyter-widgets/controls",
            "_model_module_version": "1.5.0",
            "_model_name": "DescriptionStyleModel",
            "_view_count": null,
            "_view_module": "@jupyter-widgets/base",
            "_view_module_version": "1.2.0",
            "_view_name": "StyleView",
            "description_width": ""
          }
        },
        "0db95f998966421abeb439dfa726866f": {
          "model_module": "@jupyter-widgets/base",
          "model_module_version": "1.2.0",
          "model_name": "LayoutModel",
          "state": {
            "_model_module": "@jupyter-widgets/base",
            "_model_module_version": "1.2.0",
            "_model_name": "LayoutModel",
            "_view_count": null,
            "_view_module": "@jupyter-widgets/base",
            "_view_module_version": "1.2.0",
            "_view_name": "LayoutView",
            "align_content": null,
            "align_items": null,
            "align_self": null,
            "border": null,
            "bottom": null,
            "display": null,
            "flex": null,
            "flex_flow": null,
            "grid_area": null,
            "grid_auto_columns": null,
            "grid_auto_flow": null,
            "grid_auto_rows": null,
            "grid_column": null,
            "grid_gap": null,
            "grid_row": null,
            "grid_template_areas": null,
            "grid_template_columns": null,
            "grid_template_rows": null,
            "height": null,
            "justify_content": null,
            "justify_items": null,
            "left": null,
            "margin": null,
            "max_height": null,
            "max_width": null,
            "min_height": null,
            "min_width": null,
            "object_fit": null,
            "object_position": null,
            "order": null,
            "overflow": null,
            "overflow_x": null,
            "overflow_y": null,
            "padding": null,
            "right": null,
            "top": null,
            "visibility": null,
            "width": null
          }
        },
        "0de7f5c429984fb1b178a8d6bf530a4e": {
          "model_module": "@jupyter-widgets/controls",
          "model_module_version": "1.5.0",
          "model_name": "HTMLModel",
          "state": {
            "_dom_classes": [],
            "_model_module": "@jupyter-widgets/controls",
            "_model_module_version": "1.5.0",
            "_model_name": "HTMLModel",
            "_view_count": null,
            "_view_module": "@jupyter-widgets/controls",
            "_view_module_version": "1.5.0",
            "_view_name": "HTMLView",
            "description": "",
            "description_tooltip": null,
            "layout": "IPY_MODEL_2574c5c5661c43b595c251998f63d070",
            "placeholder": "​",
            "style": "IPY_MODEL_501101c18829446a874391c84a651c11",
            "value": " 50000/50000 [33:05&lt;00:00, 26.45it/s]"
          }
        },
        "0f731c202b104ad8af1fc3061f129418": {
          "model_module": "@jupyter-widgets/controls",
          "model_module_version": "1.5.0",
          "model_name": "DescriptionStyleModel",
          "state": {
            "_model_module": "@jupyter-widgets/controls",
            "_model_module_version": "1.5.0",
            "_model_name": "DescriptionStyleModel",
            "_view_count": null,
            "_view_module": "@jupyter-widgets/base",
            "_view_module_version": "1.2.0",
            "_view_name": "StyleView",
            "description_width": ""
          }
        },
        "10bf0c8501214e73ab9044211e26df92": {
          "model_module": "@jupyter-widgets/base",
          "model_module_version": "1.2.0",
          "model_name": "LayoutModel",
          "state": {
            "_model_module": "@jupyter-widgets/base",
            "_model_module_version": "1.2.0",
            "_model_name": "LayoutModel",
            "_view_count": null,
            "_view_module": "@jupyter-widgets/base",
            "_view_module_version": "1.2.0",
            "_view_name": "LayoutView",
            "align_content": null,
            "align_items": null,
            "align_self": null,
            "border": null,
            "bottom": null,
            "display": null,
            "flex": null,
            "flex_flow": null,
            "grid_area": null,
            "grid_auto_columns": null,
            "grid_auto_flow": null,
            "grid_auto_rows": null,
            "grid_column": null,
            "grid_gap": null,
            "grid_row": null,
            "grid_template_areas": null,
            "grid_template_columns": null,
            "grid_template_rows": null,
            "height": null,
            "justify_content": null,
            "justify_items": null,
            "left": null,
            "margin": null,
            "max_height": null,
            "max_width": null,
            "min_height": null,
            "min_width": null,
            "object_fit": null,
            "object_position": null,
            "order": null,
            "overflow": null,
            "overflow_x": null,
            "overflow_y": null,
            "padding": null,
            "right": null,
            "top": null,
            "visibility": null,
            "width": null
          }
        },
        "11bb3c45f2c1428abedd84c8832edb00": {
          "model_module": "@jupyter-widgets/controls",
          "model_module_version": "1.5.0",
          "model_name": "DescriptionStyleModel",
          "state": {
            "_model_module": "@jupyter-widgets/controls",
            "_model_module_version": "1.5.0",
            "_model_name": "DescriptionStyleModel",
            "_view_count": null,
            "_view_module": "@jupyter-widgets/base",
            "_view_module_version": "1.2.0",
            "_view_name": "StyleView",
            "description_width": ""
          }
        },
        "140b951b73f7453f9c29b0a848855139": {
          "model_module": "@jupyter-widgets/controls",
          "model_module_version": "1.5.0",
          "model_name": "ProgressStyleModel",
          "state": {
            "_model_module": "@jupyter-widgets/controls",
            "_model_module_version": "1.5.0",
            "_model_name": "ProgressStyleModel",
            "_view_count": null,
            "_view_module": "@jupyter-widgets/base",
            "_view_module_version": "1.2.0",
            "_view_name": "StyleView",
            "bar_color": null,
            "description_width": ""
          }
        },
        "162f9492eb114f6f89431e85964fc645": {
          "model_module": "@jupyter-widgets/base",
          "model_module_version": "1.2.0",
          "model_name": "LayoutModel",
          "state": {
            "_model_module": "@jupyter-widgets/base",
            "_model_module_version": "1.2.0",
            "_model_name": "LayoutModel",
            "_view_count": null,
            "_view_module": "@jupyter-widgets/base",
            "_view_module_version": "1.2.0",
            "_view_name": "LayoutView",
            "align_content": null,
            "align_items": null,
            "align_self": null,
            "border": null,
            "bottom": null,
            "display": null,
            "flex": null,
            "flex_flow": null,
            "grid_area": null,
            "grid_auto_columns": null,
            "grid_auto_flow": null,
            "grid_auto_rows": null,
            "grid_column": null,
            "grid_gap": null,
            "grid_row": null,
            "grid_template_areas": null,
            "grid_template_columns": null,
            "grid_template_rows": null,
            "height": null,
            "justify_content": null,
            "justify_items": null,
            "left": null,
            "margin": null,
            "max_height": null,
            "max_width": null,
            "min_height": null,
            "min_width": null,
            "object_fit": null,
            "object_position": null,
            "order": null,
            "overflow": null,
            "overflow_x": null,
            "overflow_y": null,
            "padding": null,
            "right": null,
            "top": null,
            "visibility": null,
            "width": null
          }
        },
        "16eacf765aca4041815ebfc2585c28a5": {
          "model_module": "@jupyter-widgets/controls",
          "model_module_version": "1.5.0",
          "model_name": "ProgressStyleModel",
          "state": {
            "_model_module": "@jupyter-widgets/controls",
            "_model_module_version": "1.5.0",
            "_model_name": "ProgressStyleModel",
            "_view_count": null,
            "_view_module": "@jupyter-widgets/base",
            "_view_module_version": "1.2.0",
            "_view_name": "StyleView",
            "bar_color": null,
            "description_width": ""
          }
        },
        "182520b1c2de4dee8ed4f7b0dacda1aa": {
          "model_module": "@jupyter-widgets/controls",
          "model_module_version": "1.5.0",
          "model_name": "DescriptionStyleModel",
          "state": {
            "_model_module": "@jupyter-widgets/controls",
            "_model_module_version": "1.5.0",
            "_model_name": "DescriptionStyleModel",
            "_view_count": null,
            "_view_module": "@jupyter-widgets/base",
            "_view_module_version": "1.2.0",
            "_view_name": "StyleView",
            "description_width": ""
          }
        },
        "183f0b00c0694b1fb9f81dd1d31daacf": {
          "model_module": "@jupyter-widgets/controls",
          "model_module_version": "1.5.0",
          "model_name": "ProgressStyleModel",
          "state": {
            "_model_module": "@jupyter-widgets/controls",
            "_model_module_version": "1.5.0",
            "_model_name": "ProgressStyleModel",
            "_view_count": null,
            "_view_module": "@jupyter-widgets/base",
            "_view_module_version": "1.2.0",
            "_view_name": "StyleView",
            "bar_color": null,
            "description_width": ""
          }
        },
        "18d98e17273146c5b7a2899b561aa35d": {
          "model_module": "@jupyter-widgets/controls",
          "model_module_version": "1.5.0",
          "model_name": "FloatProgressModel",
          "state": {
            "_dom_classes": [],
            "_model_module": "@jupyter-widgets/controls",
            "_model_module_version": "1.5.0",
            "_model_name": "FloatProgressModel",
            "_view_count": null,
            "_view_module": "@jupyter-widgets/controls",
            "_view_module_version": "1.5.0",
            "_view_name": "ProgressView",
            "bar_style": "success",
            "description": "",
            "description_tooltip": null,
            "layout": "IPY_MODEL_71aa2f989ea944cbb73f3740f0374597",
            "max": 59647,
            "min": 0,
            "orientation": "horizontal",
            "style": "IPY_MODEL_5a020f0de8f1426a840e41790ecf6059",
            "value": 59647
          }
        },
        "18da50d70ce5499c82ff74d166417c65": {
          "model_module": "@jupyter-widgets/controls",
          "model_module_version": "1.5.0",
          "model_name": "FloatProgressModel",
          "state": {
            "_dom_classes": [],
            "_model_module": "@jupyter-widgets/controls",
            "_model_module_version": "1.5.0",
            "_model_name": "FloatProgressModel",
            "_view_count": null,
            "_view_module": "@jupyter-widgets/controls",
            "_view_module_version": "1.5.0",
            "_view_name": "ProgressView",
            "bar_style": "success",
            "description": "",
            "description_tooltip": null,
            "layout": "IPY_MODEL_67cc4f1ad5d74af18f833856657b745e",
            "max": 15898,
            "min": 0,
            "orientation": "horizontal",
            "style": "IPY_MODEL_8a1d84d8c09a4889bd76a57a8632e1ee",
            "value": 15898
          }
        },
        "1ae9cc30350a4e86842830013aedbe40": {
          "model_module": "@jupyter-widgets/controls",
          "model_module_version": "1.5.0",
          "model_name": "HTMLModel",
          "state": {
            "_dom_classes": [],
            "_model_module": "@jupyter-widgets/controls",
            "_model_module_version": "1.5.0",
            "_model_name": "HTMLModel",
            "_view_count": null,
            "_view_module": "@jupyter-widgets/controls",
            "_view_module_version": "1.5.0",
            "_view_name": "HTMLView",
            "description": "",
            "description_tooltip": null,
            "layout": "IPY_MODEL_ff13189a7b6c4696b6502613f9b71490",
            "placeholder": "​",
            "style": "IPY_MODEL_98c152aa806c494cb75ca28c86cdcf3b",
            "value": " 4564/100000 [00:04&lt;01:06, 1437.40it/s]"
          }
        },
        "1bfb62efc3244f34bad3bcd5abad3360": {
          "model_module": "@jupyter-widgets/controls",
          "model_module_version": "1.5.0",
          "model_name": "HTMLModel",
          "state": {
            "_dom_classes": [],
            "_model_module": "@jupyter-widgets/controls",
            "_model_module_version": "1.5.0",
            "_model_name": "HTMLModel",
            "_view_count": null,
            "_view_module": "@jupyter-widgets/controls",
            "_view_module_version": "1.5.0",
            "_view_name": "HTMLView",
            "description": "",
            "description_tooltip": null,
            "layout": "IPY_MODEL_de6a054ddd824d14addb8843536fe083",
            "placeholder": "​",
            "style": "IPY_MODEL_9bbad5be64a84d92b578aca007705672",
            "value": " 87543/87543 [00:00&lt;00:00, 87235.09it/s]"
          }
        },
        "1cd34e701b5842c7aed885dbbd399b47": {
          "model_module": "@jupyter-widgets/base",
          "model_module_version": "1.2.0",
          "model_name": "LayoutModel",
          "state": {
            "_model_module": "@jupyter-widgets/base",
            "_model_module_version": "1.2.0",
            "_model_name": "LayoutModel",
            "_view_count": null,
            "_view_module": "@jupyter-widgets/base",
            "_view_module_version": "1.2.0",
            "_view_name": "LayoutView",
            "align_content": null,
            "align_items": null,
            "align_self": null,
            "border": null,
            "bottom": null,
            "display": null,
            "flex": null,
            "flex_flow": null,
            "grid_area": null,
            "grid_auto_columns": null,
            "grid_auto_flow": null,
            "grid_auto_rows": null,
            "grid_column": null,
            "grid_gap": null,
            "grid_row": null,
            "grid_template_areas": null,
            "grid_template_columns": null,
            "grid_template_rows": null,
            "height": null,
            "justify_content": null,
            "justify_items": null,
            "left": null,
            "margin": null,
            "max_height": null,
            "max_width": null,
            "min_height": null,
            "min_width": null,
            "object_fit": null,
            "object_position": null,
            "order": null,
            "overflow": null,
            "overflow_x": null,
            "overflow_y": null,
            "padding": null,
            "right": null,
            "top": null,
            "visibility": null,
            "width": null
          }
        },
        "1de2bda9316d434aa8fbb353cf09102c": {
          "model_module": "@jupyter-widgets/controls",
          "model_module_version": "1.5.0",
          "model_name": "HTMLModel",
          "state": {
            "_dom_classes": [],
            "_model_module": "@jupyter-widgets/controls",
            "_model_module_version": "1.5.0",
            "_model_name": "HTMLModel",
            "_view_count": null,
            "_view_module": "@jupyter-widgets/controls",
            "_view_module_version": "1.5.0",
            "_view_name": "HTMLView",
            "description": "",
            "description_tooltip": null,
            "layout": "IPY_MODEL_6b1f23e5de44448fbe812087b5591720",
            "placeholder": "​",
            "style": "IPY_MODEL_72fe120862a042ff948155f3fd84c808",
            "value": "tokenizer_config.json: 100%"
          }
        },
        "1e2e357fa2f4443593b2a6a3dd909b60": {
          "model_module": "@jupyter-widgets/controls",
          "model_module_version": "1.5.0",
          "model_name": "HTMLModel",
          "state": {
            "_dom_classes": [],
            "_model_module": "@jupyter-widgets/controls",
            "_model_module_version": "1.5.0",
            "_model_name": "HTMLModel",
            "_view_count": null,
            "_view_module": "@jupyter-widgets/controls",
            "_view_module_version": "1.5.0",
            "_view_name": "HTMLView",
            "description": "",
            "description_tooltip": null,
            "layout": "IPY_MODEL_99ed0b1d9bc34d489aa5ec6f1157549f",
            "placeholder": "​",
            "style": "IPY_MODEL_182520b1c2de4dee8ed4f7b0dacda1aa",
            "value": " 112/112 [00:00&lt;00:00, 9.56kB/s]"
          }
        },
        "2067c417a4064fbbb64efba984746468": {
          "model_module": "@jupyter-widgets/controls",
          "model_module_version": "1.5.0",
          "model_name": "HTMLModel",
          "state": {
            "_dom_classes": [],
            "_model_module": "@jupyter-widgets/controls",
            "_model_module_version": "1.5.0",
            "_model_name": "HTMLModel",
            "_view_count": null,
            "_view_module": "@jupyter-widgets/controls",
            "_view_module_version": "1.5.0",
            "_view_name": "HTMLView",
            "description": "",
            "description_tooltip": null,
            "layout": "IPY_MODEL_3da531302ad44ce0af82ddb1254752dd",
            "placeholder": "​",
            "style": "IPY_MODEL_ee57db083aea4a6a91434c6908b1e89c",
            "value": " 516M/516M [00:03&lt;00:00, 92.0MB/s]"
          }
        },
        "214f92fd759a491b86d38a2a402c0f28": {
          "model_module": "@jupyter-widgets/controls",
          "model_module_version": "1.5.0",
          "model_name": "ProgressStyleModel",
          "state": {
            "_model_module": "@jupyter-widgets/controls",
            "_model_module_version": "1.5.0",
            "_model_name": "ProgressStyleModel",
            "_view_count": null,
            "_view_module": "@jupyter-widgets/base",
            "_view_module_version": "1.2.0",
            "_view_name": "StyleView",
            "bar_color": null,
            "description_width": ""
          }
        },
        "21a147e43782417d8ceb680e7e6b24dd": {
          "model_module": "@jupyter-widgets/controls",
          "model_module_version": "1.5.0",
          "model_name": "HBoxModel",
          "state": {
            "_dom_classes": [],
            "_model_module": "@jupyter-widgets/controls",
            "_model_module_version": "1.5.0",
            "_model_name": "HBoxModel",
            "_view_count": null,
            "_view_module": "@jupyter-widgets/controls",
            "_view_module_version": "1.5.0",
            "_view_name": "HBoxView",
            "box_style": "",
            "children": [
              "IPY_MODEL_ffd6c666243c436c97be0c55b2d9728e",
              "IPY_MODEL_18da50d70ce5499c82ff74d166417c65",
              "IPY_MODEL_8239e69f44794f3a956788a8a4c5affa"
            ],
            "layout": "IPY_MODEL_ca9230801c794247a1e9425112ab9db9"
          }
        },
        "22ad7ea2541245cfa0d09e177b534f0c": {
          "model_module": "@jupyter-widgets/controls",
          "model_module_version": "1.5.0",
          "model_name": "ProgressStyleModel",
          "state": {
            "_model_module": "@jupyter-widgets/controls",
            "_model_module_version": "1.5.0",
            "_model_name": "ProgressStyleModel",
            "_view_count": null,
            "_view_module": "@jupyter-widgets/base",
            "_view_module_version": "1.2.0",
            "_view_name": "StyleView",
            "bar_color": null,
            "description_width": ""
          }
        },
        "245087c38e2645a1ae6f82f35a22b816": {
          "model_module": "@jupyter-widgets/controls",
          "model_module_version": "1.5.0",
          "model_name": "ProgressStyleModel",
          "state": {
            "_model_module": "@jupyter-widgets/controls",
            "_model_module_version": "1.5.0",
            "_model_name": "ProgressStyleModel",
            "_view_count": null,
            "_view_module": "@jupyter-widgets/base",
            "_view_module_version": "1.2.0",
            "_view_name": "StyleView",
            "bar_color": null,
            "description_width": ""
          }
        },
        "246df4b2884d40a2b6899652a0b6507e": {
          "model_module": "@jupyter-widgets/controls",
          "model_module_version": "1.5.0",
          "model_name": "FloatProgressModel",
          "state": {
            "_dom_classes": [],
            "_model_module": "@jupyter-widgets/controls",
            "_model_module_version": "1.5.0",
            "_model_name": "FloatProgressModel",
            "_view_count": null,
            "_view_module": "@jupyter-widgets/controls",
            "_view_module_version": "1.5.0",
            "_view_name": "ProgressView",
            "bar_style": "success",
            "description": "",
            "description_tooltip": null,
            "layout": "IPY_MODEL_38baf915ae2c4fed9caf5d6c1b3d7062",
            "max": 49,
            "min": 0,
            "orientation": "horizontal",
            "style": "IPY_MODEL_bc5d0ec18cc749eab746c3ce1616bb01",
            "value": 49
          }
        },
        "248d572c3d774955aafc8c6da922c2be": {
          "model_module": "@jupyter-widgets/controls",
          "model_module_version": "1.5.0",
          "model_name": "FloatProgressModel",
          "state": {
            "_dom_classes": [],
            "_model_module": "@jupyter-widgets/controls",
            "_model_module_version": "1.5.0",
            "_model_name": "FloatProgressModel",
            "_view_count": null,
            "_view_module": "@jupyter-widgets/controls",
            "_view_module_version": "1.5.0",
            "_view_name": "ProgressView",
            "bar_style": "success",
            "description": "",
            "description_tooltip": null,
            "layout": "IPY_MODEL_2b0ba27be6b34477ae7e92a8af921da6",
            "max": 806,
            "min": 0,
            "orientation": "horizontal",
            "style": "IPY_MODEL_214f92fd759a491b86d38a2a402c0f28",
            "value": 806
          }
        },
        "2574c5c5661c43b595c251998f63d070": {
          "model_module": "@jupyter-widgets/base",
          "model_module_version": "1.2.0",
          "model_name": "LayoutModel",
          "state": {
            "_model_module": "@jupyter-widgets/base",
            "_model_module_version": "1.2.0",
            "_model_name": "LayoutModel",
            "_view_count": null,
            "_view_module": "@jupyter-widgets/base",
            "_view_module_version": "1.2.0",
            "_view_name": "LayoutView",
            "align_content": null,
            "align_items": null,
            "align_self": null,
            "border": null,
            "bottom": null,
            "display": null,
            "flex": null,
            "flex_flow": null,
            "grid_area": null,
            "grid_auto_columns": null,
            "grid_auto_flow": null,
            "grid_auto_rows": null,
            "grid_column": null,
            "grid_gap": null,
            "grid_row": null,
            "grid_template_areas": null,
            "grid_template_columns": null,
            "grid_template_rows": null,
            "height": null,
            "justify_content": null,
            "justify_items": null,
            "left": null,
            "margin": null,
            "max_height": null,
            "max_width": null,
            "min_height": null,
            "min_width": null,
            "object_fit": null,
            "object_position": null,
            "order": null,
            "overflow": null,
            "overflow_x": null,
            "overflow_y": null,
            "padding": null,
            "right": null,
            "top": null,
            "visibility": null,
            "width": null
          }
        },
        "287a8d4da4634a4fb0e45c80e9bfa5b4": {
          "model_module": "@jupyter-widgets/base",
          "model_module_version": "1.2.0",
          "model_name": "LayoutModel",
          "state": {
            "_model_module": "@jupyter-widgets/base",
            "_model_module_version": "1.2.0",
            "_model_name": "LayoutModel",
            "_view_count": null,
            "_view_module": "@jupyter-widgets/base",
            "_view_module_version": "1.2.0",
            "_view_name": "LayoutView",
            "align_content": null,
            "align_items": null,
            "align_self": null,
            "border": null,
            "bottom": null,
            "display": null,
            "flex": null,
            "flex_flow": null,
            "grid_area": null,
            "grid_auto_columns": null,
            "grid_auto_flow": null,
            "grid_auto_rows": null,
            "grid_column": null,
            "grid_gap": null,
            "grid_row": null,
            "grid_template_areas": null,
            "grid_template_columns": null,
            "grid_template_rows": null,
            "height": null,
            "justify_content": null,
            "justify_items": null,
            "left": null,
            "margin": null,
            "max_height": null,
            "max_width": null,
            "min_height": null,
            "min_width": null,
            "object_fit": null,
            "object_position": null,
            "order": null,
            "overflow": null,
            "overflow_x": null,
            "overflow_y": null,
            "padding": null,
            "right": null,
            "top": null,
            "visibility": null,
            "width": null
          }
        },
        "2b0ba27be6b34477ae7e92a8af921da6": {
          "model_module": "@jupyter-widgets/base",
          "model_module_version": "1.2.0",
          "model_name": "LayoutModel",
          "state": {
            "_model_module": "@jupyter-widgets/base",
            "_model_module_version": "1.2.0",
            "_model_name": "LayoutModel",
            "_view_count": null,
            "_view_module": "@jupyter-widgets/base",
            "_view_module_version": "1.2.0",
            "_view_name": "LayoutView",
            "align_content": null,
            "align_items": null,
            "align_self": null,
            "border": null,
            "bottom": null,
            "display": null,
            "flex": null,
            "flex_flow": null,
            "grid_area": null,
            "grid_auto_columns": null,
            "grid_auto_flow": null,
            "grid_auto_rows": null,
            "grid_column": null,
            "grid_gap": null,
            "grid_row": null,
            "grid_template_areas": null,
            "grid_template_columns": null,
            "grid_template_rows": null,
            "height": null,
            "justify_content": null,
            "justify_items": null,
            "left": null,
            "margin": null,
            "max_height": null,
            "max_width": null,
            "min_height": null,
            "min_width": null,
            "object_fit": null,
            "object_position": null,
            "order": null,
            "overflow": null,
            "overflow_x": null,
            "overflow_y": null,
            "padding": null,
            "right": null,
            "top": null,
            "visibility": null,
            "width": null
          }
        },
        "2df27dd7f4434f31930f47f69ec72721": {
          "model_module": "@jupyter-widgets/base",
          "model_module_version": "1.2.0",
          "model_name": "LayoutModel",
          "state": {
            "_model_module": "@jupyter-widgets/base",
            "_model_module_version": "1.2.0",
            "_model_name": "LayoutModel",
            "_view_count": null,
            "_view_module": "@jupyter-widgets/base",
            "_view_module_version": "1.2.0",
            "_view_name": "LayoutView",
            "align_content": null,
            "align_items": null,
            "align_self": null,
            "border": null,
            "bottom": null,
            "display": null,
            "flex": null,
            "flex_flow": null,
            "grid_area": null,
            "grid_auto_columns": null,
            "grid_auto_flow": null,
            "grid_auto_rows": null,
            "grid_column": null,
            "grid_gap": null,
            "grid_row": null,
            "grid_template_areas": null,
            "grid_template_columns": null,
            "grid_template_rows": null,
            "height": null,
            "justify_content": null,
            "justify_items": null,
            "left": null,
            "margin": null,
            "max_height": null,
            "max_width": null,
            "min_height": null,
            "min_width": null,
            "object_fit": null,
            "object_position": null,
            "order": null,
            "overflow": null,
            "overflow_x": null,
            "overflow_y": null,
            "padding": null,
            "right": null,
            "top": null,
            "visibility": null,
            "width": null
          }
        },
        "2e373957fc8245e196716049a735e4aa": {
          "model_module": "@jupyter-widgets/controls",
          "model_module_version": "1.5.0",
          "model_name": "ProgressStyleModel",
          "state": {
            "_model_module": "@jupyter-widgets/controls",
            "_model_module_version": "1.5.0",
            "_model_name": "ProgressStyleModel",
            "_view_count": null,
            "_view_module": "@jupyter-widgets/base",
            "_view_module_version": "1.2.0",
            "_view_name": "StyleView",
            "bar_color": null,
            "description_width": ""
          }
        },
        "2f003902ee7247ffb2fc7ed9949f69e0": {
          "model_module": "@jupyter-widgets/controls",
          "model_module_version": "1.5.0",
          "model_name": "HBoxModel",
          "state": {
            "_dom_classes": [],
            "_model_module": "@jupyter-widgets/controls",
            "_model_module_version": "1.5.0",
            "_model_name": "HBoxModel",
            "_view_count": null,
            "_view_module": "@jupyter-widgets/controls",
            "_view_module_version": "1.5.0",
            "_view_name": "HBoxView",
            "box_style": "",
            "children": [
              "IPY_MODEL_bf9fb3ec00414a0f8b7c19ab3a28f1ce",
              "IPY_MODEL_55f28535f6894e7c95764b0cd4981075",
              "IPY_MODEL_cb90eae2584b4b97a955c7ef03f48b45"
            ],
            "layout": "IPY_MODEL_c3c3c3e0b75b48baba82ca0d00e62b5c"
          }
        },
        "3017637b08b74486abba1a87bec65e81": {
          "model_module": "@jupyter-widgets/controls",
          "model_module_version": "1.5.0",
          "model_name": "DescriptionStyleModel",
          "state": {
            "_model_module": "@jupyter-widgets/controls",
            "_model_module_version": "1.5.0",
            "_model_name": "DescriptionStyleModel",
            "_view_count": null,
            "_view_module": "@jupyter-widgets/base",
            "_view_module_version": "1.2.0",
            "_view_name": "StyleView",
            "description_width": ""
          }
        },
        "310a96801ece4da1b8f05ba32dcbf7e7": {
          "model_module": "@jupyter-widgets/controls",
          "model_module_version": "1.5.0",
          "model_name": "ProgressStyleModel",
          "state": {
            "_model_module": "@jupyter-widgets/controls",
            "_model_module_version": "1.5.0",
            "_model_name": "ProgressStyleModel",
            "_view_count": null,
            "_view_module": "@jupyter-widgets/base",
            "_view_module_version": "1.2.0",
            "_view_name": "StyleView",
            "bar_color": null,
            "description_width": ""
          }
        },
        "3188c9297e624ba485ac104fe8faa468": {
          "model_module": "@jupyter-widgets/controls",
          "model_module_version": "1.5.0",
          "model_name": "DescriptionStyleModel",
          "state": {
            "_model_module": "@jupyter-widgets/controls",
            "_model_module_version": "1.5.0",
            "_model_name": "DescriptionStyleModel",
            "_view_count": null,
            "_view_module": "@jupyter-widgets/base",
            "_view_module_version": "1.2.0",
            "_view_name": "StyleView",
            "description_width": ""
          }
        },
        "36e2d11b139048b8af796a2ca7fdab93": {
          "model_module": "@jupyter-widgets/base",
          "model_module_version": "1.2.0",
          "model_name": "LayoutModel",
          "state": {
            "_model_module": "@jupyter-widgets/base",
            "_model_module_version": "1.2.0",
            "_model_name": "LayoutModel",
            "_view_count": null,
            "_view_module": "@jupyter-widgets/base",
            "_view_module_version": "1.2.0",
            "_view_name": "LayoutView",
            "align_content": null,
            "align_items": null,
            "align_self": null,
            "border": null,
            "bottom": null,
            "display": null,
            "flex": null,
            "flex_flow": null,
            "grid_area": null,
            "grid_auto_columns": null,
            "grid_auto_flow": null,
            "grid_auto_rows": null,
            "grid_column": null,
            "grid_gap": null,
            "grid_row": null,
            "grid_template_areas": null,
            "grid_template_columns": null,
            "grid_template_rows": null,
            "height": null,
            "justify_content": null,
            "justify_items": null,
            "left": null,
            "margin": null,
            "max_height": null,
            "max_width": null,
            "min_height": null,
            "min_width": null,
            "object_fit": null,
            "object_position": null,
            "order": null,
            "overflow": null,
            "overflow_x": null,
            "overflow_y": null,
            "padding": null,
            "right": null,
            "top": null,
            "visibility": null,
            "width": null
          }
        },
        "3760b5ffa0854b0fa52d0bf3774fe3e8": {
          "model_module": "@jupyter-widgets/controls",
          "model_module_version": "1.5.0",
          "model_name": "DescriptionStyleModel",
          "state": {
            "_model_module": "@jupyter-widgets/controls",
            "_model_module_version": "1.5.0",
            "_model_name": "DescriptionStyleModel",
            "_view_count": null,
            "_view_module": "@jupyter-widgets/base",
            "_view_module_version": "1.2.0",
            "_view_name": "StyleView",
            "description_width": ""
          }
        },
        "37b7e3f9601a4761bad13588c7b72641": {
          "model_module": "@jupyter-widgets/base",
          "model_module_version": "1.2.0",
          "model_name": "LayoutModel",
          "state": {
            "_model_module": "@jupyter-widgets/base",
            "_model_module_version": "1.2.0",
            "_model_name": "LayoutModel",
            "_view_count": null,
            "_view_module": "@jupyter-widgets/base",
            "_view_module_version": "1.2.0",
            "_view_name": "LayoutView",
            "align_content": null,
            "align_items": null,
            "align_self": null,
            "border": null,
            "bottom": null,
            "display": null,
            "flex": null,
            "flex_flow": null,
            "grid_area": null,
            "grid_auto_columns": null,
            "grid_auto_flow": null,
            "grid_auto_rows": null,
            "grid_column": null,
            "grid_gap": null,
            "grid_row": null,
            "grid_template_areas": null,
            "grid_template_columns": null,
            "grid_template_rows": null,
            "height": null,
            "justify_content": null,
            "justify_items": null,
            "left": null,
            "margin": null,
            "max_height": null,
            "max_width": null,
            "min_height": null,
            "min_width": null,
            "object_fit": null,
            "object_position": null,
            "order": null,
            "overflow": null,
            "overflow_x": null,
            "overflow_y": null,
            "padding": null,
            "right": null,
            "top": null,
            "visibility": null,
            "width": null
          }
        },
        "38baf915ae2c4fed9caf5d6c1b3d7062": {
          "model_module": "@jupyter-widgets/base",
          "model_module_version": "1.2.0",
          "model_name": "LayoutModel",
          "state": {
            "_model_module": "@jupyter-widgets/base",
            "_model_module_version": "1.2.0",
            "_model_name": "LayoutModel",
            "_view_count": null,
            "_view_module": "@jupyter-widgets/base",
            "_view_module_version": "1.2.0",
            "_view_name": "LayoutView",
            "align_content": null,
            "align_items": null,
            "align_self": null,
            "border": null,
            "bottom": null,
            "display": null,
            "flex": null,
            "flex_flow": null,
            "grid_area": null,
            "grid_auto_columns": null,
            "grid_auto_flow": null,
            "grid_auto_rows": null,
            "grid_column": null,
            "grid_gap": null,
            "grid_row": null,
            "grid_template_areas": null,
            "grid_template_columns": null,
            "grid_template_rows": null,
            "height": null,
            "justify_content": null,
            "justify_items": null,
            "left": null,
            "margin": null,
            "max_height": null,
            "max_width": null,
            "min_height": null,
            "min_width": null,
            "object_fit": null,
            "object_position": null,
            "order": null,
            "overflow": null,
            "overflow_x": null,
            "overflow_y": null,
            "padding": null,
            "right": null,
            "top": null,
            "visibility": null,
            "width": null
          }
        },
        "3a751f0d23164813a3a6deface035cbd": {
          "model_module": "@jupyter-widgets/base",
          "model_module_version": "1.2.0",
          "model_name": "LayoutModel",
          "state": {
            "_model_module": "@jupyter-widgets/base",
            "_model_module_version": "1.2.0",
            "_model_name": "LayoutModel",
            "_view_count": null,
            "_view_module": "@jupyter-widgets/base",
            "_view_module_version": "1.2.0",
            "_view_name": "LayoutView",
            "align_content": null,
            "align_items": null,
            "align_self": null,
            "border": null,
            "bottom": null,
            "display": null,
            "flex": null,
            "flex_flow": null,
            "grid_area": null,
            "grid_auto_columns": null,
            "grid_auto_flow": null,
            "grid_auto_rows": null,
            "grid_column": null,
            "grid_gap": null,
            "grid_row": null,
            "grid_template_areas": null,
            "grid_template_columns": null,
            "grid_template_rows": null,
            "height": null,
            "justify_content": null,
            "justify_items": null,
            "left": null,
            "margin": null,
            "max_height": null,
            "max_width": null,
            "min_height": null,
            "min_width": null,
            "object_fit": null,
            "object_position": null,
            "order": null,
            "overflow": null,
            "overflow_x": null,
            "overflow_y": null,
            "padding": null,
            "right": null,
            "top": null,
            "visibility": null,
            "width": null
          }
        },
        "3acc30dab3064a3ba7f29feb76ea4658": {
          "model_module": "@jupyter-widgets/controls",
          "model_module_version": "1.5.0",
          "model_name": "HTMLModel",
          "state": {
            "_dom_classes": [],
            "_model_module": "@jupyter-widgets/controls",
            "_model_module_version": "1.5.0",
            "_model_name": "HTMLModel",
            "_view_count": null,
            "_view_module": "@jupyter-widgets/controls",
            "_view_module_version": "1.5.0",
            "_view_name": "HTMLView",
            "description": "",
            "description_tooltip": null,
            "layout": "IPY_MODEL_0c6333ca15ac4109ad7fbfd17085b16e",
            "placeholder": "​",
            "style": "IPY_MODEL_c4f6b3b8b86a4b669216669ed43a5070",
            "value": "model.safetensors: 100%"
          }
        },
        "3acc4a4ee22e4edc938a10114f47f516": {
          "model_module": "@jupyter-widgets/base",
          "model_module_version": "1.2.0",
          "model_name": "LayoutModel",
          "state": {
            "_model_module": "@jupyter-widgets/base",
            "_model_module_version": "1.2.0",
            "_model_name": "LayoutModel",
            "_view_count": null,
            "_view_module": "@jupyter-widgets/base",
            "_view_module_version": "1.2.0",
            "_view_name": "LayoutView",
            "align_content": null,
            "align_items": null,
            "align_self": null,
            "border": null,
            "bottom": null,
            "display": null,
            "flex": null,
            "flex_flow": null,
            "grid_area": null,
            "grid_auto_columns": null,
            "grid_auto_flow": null,
            "grid_auto_rows": null,
            "grid_column": null,
            "grid_gap": null,
            "grid_row": null,
            "grid_template_areas": null,
            "grid_template_columns": null,
            "grid_template_rows": null,
            "height": null,
            "justify_content": null,
            "justify_items": null,
            "left": null,
            "margin": null,
            "max_height": null,
            "max_width": null,
            "min_height": null,
            "min_width": null,
            "object_fit": null,
            "object_position": null,
            "order": null,
            "overflow": null,
            "overflow_x": null,
            "overflow_y": null,
            "padding": null,
            "right": null,
            "top": null,
            "visibility": null,
            "width": null
          }
        },
        "3af8cf6166694a75b3f5a57fffc34b8e": {
          "model_module": "@jupyter-widgets/controls",
          "model_module_version": "1.5.0",
          "model_name": "HTMLModel",
          "state": {
            "_dom_classes": [],
            "_model_module": "@jupyter-widgets/controls",
            "_model_module_version": "1.5.0",
            "_model_name": "HTMLModel",
            "_view_count": null,
            "_view_module": "@jupyter-widgets/controls",
            "_view_module_version": "1.5.0",
            "_view_name": "HTMLView",
            "description": "",
            "description_tooltip": null,
            "layout": "IPY_MODEL_bb4e2809a2de4c94b25206adf8490a8d",
            "placeholder": "​",
            "style": "IPY_MODEL_11bb3c45f2c1428abedd84c8832edb00",
            "value": "special_tokens_map.json: 100%"
          }
        },
        "3b883f1821fb4c3399c7d47205ad4523": {
          "model_module": "@jupyter-widgets/controls",
          "model_module_version": "1.5.0",
          "model_name": "HTMLModel",
          "state": {
            "_dom_classes": [],
            "_model_module": "@jupyter-widgets/controls",
            "_model_module_version": "1.5.0",
            "_model_name": "HTMLModel",
            "_view_count": null,
            "_view_module": "@jupyter-widgets/controls",
            "_view_module_version": "1.5.0",
            "_view_name": "HTMLView",
            "description": "",
            "description_tooltip": null,
            "layout": "IPY_MODEL_9517168635624d4e89fe823263606eef",
            "placeholder": "​",
            "style": "IPY_MODEL_c2dd55da5edd4ad5819e23513ead0cac",
            "value": "vocab.txt: 100%"
          }
        },
        "3d3c4d989eae46a2a97324c76d5edc75": {
          "model_module": "@jupyter-widgets/controls",
          "model_module_version": "1.5.0",
          "model_name": "FloatProgressModel",
          "state": {
            "_dom_classes": [],
            "_model_module": "@jupyter-widgets/controls",
            "_model_module_version": "1.5.0",
            "_model_name": "FloatProgressModel",
            "_view_count": null,
            "_view_module": "@jupyter-widgets/controls",
            "_view_module_version": "1.5.0",
            "_view_name": "ProgressView",
            "bar_style": "danger",
            "description": "",
            "description_tooltip": null,
            "layout": "IPY_MODEL_4fd5c0b1d20a4201ab9b340f04d59987",
            "max": 100000,
            "min": 0,
            "orientation": "horizontal",
            "style": "IPY_MODEL_16eacf765aca4041815ebfc2585c28a5",
            "value": 4564
          }
        },
        "3da531302ad44ce0af82ddb1254752dd": {
          "model_module": "@jupyter-widgets/base",
          "model_module_version": "1.2.0",
          "model_name": "LayoutModel",
          "state": {
            "_model_module": "@jupyter-widgets/base",
            "_model_module_version": "1.2.0",
            "_model_name": "LayoutModel",
            "_view_count": null,
            "_view_module": "@jupyter-widgets/base",
            "_view_module_version": "1.2.0",
            "_view_name": "LayoutView",
            "align_content": null,
            "align_items": null,
            "align_self": null,
            "border": null,
            "bottom": null,
            "display": null,
            "flex": null,
            "flex_flow": null,
            "grid_area": null,
            "grid_auto_columns": null,
            "grid_auto_flow": null,
            "grid_auto_rows": null,
            "grid_column": null,
            "grid_gap": null,
            "grid_row": null,
            "grid_template_areas": null,
            "grid_template_columns": null,
            "grid_template_rows": null,
            "height": null,
            "justify_content": null,
            "justify_items": null,
            "left": null,
            "margin": null,
            "max_height": null,
            "max_width": null,
            "min_height": null,
            "min_width": null,
            "object_fit": null,
            "object_position": null,
            "order": null,
            "overflow": null,
            "overflow_x": null,
            "overflow_y": null,
            "padding": null,
            "right": null,
            "top": null,
            "visibility": null,
            "width": null
          }
        },
        "3ee7a837f4094b4e82e14e8fd91c8bc6": {
          "model_module": "@jupyter-widgets/controls",
          "model_module_version": "1.5.0",
          "model_name": "DescriptionStyleModel",
          "state": {
            "_model_module": "@jupyter-widgets/controls",
            "_model_module_version": "1.5.0",
            "_model_name": "DescriptionStyleModel",
            "_view_count": null,
            "_view_module": "@jupyter-widgets/base",
            "_view_module_version": "1.2.0",
            "_view_name": "StyleView",
            "description_width": ""
          }
        },
        "3f09ac80265d40fc87653765209e3a5b": {
          "model_module": "@jupyter-widgets/base",
          "model_module_version": "1.2.0",
          "model_name": "LayoutModel",
          "state": {
            "_model_module": "@jupyter-widgets/base",
            "_model_module_version": "1.2.0",
            "_model_name": "LayoutModel",
            "_view_count": null,
            "_view_module": "@jupyter-widgets/base",
            "_view_module_version": "1.2.0",
            "_view_name": "LayoutView",
            "align_content": null,
            "align_items": null,
            "align_self": null,
            "border": null,
            "bottom": null,
            "display": null,
            "flex": null,
            "flex_flow": null,
            "grid_area": null,
            "grid_auto_columns": null,
            "grid_auto_flow": null,
            "grid_auto_rows": null,
            "grid_column": null,
            "grid_gap": null,
            "grid_row": null,
            "grid_template_areas": null,
            "grid_template_columns": null,
            "grid_template_rows": null,
            "height": null,
            "justify_content": null,
            "justify_items": null,
            "left": null,
            "margin": null,
            "max_height": null,
            "max_width": null,
            "min_height": null,
            "min_width": null,
            "object_fit": null,
            "object_position": null,
            "order": null,
            "overflow": null,
            "overflow_x": null,
            "overflow_y": null,
            "padding": null,
            "right": null,
            "top": null,
            "visibility": null,
            "width": null
          }
        },
        "41e55c2eba4d4294ad38e0e6c1f5bbfb": {
          "model_module": "@jupyter-widgets/controls",
          "model_module_version": "1.5.0",
          "model_name": "DescriptionStyleModel",
          "state": {
            "_model_module": "@jupyter-widgets/controls",
            "_model_module_version": "1.5.0",
            "_model_name": "DescriptionStyleModel",
            "_view_count": null,
            "_view_module": "@jupyter-widgets/base",
            "_view_module_version": "1.2.0",
            "_view_name": "StyleView",
            "description_width": ""
          }
        },
        "446915c75e38461895ce55b939075272": {
          "model_module": "@jupyter-widgets/controls",
          "model_module_version": "1.5.0",
          "model_name": "DescriptionStyleModel",
          "state": {
            "_model_module": "@jupyter-widgets/controls",
            "_model_module_version": "1.5.0",
            "_model_name": "DescriptionStyleModel",
            "_view_count": null,
            "_view_module": "@jupyter-widgets/base",
            "_view_module_version": "1.2.0",
            "_view_name": "StyleView",
            "description_width": ""
          }
        },
        "44d4be84ed1f478e8a6a6b935245caa4": {
          "model_module": "@jupyter-widgets/base",
          "model_module_version": "1.2.0",
          "model_name": "LayoutModel",
          "state": {
            "_model_module": "@jupyter-widgets/base",
            "_model_module_version": "1.2.0",
            "_model_name": "LayoutModel",
            "_view_count": null,
            "_view_module": "@jupyter-widgets/base",
            "_view_module_version": "1.2.0",
            "_view_name": "LayoutView",
            "align_content": null,
            "align_items": null,
            "align_self": null,
            "border": null,
            "bottom": null,
            "display": null,
            "flex": null,
            "flex_flow": null,
            "grid_area": null,
            "grid_auto_columns": null,
            "grid_auto_flow": null,
            "grid_auto_rows": null,
            "grid_column": null,
            "grid_gap": null,
            "grid_row": null,
            "grid_template_areas": null,
            "grid_template_columns": null,
            "grid_template_rows": null,
            "height": null,
            "justify_content": null,
            "justify_items": null,
            "left": null,
            "margin": null,
            "max_height": null,
            "max_width": null,
            "min_height": null,
            "min_width": null,
            "object_fit": null,
            "object_position": null,
            "order": null,
            "overflow": null,
            "overflow_x": null,
            "overflow_y": null,
            "padding": null,
            "right": null,
            "top": null,
            "visibility": null,
            "width": null
          }
        },
        "45719eda712a4253b677e8e13be31397": {
          "model_module": "@jupyter-widgets/controls",
          "model_module_version": "1.5.0",
          "model_name": "DescriptionStyleModel",
          "state": {
            "_model_module": "@jupyter-widgets/controls",
            "_model_module_version": "1.5.0",
            "_model_name": "DescriptionStyleModel",
            "_view_count": null,
            "_view_module": "@jupyter-widgets/base",
            "_view_module_version": "1.2.0",
            "_view_name": "StyleView",
            "description_width": ""
          }
        },
        "4774888db596456688dc7c4c67236534": {
          "model_module": "@jupyter-widgets/controls",
          "model_module_version": "1.5.0",
          "model_name": "DescriptionStyleModel",
          "state": {
            "_model_module": "@jupyter-widgets/controls",
            "_model_module_version": "1.5.0",
            "_model_name": "DescriptionStyleModel",
            "_view_count": null,
            "_view_module": "@jupyter-widgets/base",
            "_view_module_version": "1.2.0",
            "_view_name": "StyleView",
            "description_width": ""
          }
        },
        "4787a3d3d96847a796bdd88fbee5df96": {
          "model_module": "@jupyter-widgets/controls",
          "model_module_version": "1.5.0",
          "model_name": "HBoxModel",
          "state": {
            "_dom_classes": [],
            "_model_module": "@jupyter-widgets/controls",
            "_model_module_version": "1.5.0",
            "_model_name": "HBoxModel",
            "_view_count": null,
            "_view_module": "@jupyter-widgets/controls",
            "_view_module_version": "1.5.0",
            "_view_name": "HBoxView",
            "box_style": "",
            "children": [
              "IPY_MODEL_db86b83cd1f34205a61ae742b2ad247f",
              "IPY_MODEL_7cb8c13d36df4880bb0f75fdf7e2590e",
              "IPY_MODEL_d18aada4e0bc4631b0504215e10f5f11"
            ],
            "layout": "IPY_MODEL_37b7e3f9601a4761bad13588c7b72641"
          }
        },
        "47988a6c717243749e692e35b9248347": {
          "model_module": "@jupyter-widgets/base",
          "model_module_version": "1.2.0",
          "model_name": "LayoutModel",
          "state": {
            "_model_module": "@jupyter-widgets/base",
            "_model_module_version": "1.2.0",
            "_model_name": "LayoutModel",
            "_view_count": null,
            "_view_module": "@jupyter-widgets/base",
            "_view_module_version": "1.2.0",
            "_view_name": "LayoutView",
            "align_content": null,
            "align_items": null,
            "align_self": null,
            "border": null,
            "bottom": null,
            "display": null,
            "flex": null,
            "flex_flow": null,
            "grid_area": null,
            "grid_auto_columns": null,
            "grid_auto_flow": null,
            "grid_auto_rows": null,
            "grid_column": null,
            "grid_gap": null,
            "grid_row": null,
            "grid_template_areas": null,
            "grid_template_columns": null,
            "grid_template_rows": null,
            "height": null,
            "justify_content": null,
            "justify_items": null,
            "left": null,
            "margin": null,
            "max_height": null,
            "max_width": null,
            "min_height": null,
            "min_width": null,
            "object_fit": null,
            "object_position": null,
            "order": null,
            "overflow": null,
            "overflow_x": null,
            "overflow_y": null,
            "padding": null,
            "right": null,
            "top": null,
            "visibility": null,
            "width": null
          }
        },
        "4825cabc251243208c3539501e62f48c": {
          "model_module": "@jupyter-widgets/base",
          "model_module_version": "1.2.0",
          "model_name": "LayoutModel",
          "state": {
            "_model_module": "@jupyter-widgets/base",
            "_model_module_version": "1.2.0",
            "_model_name": "LayoutModel",
            "_view_count": null,
            "_view_module": "@jupyter-widgets/base",
            "_view_module_version": "1.2.0",
            "_view_name": "LayoutView",
            "align_content": null,
            "align_items": null,
            "align_self": null,
            "border": null,
            "bottom": null,
            "display": null,
            "flex": null,
            "flex_flow": null,
            "grid_area": null,
            "grid_auto_columns": null,
            "grid_auto_flow": null,
            "grid_auto_rows": null,
            "grid_column": null,
            "grid_gap": null,
            "grid_row": null,
            "grid_template_areas": null,
            "grid_template_columns": null,
            "grid_template_rows": null,
            "height": null,
            "justify_content": null,
            "justify_items": null,
            "left": null,
            "margin": null,
            "max_height": null,
            "max_width": null,
            "min_height": null,
            "min_width": null,
            "object_fit": null,
            "object_position": null,
            "order": null,
            "overflow": null,
            "overflow_x": null,
            "overflow_y": null,
            "padding": null,
            "right": null,
            "top": null,
            "visibility": null,
            "width": null
          }
        },
        "4a0e01b8c02d4500a8e6ce4f33c9fc7b": {
          "model_module": "@jupyter-widgets/controls",
          "model_module_version": "1.5.0",
          "model_name": "DescriptionStyleModel",
          "state": {
            "_model_module": "@jupyter-widgets/controls",
            "_model_module_version": "1.5.0",
            "_model_name": "DescriptionStyleModel",
            "_view_count": null,
            "_view_module": "@jupyter-widgets/base",
            "_view_module_version": "1.2.0",
            "_view_name": "StyleView",
            "description_width": ""
          }
        },
        "4a40f120a21249edac45d1f3dbace9be": {
          "model_module": "@jupyter-widgets/base",
          "model_module_version": "1.2.0",
          "model_name": "LayoutModel",
          "state": {
            "_model_module": "@jupyter-widgets/base",
            "_model_module_version": "1.2.0",
            "_model_name": "LayoutModel",
            "_view_count": null,
            "_view_module": "@jupyter-widgets/base",
            "_view_module_version": "1.2.0",
            "_view_name": "LayoutView",
            "align_content": null,
            "align_items": null,
            "align_self": null,
            "border": null,
            "bottom": null,
            "display": null,
            "flex": null,
            "flex_flow": null,
            "grid_area": null,
            "grid_auto_columns": null,
            "grid_auto_flow": null,
            "grid_auto_rows": null,
            "grid_column": null,
            "grid_gap": null,
            "grid_row": null,
            "grid_template_areas": null,
            "grid_template_columns": null,
            "grid_template_rows": null,
            "height": null,
            "justify_content": null,
            "justify_items": null,
            "left": null,
            "margin": null,
            "max_height": null,
            "max_width": null,
            "min_height": null,
            "min_width": null,
            "object_fit": null,
            "object_position": null,
            "order": null,
            "overflow": null,
            "overflow_x": null,
            "overflow_y": null,
            "padding": null,
            "right": null,
            "top": null,
            "visibility": null,
            "width": null
          }
        },
        "4a4110a90ef649f48c476d372c655a71": {
          "model_module": "@jupyter-widgets/base",
          "model_module_version": "1.2.0",
          "model_name": "LayoutModel",
          "state": {
            "_model_module": "@jupyter-widgets/base",
            "_model_module_version": "1.2.0",
            "_model_name": "LayoutModel",
            "_view_count": null,
            "_view_module": "@jupyter-widgets/base",
            "_view_module_version": "1.2.0",
            "_view_name": "LayoutView",
            "align_content": null,
            "align_items": null,
            "align_self": null,
            "border": null,
            "bottom": null,
            "display": null,
            "flex": null,
            "flex_flow": null,
            "grid_area": null,
            "grid_auto_columns": null,
            "grid_auto_flow": null,
            "grid_auto_rows": null,
            "grid_column": null,
            "grid_gap": null,
            "grid_row": null,
            "grid_template_areas": null,
            "grid_template_columns": null,
            "grid_template_rows": null,
            "height": null,
            "justify_content": null,
            "justify_items": null,
            "left": null,
            "margin": null,
            "max_height": null,
            "max_width": null,
            "min_height": null,
            "min_width": null,
            "object_fit": null,
            "object_position": null,
            "order": null,
            "overflow": null,
            "overflow_x": null,
            "overflow_y": null,
            "padding": null,
            "right": null,
            "top": null,
            "visibility": null,
            "width": null
          }
        },
        "4ab5b1e56af84fd98bdfe199b8a61f4e": {
          "model_module": "@jupyter-widgets/base",
          "model_module_version": "1.2.0",
          "model_name": "LayoutModel",
          "state": {
            "_model_module": "@jupyter-widgets/base",
            "_model_module_version": "1.2.0",
            "_model_name": "LayoutModel",
            "_view_count": null,
            "_view_module": "@jupyter-widgets/base",
            "_view_module_version": "1.2.0",
            "_view_name": "LayoutView",
            "align_content": null,
            "align_items": null,
            "align_self": null,
            "border": null,
            "bottom": null,
            "display": null,
            "flex": null,
            "flex_flow": null,
            "grid_area": null,
            "grid_auto_columns": null,
            "grid_auto_flow": null,
            "grid_auto_rows": null,
            "grid_column": null,
            "grid_gap": null,
            "grid_row": null,
            "grid_template_areas": null,
            "grid_template_columns": null,
            "grid_template_rows": null,
            "height": null,
            "justify_content": null,
            "justify_items": null,
            "left": null,
            "margin": null,
            "max_height": null,
            "max_width": null,
            "min_height": null,
            "min_width": null,
            "object_fit": null,
            "object_position": null,
            "order": null,
            "overflow": null,
            "overflow_x": null,
            "overflow_y": null,
            "padding": null,
            "right": null,
            "top": null,
            "visibility": null,
            "width": null
          }
        },
        "4e87b346df554e998ff8edc7f7bbb2ba": {
          "model_module": "@jupyter-widgets/controls",
          "model_module_version": "1.5.0",
          "model_name": "DescriptionStyleModel",
          "state": {
            "_model_module": "@jupyter-widgets/controls",
            "_model_module_version": "1.5.0",
            "_model_name": "DescriptionStyleModel",
            "_view_count": null,
            "_view_module": "@jupyter-widgets/base",
            "_view_module_version": "1.2.0",
            "_view_name": "StyleView",
            "description_width": ""
          }
        },
        "4eed907327bc4e2187f774a394fee282": {
          "model_module": "@jupyter-widgets/controls",
          "model_module_version": "1.5.0",
          "model_name": "DescriptionStyleModel",
          "state": {
            "_model_module": "@jupyter-widgets/controls",
            "_model_module_version": "1.5.0",
            "_model_name": "DescriptionStyleModel",
            "_view_count": null,
            "_view_module": "@jupyter-widgets/base",
            "_view_module_version": "1.2.0",
            "_view_name": "StyleView",
            "description_width": ""
          }
        },
        "4f5c28455fcf47f6afd73b6719e79700": {
          "model_module": "@jupyter-widgets/controls",
          "model_module_version": "1.5.0",
          "model_name": "DescriptionStyleModel",
          "state": {
            "_model_module": "@jupyter-widgets/controls",
            "_model_module_version": "1.5.0",
            "_model_name": "DescriptionStyleModel",
            "_view_count": null,
            "_view_module": "@jupyter-widgets/base",
            "_view_module_version": "1.2.0",
            "_view_name": "StyleView",
            "description_width": ""
          }
        },
        "4fb1d8f9295143f6a772e0f2db2a6cd0": {
          "model_module": "@jupyter-widgets/controls",
          "model_module_version": "1.5.0",
          "model_name": "FloatProgressModel",
          "state": {
            "_dom_classes": [],
            "_model_module": "@jupyter-widgets/controls",
            "_model_module_version": "1.5.0",
            "_model_name": "FloatProgressModel",
            "_view_count": null,
            "_view_module": "@jupyter-widgets/controls",
            "_view_module_version": "1.5.0",
            "_view_name": "ProgressView",
            "bar_style": "success",
            "description": "",
            "description_tooltip": null,
            "layout": "IPY_MODEL_02c6e7a151cc498b942602630b2a0630",
            "max": 806,
            "min": 0,
            "orientation": "horizontal",
            "style": "IPY_MODEL_310a96801ece4da1b8f05ba32dcbf7e7",
            "value": 806
          }
        },
        "4fd5c0b1d20a4201ab9b340f04d59987": {
          "model_module": "@jupyter-widgets/base",
          "model_module_version": "1.2.0",
          "model_name": "LayoutModel",
          "state": {
            "_model_module": "@jupyter-widgets/base",
            "_model_module_version": "1.2.0",
            "_model_name": "LayoutModel",
            "_view_count": null,
            "_view_module": "@jupyter-widgets/base",
            "_view_module_version": "1.2.0",
            "_view_name": "LayoutView",
            "align_content": null,
            "align_items": null,
            "align_self": null,
            "border": null,
            "bottom": null,
            "display": null,
            "flex": null,
            "flex_flow": null,
            "grid_area": null,
            "grid_auto_columns": null,
            "grid_auto_flow": null,
            "grid_auto_rows": null,
            "grid_column": null,
            "grid_gap": null,
            "grid_row": null,
            "grid_template_areas": null,
            "grid_template_columns": null,
            "grid_template_rows": null,
            "height": null,
            "justify_content": null,
            "justify_items": null,
            "left": null,
            "margin": null,
            "max_height": null,
            "max_width": null,
            "min_height": null,
            "min_width": null,
            "object_fit": null,
            "object_position": null,
            "order": null,
            "overflow": null,
            "overflow_x": null,
            "overflow_y": null,
            "padding": null,
            "right": null,
            "top": null,
            "visibility": null,
            "width": null
          }
        },
        "501101c18829446a874391c84a651c11": {
          "model_module": "@jupyter-widgets/controls",
          "model_module_version": "1.5.0",
          "model_name": "DescriptionStyleModel",
          "state": {
            "_model_module": "@jupyter-widgets/controls",
            "_model_module_version": "1.5.0",
            "_model_name": "DescriptionStyleModel",
            "_view_count": null,
            "_view_module": "@jupyter-widgets/base",
            "_view_module_version": "1.2.0",
            "_view_name": "StyleView",
            "description_width": ""
          }
        },
        "52b29dc000584ec2ad8d140c8b02aef4": {
          "model_module": "@jupyter-widgets/controls",
          "model_module_version": "1.5.0",
          "model_name": "ProgressStyleModel",
          "state": {
            "_model_module": "@jupyter-widgets/controls",
            "_model_module_version": "1.5.0",
            "_model_name": "ProgressStyleModel",
            "_view_count": null,
            "_view_module": "@jupyter-widgets/base",
            "_view_module_version": "1.2.0",
            "_view_name": "StyleView",
            "bar_color": null,
            "description_width": ""
          }
        },
        "55f28535f6894e7c95764b0cd4981075": {
          "model_module": "@jupyter-widgets/controls",
          "model_module_version": "1.5.0",
          "model_name": "FloatProgressModel",
          "state": {
            "_dom_classes": [],
            "_model_module": "@jupyter-widgets/controls",
            "_model_module_version": "1.5.0",
            "_model_name": "FloatProgressModel",
            "_view_count": null,
            "_view_module": "@jupyter-widgets/controls",
            "_view_module_version": "1.5.0",
            "_view_name": "ProgressView",
            "bar_style": "success",
            "description": "",
            "description_tooltip": null,
            "layout": "IPY_MODEL_611e8590d6ab4c7184fb3abf9114d034",
            "max": 55472,
            "min": 0,
            "orientation": "horizontal",
            "style": "IPY_MODEL_5c39785069be43158d31da34c3741676",
            "value": 55472
          }
        },
        "56050288b3a44b1ca3970ac5a1f921b1": {
          "model_module": "@jupyter-widgets/controls",
          "model_module_version": "1.5.0",
          "model_name": "DescriptionStyleModel",
          "state": {
            "_model_module": "@jupyter-widgets/controls",
            "_model_module_version": "1.5.0",
            "_model_name": "DescriptionStyleModel",
            "_view_count": null,
            "_view_module": "@jupyter-widgets/base",
            "_view_module_version": "1.2.0",
            "_view_name": "StyleView",
            "description_width": ""
          }
        },
        "5630cd104e0c4f9494387dd701cb0601": {
          "model_module": "@jupyter-widgets/controls",
          "model_module_version": "1.5.0",
          "model_name": "DescriptionStyleModel",
          "state": {
            "_model_module": "@jupyter-widgets/controls",
            "_model_module_version": "1.5.0",
            "_model_name": "DescriptionStyleModel",
            "_view_count": null,
            "_view_module": "@jupyter-widgets/base",
            "_view_module_version": "1.2.0",
            "_view_name": "StyleView",
            "description_width": ""
          }
        },
        "585e2d562db445779abb6b00bb6c7eac": {
          "model_module": "@jupyter-widgets/base",
          "model_module_version": "1.2.0",
          "model_name": "LayoutModel",
          "state": {
            "_model_module": "@jupyter-widgets/base",
            "_model_module_version": "1.2.0",
            "_model_name": "LayoutModel",
            "_view_count": null,
            "_view_module": "@jupyter-widgets/base",
            "_view_module_version": "1.2.0",
            "_view_name": "LayoutView",
            "align_content": null,
            "align_items": null,
            "align_self": null,
            "border": null,
            "bottom": null,
            "display": null,
            "flex": null,
            "flex_flow": null,
            "grid_area": null,
            "grid_auto_columns": null,
            "grid_auto_flow": null,
            "grid_auto_rows": null,
            "grid_column": null,
            "grid_gap": null,
            "grid_row": null,
            "grid_template_areas": null,
            "grid_template_columns": null,
            "grid_template_rows": null,
            "height": null,
            "justify_content": null,
            "justify_items": null,
            "left": null,
            "margin": null,
            "max_height": null,
            "max_width": null,
            "min_height": null,
            "min_width": null,
            "object_fit": null,
            "object_position": null,
            "order": null,
            "overflow": null,
            "overflow_x": null,
            "overflow_y": null,
            "padding": null,
            "right": null,
            "top": null,
            "visibility": null,
            "width": null
          }
        },
        "5927f0bb909f4e52a6a1e26c545cd910": {
          "model_module": "@jupyter-widgets/base",
          "model_module_version": "1.2.0",
          "model_name": "LayoutModel",
          "state": {
            "_model_module": "@jupyter-widgets/base",
            "_model_module_version": "1.2.0",
            "_model_name": "LayoutModel",
            "_view_count": null,
            "_view_module": "@jupyter-widgets/base",
            "_view_module_version": "1.2.0",
            "_view_name": "LayoutView",
            "align_content": null,
            "align_items": null,
            "align_self": null,
            "border": null,
            "bottom": null,
            "display": null,
            "flex": null,
            "flex_flow": null,
            "grid_area": null,
            "grid_auto_columns": null,
            "grid_auto_flow": null,
            "grid_auto_rows": null,
            "grid_column": null,
            "grid_gap": null,
            "grid_row": null,
            "grid_template_areas": null,
            "grid_template_columns": null,
            "grid_template_rows": null,
            "height": null,
            "justify_content": null,
            "justify_items": null,
            "left": null,
            "margin": null,
            "max_height": null,
            "max_width": null,
            "min_height": null,
            "min_width": null,
            "object_fit": null,
            "object_position": null,
            "order": null,
            "overflow": null,
            "overflow_x": null,
            "overflow_y": null,
            "padding": null,
            "right": null,
            "top": null,
            "visibility": null,
            "width": null
          }
        },
        "593d2910bafa49b9b23eee2356d79751": {
          "model_module": "@jupyter-widgets/base",
          "model_module_version": "1.2.0",
          "model_name": "LayoutModel",
          "state": {
            "_model_module": "@jupyter-widgets/base",
            "_model_module_version": "1.2.0",
            "_model_name": "LayoutModel",
            "_view_count": null,
            "_view_module": "@jupyter-widgets/base",
            "_view_module_version": "1.2.0",
            "_view_name": "LayoutView",
            "align_content": null,
            "align_items": null,
            "align_self": null,
            "border": null,
            "bottom": null,
            "display": null,
            "flex": null,
            "flex_flow": null,
            "grid_area": null,
            "grid_auto_columns": null,
            "grid_auto_flow": null,
            "grid_auto_rows": null,
            "grid_column": null,
            "grid_gap": null,
            "grid_row": null,
            "grid_template_areas": null,
            "grid_template_columns": null,
            "grid_template_rows": null,
            "height": null,
            "justify_content": null,
            "justify_items": null,
            "left": null,
            "margin": null,
            "max_height": null,
            "max_width": null,
            "min_height": null,
            "min_width": null,
            "object_fit": null,
            "object_position": null,
            "order": null,
            "overflow": null,
            "overflow_x": null,
            "overflow_y": null,
            "padding": null,
            "right": null,
            "top": null,
            "visibility": null,
            "width": null
          }
        },
        "5a020f0de8f1426a840e41790ecf6059": {
          "model_module": "@jupyter-widgets/controls",
          "model_module_version": "1.5.0",
          "model_name": "ProgressStyleModel",
          "state": {
            "_model_module": "@jupyter-widgets/controls",
            "_model_module_version": "1.5.0",
            "_model_name": "ProgressStyleModel",
            "_view_count": null,
            "_view_module": "@jupyter-widgets/base",
            "_view_module_version": "1.2.0",
            "_view_name": "StyleView",
            "bar_color": null,
            "description_width": ""
          }
        },
        "5c0cab178adf4a16b71706ccd0d8c3c6": {
          "model_module": "@jupyter-widgets/base",
          "model_module_version": "1.2.0",
          "model_name": "LayoutModel",
          "state": {
            "_model_module": "@jupyter-widgets/base",
            "_model_module_version": "1.2.0",
            "_model_name": "LayoutModel",
            "_view_count": null,
            "_view_module": "@jupyter-widgets/base",
            "_view_module_version": "1.2.0",
            "_view_name": "LayoutView",
            "align_content": null,
            "align_items": null,
            "align_self": null,
            "border": null,
            "bottom": null,
            "display": null,
            "flex": null,
            "flex_flow": null,
            "grid_area": null,
            "grid_auto_columns": null,
            "grid_auto_flow": null,
            "grid_auto_rows": null,
            "grid_column": null,
            "grid_gap": null,
            "grid_row": null,
            "grid_template_areas": null,
            "grid_template_columns": null,
            "grid_template_rows": null,
            "height": null,
            "justify_content": null,
            "justify_items": null,
            "left": null,
            "margin": null,
            "max_height": null,
            "max_width": null,
            "min_height": null,
            "min_width": null,
            "object_fit": null,
            "object_position": null,
            "order": null,
            "overflow": null,
            "overflow_x": null,
            "overflow_y": null,
            "padding": null,
            "right": null,
            "top": null,
            "visibility": null,
            "width": null
          }
        },
        "5c39785069be43158d31da34c3741676": {
          "model_module": "@jupyter-widgets/controls",
          "model_module_version": "1.5.0",
          "model_name": "ProgressStyleModel",
          "state": {
            "_model_module": "@jupyter-widgets/controls",
            "_model_module_version": "1.5.0",
            "_model_name": "ProgressStyleModel",
            "_view_count": null,
            "_view_module": "@jupyter-widgets/base",
            "_view_module_version": "1.2.0",
            "_view_name": "StyleView",
            "bar_color": null,
            "description_width": ""
          }
        },
        "5e667760c4b2459d8d4fbddbd26f7e3e": {
          "model_module": "@jupyter-widgets/controls",
          "model_module_version": "1.5.0",
          "model_name": "DescriptionStyleModel",
          "state": {
            "_model_module": "@jupyter-widgets/controls",
            "_model_module_version": "1.5.0",
            "_model_name": "DescriptionStyleModel",
            "_view_count": null,
            "_view_module": "@jupyter-widgets/base",
            "_view_module_version": "1.2.0",
            "_view_name": "StyleView",
            "description_width": ""
          }
        },
        "5ed34f90e2a64bed8fc355b040c0e7eb": {
          "model_module": "@jupyter-widgets/controls",
          "model_module_version": "1.5.0",
          "model_name": "ProgressStyleModel",
          "state": {
            "_model_module": "@jupyter-widgets/controls",
            "_model_module_version": "1.5.0",
            "_model_name": "ProgressStyleModel",
            "_view_count": null,
            "_view_module": "@jupyter-widgets/base",
            "_view_module_version": "1.2.0",
            "_view_name": "StyleView",
            "bar_color": null,
            "description_width": ""
          }
        },
        "5ee151f99c184215a715cba2f971895c": {
          "model_module": "@jupyter-widgets/controls",
          "model_module_version": "1.5.0",
          "model_name": "HTMLModel",
          "state": {
            "_dom_classes": [],
            "_model_module": "@jupyter-widgets/controls",
            "_model_module_version": "1.5.0",
            "_model_name": "HTMLModel",
            "_view_count": null,
            "_view_module": "@jupyter-widgets/controls",
            "_view_module_version": "1.5.0",
            "_view_name": "HTMLView",
            "description": "",
            "description_tooltip": null,
            "layout": "IPY_MODEL_d186d7ae4ce647a7a41f59fc9854866f",
            "placeholder": "​",
            "style": "IPY_MODEL_088835810f0149ec80874011b5bc697b",
            "value": "vocab.txt: 100%"
          }
        },
        "611e8590d6ab4c7184fb3abf9114d034": {
          "model_module": "@jupyter-widgets/base",
          "model_module_version": "1.2.0",
          "model_name": "LayoutModel",
          "state": {
            "_model_module": "@jupyter-widgets/base",
            "_model_module_version": "1.2.0",
            "_model_name": "LayoutModel",
            "_view_count": null,
            "_view_module": "@jupyter-widgets/base",
            "_view_module_version": "1.2.0",
            "_view_name": "LayoutView",
            "align_content": null,
            "align_items": null,
            "align_self": null,
            "border": null,
            "bottom": null,
            "display": null,
            "flex": null,
            "flex_flow": null,
            "grid_area": null,
            "grid_auto_columns": null,
            "grid_auto_flow": null,
            "grid_auto_rows": null,
            "grid_column": null,
            "grid_gap": null,
            "grid_row": null,
            "grid_template_areas": null,
            "grid_template_columns": null,
            "grid_template_rows": null,
            "height": null,
            "justify_content": null,
            "justify_items": null,
            "left": null,
            "margin": null,
            "max_height": null,
            "max_width": null,
            "min_height": null,
            "min_width": null,
            "object_fit": null,
            "object_position": null,
            "order": null,
            "overflow": null,
            "overflow_x": null,
            "overflow_y": null,
            "padding": null,
            "right": null,
            "top": null,
            "visibility": null,
            "width": null
          }
        },
        "6260f49fbdc245b990a243984fc8cae9": {
          "model_module": "@jupyter-widgets/base",
          "model_module_version": "1.2.0",
          "model_name": "LayoutModel",
          "state": {
            "_model_module": "@jupyter-widgets/base",
            "_model_module_version": "1.2.0",
            "_model_name": "LayoutModel",
            "_view_count": null,
            "_view_module": "@jupyter-widgets/base",
            "_view_module_version": "1.2.0",
            "_view_name": "LayoutView",
            "align_content": null,
            "align_items": null,
            "align_self": null,
            "border": null,
            "bottom": null,
            "display": null,
            "flex": null,
            "flex_flow": null,
            "grid_area": null,
            "grid_auto_columns": null,
            "grid_auto_flow": null,
            "grid_auto_rows": null,
            "grid_column": null,
            "grid_gap": null,
            "grid_row": null,
            "grid_template_areas": null,
            "grid_template_columns": null,
            "grid_template_rows": null,
            "height": null,
            "justify_content": null,
            "justify_items": null,
            "left": null,
            "margin": null,
            "max_height": null,
            "max_width": null,
            "min_height": null,
            "min_width": null,
            "object_fit": null,
            "object_position": null,
            "order": null,
            "overflow": null,
            "overflow_x": null,
            "overflow_y": null,
            "padding": null,
            "right": null,
            "top": null,
            "visibility": null,
            "width": null
          }
        },
        "64bd52088a6549c784a47c25bf5fde58": {
          "model_module": "@jupyter-widgets/controls",
          "model_module_version": "1.5.0",
          "model_name": "HBoxModel",
          "state": {
            "_dom_classes": [],
            "_model_module": "@jupyter-widgets/controls",
            "_model_module_version": "1.5.0",
            "_model_name": "HBoxModel",
            "_view_count": null,
            "_view_module": "@jupyter-widgets/controls",
            "_view_module_version": "1.5.0",
            "_view_name": "HBoxView",
            "box_style": "",
            "children": [
              "IPY_MODEL_a712f5a9d8ff490e84074d9c23c1704f",
              "IPY_MODEL_18d98e17273146c5b7a2899b561aa35d",
              "IPY_MODEL_dfbab7a301434c8ba2534d9e0cef634e"
            ],
            "layout": "IPY_MODEL_0db95f998966421abeb439dfa726866f"
          }
        },
        "67cc4f1ad5d74af18f833856657b745e": {
          "model_module": "@jupyter-widgets/base",
          "model_module_version": "1.2.0",
          "model_name": "LayoutModel",
          "state": {
            "_model_module": "@jupyter-widgets/base",
            "_model_module_version": "1.2.0",
            "_model_name": "LayoutModel",
            "_view_count": null,
            "_view_module": "@jupyter-widgets/base",
            "_view_module_version": "1.2.0",
            "_view_name": "LayoutView",
            "align_content": null,
            "align_items": null,
            "align_self": null,
            "border": null,
            "bottom": null,
            "display": null,
            "flex": null,
            "flex_flow": null,
            "grid_area": null,
            "grid_auto_columns": null,
            "grid_auto_flow": null,
            "grid_auto_rows": null,
            "grid_column": null,
            "grid_gap": null,
            "grid_row": null,
            "grid_template_areas": null,
            "grid_template_columns": null,
            "grid_template_rows": null,
            "height": null,
            "justify_content": null,
            "justify_items": null,
            "left": null,
            "margin": null,
            "max_height": null,
            "max_width": null,
            "min_height": null,
            "min_width": null,
            "object_fit": null,
            "object_position": null,
            "order": null,
            "overflow": null,
            "overflow_x": null,
            "overflow_y": null,
            "padding": null,
            "right": null,
            "top": null,
            "visibility": null,
            "width": null
          }
        },
        "6ae1750e07724e5da105eeea667cd339": {
          "model_module": "@jupyter-widgets/controls",
          "model_module_version": "1.5.0",
          "model_name": "HBoxModel",
          "state": {
            "_dom_classes": [],
            "_model_module": "@jupyter-widgets/controls",
            "_model_module_version": "1.5.0",
            "_model_name": "HBoxModel",
            "_view_count": null,
            "_view_module": "@jupyter-widgets/controls",
            "_view_module_version": "1.5.0",
            "_view_name": "HBoxView",
            "box_style": "",
            "children": [
              "IPY_MODEL_3acc30dab3064a3ba7f29feb76ea4658",
              "IPY_MODEL_8871098e3de941ba8cfdd05ecf449c8b",
              "IPY_MODEL_7e2389b5bb3345baa54648754e0441d1"
            ],
            "layout": "IPY_MODEL_6260f49fbdc245b990a243984fc8cae9"
          }
        },
        "6b1f23e5de44448fbe812087b5591720": {
          "model_module": "@jupyter-widgets/base",
          "model_module_version": "1.2.0",
          "model_name": "LayoutModel",
          "state": {
            "_model_module": "@jupyter-widgets/base",
            "_model_module_version": "1.2.0",
            "_model_name": "LayoutModel",
            "_view_count": null,
            "_view_module": "@jupyter-widgets/base",
            "_view_module_version": "1.2.0",
            "_view_name": "LayoutView",
            "align_content": null,
            "align_items": null,
            "align_self": null,
            "border": null,
            "bottom": null,
            "display": null,
            "flex": null,
            "flex_flow": null,
            "grid_area": null,
            "grid_auto_columns": null,
            "grid_auto_flow": null,
            "grid_auto_rows": null,
            "grid_column": null,
            "grid_gap": null,
            "grid_row": null,
            "grid_template_areas": null,
            "grid_template_columns": null,
            "grid_template_rows": null,
            "height": null,
            "justify_content": null,
            "justify_items": null,
            "left": null,
            "margin": null,
            "max_height": null,
            "max_width": null,
            "min_height": null,
            "min_width": null,
            "object_fit": null,
            "object_position": null,
            "order": null,
            "overflow": null,
            "overflow_x": null,
            "overflow_y": null,
            "padding": null,
            "right": null,
            "top": null,
            "visibility": null,
            "width": null
          }
        },
        "6d617c6242e049019a326054679e5f83": {
          "model_module": "@jupyter-widgets/controls",
          "model_module_version": "1.5.0",
          "model_name": "HTMLModel",
          "state": {
            "_dom_classes": [],
            "_model_module": "@jupyter-widgets/controls",
            "_model_module_version": "1.5.0",
            "_model_name": "HTMLModel",
            "_view_count": null,
            "_view_module": "@jupyter-widgets/controls",
            "_view_module_version": "1.5.0",
            "_view_name": "HTMLView",
            "description": "",
            "description_tooltip": null,
            "layout": "IPY_MODEL_08d96f05a962485dabff031e399f3eba",
            "placeholder": "​",
            "style": "IPY_MODEL_879e9f0866b042d489eb08b53f8d951a",
            "value": "special_tokens_map.json: 100%"
          }
        },
        "6f90e88a1e8f409d918e397b93eecb7d": {
          "model_module": "@jupyter-widgets/base",
          "model_module_version": "1.2.0",
          "model_name": "LayoutModel",
          "state": {
            "_model_module": "@jupyter-widgets/base",
            "_model_module_version": "1.2.0",
            "_model_name": "LayoutModel",
            "_view_count": null,
            "_view_module": "@jupyter-widgets/base",
            "_view_module_version": "1.2.0",
            "_view_name": "LayoutView",
            "align_content": null,
            "align_items": null,
            "align_self": null,
            "border": null,
            "bottom": null,
            "display": null,
            "flex": null,
            "flex_flow": null,
            "grid_area": null,
            "grid_auto_columns": null,
            "grid_auto_flow": null,
            "grid_auto_rows": null,
            "grid_column": null,
            "grid_gap": null,
            "grid_row": null,
            "grid_template_areas": null,
            "grid_template_columns": null,
            "grid_template_rows": null,
            "height": null,
            "justify_content": null,
            "justify_items": null,
            "left": null,
            "margin": null,
            "max_height": null,
            "max_width": null,
            "min_height": null,
            "min_width": null,
            "object_fit": null,
            "object_position": null,
            "order": null,
            "overflow": null,
            "overflow_x": null,
            "overflow_y": null,
            "padding": null,
            "right": null,
            "top": null,
            "visibility": null,
            "width": null
          }
        },
        "71aa2f989ea944cbb73f3740f0374597": {
          "model_module": "@jupyter-widgets/base",
          "model_module_version": "1.2.0",
          "model_name": "LayoutModel",
          "state": {
            "_model_module": "@jupyter-widgets/base",
            "_model_module_version": "1.2.0",
            "_model_name": "LayoutModel",
            "_view_count": null,
            "_view_module": "@jupyter-widgets/base",
            "_view_module_version": "1.2.0",
            "_view_name": "LayoutView",
            "align_content": null,
            "align_items": null,
            "align_self": null,
            "border": null,
            "bottom": null,
            "display": null,
            "flex": null,
            "flex_flow": null,
            "grid_area": null,
            "grid_auto_columns": null,
            "grid_auto_flow": null,
            "grid_auto_rows": null,
            "grid_column": null,
            "grid_gap": null,
            "grid_row": null,
            "grid_template_areas": null,
            "grid_template_columns": null,
            "grid_template_rows": null,
            "height": null,
            "justify_content": null,
            "justify_items": null,
            "left": null,
            "margin": null,
            "max_height": null,
            "max_width": null,
            "min_height": null,
            "min_width": null,
            "object_fit": null,
            "object_position": null,
            "order": null,
            "overflow": null,
            "overflow_x": null,
            "overflow_y": null,
            "padding": null,
            "right": null,
            "top": null,
            "visibility": null,
            "width": null
          }
        },
        "72279bbea646419fa060bddabf949e13": {
          "model_module": "@jupyter-widgets/controls",
          "model_module_version": "1.5.0",
          "model_name": "HTMLModel",
          "state": {
            "_dom_classes": [],
            "_model_module": "@jupyter-widgets/controls",
            "_model_module_version": "1.5.0",
            "_model_name": "HTMLModel",
            "_view_count": null,
            "_view_module": "@jupyter-widgets/controls",
            "_view_module_version": "1.5.0",
            "_view_name": "HTMLView",
            "description": "",
            "description_tooltip": null,
            "layout": "IPY_MODEL_162f9492eb114f6f89431e85964fc645",
            "placeholder": "​",
            "style": "IPY_MODEL_446915c75e38461895ce55b939075272",
            "value": " 1000/1000 [02:34&lt;00:00,  5.49it/s]"
          }
        },
        "724d5518a17b4d20944840a92a3151f8": {
          "model_module": "@jupyter-widgets/controls",
          "model_module_version": "1.5.0",
          "model_name": "FloatProgressModel",
          "state": {
            "_dom_classes": [],
            "_model_module": "@jupyter-widgets/controls",
            "_model_module_version": "1.5.0",
            "_model_name": "FloatProgressModel",
            "_view_count": null,
            "_view_module": "@jupyter-widgets/controls",
            "_view_module_version": "1.5.0",
            "_view_name": "ProgressView",
            "bar_style": "success",
            "description": "",
            "description_tooltip": null,
            "layout": "IPY_MODEL_def0df6339c2455984bed4907a3e62ee",
            "max": 112,
            "min": 0,
            "orientation": "horizontal",
            "style": "IPY_MODEL_fad2596906664feba1874dac3d048a73",
            "value": 112
          }
        },
        "729c3b0022264ecd944ccc091b7dc865": {
          "model_module": "@jupyter-widgets/controls",
          "model_module_version": "1.5.0",
          "model_name": "HTMLModel",
          "state": {
            "_dom_classes": [],
            "_model_module": "@jupyter-widgets/controls",
            "_model_module_version": "1.5.0",
            "_model_name": "HTMLModel",
            "_view_count": null,
            "_view_module": "@jupyter-widgets/controls",
            "_view_module_version": "1.5.0",
            "_view_name": "HTMLView",
            "description": "",
            "description_tooltip": null,
            "layout": "IPY_MODEL_5927f0bb909f4e52a6a1e26c545cd910",
            "placeholder": "​",
            "style": "IPY_MODEL_0f731c202b104ad8af1fc3061f129418",
            "value": " 49.0/49.0 [00:00&lt;00:00, 4.04kB/s]"
          }
        },
        "72fe120862a042ff948155f3fd84c808": {
          "model_module": "@jupyter-widgets/controls",
          "model_module_version": "1.5.0",
          "model_name": "DescriptionStyleModel",
          "state": {
            "_model_module": "@jupyter-widgets/controls",
            "_model_module_version": "1.5.0",
            "_model_name": "DescriptionStyleModel",
            "_view_count": null,
            "_view_module": "@jupyter-widgets/base",
            "_view_module_version": "1.2.0",
            "_view_name": "StyleView",
            "description_width": ""
          }
        },
        "73038b59e0f34b20b83285d7d8df8539": {
          "model_module": "@jupyter-widgets/base",
          "model_module_version": "1.2.0",
          "model_name": "LayoutModel",
          "state": {
            "_model_module": "@jupyter-widgets/base",
            "_model_module_version": "1.2.0",
            "_model_name": "LayoutModel",
            "_view_count": null,
            "_view_module": "@jupyter-widgets/base",
            "_view_module_version": "1.2.0",
            "_view_name": "LayoutView",
            "align_content": null,
            "align_items": null,
            "align_self": null,
            "border": null,
            "bottom": null,
            "display": null,
            "flex": null,
            "flex_flow": null,
            "grid_area": null,
            "grid_auto_columns": null,
            "grid_auto_flow": null,
            "grid_auto_rows": null,
            "grid_column": null,
            "grid_gap": null,
            "grid_row": null,
            "grid_template_areas": null,
            "grid_template_columns": null,
            "grid_template_rows": null,
            "height": null,
            "justify_content": null,
            "justify_items": null,
            "left": null,
            "margin": null,
            "max_height": null,
            "max_width": null,
            "min_height": null,
            "min_width": null,
            "object_fit": null,
            "object_position": null,
            "order": null,
            "overflow": null,
            "overflow_x": null,
            "overflow_y": null,
            "padding": null,
            "right": null,
            "top": null,
            "visibility": null,
            "width": null
          }
        },
        "7303f41955fc470e9650f4685b51f44d": {
          "model_module": "@jupyter-widgets/controls",
          "model_module_version": "1.5.0",
          "model_name": "ProgressStyleModel",
          "state": {
            "_model_module": "@jupyter-widgets/controls",
            "_model_module_version": "1.5.0",
            "_model_name": "ProgressStyleModel",
            "_view_count": null,
            "_view_module": "@jupyter-widgets/base",
            "_view_module_version": "1.2.0",
            "_view_name": "StyleView",
            "bar_color": null,
            "description_width": ""
          }
        },
        "74d5ce3f2be144219f238c9948cfb34b": {
          "model_module": "@jupyter-widgets/controls",
          "model_module_version": "1.5.0",
          "model_name": "HTMLModel",
          "state": {
            "_dom_classes": [],
            "_model_module": "@jupyter-widgets/controls",
            "_model_module_version": "1.5.0",
            "_model_name": "HTMLModel",
            "_view_count": null,
            "_view_module": "@jupyter-widgets/controls",
            "_view_module_version": "1.5.0",
            "_view_name": "HTMLView",
            "description": "",
            "description_tooltip": null,
            "layout": "IPY_MODEL_7d5bbfd634ce46c3abde8c6992612614",
            "placeholder": "​",
            "style": "IPY_MODEL_dfe3a341dc7d4923ad24d450dea238e4",
            "value": " 15898/15898 [00:14&lt;00:00, 3356.21it/s]"
          }
        },
        "75db57c4d2cd4abaa71d359c1950adee": {
          "model_module": "@jupyter-widgets/base",
          "model_module_version": "1.2.0",
          "model_name": "LayoutModel",
          "state": {
            "_model_module": "@jupyter-widgets/base",
            "_model_module_version": "1.2.0",
            "_model_name": "LayoutModel",
            "_view_count": null,
            "_view_module": "@jupyter-widgets/base",
            "_view_module_version": "1.2.0",
            "_view_name": "LayoutView",
            "align_content": null,
            "align_items": null,
            "align_self": null,
            "border": null,
            "bottom": null,
            "display": null,
            "flex": null,
            "flex_flow": null,
            "grid_area": null,
            "grid_auto_columns": null,
            "grid_auto_flow": null,
            "grid_auto_rows": null,
            "grid_column": null,
            "grid_gap": null,
            "grid_row": null,
            "grid_template_areas": null,
            "grid_template_columns": null,
            "grid_template_rows": null,
            "height": null,
            "justify_content": null,
            "justify_items": null,
            "left": null,
            "margin": null,
            "max_height": null,
            "max_width": null,
            "min_height": null,
            "min_width": null,
            "object_fit": null,
            "object_position": null,
            "order": null,
            "overflow": null,
            "overflow_x": null,
            "overflow_y": null,
            "padding": null,
            "right": null,
            "top": null,
            "visibility": null,
            "width": null
          }
        },
        "76c46567cedf4362aa63ca0e41656751": {
          "model_module": "@jupyter-widgets/base",
          "model_module_version": "1.2.0",
          "model_name": "LayoutModel",
          "state": {
            "_model_module": "@jupyter-widgets/base",
            "_model_module_version": "1.2.0",
            "_model_name": "LayoutModel",
            "_view_count": null,
            "_view_module": "@jupyter-widgets/base",
            "_view_module_version": "1.2.0",
            "_view_name": "LayoutView",
            "align_content": null,
            "align_items": null,
            "align_self": null,
            "border": null,
            "bottom": null,
            "display": null,
            "flex": null,
            "flex_flow": null,
            "grid_area": null,
            "grid_auto_columns": null,
            "grid_auto_flow": null,
            "grid_auto_rows": null,
            "grid_column": null,
            "grid_gap": null,
            "grid_row": null,
            "grid_template_areas": null,
            "grid_template_columns": null,
            "grid_template_rows": null,
            "height": null,
            "justify_content": null,
            "justify_items": null,
            "left": null,
            "margin": null,
            "max_height": null,
            "max_width": null,
            "min_height": null,
            "min_width": null,
            "object_fit": null,
            "object_position": null,
            "order": null,
            "overflow": null,
            "overflow_x": null,
            "overflow_y": null,
            "padding": null,
            "right": null,
            "top": null,
            "visibility": null,
            "width": null
          }
        },
        "78af316b35ef4d0c95d57f1b40a5fdba": {
          "model_module": "@jupyter-widgets/controls",
          "model_module_version": "1.5.0",
          "model_name": "DescriptionStyleModel",
          "state": {
            "_model_module": "@jupyter-widgets/controls",
            "_model_module_version": "1.5.0",
            "_model_name": "DescriptionStyleModel",
            "_view_count": null,
            "_view_module": "@jupyter-widgets/base",
            "_view_module_version": "1.2.0",
            "_view_name": "StyleView",
            "description_width": ""
          }
        },
        "79fb371e0d4d4c06afd3b935a7f3291c": {
          "model_module": "@jupyter-widgets/controls",
          "model_module_version": "1.5.0",
          "model_name": "FloatProgressModel",
          "state": {
            "_dom_classes": [],
            "_model_module": "@jupyter-widgets/controls",
            "_model_module_version": "1.5.0",
            "_model_name": "FloatProgressModel",
            "_view_count": null,
            "_view_module": "@jupyter-widgets/controls",
            "_view_module_version": "1.5.0",
            "_view_name": "ProgressView",
            "bar_style": "success",
            "description": "",
            "description_tooltip": null,
            "layout": "IPY_MODEL_f465165a25de4a408dad9fa4450e33b6",
            "max": 521414,
            "min": 0,
            "orientation": "horizontal",
            "style": "IPY_MODEL_7303f41955fc470e9650f4685b51f44d",
            "value": 521414
          }
        },
        "7a62169d436d4206af739f73637245a0": {
          "model_module": "@jupyter-widgets/base",
          "model_module_version": "1.2.0",
          "model_name": "LayoutModel",
          "state": {
            "_model_module": "@jupyter-widgets/base",
            "_model_module_version": "1.2.0",
            "_model_name": "LayoutModel",
            "_view_count": null,
            "_view_module": "@jupyter-widgets/base",
            "_view_module_version": "1.2.0",
            "_view_name": "LayoutView",
            "align_content": null,
            "align_items": null,
            "align_self": null,
            "border": null,
            "bottom": null,
            "display": null,
            "flex": null,
            "flex_flow": null,
            "grid_area": null,
            "grid_auto_columns": null,
            "grid_auto_flow": null,
            "grid_auto_rows": null,
            "grid_column": null,
            "grid_gap": null,
            "grid_row": null,
            "grid_template_areas": null,
            "grid_template_columns": null,
            "grid_template_rows": null,
            "height": null,
            "justify_content": null,
            "justify_items": null,
            "left": null,
            "margin": null,
            "max_height": null,
            "max_width": null,
            "min_height": null,
            "min_width": null,
            "object_fit": null,
            "object_position": null,
            "order": null,
            "overflow": null,
            "overflow_x": null,
            "overflow_y": null,
            "padding": null,
            "right": null,
            "top": null,
            "visibility": null,
            "width": null
          }
        },
        "7bc46d78a03f4dc0a921e33196a5da55": {
          "model_module": "@jupyter-widgets/base",
          "model_module_version": "1.2.0",
          "model_name": "LayoutModel",
          "state": {
            "_model_module": "@jupyter-widgets/base",
            "_model_module_version": "1.2.0",
            "_model_name": "LayoutModel",
            "_view_count": null,
            "_view_module": "@jupyter-widgets/base",
            "_view_module_version": "1.2.0",
            "_view_name": "LayoutView",
            "align_content": null,
            "align_items": null,
            "align_self": null,
            "border": null,
            "bottom": null,
            "display": null,
            "flex": null,
            "flex_flow": null,
            "grid_area": null,
            "grid_auto_columns": null,
            "grid_auto_flow": null,
            "grid_auto_rows": null,
            "grid_column": null,
            "grid_gap": null,
            "grid_row": null,
            "grid_template_areas": null,
            "grid_template_columns": null,
            "grid_template_rows": null,
            "height": null,
            "justify_content": null,
            "justify_items": null,
            "left": null,
            "margin": null,
            "max_height": null,
            "max_width": null,
            "min_height": null,
            "min_width": null,
            "object_fit": null,
            "object_position": null,
            "order": null,
            "overflow": null,
            "overflow_x": null,
            "overflow_y": null,
            "padding": null,
            "right": null,
            "top": null,
            "visibility": null,
            "width": null
          }
        },
        "7cb8c13d36df4880bb0f75fdf7e2590e": {
          "model_module": "@jupyter-widgets/controls",
          "model_module_version": "1.5.0",
          "model_name": "FloatProgressModel",
          "state": {
            "_dom_classes": [],
            "_model_module": "@jupyter-widgets/controls",
            "_model_module_version": "1.5.0",
            "_model_name": "FloatProgressModel",
            "_view_count": null,
            "_view_module": "@jupyter-widgets/controls",
            "_view_module_version": "1.5.0",
            "_view_name": "ProgressView",
            "bar_style": "success",
            "description": "",
            "description_tooltip": null,
            "layout": "IPY_MODEL_4a40f120a21249edac45d1f3dbace9be",
            "max": 87543,
            "min": 0,
            "orientation": "horizontal",
            "style": "IPY_MODEL_b9785fe72b1b4a9d8f595743c6f0cc22",
            "value": 87543
          }
        },
        "7cdf950e11924db5830f87263c9a0861": {
          "model_module": "@jupyter-widgets/controls",
          "model_module_version": "1.5.0",
          "model_name": "HTMLModel",
          "state": {
            "_dom_classes": [],
            "_model_module": "@jupyter-widgets/controls",
            "_model_module_version": "1.5.0",
            "_model_name": "HTMLModel",
            "_view_count": null,
            "_view_module": "@jupyter-widgets/controls",
            "_view_module_version": "1.5.0",
            "_view_name": "HTMLView",
            "description": "",
            "description_tooltip": null,
            "layout": "IPY_MODEL_585e2d562db445779abb6b00bb6c7eac",
            "placeholder": "​",
            "style": "IPY_MODEL_41e55c2eba4d4294ad38e0e6c1f5bbfb",
            "value": " 112/112 [00:00&lt;00:00, 4.71kB/s]"
          }
        },
        "7cee4c6c2eba4ecb9ab54c0866798015": {
          "model_module": "@jupyter-widgets/controls",
          "model_module_version": "1.5.0",
          "model_name": "FloatProgressModel",
          "state": {
            "_dom_classes": [],
            "_model_module": "@jupyter-widgets/controls",
            "_model_module_version": "1.5.0",
            "_model_name": "FloatProgressModel",
            "_view_count": null,
            "_view_module": "@jupyter-widgets/controls",
            "_view_module_version": "1.5.0",
            "_view_name": "ProgressView",
            "bar_style": "success",
            "description": "",
            "description_tooltip": null,
            "layout": "IPY_MODEL_8ca49b7c875e465d9f2880818a4f6546",
            "max": 15898,
            "min": 0,
            "orientation": "horizontal",
            "style": "IPY_MODEL_d6e41171e4d6499d9da48693e7a6909b",
            "value": 15898
          }
        },
        "7d5bbfd634ce46c3abde8c6992612614": {
          "model_module": "@jupyter-widgets/base",
          "model_module_version": "1.2.0",
          "model_name": "LayoutModel",
          "state": {
            "_model_module": "@jupyter-widgets/base",
            "_model_module_version": "1.2.0",
            "_model_name": "LayoutModel",
            "_view_count": null,
            "_view_module": "@jupyter-widgets/base",
            "_view_module_version": "1.2.0",
            "_view_name": "LayoutView",
            "align_content": null,
            "align_items": null,
            "align_self": null,
            "border": null,
            "bottom": null,
            "display": null,
            "flex": null,
            "flex_flow": null,
            "grid_area": null,
            "grid_auto_columns": null,
            "grid_auto_flow": null,
            "grid_auto_rows": null,
            "grid_column": null,
            "grid_gap": null,
            "grid_row": null,
            "grid_template_areas": null,
            "grid_template_columns": null,
            "grid_template_rows": null,
            "height": null,
            "justify_content": null,
            "justify_items": null,
            "left": null,
            "margin": null,
            "max_height": null,
            "max_width": null,
            "min_height": null,
            "min_width": null,
            "object_fit": null,
            "object_position": null,
            "order": null,
            "overflow": null,
            "overflow_x": null,
            "overflow_y": null,
            "padding": null,
            "right": null,
            "top": null,
            "visibility": null,
            "width": null
          }
        },
        "7e2389b5bb3345baa54648754e0441d1": {
          "model_module": "@jupyter-widgets/controls",
          "model_module_version": "1.5.0",
          "model_name": "HTMLModel",
          "state": {
            "_dom_classes": [],
            "_model_module": "@jupyter-widgets/controls",
            "_model_module_version": "1.5.0",
            "_model_name": "HTMLModel",
            "_view_count": null,
            "_view_module": "@jupyter-widgets/controls",
            "_view_module_version": "1.5.0",
            "_view_name": "HTMLView",
            "description": "",
            "description_tooltip": null,
            "layout": "IPY_MODEL_36e2d11b139048b8af796a2ca7fdab93",
            "placeholder": "​",
            "style": "IPY_MODEL_3188c9297e624ba485ac104fe8faa468",
            "value": " 516M/516M [00:02&lt;00:00, 235MB/s]"
          }
        },
        "7fde75ae4d6b41579135b9b31b281d26": {
          "model_module": "@jupyter-widgets/controls",
          "model_module_version": "1.5.0",
          "model_name": "FloatProgressModel",
          "state": {
            "_dom_classes": [],
            "_model_module": "@jupyter-widgets/controls",
            "_model_module_version": "1.5.0",
            "_model_name": "FloatProgressModel",
            "_view_count": null,
            "_view_module": "@jupyter-widgets/controls",
            "_view_module_version": "1.5.0",
            "_view_name": "ProgressView",
            "bar_style": "success",
            "description": "",
            "description_tooltip": null,
            "layout": "IPY_MODEL_73038b59e0f34b20b83285d7d8df8539",
            "max": 20000,
            "min": 0,
            "orientation": "horizontal",
            "style": "IPY_MODEL_e879f9a0d831465fbe58202fdb2643b4",
            "value": 20000
          }
        },
        "7ff5055fd52649dd92d9533944183996": {
          "model_module": "@jupyter-widgets/base",
          "model_module_version": "1.2.0",
          "model_name": "LayoutModel",
          "state": {
            "_model_module": "@jupyter-widgets/base",
            "_model_module_version": "1.2.0",
            "_model_name": "LayoutModel",
            "_view_count": null,
            "_view_module": "@jupyter-widgets/base",
            "_view_module_version": "1.2.0",
            "_view_name": "LayoutView",
            "align_content": null,
            "align_items": null,
            "align_self": null,
            "border": null,
            "bottom": null,
            "display": null,
            "flex": null,
            "flex_flow": null,
            "grid_area": null,
            "grid_auto_columns": null,
            "grid_auto_flow": null,
            "grid_auto_rows": null,
            "grid_column": null,
            "grid_gap": null,
            "grid_row": null,
            "grid_template_areas": null,
            "grid_template_columns": null,
            "grid_template_rows": null,
            "height": null,
            "justify_content": null,
            "justify_items": null,
            "left": null,
            "margin": null,
            "max_height": null,
            "max_width": null,
            "min_height": null,
            "min_width": null,
            "object_fit": null,
            "object_position": null,
            "order": null,
            "overflow": null,
            "overflow_x": null,
            "overflow_y": null,
            "padding": null,
            "right": null,
            "top": null,
            "visibility": null,
            "width": null
          }
        },
        "813528916a1f413aa992419927f487b0": {
          "model_module": "@jupyter-widgets/controls",
          "model_module_version": "1.5.0",
          "model_name": "HTMLModel",
          "state": {
            "_dom_classes": [],
            "_model_module": "@jupyter-widgets/controls",
            "_model_module_version": "1.5.0",
            "_model_name": "HTMLModel",
            "_view_count": null,
            "_view_module": "@jupyter-widgets/controls",
            "_view_module_version": "1.5.0",
            "_view_name": "HTMLView",
            "description": "",
            "description_tooltip": null,
            "layout": "IPY_MODEL_ec85bf5da9fc46beb727722176cad196",
            "placeholder": "​",
            "style": "IPY_MODEL_ac03bb2602554927a0c81c0a749229ec",
            "value": " 521k/521k [00:00&lt;00:00, 826kB/s]"
          }
        },
        "81e7dff751ad4280b6105d99691098d0": {
          "model_module": "@jupyter-widgets/base",
          "model_module_version": "1.2.0",
          "model_name": "LayoutModel",
          "state": {
            "_model_module": "@jupyter-widgets/base",
            "_model_module_version": "1.2.0",
            "_model_name": "LayoutModel",
            "_view_count": null,
            "_view_module": "@jupyter-widgets/base",
            "_view_module_version": "1.2.0",
            "_view_name": "LayoutView",
            "align_content": null,
            "align_items": null,
            "align_self": null,
            "border": null,
            "bottom": null,
            "display": null,
            "flex": null,
            "flex_flow": null,
            "grid_area": null,
            "grid_auto_columns": null,
            "grid_auto_flow": null,
            "grid_auto_rows": null,
            "grid_column": null,
            "grid_gap": null,
            "grid_row": null,
            "grid_template_areas": null,
            "grid_template_columns": null,
            "grid_template_rows": null,
            "height": null,
            "justify_content": null,
            "justify_items": null,
            "left": null,
            "margin": null,
            "max_height": null,
            "max_width": null,
            "min_height": null,
            "min_width": null,
            "object_fit": null,
            "object_position": null,
            "order": null,
            "overflow": null,
            "overflow_x": null,
            "overflow_y": null,
            "padding": null,
            "right": null,
            "top": null,
            "visibility": null,
            "width": null
          }
        },
        "8239e69f44794f3a956788a8a4c5affa": {
          "model_module": "@jupyter-widgets/controls",
          "model_module_version": "1.5.0",
          "model_name": "HTMLModel",
          "state": {
            "_dom_classes": [],
            "_model_module": "@jupyter-widgets/controls",
            "_model_module_version": "1.5.0",
            "_model_name": "HTMLModel",
            "_view_count": null,
            "_view_module": "@jupyter-widgets/controls",
            "_view_module_version": "1.5.0",
            "_view_name": "HTMLView",
            "description": "",
            "description_tooltip": null,
            "layout": "IPY_MODEL_2df27dd7f4434f31930f47f69ec72721",
            "placeholder": "​",
            "style": "IPY_MODEL_8846309e04b441f3a68e822a77fb036e",
            "value": " 15898/15898 [00:18&lt;00:00, 2826.28it/s]"
          }
        },
        "828f16b14ee445dc8a768117c9cf895a": {
          "model_module": "@jupyter-widgets/controls",
          "model_module_version": "1.5.0",
          "model_name": "HTMLModel",
          "state": {
            "_dom_classes": [],
            "_model_module": "@jupyter-widgets/controls",
            "_model_module_version": "1.5.0",
            "_model_name": "HTMLModel",
            "_view_count": null,
            "_view_module": "@jupyter-widgets/controls",
            "_view_module_version": "1.5.0",
            "_view_name": "HTMLView",
            "description": "",
            "description_tooltip": null,
            "layout": "IPY_MODEL_5c0cab178adf4a16b71706ccd0d8c3c6",
            "placeholder": "​",
            "style": "IPY_MODEL_5e667760c4b2459d8d4fbddbd26f7e3e",
            "value": "  5%"
          }
        },
        "8328771ef64345f2abd057c9a65380eb": {
          "model_module": "@jupyter-widgets/base",
          "model_module_version": "1.2.0",
          "model_name": "LayoutModel",
          "state": {
            "_model_module": "@jupyter-widgets/base",
            "_model_module_version": "1.2.0",
            "_model_name": "LayoutModel",
            "_view_count": null,
            "_view_module": "@jupyter-widgets/base",
            "_view_module_version": "1.2.0",
            "_view_name": "LayoutView",
            "align_content": null,
            "align_items": null,
            "align_self": null,
            "border": null,
            "bottom": null,
            "display": null,
            "flex": null,
            "flex_flow": null,
            "grid_area": null,
            "grid_auto_columns": null,
            "grid_auto_flow": null,
            "grid_auto_rows": null,
            "grid_column": null,
            "grid_gap": null,
            "grid_row": null,
            "grid_template_areas": null,
            "grid_template_columns": null,
            "grid_template_rows": null,
            "height": null,
            "justify_content": null,
            "justify_items": null,
            "left": null,
            "margin": null,
            "max_height": null,
            "max_width": null,
            "min_height": null,
            "min_width": null,
            "object_fit": null,
            "object_position": null,
            "order": null,
            "overflow": null,
            "overflow_x": null,
            "overflow_y": null,
            "padding": null,
            "right": null,
            "top": null,
            "visibility": null,
            "width": null
          }
        },
        "84425c3a6ddf4460984a5e43d316cc09": {
          "model_module": "@jupyter-widgets/controls",
          "model_module_version": "1.5.0",
          "model_name": "HBoxModel",
          "state": {
            "_dom_classes": [],
            "_model_module": "@jupyter-widgets/controls",
            "_model_module_version": "1.5.0",
            "_model_name": "HBoxModel",
            "_view_count": null,
            "_view_module": "@jupyter-widgets/controls",
            "_view_module_version": "1.5.0",
            "_view_name": "HBoxView",
            "box_style": "",
            "children": [
              "IPY_MODEL_b5f96083d7da43589160fc16272d0209",
              "IPY_MODEL_bf418856e6df42d080f0946048ad48d0",
              "IPY_MODEL_2067c417a4064fbbb64efba984746468"
            ],
            "layout": "IPY_MODEL_e0ae5ce9054240339228198bda1a87b4"
          }
        },
        "85389bacbbd24b859687980ecd185f95": {
          "model_module": "@jupyter-widgets/controls",
          "model_module_version": "1.5.0",
          "model_name": "HBoxModel",
          "state": {
            "_dom_classes": [],
            "_model_module": "@jupyter-widgets/controls",
            "_model_module_version": "1.5.0",
            "_model_name": "HBoxModel",
            "_view_count": null,
            "_view_module": "@jupyter-widgets/controls",
            "_view_module_version": "1.5.0",
            "_view_name": "HBoxView",
            "box_style": "",
            "children": [
              "IPY_MODEL_fbdbcfd5204545dcb4951186f15c5a35",
              "IPY_MODEL_248d572c3d774955aafc8c6da922c2be",
              "IPY_MODEL_b46eb81dba4e4c05aee1b67672f7c530"
            ],
            "layout": "IPY_MODEL_0b81da6c667342fd81e3d50e9ca00c6c"
          }
        },
        "868d708751544471a3d58ae9ccfdb293": {
          "model_module": "@jupyter-widgets/controls",
          "model_module_version": "1.5.0",
          "model_name": "HTMLModel",
          "state": {
            "_dom_classes": [],
            "_model_module": "@jupyter-widgets/controls",
            "_model_module_version": "1.5.0",
            "_model_name": "HTMLModel",
            "_view_count": null,
            "_view_module": "@jupyter-widgets/controls",
            "_view_module_version": "1.5.0",
            "_view_name": "HTMLView",
            "description": "",
            "description_tooltip": null,
            "layout": "IPY_MODEL_0227946b793a4acfb9cce4a0417fdc29",
            "placeholder": "​",
            "style": "IPY_MODEL_4eed907327bc4e2187f774a394fee282",
            "value": "100%"
          }
        },
        "879e9f0866b042d489eb08b53f8d951a": {
          "model_module": "@jupyter-widgets/controls",
          "model_module_version": "1.5.0",
          "model_name": "DescriptionStyleModel",
          "state": {
            "_model_module": "@jupyter-widgets/controls",
            "_model_module_version": "1.5.0",
            "_model_name": "DescriptionStyleModel",
            "_view_count": null,
            "_view_module": "@jupyter-widgets/base",
            "_view_module_version": "1.2.0",
            "_view_name": "StyleView",
            "description_width": ""
          }
        },
        "8846309e04b441f3a68e822a77fb036e": {
          "model_module": "@jupyter-widgets/controls",
          "model_module_version": "1.5.0",
          "model_name": "DescriptionStyleModel",
          "state": {
            "_model_module": "@jupyter-widgets/controls",
            "_model_module_version": "1.5.0",
            "_model_name": "DescriptionStyleModel",
            "_view_count": null,
            "_view_module": "@jupyter-widgets/base",
            "_view_module_version": "1.2.0",
            "_view_name": "StyleView",
            "description_width": ""
          }
        },
        "8871098e3de941ba8cfdd05ecf449c8b": {
          "model_module": "@jupyter-widgets/controls",
          "model_module_version": "1.5.0",
          "model_name": "FloatProgressModel",
          "state": {
            "_dom_classes": [],
            "_model_module": "@jupyter-widgets/controls",
            "_model_module_version": "1.5.0",
            "_model_name": "FloatProgressModel",
            "_view_count": null,
            "_view_module": "@jupyter-widgets/controls",
            "_view_module_version": "1.5.0",
            "_view_name": "ProgressView",
            "bar_style": "success",
            "description": "",
            "description_tooltip": null,
            "layout": "IPY_MODEL_81e7dff751ad4280b6105d99691098d0",
            "max": 516003632,
            "min": 0,
            "orientation": "horizontal",
            "style": "IPY_MODEL_98d805321a11405293de4ff25769d65f",
            "value": 516003632
          }
        },
        "8a1d84d8c09a4889bd76a57a8632e1ee": {
          "model_module": "@jupyter-widgets/controls",
          "model_module_version": "1.5.0",
          "model_name": "ProgressStyleModel",
          "state": {
            "_model_module": "@jupyter-widgets/controls",
            "_model_module_version": "1.5.0",
            "_model_name": "ProgressStyleModel",
            "_view_count": null,
            "_view_module": "@jupyter-widgets/base",
            "_view_module_version": "1.2.0",
            "_view_name": "StyleView",
            "bar_color": null,
            "description_width": ""
          }
        },
        "8a6f4b4e04b0463e8e435c9cf21514c6": {
          "model_module": "@jupyter-widgets/controls",
          "model_module_version": "1.5.0",
          "model_name": "DescriptionStyleModel",
          "state": {
            "_model_module": "@jupyter-widgets/controls",
            "_model_module_version": "1.5.0",
            "_model_name": "DescriptionStyleModel",
            "_view_count": null,
            "_view_module": "@jupyter-widgets/base",
            "_view_module_version": "1.2.0",
            "_view_name": "StyleView",
            "description_width": ""
          }
        },
        "8ad473cce00e4f548573b5494f2de93f": {
          "model_module": "@jupyter-widgets/controls",
          "model_module_version": "1.5.0",
          "model_name": "HTMLModel",
          "state": {
            "_dom_classes": [],
            "_model_module": "@jupyter-widgets/controls",
            "_model_module_version": "1.5.0",
            "_model_name": "HTMLModel",
            "_view_count": null,
            "_view_module": "@jupyter-widgets/controls",
            "_view_module_version": "1.5.0",
            "_view_name": "HTMLView",
            "description": "",
            "description_tooltip": null,
            "layout": "IPY_MODEL_f775ad76418845dbae1a92b1fd1ca5dd",
            "placeholder": "​",
            "style": "IPY_MODEL_e2d8150cea8d4e5bb7b14348d033152b",
            "value": "100%"
          }
        },
        "8ca49b7c875e465d9f2880818a4f6546": {
          "model_module": "@jupyter-widgets/base",
          "model_module_version": "1.2.0",
          "model_name": "LayoutModel",
          "state": {
            "_model_module": "@jupyter-widgets/base",
            "_model_module_version": "1.2.0",
            "_model_name": "LayoutModel",
            "_view_count": null,
            "_view_module": "@jupyter-widgets/base",
            "_view_module_version": "1.2.0",
            "_view_name": "LayoutView",
            "align_content": null,
            "align_items": null,
            "align_self": null,
            "border": null,
            "bottom": null,
            "display": null,
            "flex": null,
            "flex_flow": null,
            "grid_area": null,
            "grid_auto_columns": null,
            "grid_auto_flow": null,
            "grid_auto_rows": null,
            "grid_column": null,
            "grid_gap": null,
            "grid_row": null,
            "grid_template_areas": null,
            "grid_template_columns": null,
            "grid_template_rows": null,
            "height": null,
            "justify_content": null,
            "justify_items": null,
            "left": null,
            "margin": null,
            "max_height": null,
            "max_width": null,
            "min_height": null,
            "min_width": null,
            "object_fit": null,
            "object_position": null,
            "order": null,
            "overflow": null,
            "overflow_x": null,
            "overflow_y": null,
            "padding": null,
            "right": null,
            "top": null,
            "visibility": null,
            "width": null
          }
        },
        "8e0af8ce8df848879f36ff619ae7b0d0": {
          "model_module": "@jupyter-widgets/controls",
          "model_module_version": "1.5.0",
          "model_name": "HTMLModel",
          "state": {
            "_dom_classes": [],
            "_model_module": "@jupyter-widgets/controls",
            "_model_module_version": "1.5.0",
            "_model_name": "HTMLModel",
            "_view_count": null,
            "_view_module": "@jupyter-widgets/controls",
            "_view_module_version": "1.5.0",
            "_view_name": "HTMLView",
            "description": "",
            "description_tooltip": null,
            "layout": "IPY_MODEL_0b281e5ec634421299b6bb9ae1539704",
            "placeholder": "​",
            "style": "IPY_MODEL_3017637b08b74486abba1a87bec65e81",
            "value": "100%"
          }
        },
        "8ebdd5afba404b5cbfef187eec54a9c1": {
          "model_module": "@jupyter-widgets/controls",
          "model_module_version": "1.5.0",
          "model_name": "HBoxModel",
          "state": {
            "_dom_classes": [],
            "_model_module": "@jupyter-widgets/controls",
            "_model_module_version": "1.5.0",
            "_model_name": "HBoxModel",
            "_view_count": null,
            "_view_module": "@jupyter-widgets/controls",
            "_view_module_version": "1.5.0",
            "_view_name": "HBoxView",
            "box_style": "",
            "children": [
              "IPY_MODEL_8ad473cce00e4f548573b5494f2de93f",
              "IPY_MODEL_e783680048884e2d89f15d24731eb2be",
              "IPY_MODEL_1bfb62efc3244f34bad3bcd5abad3360"
            ],
            "layout": "IPY_MODEL_cd37de317eb242adbe457e4ba1a00640"
          }
        },
        "8fe2d02733f6438791bc000c1e6e35fc": {
          "model_module": "@jupyter-widgets/base",
          "model_module_version": "1.2.0",
          "model_name": "LayoutModel",
          "state": {
            "_model_module": "@jupyter-widgets/base",
            "_model_module_version": "1.2.0",
            "_model_name": "LayoutModel",
            "_view_count": null,
            "_view_module": "@jupyter-widgets/base",
            "_view_module_version": "1.2.0",
            "_view_name": "LayoutView",
            "align_content": null,
            "align_items": null,
            "align_self": null,
            "border": null,
            "bottom": null,
            "display": null,
            "flex": null,
            "flex_flow": null,
            "grid_area": null,
            "grid_auto_columns": null,
            "grid_auto_flow": null,
            "grid_auto_rows": null,
            "grid_column": null,
            "grid_gap": null,
            "grid_row": null,
            "grid_template_areas": null,
            "grid_template_columns": null,
            "grid_template_rows": null,
            "height": null,
            "justify_content": null,
            "justify_items": null,
            "left": null,
            "margin": null,
            "max_height": null,
            "max_width": null,
            "min_height": null,
            "min_width": null,
            "object_fit": null,
            "object_position": null,
            "order": null,
            "overflow": null,
            "overflow_x": null,
            "overflow_y": null,
            "padding": null,
            "right": null,
            "top": null,
            "visibility": null,
            "width": null
          }
        },
        "940689a5b1c648b992ca5729e25f5582": {
          "model_module": "@jupyter-widgets/controls",
          "model_module_version": "1.5.0",
          "model_name": "HTMLModel",
          "state": {
            "_dom_classes": [],
            "_model_module": "@jupyter-widgets/controls",
            "_model_module_version": "1.5.0",
            "_model_name": "HTMLModel",
            "_view_count": null,
            "_view_module": "@jupyter-widgets/controls",
            "_view_module_version": "1.5.0",
            "_view_name": "HTMLView",
            "description": "",
            "description_tooltip": null,
            "layout": "IPY_MODEL_3f09ac80265d40fc87653765209e3a5b",
            "placeholder": "​",
            "style": "IPY_MODEL_4e87b346df554e998ff8edc7f7bbb2ba",
            "value": " 49.0/49.0 [00:00&lt;00:00, 3.21kB/s]"
          }
        },
        "9443959719fd4ab08b494fb7a1f72ffc": {
          "model_module": "@jupyter-widgets/controls",
          "model_module_version": "1.5.0",
          "model_name": "HTMLModel",
          "state": {
            "_dom_classes": [],
            "_model_module": "@jupyter-widgets/controls",
            "_model_module_version": "1.5.0",
            "_model_name": "HTMLModel",
            "_view_count": null,
            "_view_module": "@jupyter-widgets/controls",
            "_view_module_version": "1.5.0",
            "_view_name": "HTMLView",
            "description": "",
            "description_tooltip": null,
            "layout": "IPY_MODEL_1cd34e701b5842c7aed885dbbd399b47",
            "placeholder": "​",
            "style": "IPY_MODEL_f745f89e93cb4be6aca303d697d16169",
            "value": "100%"
          }
        },
        "9517168635624d4e89fe823263606eef": {
          "model_module": "@jupyter-widgets/base",
          "model_module_version": "1.2.0",
          "model_name": "LayoutModel",
          "state": {
            "_model_module": "@jupyter-widgets/base",
            "_model_module_version": "1.2.0",
            "_model_name": "LayoutModel",
            "_view_count": null,
            "_view_module": "@jupyter-widgets/base",
            "_view_module_version": "1.2.0",
            "_view_name": "LayoutView",
            "align_content": null,
            "align_items": null,
            "align_self": null,
            "border": null,
            "bottom": null,
            "display": null,
            "flex": null,
            "flex_flow": null,
            "grid_area": null,
            "grid_auto_columns": null,
            "grid_auto_flow": null,
            "grid_auto_rows": null,
            "grid_column": null,
            "grid_gap": null,
            "grid_row": null,
            "grid_template_areas": null,
            "grid_template_columns": null,
            "grid_template_rows": null,
            "height": null,
            "justify_content": null,
            "justify_items": null,
            "left": null,
            "margin": null,
            "max_height": null,
            "max_width": null,
            "min_height": null,
            "min_width": null,
            "object_fit": null,
            "object_position": null,
            "order": null,
            "overflow": null,
            "overflow_x": null,
            "overflow_y": null,
            "padding": null,
            "right": null,
            "top": null,
            "visibility": null,
            "width": null
          }
        },
        "96cb7264835f4ee6913041ae061333c4": {
          "model_module": "@jupyter-widgets/controls",
          "model_module_version": "1.5.0",
          "model_name": "FloatProgressModel",
          "state": {
            "_dom_classes": [],
            "_model_module": "@jupyter-widgets/controls",
            "_model_module_version": "1.5.0",
            "_model_name": "FloatProgressModel",
            "_view_count": null,
            "_view_module": "@jupyter-widgets/controls",
            "_view_module_version": "1.5.0",
            "_view_name": "ProgressView",
            "bar_style": "success",
            "description": "",
            "description_tooltip": null,
            "layout": "IPY_MODEL_eb1924ef8c1c43f7adc636ed2f750d53",
            "max": 1000,
            "min": 0,
            "orientation": "horizontal",
            "style": "IPY_MODEL_52b29dc000584ec2ad8d140c8b02aef4",
            "value": 1000
          }
        },
        "98c152aa806c494cb75ca28c86cdcf3b": {
          "model_module": "@jupyter-widgets/controls",
          "model_module_version": "1.5.0",
          "model_name": "DescriptionStyleModel",
          "state": {
            "_model_module": "@jupyter-widgets/controls",
            "_model_module_version": "1.5.0",
            "_model_name": "DescriptionStyleModel",
            "_view_count": null,
            "_view_module": "@jupyter-widgets/base",
            "_view_module_version": "1.2.0",
            "_view_name": "StyleView",
            "description_width": ""
          }
        },
        "98d805321a11405293de4ff25769d65f": {
          "model_module": "@jupyter-widgets/controls",
          "model_module_version": "1.5.0",
          "model_name": "ProgressStyleModel",
          "state": {
            "_model_module": "@jupyter-widgets/controls",
            "_model_module_version": "1.5.0",
            "_model_name": "ProgressStyleModel",
            "_view_count": null,
            "_view_module": "@jupyter-widgets/base",
            "_view_module_version": "1.2.0",
            "_view_name": "StyleView",
            "bar_color": null,
            "description_width": ""
          }
        },
        "99ed0b1d9bc34d489aa5ec6f1157549f": {
          "model_module": "@jupyter-widgets/base",
          "model_module_version": "1.2.0",
          "model_name": "LayoutModel",
          "state": {
            "_model_module": "@jupyter-widgets/base",
            "_model_module_version": "1.2.0",
            "_model_name": "LayoutModel",
            "_view_count": null,
            "_view_module": "@jupyter-widgets/base",
            "_view_module_version": "1.2.0",
            "_view_name": "LayoutView",
            "align_content": null,
            "align_items": null,
            "align_self": null,
            "border": null,
            "bottom": null,
            "display": null,
            "flex": null,
            "flex_flow": null,
            "grid_area": null,
            "grid_auto_columns": null,
            "grid_auto_flow": null,
            "grid_auto_rows": null,
            "grid_column": null,
            "grid_gap": null,
            "grid_row": null,
            "grid_template_areas": null,
            "grid_template_columns": null,
            "grid_template_rows": null,
            "height": null,
            "justify_content": null,
            "justify_items": null,
            "left": null,
            "margin": null,
            "max_height": null,
            "max_width": null,
            "min_height": null,
            "min_width": null,
            "object_fit": null,
            "object_position": null,
            "order": null,
            "overflow": null,
            "overflow_x": null,
            "overflow_y": null,
            "padding": null,
            "right": null,
            "top": null,
            "visibility": null,
            "width": null
          }
        },
        "9a800757ff9945dc948c803b5d656033": {
          "model_module": "@jupyter-widgets/controls",
          "model_module_version": "1.5.0",
          "model_name": "HTMLModel",
          "state": {
            "_dom_classes": [],
            "_model_module": "@jupyter-widgets/controls",
            "_model_module_version": "1.5.0",
            "_model_name": "HTMLModel",
            "_view_count": null,
            "_view_module": "@jupyter-widgets/controls",
            "_view_module_version": "1.5.0",
            "_view_name": "HTMLView",
            "description": "",
            "description_tooltip": null,
            "layout": "IPY_MODEL_a11874ea61ed472983f6b602416fbfee",
            "placeholder": "​",
            "style": "IPY_MODEL_ec04da7d89f4478cb0bd038baf7714b8",
            "value": " 806/806 [00:00&lt;00:00, 59.5kB/s]"
          }
        },
        "9bba8393609f4025878e7287fda73d1b": {
          "model_module": "@jupyter-widgets/controls",
          "model_module_version": "1.5.0",
          "model_name": "HBoxModel",
          "state": {
            "_dom_classes": [],
            "_model_module": "@jupyter-widgets/controls",
            "_model_module_version": "1.5.0",
            "_model_name": "HBoxModel",
            "_view_count": null,
            "_view_module": "@jupyter-widgets/controls",
            "_view_module_version": "1.5.0",
            "_view_name": "HBoxView",
            "box_style": "",
            "children": [
              "IPY_MODEL_9443959719fd4ab08b494fb7a1f72ffc",
              "IPY_MODEL_96cb7264835f4ee6913041ae061333c4",
              "IPY_MODEL_72279bbea646419fa060bddabf949e13"
            ],
            "layout": "IPY_MODEL_cb0f532709d6493d87943db47038814d"
          }
        },
        "9bbad5be64a84d92b578aca007705672": {
          "model_module": "@jupyter-widgets/controls",
          "model_module_version": "1.5.0",
          "model_name": "DescriptionStyleModel",
          "state": {
            "_model_module": "@jupyter-widgets/controls",
            "_model_module_version": "1.5.0",
            "_model_name": "DescriptionStyleModel",
            "_view_count": null,
            "_view_module": "@jupyter-widgets/base",
            "_view_module_version": "1.2.0",
            "_view_name": "StyleView",
            "description_width": ""
          }
        },
        "9c3b46db0f334f71a3a1e92772158d3f": {
          "model_module": "@jupyter-widgets/controls",
          "model_module_version": "1.5.0",
          "model_name": "HBoxModel",
          "state": {
            "_dom_classes": [],
            "_model_module": "@jupyter-widgets/controls",
            "_model_module_version": "1.5.0",
            "_model_name": "HBoxModel",
            "_view_count": null,
            "_view_module": "@jupyter-widgets/controls",
            "_view_module_version": "1.5.0",
            "_view_name": "HBoxView",
            "box_style": "",
            "children": [
              "IPY_MODEL_3af8cf6166694a75b3f5a57fffc34b8e",
              "IPY_MODEL_f27af1aeaf5a44fa88d63c44791b26c6",
              "IPY_MODEL_7cdf950e11924db5830f87263c9a0861"
            ],
            "layout": "IPY_MODEL_09287a292a034bafa4cd9da775a5ab99"
          }
        },
        "a11874ea61ed472983f6b602416fbfee": {
          "model_module": "@jupyter-widgets/base",
          "model_module_version": "1.2.0",
          "model_name": "LayoutModel",
          "state": {
            "_model_module": "@jupyter-widgets/base",
            "_model_module_version": "1.2.0",
            "_model_name": "LayoutModel",
            "_view_count": null,
            "_view_module": "@jupyter-widgets/base",
            "_view_module_version": "1.2.0",
            "_view_name": "LayoutView",
            "align_content": null,
            "align_items": null,
            "align_self": null,
            "border": null,
            "bottom": null,
            "display": null,
            "flex": null,
            "flex_flow": null,
            "grid_area": null,
            "grid_auto_columns": null,
            "grid_auto_flow": null,
            "grid_auto_rows": null,
            "grid_column": null,
            "grid_gap": null,
            "grid_row": null,
            "grid_template_areas": null,
            "grid_template_columns": null,
            "grid_template_rows": null,
            "height": null,
            "justify_content": null,
            "justify_items": null,
            "left": null,
            "margin": null,
            "max_height": null,
            "max_width": null,
            "min_height": null,
            "min_width": null,
            "object_fit": null,
            "object_position": null,
            "order": null,
            "overflow": null,
            "overflow_x": null,
            "overflow_y": null,
            "padding": null,
            "right": null,
            "top": null,
            "visibility": null,
            "width": null
          }
        },
        "a712f5a9d8ff490e84074d9c23c1704f": {
          "model_module": "@jupyter-widgets/controls",
          "model_module_version": "1.5.0",
          "model_name": "HTMLModel",
          "state": {
            "_dom_classes": [],
            "_model_module": "@jupyter-widgets/controls",
            "_model_module_version": "1.5.0",
            "_model_name": "HTMLModel",
            "_view_count": null,
            "_view_module": "@jupyter-widgets/controls",
            "_view_module_version": "1.5.0",
            "_view_name": "HTMLView",
            "description": "",
            "description_tooltip": null,
            "layout": "IPY_MODEL_3acc4a4ee22e4edc938a10114f47f516",
            "placeholder": "​",
            "style": "IPY_MODEL_fe910e277fac487bbb9a674122048b15",
            "value": "100%"
          }
        },
        "a97e57c4f8a54852b3d2062dd8478c8a": {
          "model_module": "@jupyter-widgets/controls",
          "model_module_version": "1.5.0",
          "model_name": "HBoxModel",
          "state": {
            "_dom_classes": [],
            "_model_module": "@jupyter-widgets/controls",
            "_model_module_version": "1.5.0",
            "_model_name": "HBoxModel",
            "_view_count": null,
            "_view_module": "@jupyter-widgets/controls",
            "_view_module_version": "1.5.0",
            "_view_name": "HBoxView",
            "box_style": "",
            "children": [
              "IPY_MODEL_08332757586b4b598b1023e1fade4ad0",
              "IPY_MODEL_4fb1d8f9295143f6a772e0f2db2a6cd0",
              "IPY_MODEL_9a800757ff9945dc948c803b5d656033"
            ],
            "layout": "IPY_MODEL_47988a6c717243749e692e35b9248347"
          }
        },
        "ac03bb2602554927a0c81c0a749229ec": {
          "model_module": "@jupyter-widgets/controls",
          "model_module_version": "1.5.0",
          "model_name": "DescriptionStyleModel",
          "state": {
            "_model_module": "@jupyter-widgets/controls",
            "_model_module_version": "1.5.0",
            "_model_name": "DescriptionStyleModel",
            "_view_count": null,
            "_view_module": "@jupyter-widgets/base",
            "_view_module_version": "1.2.0",
            "_view_name": "StyleView",
            "description_width": ""
          }
        },
        "acdec5b7735f426f88f9e30c0110740d": {
          "model_module": "@jupyter-widgets/base",
          "model_module_version": "1.2.0",
          "model_name": "LayoutModel",
          "state": {
            "_model_module": "@jupyter-widgets/base",
            "_model_module_version": "1.2.0",
            "_model_name": "LayoutModel",
            "_view_count": null,
            "_view_module": "@jupyter-widgets/base",
            "_view_module_version": "1.2.0",
            "_view_name": "LayoutView",
            "align_content": null,
            "align_items": null,
            "align_self": null,
            "border": null,
            "bottom": null,
            "display": null,
            "flex": null,
            "flex_flow": null,
            "grid_area": null,
            "grid_auto_columns": null,
            "grid_auto_flow": null,
            "grid_auto_rows": null,
            "grid_column": null,
            "grid_gap": null,
            "grid_row": null,
            "grid_template_areas": null,
            "grid_template_columns": null,
            "grid_template_rows": null,
            "height": null,
            "justify_content": null,
            "justify_items": null,
            "left": null,
            "margin": null,
            "max_height": null,
            "max_width": null,
            "min_height": null,
            "min_width": null,
            "object_fit": null,
            "object_position": null,
            "order": null,
            "overflow": null,
            "overflow_x": null,
            "overflow_y": null,
            "padding": null,
            "right": null,
            "top": null,
            "visibility": null,
            "width": null
          }
        },
        "ad79b07cb4134951928648d157f76bc6": {
          "model_module": "@jupyter-widgets/base",
          "model_module_version": "1.2.0",
          "model_name": "LayoutModel",
          "state": {
            "_model_module": "@jupyter-widgets/base",
            "_model_module_version": "1.2.0",
            "_model_name": "LayoutModel",
            "_view_count": null,
            "_view_module": "@jupyter-widgets/base",
            "_view_module_version": "1.2.0",
            "_view_name": "LayoutView",
            "align_content": null,
            "align_items": null,
            "align_self": null,
            "border": null,
            "bottom": null,
            "display": null,
            "flex": null,
            "flex_flow": null,
            "grid_area": null,
            "grid_auto_columns": null,
            "grid_auto_flow": null,
            "grid_auto_rows": null,
            "grid_column": null,
            "grid_gap": null,
            "grid_row": null,
            "grid_template_areas": null,
            "grid_template_columns": null,
            "grid_template_rows": null,
            "height": null,
            "justify_content": null,
            "justify_items": null,
            "left": null,
            "margin": null,
            "max_height": null,
            "max_width": null,
            "min_height": null,
            "min_width": null,
            "object_fit": null,
            "object_position": null,
            "order": null,
            "overflow": null,
            "overflow_x": null,
            "overflow_y": null,
            "padding": null,
            "right": null,
            "top": null,
            "visibility": null,
            "width": null
          }
        },
        "b189de2a0eb1468593ef4e5b9e2c52a9": {
          "model_module": "@jupyter-widgets/controls",
          "model_module_version": "1.5.0",
          "model_name": "HBoxModel",
          "state": {
            "_dom_classes": [],
            "_model_module": "@jupyter-widgets/controls",
            "_model_module_version": "1.5.0",
            "_model_name": "HBoxModel",
            "_view_count": null,
            "_view_module": "@jupyter-widgets/controls",
            "_view_module_version": "1.5.0",
            "_view_name": "HBoxView",
            "box_style": "",
            "children": [
              "IPY_MODEL_0700327faed94267af80eb3617d0756c",
              "IPY_MODEL_b788269e8a1941aa8ca92c28326d0a08",
              "IPY_MODEL_940689a5b1c648b992ca5729e25f5582"
            ],
            "layout": "IPY_MODEL_76c46567cedf4362aa63ca0e41656751"
          }
        },
        "b314f3e9dec44066bfb0349241983786": {
          "model_module": "@jupyter-widgets/controls",
          "model_module_version": "1.5.0",
          "model_name": "DescriptionStyleModel",
          "state": {
            "_model_module": "@jupyter-widgets/controls",
            "_model_module_version": "1.5.0",
            "_model_name": "DescriptionStyleModel",
            "_view_count": null,
            "_view_module": "@jupyter-widgets/base",
            "_view_module_version": "1.2.0",
            "_view_name": "StyleView",
            "description_width": ""
          }
        },
        "b46eb81dba4e4c05aee1b67672f7c530": {
          "model_module": "@jupyter-widgets/controls",
          "model_module_version": "1.5.0",
          "model_name": "HTMLModel",
          "state": {
            "_dom_classes": [],
            "_model_module": "@jupyter-widgets/controls",
            "_model_module_version": "1.5.0",
            "_model_name": "HTMLModel",
            "_view_count": null,
            "_view_module": "@jupyter-widgets/controls",
            "_view_module_version": "1.5.0",
            "_view_name": "HTMLView",
            "description": "",
            "description_tooltip": null,
            "layout": "IPY_MODEL_d17a363a3503478192bbd013bae6f627",
            "placeholder": "​",
            "style": "IPY_MODEL_4a0e01b8c02d4500a8e6ce4f33c9fc7b",
            "value": " 806/806 [00:00&lt;00:00, 33.6kB/s]"
          }
        },
        "b511bba8ca364275b9eead6aadbd2a45": {
          "model_module": "@jupyter-widgets/controls",
          "model_module_version": "1.5.0",
          "model_name": "DescriptionStyleModel",
          "state": {
            "_model_module": "@jupyter-widgets/controls",
            "_model_module_version": "1.5.0",
            "_model_name": "DescriptionStyleModel",
            "_view_count": null,
            "_view_module": "@jupyter-widgets/base",
            "_view_module_version": "1.2.0",
            "_view_name": "StyleView",
            "description_width": ""
          }
        },
        "b5f96083d7da43589160fc16272d0209": {
          "model_module": "@jupyter-widgets/controls",
          "model_module_version": "1.5.0",
          "model_name": "HTMLModel",
          "state": {
            "_dom_classes": [],
            "_model_module": "@jupyter-widgets/controls",
            "_model_module_version": "1.5.0",
            "_model_name": "HTMLModel",
            "_view_count": null,
            "_view_module": "@jupyter-widgets/controls",
            "_view_module_version": "1.5.0",
            "_view_name": "HTMLView",
            "description": "",
            "description_tooltip": null,
            "layout": "IPY_MODEL_4a4110a90ef649f48c476d372c655a71",
            "placeholder": "​",
            "style": "IPY_MODEL_4f5c28455fcf47f6afd73b6719e79700",
            "value": "model.safetensors: 100%"
          }
        },
        "b695ccf710554f299786ddbdd354a811": {
          "model_module": "@jupyter-widgets/controls",
          "model_module_version": "1.5.0",
          "model_name": "HBoxModel",
          "state": {
            "_dom_classes": [],
            "_model_module": "@jupyter-widgets/controls",
            "_model_module_version": "1.5.0",
            "_model_name": "HBoxModel",
            "_view_count": null,
            "_view_module": "@jupyter-widgets/controls",
            "_view_module_version": "1.5.0",
            "_view_name": "HBoxView",
            "box_style": "",
            "children": [
              "IPY_MODEL_6d617c6242e049019a326054679e5f83",
              "IPY_MODEL_724d5518a17b4d20944840a92a3151f8",
              "IPY_MODEL_1e2e357fa2f4443593b2a6a3dd909b60"
            ],
            "layout": "IPY_MODEL_44d4be84ed1f478e8a6a6b935245caa4"
          }
        },
        "b788269e8a1941aa8ca92c28326d0a08": {
          "model_module": "@jupyter-widgets/controls",
          "model_module_version": "1.5.0",
          "model_name": "FloatProgressModel",
          "state": {
            "_dom_classes": [],
            "_model_module": "@jupyter-widgets/controls",
            "_model_module_version": "1.5.0",
            "_model_name": "FloatProgressModel",
            "_view_count": null,
            "_view_module": "@jupyter-widgets/controls",
            "_view_module_version": "1.5.0",
            "_view_name": "ProgressView",
            "bar_style": "success",
            "description": "",
            "description_tooltip": null,
            "layout": "IPY_MODEL_7ff5055fd52649dd92d9533944183996",
            "max": 49,
            "min": 0,
            "orientation": "horizontal",
            "style": "IPY_MODEL_2e373957fc8245e196716049a735e4aa",
            "value": 49
          }
        },
        "b9785fe72b1b4a9d8f595743c6f0cc22": {
          "model_module": "@jupyter-widgets/controls",
          "model_module_version": "1.5.0",
          "model_name": "ProgressStyleModel",
          "state": {
            "_model_module": "@jupyter-widgets/controls",
            "_model_module_version": "1.5.0",
            "_model_name": "ProgressStyleModel",
            "_view_count": null,
            "_view_module": "@jupyter-widgets/base",
            "_view_module_version": "1.2.0",
            "_view_name": "StyleView",
            "bar_color": null,
            "description_width": ""
          }
        },
        "bb4e2809a2de4c94b25206adf8490a8d": {
          "model_module": "@jupyter-widgets/base",
          "model_module_version": "1.2.0",
          "model_name": "LayoutModel",
          "state": {
            "_model_module": "@jupyter-widgets/base",
            "_model_module_version": "1.2.0",
            "_model_name": "LayoutModel",
            "_view_count": null,
            "_view_module": "@jupyter-widgets/base",
            "_view_module_version": "1.2.0",
            "_view_name": "LayoutView",
            "align_content": null,
            "align_items": null,
            "align_self": null,
            "border": null,
            "bottom": null,
            "display": null,
            "flex": null,
            "flex_flow": null,
            "grid_area": null,
            "grid_auto_columns": null,
            "grid_auto_flow": null,
            "grid_auto_rows": null,
            "grid_column": null,
            "grid_gap": null,
            "grid_row": null,
            "grid_template_areas": null,
            "grid_template_columns": null,
            "grid_template_rows": null,
            "height": null,
            "justify_content": null,
            "justify_items": null,
            "left": null,
            "margin": null,
            "max_height": null,
            "max_width": null,
            "min_height": null,
            "min_width": null,
            "object_fit": null,
            "object_position": null,
            "order": null,
            "overflow": null,
            "overflow_x": null,
            "overflow_y": null,
            "padding": null,
            "right": null,
            "top": null,
            "visibility": null,
            "width": null
          }
        },
        "bc5d0ec18cc749eab746c3ce1616bb01": {
          "model_module": "@jupyter-widgets/controls",
          "model_module_version": "1.5.0",
          "model_name": "ProgressStyleModel",
          "state": {
            "_model_module": "@jupyter-widgets/controls",
            "_model_module_version": "1.5.0",
            "_model_name": "ProgressStyleModel",
            "_view_count": null,
            "_view_module": "@jupyter-widgets/base",
            "_view_module_version": "1.2.0",
            "_view_name": "StyleView",
            "bar_color": null,
            "description_width": ""
          }
        },
        "bf418856e6df42d080f0946048ad48d0": {
          "model_module": "@jupyter-widgets/controls",
          "model_module_version": "1.5.0",
          "model_name": "FloatProgressModel",
          "state": {
            "_dom_classes": [],
            "_model_module": "@jupyter-widgets/controls",
            "_model_module_version": "1.5.0",
            "_model_name": "FloatProgressModel",
            "_view_count": null,
            "_view_module": "@jupyter-widgets/controls",
            "_view_module_version": "1.5.0",
            "_view_name": "ProgressView",
            "bar_style": "success",
            "description": "",
            "description_tooltip": null,
            "layout": "IPY_MODEL_287a8d4da4634a4fb0e45c80e9bfa5b4",
            "max": 516003632,
            "min": 0,
            "orientation": "horizontal",
            "style": "IPY_MODEL_22ad7ea2541245cfa0d09e177b534f0c",
            "value": 516003632
          }
        },
        "bf9fb3ec00414a0f8b7c19ab3a28f1ce": {
          "model_module": "@jupyter-widgets/controls",
          "model_module_version": "1.5.0",
          "model_name": "HTMLModel",
          "state": {
            "_dom_classes": [],
            "_model_module": "@jupyter-widgets/controls",
            "_model_module_version": "1.5.0",
            "_model_name": "HTMLModel",
            "_view_count": null,
            "_view_module": "@jupyter-widgets/controls",
            "_view_module_version": "1.5.0",
            "_view_name": "HTMLView",
            "description": "",
            "description_tooltip": null,
            "layout": "IPY_MODEL_4825cabc251243208c3539501e62f48c",
            "placeholder": "​",
            "style": "IPY_MODEL_8a6f4b4e04b0463e8e435c9cf21514c6",
            "value": "100%"
          }
        },
        "c2dd55da5edd4ad5819e23513ead0cac": {
          "model_module": "@jupyter-widgets/controls",
          "model_module_version": "1.5.0",
          "model_name": "DescriptionStyleModel",
          "state": {
            "_model_module": "@jupyter-widgets/controls",
            "_model_module_version": "1.5.0",
            "_model_name": "DescriptionStyleModel",
            "_view_count": null,
            "_view_module": "@jupyter-widgets/base",
            "_view_module_version": "1.2.0",
            "_view_name": "StyleView",
            "description_width": ""
          }
        },
        "c3c3c3e0b75b48baba82ca0d00e62b5c": {
          "model_module": "@jupyter-widgets/base",
          "model_module_version": "1.2.0",
          "model_name": "LayoutModel",
          "state": {
            "_model_module": "@jupyter-widgets/base",
            "_model_module_version": "1.2.0",
            "_model_name": "LayoutModel",
            "_view_count": null,
            "_view_module": "@jupyter-widgets/base",
            "_view_module_version": "1.2.0",
            "_view_name": "LayoutView",
            "align_content": null,
            "align_items": null,
            "align_self": null,
            "border": null,
            "bottom": null,
            "display": null,
            "flex": null,
            "flex_flow": null,
            "grid_area": null,
            "grid_auto_columns": null,
            "grid_auto_flow": null,
            "grid_auto_rows": null,
            "grid_column": null,
            "grid_gap": null,
            "grid_row": null,
            "grid_template_areas": null,
            "grid_template_columns": null,
            "grid_template_rows": null,
            "height": null,
            "justify_content": null,
            "justify_items": null,
            "left": null,
            "margin": null,
            "max_height": null,
            "max_width": null,
            "min_height": null,
            "min_width": null,
            "object_fit": null,
            "object_position": null,
            "order": null,
            "overflow": null,
            "overflow_x": null,
            "overflow_y": null,
            "padding": null,
            "right": null,
            "top": null,
            "visibility": null,
            "width": null
          }
        },
        "c45f0a3267f944c483daf797b49bed79": {
          "model_module": "@jupyter-widgets/controls",
          "model_module_version": "1.5.0",
          "model_name": "HBoxModel",
          "state": {
            "_dom_classes": [],
            "_model_module": "@jupyter-widgets/controls",
            "_model_module_version": "1.5.0",
            "_model_name": "HBoxModel",
            "_view_count": null,
            "_view_module": "@jupyter-widgets/controls",
            "_view_module_version": "1.5.0",
            "_view_name": "HBoxView",
            "box_style": "",
            "children": [
              "IPY_MODEL_c7f714bcfe5a401bacfb635eeae4793d",
              "IPY_MODEL_7cee4c6c2eba4ecb9ab54c0866798015",
              "IPY_MODEL_74d5ce3f2be144219f238c9948cfb34b"
            ],
            "layout": "IPY_MODEL_fba890e364944da18e5f09557cd04a34"
          }
        },
        "c4f6b3b8b86a4b669216669ed43a5070": {
          "model_module": "@jupyter-widgets/controls",
          "model_module_version": "1.5.0",
          "model_name": "DescriptionStyleModel",
          "state": {
            "_model_module": "@jupyter-widgets/controls",
            "_model_module_version": "1.5.0",
            "_model_name": "DescriptionStyleModel",
            "_view_count": null,
            "_view_module": "@jupyter-widgets/base",
            "_view_module_version": "1.2.0",
            "_view_name": "StyleView",
            "description_width": ""
          }
        },
        "c7e87446d72f474a8a8a31620409b174": {
          "model_module": "@jupyter-widgets/base",
          "model_module_version": "1.2.0",
          "model_name": "LayoutModel",
          "state": {
            "_model_module": "@jupyter-widgets/base",
            "_model_module_version": "1.2.0",
            "_model_name": "LayoutModel",
            "_view_count": null,
            "_view_module": "@jupyter-widgets/base",
            "_view_module_version": "1.2.0",
            "_view_name": "LayoutView",
            "align_content": null,
            "align_items": null,
            "align_self": null,
            "border": null,
            "bottom": null,
            "display": null,
            "flex": null,
            "flex_flow": null,
            "grid_area": null,
            "grid_auto_columns": null,
            "grid_auto_flow": null,
            "grid_auto_rows": null,
            "grid_column": null,
            "grid_gap": null,
            "grid_row": null,
            "grid_template_areas": null,
            "grid_template_columns": null,
            "grid_template_rows": null,
            "height": null,
            "justify_content": null,
            "justify_items": null,
            "left": null,
            "margin": null,
            "max_height": null,
            "max_width": null,
            "min_height": null,
            "min_width": null,
            "object_fit": null,
            "object_position": null,
            "order": null,
            "overflow": null,
            "overflow_x": null,
            "overflow_y": null,
            "padding": null,
            "right": null,
            "top": null,
            "visibility": null,
            "width": null
          }
        },
        "c7f714bcfe5a401bacfb635eeae4793d": {
          "model_module": "@jupyter-widgets/controls",
          "model_module_version": "1.5.0",
          "model_name": "HTMLModel",
          "state": {
            "_dom_classes": [],
            "_model_module": "@jupyter-widgets/controls",
            "_model_module_version": "1.5.0",
            "_model_name": "HTMLModel",
            "_view_count": null,
            "_view_module": "@jupyter-widgets/controls",
            "_view_module_version": "1.5.0",
            "_view_name": "HTMLView",
            "description": "",
            "description_tooltip": null,
            "layout": "IPY_MODEL_015fb8009e4846859c9d027677ad25a1",
            "placeholder": "​",
            "style": "IPY_MODEL_e24aaaf8b312400cba146a1042c6b6c2",
            "value": "100%"
          }
        },
        "ca7616ce5640419d88d721d873eb2f55": {
          "model_module": "@jupyter-widgets/base",
          "model_module_version": "1.2.0",
          "model_name": "LayoutModel",
          "state": {
            "_model_module": "@jupyter-widgets/base",
            "_model_module_version": "1.2.0",
            "_model_name": "LayoutModel",
            "_view_count": null,
            "_view_module": "@jupyter-widgets/base",
            "_view_module_version": "1.2.0",
            "_view_name": "LayoutView",
            "align_content": null,
            "align_items": null,
            "align_self": null,
            "border": null,
            "bottom": null,
            "display": null,
            "flex": null,
            "flex_flow": null,
            "grid_area": null,
            "grid_auto_columns": null,
            "grid_auto_flow": null,
            "grid_auto_rows": null,
            "grid_column": null,
            "grid_gap": null,
            "grid_row": null,
            "grid_template_areas": null,
            "grid_template_columns": null,
            "grid_template_rows": null,
            "height": null,
            "justify_content": null,
            "justify_items": null,
            "left": null,
            "margin": null,
            "max_height": null,
            "max_width": null,
            "min_height": null,
            "min_width": null,
            "object_fit": null,
            "object_position": null,
            "order": null,
            "overflow": null,
            "overflow_x": null,
            "overflow_y": null,
            "padding": null,
            "right": null,
            "top": null,
            "visibility": null,
            "width": null
          }
        },
        "ca9230801c794247a1e9425112ab9db9": {
          "model_module": "@jupyter-widgets/base",
          "model_module_version": "1.2.0",
          "model_name": "LayoutModel",
          "state": {
            "_model_module": "@jupyter-widgets/base",
            "_model_module_version": "1.2.0",
            "_model_name": "LayoutModel",
            "_view_count": null,
            "_view_module": "@jupyter-widgets/base",
            "_view_module_version": "1.2.0",
            "_view_name": "LayoutView",
            "align_content": null,
            "align_items": null,
            "align_self": null,
            "border": null,
            "bottom": null,
            "display": null,
            "flex": null,
            "flex_flow": null,
            "grid_area": null,
            "grid_auto_columns": null,
            "grid_auto_flow": null,
            "grid_auto_rows": null,
            "grid_column": null,
            "grid_gap": null,
            "grid_row": null,
            "grid_template_areas": null,
            "grid_template_columns": null,
            "grid_template_rows": null,
            "height": null,
            "justify_content": null,
            "justify_items": null,
            "left": null,
            "margin": null,
            "max_height": null,
            "max_width": null,
            "min_height": null,
            "min_width": null,
            "object_fit": null,
            "object_position": null,
            "order": null,
            "overflow": null,
            "overflow_x": null,
            "overflow_y": null,
            "padding": null,
            "right": null,
            "top": null,
            "visibility": null,
            "width": null
          }
        },
        "cb0f532709d6493d87943db47038814d": {
          "model_module": "@jupyter-widgets/base",
          "model_module_version": "1.2.0",
          "model_name": "LayoutModel",
          "state": {
            "_model_module": "@jupyter-widgets/base",
            "_model_module_version": "1.2.0",
            "_model_name": "LayoutModel",
            "_view_count": null,
            "_view_module": "@jupyter-widgets/base",
            "_view_module_version": "1.2.0",
            "_view_name": "LayoutView",
            "align_content": null,
            "align_items": null,
            "align_self": null,
            "border": null,
            "bottom": null,
            "display": null,
            "flex": null,
            "flex_flow": null,
            "grid_area": null,
            "grid_auto_columns": null,
            "grid_auto_flow": null,
            "grid_auto_rows": null,
            "grid_column": null,
            "grid_gap": null,
            "grid_row": null,
            "grid_template_areas": null,
            "grid_template_columns": null,
            "grid_template_rows": null,
            "height": null,
            "justify_content": null,
            "justify_items": null,
            "left": null,
            "margin": null,
            "max_height": null,
            "max_width": null,
            "min_height": null,
            "min_width": null,
            "object_fit": null,
            "object_position": null,
            "order": null,
            "overflow": null,
            "overflow_x": null,
            "overflow_y": null,
            "padding": null,
            "right": null,
            "top": null,
            "visibility": null,
            "width": null
          }
        },
        "cb90eae2584b4b97a955c7ef03f48b45": {
          "model_module": "@jupyter-widgets/controls",
          "model_module_version": "1.5.0",
          "model_name": "HTMLModel",
          "state": {
            "_dom_classes": [],
            "_model_module": "@jupyter-widgets/controls",
            "_model_module_version": "1.5.0",
            "_model_name": "HTMLModel",
            "_view_count": null,
            "_view_module": "@jupyter-widgets/controls",
            "_view_module_version": "1.5.0",
            "_view_name": "HTMLView",
            "description": "",
            "description_tooltip": null,
            "layout": "IPY_MODEL_0a5a3cedfdd74ec49c2c4de344ac7771",
            "placeholder": "​",
            "style": "IPY_MODEL_45719eda712a4253b677e8e13be31397",
            "value": " 55472/55472 [00:12&lt;00:00, 8583.51it/s]"
          }
        },
        "cc5c53f6596849779423e1a68001b8ea": {
          "model_module": "@jupyter-widgets/base",
          "model_module_version": "1.2.0",
          "model_name": "LayoutModel",
          "state": {
            "_model_module": "@jupyter-widgets/base",
            "_model_module_version": "1.2.0",
            "_model_name": "LayoutModel",
            "_view_count": null,
            "_view_module": "@jupyter-widgets/base",
            "_view_module_version": "1.2.0",
            "_view_name": "LayoutView",
            "align_content": null,
            "align_items": null,
            "align_self": null,
            "border": null,
            "bottom": null,
            "display": null,
            "flex": null,
            "flex_flow": null,
            "grid_area": null,
            "grid_auto_columns": null,
            "grid_auto_flow": null,
            "grid_auto_rows": null,
            "grid_column": null,
            "grid_gap": null,
            "grid_row": null,
            "grid_template_areas": null,
            "grid_template_columns": null,
            "grid_template_rows": null,
            "height": null,
            "justify_content": null,
            "justify_items": null,
            "left": null,
            "margin": null,
            "max_height": null,
            "max_width": null,
            "min_height": null,
            "min_width": null,
            "object_fit": null,
            "object_position": null,
            "order": null,
            "overflow": null,
            "overflow_x": null,
            "overflow_y": null,
            "padding": null,
            "right": null,
            "top": null,
            "visibility": null,
            "width": null
          }
        },
        "cd37de317eb242adbe457e4ba1a00640": {
          "model_module": "@jupyter-widgets/base",
          "model_module_version": "1.2.0",
          "model_name": "LayoutModel",
          "state": {
            "_model_module": "@jupyter-widgets/base",
            "_model_module_version": "1.2.0",
            "_model_name": "LayoutModel",
            "_view_count": null,
            "_view_module": "@jupyter-widgets/base",
            "_view_module_version": "1.2.0",
            "_view_name": "LayoutView",
            "align_content": null,
            "align_items": null,
            "align_self": null,
            "border": null,
            "bottom": null,
            "display": null,
            "flex": null,
            "flex_flow": null,
            "grid_area": null,
            "grid_auto_columns": null,
            "grid_auto_flow": null,
            "grid_auto_rows": null,
            "grid_column": null,
            "grid_gap": null,
            "grid_row": null,
            "grid_template_areas": null,
            "grid_template_columns": null,
            "grid_template_rows": null,
            "height": null,
            "justify_content": null,
            "justify_items": null,
            "left": null,
            "margin": null,
            "max_height": null,
            "max_width": null,
            "min_height": null,
            "min_width": null,
            "object_fit": null,
            "object_position": null,
            "order": null,
            "overflow": null,
            "overflow_x": null,
            "overflow_y": null,
            "padding": null,
            "right": null,
            "top": null,
            "visibility": null,
            "width": null
          }
        },
        "cf636010652545da9502cc54064ddd99": {
          "model_module": "@jupyter-widgets/controls",
          "model_module_version": "1.5.0",
          "model_name": "HBoxModel",
          "state": {
            "_dom_classes": [],
            "_model_module": "@jupyter-widgets/controls",
            "_model_module_version": "1.5.0",
            "_model_name": "HBoxModel",
            "_view_count": null,
            "_view_module": "@jupyter-widgets/controls",
            "_view_module_version": "1.5.0",
            "_view_name": "HBoxView",
            "box_style": "",
            "children": [
              "IPY_MODEL_1de2bda9316d434aa8fbb353cf09102c",
              "IPY_MODEL_246df4b2884d40a2b6899652a0b6507e",
              "IPY_MODEL_729c3b0022264ecd944ccc091b7dc865"
            ],
            "layout": "IPY_MODEL_3a751f0d23164813a3a6deface035cbd"
          }
        },
        "d17a363a3503478192bbd013bae6f627": {
          "model_module": "@jupyter-widgets/base",
          "model_module_version": "1.2.0",
          "model_name": "LayoutModel",
          "state": {
            "_model_module": "@jupyter-widgets/base",
            "_model_module_version": "1.2.0",
            "_model_name": "LayoutModel",
            "_view_count": null,
            "_view_module": "@jupyter-widgets/base",
            "_view_module_version": "1.2.0",
            "_view_name": "LayoutView",
            "align_content": null,
            "align_items": null,
            "align_self": null,
            "border": null,
            "bottom": null,
            "display": null,
            "flex": null,
            "flex_flow": null,
            "grid_area": null,
            "grid_auto_columns": null,
            "grid_auto_flow": null,
            "grid_auto_rows": null,
            "grid_column": null,
            "grid_gap": null,
            "grid_row": null,
            "grid_template_areas": null,
            "grid_template_columns": null,
            "grid_template_rows": null,
            "height": null,
            "justify_content": null,
            "justify_items": null,
            "left": null,
            "margin": null,
            "max_height": null,
            "max_width": null,
            "min_height": null,
            "min_width": null,
            "object_fit": null,
            "object_position": null,
            "order": null,
            "overflow": null,
            "overflow_x": null,
            "overflow_y": null,
            "padding": null,
            "right": null,
            "top": null,
            "visibility": null,
            "width": null
          }
        },
        "d186d7ae4ce647a7a41f59fc9854866f": {
          "model_module": "@jupyter-widgets/base",
          "model_module_version": "1.2.0",
          "model_name": "LayoutModel",
          "state": {
            "_model_module": "@jupyter-widgets/base",
            "_model_module_version": "1.2.0",
            "_model_name": "LayoutModel",
            "_view_count": null,
            "_view_module": "@jupyter-widgets/base",
            "_view_module_version": "1.2.0",
            "_view_name": "LayoutView",
            "align_content": null,
            "align_items": null,
            "align_self": null,
            "border": null,
            "bottom": null,
            "display": null,
            "flex": null,
            "flex_flow": null,
            "grid_area": null,
            "grid_auto_columns": null,
            "grid_auto_flow": null,
            "grid_auto_rows": null,
            "grid_column": null,
            "grid_gap": null,
            "grid_row": null,
            "grid_template_areas": null,
            "grid_template_columns": null,
            "grid_template_rows": null,
            "height": null,
            "justify_content": null,
            "justify_items": null,
            "left": null,
            "margin": null,
            "max_height": null,
            "max_width": null,
            "min_height": null,
            "min_width": null,
            "object_fit": null,
            "object_position": null,
            "order": null,
            "overflow": null,
            "overflow_x": null,
            "overflow_y": null,
            "padding": null,
            "right": null,
            "top": null,
            "visibility": null,
            "width": null
          }
        },
        "d18aada4e0bc4631b0504215e10f5f11": {
          "model_module": "@jupyter-widgets/controls",
          "model_module_version": "1.5.0",
          "model_name": "HTMLModel",
          "state": {
            "_dom_classes": [],
            "_model_module": "@jupyter-widgets/controls",
            "_model_module_version": "1.5.0",
            "_model_name": "HTMLModel",
            "_view_count": null,
            "_view_module": "@jupyter-widgets/controls",
            "_view_module_version": "1.5.0",
            "_view_name": "HTMLView",
            "description": "",
            "description_tooltip": null,
            "layout": "IPY_MODEL_acdec5b7735f426f88f9e30c0110740d",
            "placeholder": "​",
            "style": "IPY_MODEL_b314f3e9dec44066bfb0349241983786",
            "value": " 87543/87543 [00:00&lt;00:00, 219582.19it/s]"
          }
        },
        "d3bec63a28fd4adaa54d79bb4b519cf3": {
          "model_module": "@jupyter-widgets/controls",
          "model_module_version": "1.5.0",
          "model_name": "FloatProgressModel",
          "state": {
            "_dom_classes": [],
            "_model_module": "@jupyter-widgets/controls",
            "_model_module_version": "1.5.0",
            "_model_name": "FloatProgressModel",
            "_view_count": null,
            "_view_module": "@jupyter-widgets/controls",
            "_view_module_version": "1.5.0",
            "_view_name": "ProgressView",
            "bar_style": "success",
            "description": "",
            "description_tooltip": null,
            "layout": "IPY_MODEL_6f90e88a1e8f409d918e397b93eecb7d",
            "max": 521414,
            "min": 0,
            "orientation": "horizontal",
            "style": "IPY_MODEL_245087c38e2645a1ae6f82f35a22b816",
            "value": 521414
          }
        },
        "d6e41171e4d6499d9da48693e7a6909b": {
          "model_module": "@jupyter-widgets/controls",
          "model_module_version": "1.5.0",
          "model_name": "ProgressStyleModel",
          "state": {
            "_model_module": "@jupyter-widgets/controls",
            "_model_module_version": "1.5.0",
            "_model_name": "ProgressStyleModel",
            "_view_count": null,
            "_view_module": "@jupyter-widgets/base",
            "_view_module_version": "1.2.0",
            "_view_name": "StyleView",
            "bar_color": null,
            "description_width": ""
          }
        },
        "d95f837b96874b26890b4225a84b37ef": {
          "model_module": "@jupyter-widgets/controls",
          "model_module_version": "1.5.0",
          "model_name": "HBoxModel",
          "state": {
            "_dom_classes": [],
            "_model_module": "@jupyter-widgets/controls",
            "_model_module_version": "1.5.0",
            "_model_name": "HBoxModel",
            "_view_count": null,
            "_view_module": "@jupyter-widgets/controls",
            "_view_module_version": "1.5.0",
            "_view_name": "HBoxView",
            "box_style": "",
            "children": [
              "IPY_MODEL_5ee151f99c184215a715cba2f971895c",
              "IPY_MODEL_d3bec63a28fd4adaa54d79bb4b519cf3",
              "IPY_MODEL_f54defbb086541cd80839d9988629619"
            ],
            "layout": "IPY_MODEL_10bf0c8501214e73ab9044211e26df92"
          }
        },
        "db86b83cd1f34205a61ae742b2ad247f": {
          "model_module": "@jupyter-widgets/controls",
          "model_module_version": "1.5.0",
          "model_name": "HTMLModel",
          "state": {
            "_dom_classes": [],
            "_model_module": "@jupyter-widgets/controls",
            "_model_module_version": "1.5.0",
            "_model_name": "HTMLModel",
            "_view_count": null,
            "_view_module": "@jupyter-widgets/controls",
            "_view_module_version": "1.5.0",
            "_view_name": "HTMLView",
            "description": "",
            "description_tooltip": null,
            "layout": "IPY_MODEL_593d2910bafa49b9b23eee2356d79751",
            "placeholder": "​",
            "style": "IPY_MODEL_0d35ab017cf343e5ac722d828a6ad287",
            "value": "100%"
          }
        },
        "de6a054ddd824d14addb8843536fe083": {
          "model_module": "@jupyter-widgets/base",
          "model_module_version": "1.2.0",
          "model_name": "LayoutModel",
          "state": {
            "_model_module": "@jupyter-widgets/base",
            "_model_module_version": "1.2.0",
            "_model_name": "LayoutModel",
            "_view_count": null,
            "_view_module": "@jupyter-widgets/base",
            "_view_module_version": "1.2.0",
            "_view_name": "LayoutView",
            "align_content": null,
            "align_items": null,
            "align_self": null,
            "border": null,
            "bottom": null,
            "display": null,
            "flex": null,
            "flex_flow": null,
            "grid_area": null,
            "grid_auto_columns": null,
            "grid_auto_flow": null,
            "grid_auto_rows": null,
            "grid_column": null,
            "grid_gap": null,
            "grid_row": null,
            "grid_template_areas": null,
            "grid_template_columns": null,
            "grid_template_rows": null,
            "height": null,
            "justify_content": null,
            "justify_items": null,
            "left": null,
            "margin": null,
            "max_height": null,
            "max_width": null,
            "min_height": null,
            "min_width": null,
            "object_fit": null,
            "object_position": null,
            "order": null,
            "overflow": null,
            "overflow_x": null,
            "overflow_y": null,
            "padding": null,
            "right": null,
            "top": null,
            "visibility": null,
            "width": null
          }
        },
        "def0df6339c2455984bed4907a3e62ee": {
          "model_module": "@jupyter-widgets/base",
          "model_module_version": "1.2.0",
          "model_name": "LayoutModel",
          "state": {
            "_model_module": "@jupyter-widgets/base",
            "_model_module_version": "1.2.0",
            "_model_name": "LayoutModel",
            "_view_count": null,
            "_view_module": "@jupyter-widgets/base",
            "_view_module_version": "1.2.0",
            "_view_name": "LayoutView",
            "align_content": null,
            "align_items": null,
            "align_self": null,
            "border": null,
            "bottom": null,
            "display": null,
            "flex": null,
            "flex_flow": null,
            "grid_area": null,
            "grid_auto_columns": null,
            "grid_auto_flow": null,
            "grid_auto_rows": null,
            "grid_column": null,
            "grid_gap": null,
            "grid_row": null,
            "grid_template_areas": null,
            "grid_template_columns": null,
            "grid_template_rows": null,
            "height": null,
            "justify_content": null,
            "justify_items": null,
            "left": null,
            "margin": null,
            "max_height": null,
            "max_width": null,
            "min_height": null,
            "min_width": null,
            "object_fit": null,
            "object_position": null,
            "order": null,
            "overflow": null,
            "overflow_x": null,
            "overflow_y": null,
            "padding": null,
            "right": null,
            "top": null,
            "visibility": null,
            "width": null
          }
        },
        "dfbab7a301434c8ba2534d9e0cef634e": {
          "model_module": "@jupyter-widgets/controls",
          "model_module_version": "1.5.0",
          "model_name": "HTMLModel",
          "state": {
            "_dom_classes": [],
            "_model_module": "@jupyter-widgets/controls",
            "_model_module_version": "1.5.0",
            "_model_name": "HTMLModel",
            "_view_count": null,
            "_view_module": "@jupyter-widgets/controls",
            "_view_module_version": "1.5.0",
            "_view_name": "HTMLView",
            "description": "",
            "description_tooltip": null,
            "layout": "IPY_MODEL_8328771ef64345f2abd057c9a65380eb",
            "placeholder": "​",
            "style": "IPY_MODEL_56050288b3a44b1ca3970ac5a1f921b1",
            "value": " 59647/59647 [00:00&lt;00:00, 559309.18it/s]"
          }
        },
        "dfe3a341dc7d4923ad24d450dea238e4": {
          "model_module": "@jupyter-widgets/controls",
          "model_module_version": "1.5.0",
          "model_name": "DescriptionStyleModel",
          "state": {
            "_model_module": "@jupyter-widgets/controls",
            "_model_module_version": "1.5.0",
            "_model_name": "DescriptionStyleModel",
            "_view_count": null,
            "_view_module": "@jupyter-widgets/base",
            "_view_module_version": "1.2.0",
            "_view_name": "StyleView",
            "description_width": ""
          }
        },
        "e0ae5ce9054240339228198bda1a87b4": {
          "model_module": "@jupyter-widgets/base",
          "model_module_version": "1.2.0",
          "model_name": "LayoutModel",
          "state": {
            "_model_module": "@jupyter-widgets/base",
            "_model_module_version": "1.2.0",
            "_model_name": "LayoutModel",
            "_view_count": null,
            "_view_module": "@jupyter-widgets/base",
            "_view_module_version": "1.2.0",
            "_view_name": "LayoutView",
            "align_content": null,
            "align_items": null,
            "align_self": null,
            "border": null,
            "bottom": null,
            "display": null,
            "flex": null,
            "flex_flow": null,
            "grid_area": null,
            "grid_auto_columns": null,
            "grid_auto_flow": null,
            "grid_auto_rows": null,
            "grid_column": null,
            "grid_gap": null,
            "grid_row": null,
            "grid_template_areas": null,
            "grid_template_columns": null,
            "grid_template_rows": null,
            "height": null,
            "justify_content": null,
            "justify_items": null,
            "left": null,
            "margin": null,
            "max_height": null,
            "max_width": null,
            "min_height": null,
            "min_width": null,
            "object_fit": null,
            "object_position": null,
            "order": null,
            "overflow": null,
            "overflow_x": null,
            "overflow_y": null,
            "padding": null,
            "right": null,
            "top": null,
            "visibility": null,
            "width": null
          }
        },
        "e24aaaf8b312400cba146a1042c6b6c2": {
          "model_module": "@jupyter-widgets/controls",
          "model_module_version": "1.5.0",
          "model_name": "DescriptionStyleModel",
          "state": {
            "_model_module": "@jupyter-widgets/controls",
            "_model_module_version": "1.5.0",
            "_model_name": "DescriptionStyleModel",
            "_view_count": null,
            "_view_module": "@jupyter-widgets/base",
            "_view_module_version": "1.2.0",
            "_view_name": "StyleView",
            "description_width": ""
          }
        },
        "e2d8150cea8d4e5bb7b14348d033152b": {
          "model_module": "@jupyter-widgets/controls",
          "model_module_version": "1.5.0",
          "model_name": "DescriptionStyleModel",
          "state": {
            "_model_module": "@jupyter-widgets/controls",
            "_model_module_version": "1.5.0",
            "_model_name": "DescriptionStyleModel",
            "_view_count": null,
            "_view_module": "@jupyter-widgets/base",
            "_view_module_version": "1.2.0",
            "_view_name": "StyleView",
            "description_width": ""
          }
        },
        "e783680048884e2d89f15d24731eb2be": {
          "model_module": "@jupyter-widgets/controls",
          "model_module_version": "1.5.0",
          "model_name": "FloatProgressModel",
          "state": {
            "_dom_classes": [],
            "_model_module": "@jupyter-widgets/controls",
            "_model_module_version": "1.5.0",
            "_model_name": "FloatProgressModel",
            "_view_count": null,
            "_view_module": "@jupyter-widgets/controls",
            "_view_module_version": "1.5.0",
            "_view_name": "ProgressView",
            "bar_style": "success",
            "description": "",
            "description_tooltip": null,
            "layout": "IPY_MODEL_ec79b5def4cb497191edd219c1d9a347",
            "max": 87543,
            "min": 0,
            "orientation": "horizontal",
            "style": "IPY_MODEL_140b951b73f7453f9c29b0a848855139",
            "value": 87543
          }
        },
        "e879f9a0d831465fbe58202fdb2643b4": {
          "model_module": "@jupyter-widgets/controls",
          "model_module_version": "1.5.0",
          "model_name": "ProgressStyleModel",
          "state": {
            "_model_module": "@jupyter-widgets/controls",
            "_model_module_version": "1.5.0",
            "_model_name": "ProgressStyleModel",
            "_view_count": null,
            "_view_module": "@jupyter-widgets/base",
            "_view_module_version": "1.2.0",
            "_view_name": "StyleView",
            "bar_color": null,
            "description_width": ""
          }
        },
        "eb1924ef8c1c43f7adc636ed2f750d53": {
          "model_module": "@jupyter-widgets/base",
          "model_module_version": "1.2.0",
          "model_name": "LayoutModel",
          "state": {
            "_model_module": "@jupyter-widgets/base",
            "_model_module_version": "1.2.0",
            "_model_name": "LayoutModel",
            "_view_count": null,
            "_view_module": "@jupyter-widgets/base",
            "_view_module_version": "1.2.0",
            "_view_name": "LayoutView",
            "align_content": null,
            "align_items": null,
            "align_self": null,
            "border": null,
            "bottom": null,
            "display": null,
            "flex": null,
            "flex_flow": null,
            "grid_area": null,
            "grid_auto_columns": null,
            "grid_auto_flow": null,
            "grid_auto_rows": null,
            "grid_column": null,
            "grid_gap": null,
            "grid_row": null,
            "grid_template_areas": null,
            "grid_template_columns": null,
            "grid_template_rows": null,
            "height": null,
            "justify_content": null,
            "justify_items": null,
            "left": null,
            "margin": null,
            "max_height": null,
            "max_width": null,
            "min_height": null,
            "min_width": null,
            "object_fit": null,
            "object_position": null,
            "order": null,
            "overflow": null,
            "overflow_x": null,
            "overflow_y": null,
            "padding": null,
            "right": null,
            "top": null,
            "visibility": null,
            "width": null
          }
        },
        "ec04da7d89f4478cb0bd038baf7714b8": {
          "model_module": "@jupyter-widgets/controls",
          "model_module_version": "1.5.0",
          "model_name": "DescriptionStyleModel",
          "state": {
            "_model_module": "@jupyter-widgets/controls",
            "_model_module_version": "1.5.0",
            "_model_name": "DescriptionStyleModel",
            "_view_count": null,
            "_view_module": "@jupyter-widgets/base",
            "_view_module_version": "1.2.0",
            "_view_name": "StyleView",
            "description_width": ""
          }
        },
        "ec79b5def4cb497191edd219c1d9a347": {
          "model_module": "@jupyter-widgets/base",
          "model_module_version": "1.2.0",
          "model_name": "LayoutModel",
          "state": {
            "_model_module": "@jupyter-widgets/base",
            "_model_module_version": "1.2.0",
            "_model_name": "LayoutModel",
            "_view_count": null,
            "_view_module": "@jupyter-widgets/base",
            "_view_module_version": "1.2.0",
            "_view_name": "LayoutView",
            "align_content": null,
            "align_items": null,
            "align_self": null,
            "border": null,
            "bottom": null,
            "display": null,
            "flex": null,
            "flex_flow": null,
            "grid_area": null,
            "grid_auto_columns": null,
            "grid_auto_flow": null,
            "grid_auto_rows": null,
            "grid_column": null,
            "grid_gap": null,
            "grid_row": null,
            "grid_template_areas": null,
            "grid_template_columns": null,
            "grid_template_rows": null,
            "height": null,
            "justify_content": null,
            "justify_items": null,
            "left": null,
            "margin": null,
            "max_height": null,
            "max_width": null,
            "min_height": null,
            "min_width": null,
            "object_fit": null,
            "object_position": null,
            "order": null,
            "overflow": null,
            "overflow_x": null,
            "overflow_y": null,
            "padding": null,
            "right": null,
            "top": null,
            "visibility": null,
            "width": null
          }
        },
        "ec85bf5da9fc46beb727722176cad196": {
          "model_module": "@jupyter-widgets/base",
          "model_module_version": "1.2.0",
          "model_name": "LayoutModel",
          "state": {
            "_model_module": "@jupyter-widgets/base",
            "_model_module_version": "1.2.0",
            "_model_name": "LayoutModel",
            "_view_count": null,
            "_view_module": "@jupyter-widgets/base",
            "_view_module_version": "1.2.0",
            "_view_name": "LayoutView",
            "align_content": null,
            "align_items": null,
            "align_self": null,
            "border": null,
            "bottom": null,
            "display": null,
            "flex": null,
            "flex_flow": null,
            "grid_area": null,
            "grid_auto_columns": null,
            "grid_auto_flow": null,
            "grid_auto_rows": null,
            "grid_column": null,
            "grid_gap": null,
            "grid_row": null,
            "grid_template_areas": null,
            "grid_template_columns": null,
            "grid_template_rows": null,
            "height": null,
            "justify_content": null,
            "justify_items": null,
            "left": null,
            "margin": null,
            "max_height": null,
            "max_width": null,
            "min_height": null,
            "min_width": null,
            "object_fit": null,
            "object_position": null,
            "order": null,
            "overflow": null,
            "overflow_x": null,
            "overflow_y": null,
            "padding": null,
            "right": null,
            "top": null,
            "visibility": null,
            "width": null
          }
        },
        "ee4af74edc17464f8bde527e00a188c6": {
          "model_module": "@jupyter-widgets/controls",
          "model_module_version": "1.5.0",
          "model_name": "HBoxModel",
          "state": {
            "_dom_classes": [],
            "_model_module": "@jupyter-widgets/controls",
            "_model_module_version": "1.5.0",
            "_model_name": "HBoxModel",
            "_view_count": null,
            "_view_module": "@jupyter-widgets/controls",
            "_view_module_version": "1.5.0",
            "_view_name": "HBoxView",
            "box_style": "",
            "children": [
              "IPY_MODEL_828f16b14ee445dc8a768117c9cf895a",
              "IPY_MODEL_3d3c4d989eae46a2a97324c76d5edc75",
              "IPY_MODEL_1ae9cc30350a4e86842830013aedbe40"
            ],
            "layout": "IPY_MODEL_010f8995f05a4f0ebb1daf22cf1b5c4f"
          }
        },
        "ee57db083aea4a6a91434c6908b1e89c": {
          "model_module": "@jupyter-widgets/controls",
          "model_module_version": "1.5.0",
          "model_name": "DescriptionStyleModel",
          "state": {
            "_model_module": "@jupyter-widgets/controls",
            "_model_module_version": "1.5.0",
            "_model_name": "DescriptionStyleModel",
            "_view_count": null,
            "_view_module": "@jupyter-widgets/base",
            "_view_module_version": "1.2.0",
            "_view_name": "StyleView",
            "description_width": ""
          }
        },
        "eea41d720f644b969a0b37a9158aacad": {
          "model_module": "@jupyter-widgets/controls",
          "model_module_version": "1.5.0",
          "model_name": "HBoxModel",
          "state": {
            "_dom_classes": [],
            "_model_module": "@jupyter-widgets/controls",
            "_model_module_version": "1.5.0",
            "_model_name": "HBoxModel",
            "_view_count": null,
            "_view_module": "@jupyter-widgets/controls",
            "_view_module_version": "1.5.0",
            "_view_name": "HBoxView",
            "box_style": "",
            "children": [
              "IPY_MODEL_8e0af8ce8df848879f36ff619ae7b0d0",
              "IPY_MODEL_7fde75ae4d6b41579135b9b31b281d26",
              "IPY_MODEL_fa0b6b19a57e41359567c22f2830ab48"
            ],
            "layout": "IPY_MODEL_ca7616ce5640419d88d721d873eb2f55"
          }
        },
        "f0314555fcde4bd0ae25675a43021182": {
          "model_module": "@jupyter-widgets/controls",
          "model_module_version": "1.5.0",
          "model_name": "FloatProgressModel",
          "state": {
            "_dom_classes": [],
            "_model_module": "@jupyter-widgets/controls",
            "_model_module_version": "1.5.0",
            "_model_name": "FloatProgressModel",
            "_view_count": null,
            "_view_module": "@jupyter-widgets/controls",
            "_view_module_version": "1.5.0",
            "_view_name": "ProgressView",
            "bar_style": "success",
            "description": "",
            "description_tooltip": null,
            "layout": "IPY_MODEL_ad79b07cb4134951928648d157f76bc6",
            "max": 50000,
            "min": 0,
            "orientation": "horizontal",
            "style": "IPY_MODEL_183f0b00c0694b1fb9f81dd1d31daacf",
            "value": 50000
          }
        },
        "f27af1aeaf5a44fa88d63c44791b26c6": {
          "model_module": "@jupyter-widgets/controls",
          "model_module_version": "1.5.0",
          "model_name": "FloatProgressModel",
          "state": {
            "_dom_classes": [],
            "_model_module": "@jupyter-widgets/controls",
            "_model_module_version": "1.5.0",
            "_model_name": "FloatProgressModel",
            "_view_count": null,
            "_view_module": "@jupyter-widgets/controls",
            "_view_module_version": "1.5.0",
            "_view_name": "ProgressView",
            "bar_style": "success",
            "description": "",
            "description_tooltip": null,
            "layout": "IPY_MODEL_75db57c4d2cd4abaa71d359c1950adee",
            "max": 112,
            "min": 0,
            "orientation": "horizontal",
            "style": "IPY_MODEL_5ed34f90e2a64bed8fc355b040c0e7eb",
            "value": 112
          }
        },
        "f465165a25de4a408dad9fa4450e33b6": {
          "model_module": "@jupyter-widgets/base",
          "model_module_version": "1.2.0",
          "model_name": "LayoutModel",
          "state": {
            "_model_module": "@jupyter-widgets/base",
            "_model_module_version": "1.2.0",
            "_model_name": "LayoutModel",
            "_view_count": null,
            "_view_module": "@jupyter-widgets/base",
            "_view_module_version": "1.2.0",
            "_view_name": "LayoutView",
            "align_content": null,
            "align_items": null,
            "align_self": null,
            "border": null,
            "bottom": null,
            "display": null,
            "flex": null,
            "flex_flow": null,
            "grid_area": null,
            "grid_auto_columns": null,
            "grid_auto_flow": null,
            "grid_auto_rows": null,
            "grid_column": null,
            "grid_gap": null,
            "grid_row": null,
            "grid_template_areas": null,
            "grid_template_columns": null,
            "grid_template_rows": null,
            "height": null,
            "justify_content": null,
            "justify_items": null,
            "left": null,
            "margin": null,
            "max_height": null,
            "max_width": null,
            "min_height": null,
            "min_width": null,
            "object_fit": null,
            "object_position": null,
            "order": null,
            "overflow": null,
            "overflow_x": null,
            "overflow_y": null,
            "padding": null,
            "right": null,
            "top": null,
            "visibility": null,
            "width": null
          }
        },
        "f54defbb086541cd80839d9988629619": {
          "model_module": "@jupyter-widgets/controls",
          "model_module_version": "1.5.0",
          "model_name": "HTMLModel",
          "state": {
            "_dom_classes": [],
            "_model_module": "@jupyter-widgets/controls",
            "_model_module_version": "1.5.0",
            "_model_name": "HTMLModel",
            "_view_count": null,
            "_view_module": "@jupyter-widgets/controls",
            "_view_module_version": "1.5.0",
            "_view_name": "HTMLView",
            "description": "",
            "description_tooltip": null,
            "layout": "IPY_MODEL_7a62169d436d4206af739f73637245a0",
            "placeholder": "​",
            "style": "IPY_MODEL_3760b5ffa0854b0fa52d0bf3774fe3e8",
            "value": " 521k/521k [00:00&lt;00:00, 7.88MB/s]"
          }
        },
        "f745f89e93cb4be6aca303d697d16169": {
          "model_module": "@jupyter-widgets/controls",
          "model_module_version": "1.5.0",
          "model_name": "DescriptionStyleModel",
          "state": {
            "_model_module": "@jupyter-widgets/controls",
            "_model_module_version": "1.5.0",
            "_model_name": "DescriptionStyleModel",
            "_view_count": null,
            "_view_module": "@jupyter-widgets/base",
            "_view_module_version": "1.2.0",
            "_view_name": "StyleView",
            "description_width": ""
          }
        },
        "f775ad76418845dbae1a92b1fd1ca5dd": {
          "model_module": "@jupyter-widgets/base",
          "model_module_version": "1.2.0",
          "model_name": "LayoutModel",
          "state": {
            "_model_module": "@jupyter-widgets/base",
            "_model_module_version": "1.2.0",
            "_model_name": "LayoutModel",
            "_view_count": null,
            "_view_module": "@jupyter-widgets/base",
            "_view_module_version": "1.2.0",
            "_view_name": "LayoutView",
            "align_content": null,
            "align_items": null,
            "align_self": null,
            "border": null,
            "bottom": null,
            "display": null,
            "flex": null,
            "flex_flow": null,
            "grid_area": null,
            "grid_auto_columns": null,
            "grid_auto_flow": null,
            "grid_auto_rows": null,
            "grid_column": null,
            "grid_gap": null,
            "grid_row": null,
            "grid_template_areas": null,
            "grid_template_columns": null,
            "grid_template_rows": null,
            "height": null,
            "justify_content": null,
            "justify_items": null,
            "left": null,
            "margin": null,
            "max_height": null,
            "max_width": null,
            "min_height": null,
            "min_width": null,
            "object_fit": null,
            "object_position": null,
            "order": null,
            "overflow": null,
            "overflow_x": null,
            "overflow_y": null,
            "padding": null,
            "right": null,
            "top": null,
            "visibility": null,
            "width": null
          }
        },
        "fa0b6b19a57e41359567c22f2830ab48": {
          "model_module": "@jupyter-widgets/controls",
          "model_module_version": "1.5.0",
          "model_name": "HTMLModel",
          "state": {
            "_dom_classes": [],
            "_model_module": "@jupyter-widgets/controls",
            "_model_module_version": "1.5.0",
            "_model_name": "HTMLModel",
            "_view_count": null,
            "_view_module": "@jupyter-widgets/controls",
            "_view_module_version": "1.5.0",
            "_view_name": "HTMLView",
            "description": "",
            "description_tooltip": null,
            "layout": "IPY_MODEL_0d025eb696f0499495e4cbdab07bf1d3",
            "placeholder": "​",
            "style": "IPY_MODEL_b511bba8ca364275b9eead6aadbd2a45",
            "value": " 20000/20000 [13:13&lt;00:00, 25.74it/s]"
          }
        },
        "fad2596906664feba1874dac3d048a73": {
          "model_module": "@jupyter-widgets/controls",
          "model_module_version": "1.5.0",
          "model_name": "ProgressStyleModel",
          "state": {
            "_model_module": "@jupyter-widgets/controls",
            "_model_module_version": "1.5.0",
            "_model_name": "ProgressStyleModel",
            "_view_count": null,
            "_view_module": "@jupyter-widgets/base",
            "_view_module_version": "1.2.0",
            "_view_name": "StyleView",
            "bar_color": null,
            "description_width": ""
          }
        },
        "fba890e364944da18e5f09557cd04a34": {
          "model_module": "@jupyter-widgets/base",
          "model_module_version": "1.2.0",
          "model_name": "LayoutModel",
          "state": {
            "_model_module": "@jupyter-widgets/base",
            "_model_module_version": "1.2.0",
            "_model_name": "LayoutModel",
            "_view_count": null,
            "_view_module": "@jupyter-widgets/base",
            "_view_module_version": "1.2.0",
            "_view_name": "LayoutView",
            "align_content": null,
            "align_items": null,
            "align_self": null,
            "border": null,
            "bottom": null,
            "display": null,
            "flex": null,
            "flex_flow": null,
            "grid_area": null,
            "grid_auto_columns": null,
            "grid_auto_flow": null,
            "grid_auto_rows": null,
            "grid_column": null,
            "grid_gap": null,
            "grid_row": null,
            "grid_template_areas": null,
            "grid_template_columns": null,
            "grid_template_rows": null,
            "height": null,
            "justify_content": null,
            "justify_items": null,
            "left": null,
            "margin": null,
            "max_height": null,
            "max_width": null,
            "min_height": null,
            "min_width": null,
            "object_fit": null,
            "object_position": null,
            "order": null,
            "overflow": null,
            "overflow_x": null,
            "overflow_y": null,
            "padding": null,
            "right": null,
            "top": null,
            "visibility": null,
            "width": null
          }
        },
        "fbdbcfd5204545dcb4951186f15c5a35": {
          "model_module": "@jupyter-widgets/controls",
          "model_module_version": "1.5.0",
          "model_name": "HTMLModel",
          "state": {
            "_dom_classes": [],
            "_model_module": "@jupyter-widgets/controls",
            "_model_module_version": "1.5.0",
            "_model_name": "HTMLModel",
            "_view_count": null,
            "_view_module": "@jupyter-widgets/controls",
            "_view_module_version": "1.5.0",
            "_view_name": "HTMLView",
            "description": "",
            "description_tooltip": null,
            "layout": "IPY_MODEL_cc5c53f6596849779423e1a68001b8ea",
            "placeholder": "​",
            "style": "IPY_MODEL_5630cd104e0c4f9494387dd701cb0601",
            "value": "config.json: 100%"
          }
        },
        "fe910e277fac487bbb9a674122048b15": {
          "model_module": "@jupyter-widgets/controls",
          "model_module_version": "1.5.0",
          "model_name": "DescriptionStyleModel",
          "state": {
            "_model_module": "@jupyter-widgets/controls",
            "_model_module_version": "1.5.0",
            "_model_name": "DescriptionStyleModel",
            "_view_count": null,
            "_view_module": "@jupyter-widgets/base",
            "_view_module_version": "1.2.0",
            "_view_name": "StyleView",
            "description_width": ""
          }
        },
        "ff13189a7b6c4696b6502613f9b71490": {
          "model_module": "@jupyter-widgets/base",
          "model_module_version": "1.2.0",
          "model_name": "LayoutModel",
          "state": {
            "_model_module": "@jupyter-widgets/base",
            "_model_module_version": "1.2.0",
            "_model_name": "LayoutModel",
            "_view_count": null,
            "_view_module": "@jupyter-widgets/base",
            "_view_module_version": "1.2.0",
            "_view_name": "LayoutView",
            "align_content": null,
            "align_items": null,
            "align_self": null,
            "border": null,
            "bottom": null,
            "display": null,
            "flex": null,
            "flex_flow": null,
            "grid_area": null,
            "grid_auto_columns": null,
            "grid_auto_flow": null,
            "grid_auto_rows": null,
            "grid_column": null,
            "grid_gap": null,
            "grid_row": null,
            "grid_template_areas": null,
            "grid_template_columns": null,
            "grid_template_rows": null,
            "height": null,
            "justify_content": null,
            "justify_items": null,
            "left": null,
            "margin": null,
            "max_height": null,
            "max_width": null,
            "min_height": null,
            "min_width": null,
            "object_fit": null,
            "object_position": null,
            "order": null,
            "overflow": null,
            "overflow_x": null,
            "overflow_y": null,
            "padding": null,
            "right": null,
            "top": null,
            "visibility": null,
            "width": null
          }
        },
        "ffd6c666243c436c97be0c55b2d9728e": {
          "model_module": "@jupyter-widgets/controls",
          "model_module_version": "1.5.0",
          "model_name": "HTMLModel",
          "state": {
            "_dom_classes": [],
            "_model_module": "@jupyter-widgets/controls",
            "_model_module_version": "1.5.0",
            "_model_name": "HTMLModel",
            "_view_count": null,
            "_view_module": "@jupyter-widgets/controls",
            "_view_module_version": "1.5.0",
            "_view_name": "HTMLView",
            "description": "",
            "description_tooltip": null,
            "layout": "IPY_MODEL_8fe2d02733f6438791bc000c1e6e35fc",
            "placeholder": "​",
            "style": "IPY_MODEL_4774888db596456688dc7c4c67236534",
            "value": "100%"
          }
        }
      }
    }
  },
  "nbformat": 4,
  "nbformat_minor": 5
}
